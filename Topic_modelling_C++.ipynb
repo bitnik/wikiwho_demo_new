{
 "cells": [
  {
   "cell_type": "code",
   "execution_count": null,
   "metadata": {},
   "outputs": [],
   "source": [
    "import pandas as pd\n",
    "from utils.lngselection import abbreviation\n",
    "from wikiwho_wrapper import WikiWho\n",
    "from external.wikipedia import WikipediaDV, WikipediaAPI\n",
    "from metrics.conflict import ConflictManager\n",
    "import numpy as np\n",
    "import random"
   ]
  },
  {
   "cell_type": "code",
   "execution_count": null,
   "metadata": {},
   "outputs": [],
   "source": [
    "%%capture\n",
    "## Some Extensions ##\n",
    "%load_ext autoreload\n",
    "%autoreload 2\n",
    "%store -r the_page\n",
    "\n",
    "if 'the_page' not in locals():\n",
    "    import pickle\n",
    "    print(\"Loading default data...\")\n",
    "    the_page = pickle.load(open(\"data/the_page.p\",'rb'))\n",
    "\n",
    "lng = abbreviation('English')"
   ]
  },
  {
   "cell_type": "code",
   "execution_count": null,
   "metadata": {},
   "outputs": [],
   "source": [
    "wikiwho = WikiWho(lng=lng)\n",
    "all_content = wikiwho.dv.all_content(the_page['page_id'])\n",
    "revisions = wikiwho.dv.rev_ids_of_article(the_page['page_id'])\n",
    "\n",
    "con_manager = ConflictManager(all_content.copy(), \n",
    "                                           revisions.copy(), \n",
    "                                           lng=lng, \n",
    "                                           include_stopwords=False)"
   ]
  },
  {
   "cell_type": "code",
   "execution_count": null,
   "metadata": {},
   "outputs": [],
   "source": [
    "con_manager.calculate()\n",
    "token = con_manager.all_actions.copy()\n",
    "tokens_processed = token[['rev_id', 'rev_time', 'editor', 'token_id', 'token']].groupby(\"rev_id\")['token_id'].apply(lambda group_series: group_series.to_numpy()).reset_index()\n",
    "tokens_processed['token_id']"
   ]
  },
  {
   "cell_type": "code",
   "execution_count": null,
   "metadata": {},
   "outputs": [],
   "source": [
    "for i, row in tokens_processed[np.array(list(map(len,tokens_processed.token_id.values)))==1].iterrows():\n",
    "    k = random.choice([-1, 1])\n",
    "    np.append(tokens_processed.loc[i+k, 'token_id'], row['token_id'][0])\n",
    "tokens_processed = tokens_processed[np.array(list(map(len,tokens_processed.token_id.values)))>1]\n",
    "token_ids = token[['token', 'token_id']].drop_duplicates()['token_id'].to_numpy()\n",
    "X = tokens_processed['token_id'].to_numpy()\n",
    "vocab = token[['token', 'token_id']].drop_duplicates()['token'].to_numpy()\n"
   ]
  },
  {
   "cell_type": "code",
   "execution_count": null,
   "metadata": {},
   "outputs": [],
   "source": [
    "#writing input ids for the C++ model\n",
    "\n",
    "X_max = np.max([np.max(x) for x in X])\n",
    "wf = open('BTM/input/input.txt', 'w')\n",
    "for x in tokens_processed['token_id']:\n",
    "    print(' '.join(map(str, [str(it) for it in x])), file=wf)"
   ]
  },
  {
   "cell_type": "code",
   "execution_count": null,
   "metadata": {},
   "outputs": [],
   "source": [
    "#writing the vocab file for the C++ model\n",
    "vocab_dict = dict(zip(token_ids, vocab))\n",
    "with open('BTM/input/vocab.txt', 'w', newline='\\n') as f:\n",
    "    for i in range(X_max):\n",
    "        if i not in token_ids:\n",
    "            f.write(str(i) + \"\\t\" + \"oo\" + \"\\n\")\n",
    "        else:\n",
    "            f.write(str(i) + \"\\t\" + vocab_dict[i] + \"\\n\")\n",
    "\n",
    "# for l in open('../BTM/vocab.txt'):\n",
    "#     print(l.strip().split('\\t')[:2])\n",
    "#     voca[int(wid)] = w"
   ]
  },
  {
   "cell_type": "code",
   "execution_count": null,
   "metadata": {},
   "outputs": [],
   "source": [
    "# INPUT VARIABLES FOR THE MODEL #\n",
    "\n",
    "K=30   # number of topics\n",
    "alpha=30    \n",
    "beta=0.01\n",
    "niter=150    # number of iterations\n",
    "save_step=50    # number of steps after which to save\n",
    "\n",
    "model_dir='../output/model/'\n",
    "\n",
    "doc_pt='../input/input.txt' # path to the doc with token ids\n",
    "voca_pt='../input/vocab.txt' #path to the vocabulary\n",
    "\n",
    "W = X_max #vocab size"
   ]
  },
  {
   "cell_type": "code",
   "execution_count": null,
   "metadata": {},
   "outputs": [],
   "source": [
    "#run the model\n",
    "%cd BTM/script\n",
    "\n",
    "!mkdir -p {model_dir}\n",
    "!make -C ../src/\n",
    "!../src/btm est {K} {W} {alpha} {beta} {niter} {save_step} {doc_pt} {model_dir}"
   ]
  },
  {
   "cell_type": "code",
   "execution_count": null,
   "metadata": {},
   "outputs": [],
   "source": [
    "#print output\n",
    "!python '../script/topicDisplay.py' {model_dir} {K} {voca_pt}"
   ]
  },
  {
   "cell_type": "code",
   "execution_count": null,
   "metadata": {},
   "outputs": [],
   "source": []
  }
 ],
 "metadata": {
  "kernelspec": {
   "display_name": "Python 3",
   "language": "python",
   "name": "python3"
  },
  "language_info": {
   "codemirror_mode": {
    "name": "ipython",
    "version": 3
   },
   "file_extension": ".py",
   "mimetype": "text/x-python",
   "name": "python",
   "nbconvert_exporter": "python",
   "pygments_lexer": "ipython3"
  }
 },
 "nbformat": 4,
 "nbformat_minor": 2
}
