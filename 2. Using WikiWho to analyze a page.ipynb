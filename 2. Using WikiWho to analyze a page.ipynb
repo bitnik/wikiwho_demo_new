{
 "cells": [
  {
   "cell_type": "code",
   "execution_count": 32,
   "metadata": {
    "hide_input": true,
    "init_cell": true
   },
   "outputs": [
    {
     "data": {
      "application/javascript": [
       "IPython.notebook.execute_cells_below()"
      ],
      "text/plain": [
       "<IPython.core.display.Javascript object>"
      ]
     },
     "metadata": {},
     "output_type": "display_data"
    }
   ],
   "source": [
    "import json\n",
    "import copy\n",
    "from IPython.display import display, Javascript, HTML, clear_output\n",
    "from ipywidgets import widgets, Output, interact, fixed, Layout\n",
    "from ipywidgets.widgets import Dropdown, interactive_output, VBox, HBox, interactive\n",
    "from datetime import datetime, timedelta\n",
    "from urllib.parse import quote_plus\n",
    "from utils.notebooks import get_date_slider_from_datetime, get_next_notebook, get_previous_notebook\n",
    "\n",
    "display(Javascript('IPython.notebook.execute_cells_below()'))"
   ]
  },
  {
   "cell_type": "code",
   "execution_count": 2,
   "metadata": {
    "hide_input": true
   },
   "outputs": [
    {
     "data": {
      "text/html": [
       "<style>\n",
       "summary{\n",
       "    display:list-item;\n",
       "}\n",
       "\n",
       ".widget-radio-box{\n",
       "    flex-direction: row;\n",
       "}\n",
       "\n",
       ".widget-radio-box input{\n",
       "    margin:0 6px 0 5px\n",
       "}\n",
       "</style>\n"
      ],
      "text/plain": [
       "<IPython.core.display.HTML object>"
      ]
     },
     "metadata": {},
     "output_type": "display_data"
    }
   ],
   "source": [
    "%%html\n",
    "<style>\n",
    "summary{\n",
    "    display:list-item;\n",
    "}\n",
    "\n",
    ".widget-radio-box{\n",
    "    flex-direction: row;\n",
    "}\n",
    "\n",
    ".widget-radio-box input{\n",
    "    margin:0 6px 0 5px\n",
    "}\n",
    "</style>"
   ]
  },
  {
   "cell_type": "code",
   "execution_count": 3,
   "metadata": {
    "hide_input": true
   },
   "outputs": [],
   "source": [
    "%%capture\n",
    "## Some Extensions ##\n",
    "%load_ext autoreload\n",
    "%autoreload 2\n",
    "%store -r the_page\n",
    "\n",
    "if 'the_page' not in locals():\n",
    "    import pickle\n",
    "    print(\"Loading default data...\")\n",
    "    the_page = pickle.load(open(\"data/the_page.p\",'rb'))"
   ]
  },
  {
   "cell_type": "markdown",
   "metadata": {
    "hide_input": true,
    "solution2": "hidden",
    "solution2_first": true
   },
   "source": [
    "### <span style=\"color:green\"> Modules Imported </span>"
   ]
  },
  {
   "cell_type": "code",
   "execution_count": 4,
   "metadata": {
    "hide_input": false,
    "solution2": "hidden"
   },
   "outputs": [],
   "source": [
    "## Modules Imported ##\n",
    "\n",
    "# Display\n",
    "from IPython.display import display, Markdown as md, clear_output\n",
    "from datetime import date\n",
    "import urllib\n",
    "\n",
    "# APIs\n",
    "from wikiwho_wrapper import WikiWho\n",
    "from external.wikipedia import WikipediaDV, WikipediaAPI\n",
    "from external.wikimedia import WikiMediaDV, WikiMediaAPI\n",
    "from external.xtools import XtoolsAPI, XtoolsDV\n",
    "\n",
    "# Data Processing\n",
    "import pickle\n",
    "import pandas as pd\n",
    "import numpy as np\n",
    "\n",
    "# Visualization tools\n",
    "import qgrid\n",
    "import matplotlib.pyplot as plt\n",
    "import plotly\n",
    "from plotly.subplots import make_subplots\n",
    "\n",
    "# Page views timeline\n",
    "from visualization.views_listener import ViewsListener\n",
    "\n",
    "# Change actions timeline\n",
    "from visualization.actions_listener import ActionsListener\n",
    "\n",
    "# Actions per editor visualization\n",
    "from visualization.editors_listener import EditorsListener\n",
    "\n",
    "# Conflicts visualization\n",
    "from visualization.conflicts_listener import ConflictsListener, ConflictsActionListener, ConflictsEditorListener\n",
    "from visualization.calculator_listener import ConflictCalculatorListener\n",
    "\n",
    "# Word cloud visualization\n",
    "from visualization.wordcloud_listener import WCListener, WCActionsListener\n",
    "from visualization.wordclouder import WordClouder\n",
    "\n",
    "# Tokens per revision visualization\n",
    "from visualization.tokens_listener import TokensListener, TokensOwnedListener\n",
    "\n",
    "# Wikipedia talk pages visualization\n",
    "from visualization.talks_listener import TalksListener\n",
    "from visualization.topics_listener import TopicsListener\n",
    "\n",
    "# Tokens ownership visualization\n",
    "from visualization.owned_listener import OwnedListener\n",
    "\n",
    "# Metrics management\n",
    "from metrics.conflict import ConflictManager\n",
    "from metrics.token import TokensManager\n",
    "\n",
    "# For language selection\n",
    "from utils.lngselection import abbreviation, lng_listener"
   ]
  },
  {
   "cell_type": "code",
   "execution_count": 5,
   "metadata": {
    "hide_input": true
   },
   "outputs": [
    {
     "data": {
      "application/vnd.jupyter.widget-view+json": {
       "model_id": "3ed99d24a58a4a76a29ab15764f0a368",
       "version_major": 2,
       "version_minor": 0
      },
      "text/plain": [
       "Dropdown(description='Language:', options=('English', 'Deutsch', 'Español', 'Türkçe', 'Euskara'), value='Engli…"
      ]
     },
     "metadata": {},
     "output_type": "display_data"
    },
    {
     "data": {
      "application/vnd.jupyter.widget-view+json": {
       "model_id": "22bbacd2cda24daa86fa90ba6752c6eb",
       "version_major": 2,
       "version_minor": 0
      },
      "text/plain": [
       "Text(value='Jay Chou', description='Page title:')"
      ]
     },
     "metadata": {},
     "output_type": "display_data"
    },
    {
     "data": {
      "application/vnd.jupyter.widget-view+json": {
       "model_id": "484ac51cfb24425ca02bd183811f6ba1",
       "version_major": 2,
       "version_minor": 0
      },
      "text/plain": [
       "Button(description='Search', style=ButtonStyle())"
      ]
     },
     "metadata": {},
     "output_type": "display_data"
    },
    {
     "data": {
      "application/vnd.jupyter.widget-view+json": {
       "model_id": "5932dca76a7349249ac2e51079643405",
       "version_major": 2,
       "version_minor": 0
      },
      "text/plain": [
       "Output()"
      ]
     },
     "metadata": {},
     "output_type": "display_data"
    }
   ],
   "source": [
    "# the method that listens to the click event\n",
    "def on_button_clicked(b):\n",
    "    global the_page, the_talk_page\n",
    "    \n",
    "    # use the out widget so the output is overwritten when two or more\n",
    "    # searches are performed\n",
    "    with out0:\n",
    "        try:\n",
    "            # query wikipedia\n",
    "            wikipedia_dv = WikipediaDV(WikipediaAPI(lng=abbreviation(languageSelection.value)))\n",
    "            search_result = wikipedia_dv.search_page(searchTerm.value)\n",
    "            the_page = wikipedia_dv.get_page(search_result)\n",
    "            the_talk_page = wikipedia_dv.get_page(\"Talk:\"+search_result)\n",
    "            %store the_page\n",
    "            clear_output()\n",
    "            display(md(f\"The page that was found: **{the_page['title']}**\"))\n",
    "            display(md(f\"Page id: **{the_page['page_id']}**\"))\n",
    "\n",
    "        except:\n",
    "            clear_output()\n",
    "            display(md(f'The page title *\"{searchTerm.value}\"* was not found'))\n",
    "\n",
    "# Load the selection from NB1\n",
    "with open('utils/language.json', 'r') as file:\n",
    "    json_selection = json.load(file)\n",
    "    lng_nb1 = json_selection['lng']\n",
    "    title_nb1 = json_selection['search_term']\n",
    "\n",
    "# Language selection.\n",
    "languageSelection = Dropdown(options=['English', 'Deutsch', 'Español', 'Türkçe', 'Euskara'], value=lng_nb1, description='Language:')            \n",
    "\n",
    "# by default display the last search\n",
    "try:\n",
    "    searchTerm = widgets.Text(the_page['title'], description='Page title:')\n",
    "except:\n",
    "    searchTerm = widgets.Text(title_nb1, description='Page title:')\n",
    "\n",
    "second_select = widgets.interactive(lng_listener, lng=languageSelection, search_term=searchTerm)\n",
    "display(second_select.children[0])\n",
    "display(second_select.children[1])\n",
    "\n",
    "# create and display the button    \n",
    "button = widgets.Button(description=\"Search\")\n",
    "display(button)\n",
    "\n",
    "# the output widget is used to remove the output after the search field\n",
    "out0 = Output()\n",
    "display(out0)\n",
    "\n",
    "# set the event\n",
    "button.on_click(on_button_clicked)\n",
    "\n",
    "# trigger the event with the default value\n",
    "on_button_clicked(button)"
   ]
  },
  {
   "cell_type": "markdown",
   "metadata": {},
   "source": [
    "If you have input another page title and still want to use these variables in the next 4 notebooks, please refresh!"
   ]
  },
  {
   "cell_type": "code",
   "execution_count": 6,
   "metadata": {
    "hide_input": true
   },
   "outputs": [
    {
     "data": {
      "text/html": [
       "\n",
       "            <script>\n",
       "                code_show = false;\n",
       "                function restart_run_all(){\n",
       "                    IPython.notebook.kernel.restart();\n",
       "                    setTimeout(function(){\n",
       "                        IPython.notebook.execute_all_cells();\n",
       "                    })\n",
       "                }\n",
       "            </script>\n",
       "            <button onclick=\"restart_run_all()\">Refresh All Variables</button>\n",
       "        "
      ],
      "text/plain": [
       "<IPython.core.display.HTML object>"
      ]
     },
     "metadata": {},
     "output_type": "display_data"
    }
   ],
   "source": [
    "def restart_and_run():\n",
    "    display(HTML(\n",
    "        '''\n",
    "            <script>\n",
    "                code_show = false;\n",
    "                function restart_run_all(){\n",
    "                    IPython.notebook.kernel.restart();\n",
    "                    setTimeout(function(){\n",
    "                        IPython.notebook.execute_all_cells();\n",
    "                    })\n",
    "                }\n",
    "            </script>\n",
    "            <button onclick=\"restart_run_all()\">Refresh All Variables</button>\n",
    "        '''\n",
    "    ))\n",
    "restart_and_run()"
   ]
  },
  {
   "cell_type": "markdown",
   "metadata": {
    "hide_input": false
   },
   "source": [
    "---\n",
    "\n",
    "# A. Change actions\n",
    "\n",
    "**The dynamics of individual changes** to each word (and each special character) in the article are extracted by the [WikiWho API](https://www.wikiwho.net/en/api/v1.0.0-beta/). \n",
    "\n",
    "Below, you find several metrics for such change dynamics such as unsucessful/reverted changes and conflict. \n",
    "\n",
    "<br>\n",
    "<details>    \n",
    "    <summary style=\"cursor: pointer;font-weight:bold\">More information about WikiWho's method</summary>\n",
    "\n",
    "\n",
    "The [WikiWho API](https://www.wikiwho.net/en/api/v1.0.0-beta/) tracks the changes to every token (words or special characters) on a Wikipedia page with at least 95% accuracy, for live Wikipedia articles. It distinguishes every token in the document even when the string appears several times. E.g. \"and\" at the beginning of an article is a different token then \"and\" at the end of the article. See also [this figure](https://www.wikiwho.net/#technical_details).\n",
    "\n",
    "That means that *not only edits* (== whole revisions) are counted, which can contain changes of many different tokens, but *every single action to every single token* is recorded. \n",
    " <br>   \n",
    "   The two most basic actions that can perfomed per token are **insertions** and **deletions**. A character change in a word, e.g. \"dog\" -> \"dogs\", is modeled as deletion of \"dog\" and the insertion of \"dogs\", two separate tokens.\n",
    " <br>   \n",
    "    An **insertion** is also considered a **re-insertion** if the insertion has occured before; the only insertion of a token that is not a re-insertion is the first one (original addition of the token). Similarly, a **deletion** is also considered a **re-deletion** if the deletion has occured before.\n",
    "\n",
    "Formally, the token history can represented by a time-ordered sequence of actions \n",
    "*(a<sub>0</sub>, ..., a<sub>n</sub>)*; note that *a<sub>0+2i</sub>* is always an insertion and \n",
    "*a<sub>1+2i</sub>* is always a deletion for i ∈ ℕ.\n",
    "</details> \n",
    "\n",
    "\n",
    "---\n",
    "\n",
    "*IMPORTANT:* For articles with a long revision history, please allow for some time to load, \n",
    "before interacting with the controls too often."
   ]
  },
  {
   "cell_type": "markdown",
   "metadata": {},
   "source": [
    "## A.1 When did certain change actions happen?"
   ]
  },
  {
   "cell_type": "markdown",
   "metadata": {
    "hide_input": true
   },
   "source": [
    "In the following graph you can\n",
    "* select the *date range* and *granularity* (yearly, monthly) of the timeline (X-axis), and \n",
    "* plot any of the following *change action types* in the black, red, blue and green lines. \n",
    "\n",
    "<br>\n",
    "\n",
    "\n",
    "<details>    \n",
    "    <summary style=\"cursor: pointer;font-weight:bold\">Explanation of the change action types</summary>\n",
    "\n",
    "   \n",
    "- **adds**: number of first-time insertions / additions\n",
    "- **adds_surv_48h**: number of adds that survived at least 48 hours (after 48h, the risk of being removed is negligible on avg.)\n",
    "- **adds_stopword_count**:  number of insertions that were only [stop words](https://github.com/gesiscss/wikiwho_demo_new/blob/master/data/stopword_list.txt)\n",
    "<br>\n",
    "\n",
    "- **dels**: number of deletions\n",
    "- **dels_surv_48h**: number of deletions that were not resinserted in the next 48 hours \n",
    "- **dels_stopword_count**: number of deletions that were only [stop words](https://github.com/gesiscss/wikiwho_demo_new/blob/master/data/stopword_list.txt)\n",
    "<br>\n",
    "\n",
    "- **reins**: number of reinsertions\n",
    "- **reins_surv_48h**: number of reinsertions that survived at least 48 hours\n",
    "- **reins_stopword_count**: number of reinsertions that were only [stop words](https://github.com/gesiscss/wikiwho_demo_new/blob/master/data/stopword_list.txt)\n",
    "</details>\n",
    "<br>\n",
    "\n",
    "\n",
    "<details>    \n",
    "    <summary style=\"cursor: pointer;font-weight:bold\">Example</summary>\n",
    "\n",
    "For instance, if you see 10 \"adds\" in a month, but only 4 \"adds_surv_48h\", 10 completely new tokens/words have been added to the article, but only 4 of them stayed in the article for more than 2 days, which usually means the other 6 are gone for good. If \"dels\" are performed and don't survive, that means that these deletions have been undone, i.e., the deleted tokens have been put back. I.e., these are measurements of the longevity and stability of edit actions done to the article.\n",
    "</details>"
   ]
  },
  {
   "cell_type": "code",
   "execution_count": 7,
   "metadata": {
    "hide_input": true
   },
   "outputs": [
    {
     "data": {
      "application/vnd.jupyter.widget-view+json": {
       "model_id": "9dd518ae42c84691851e5b73a630545c",
       "version_major": 2,
       "version_minor": 0
      },
      "text/plain": [
       "Button(description='Load Actions', layout=Layout(width='160px'), style=ButtonStyle())"
      ]
     },
     "metadata": {},
     "output_type": "display_data"
    },
    {
     "data": {
      "application/vnd.jupyter.widget-view+json": {
       "model_id": "35940859816a4505a70e99ff8ffe23e7",
       "version_major": 2,
       "version_minor": 0
      },
      "text/plain": [
       "Output()"
      ]
     },
     "metadata": {},
     "output_type": "display_data"
    }
   ],
   "source": [
    "# create and display the button\n",
    "button2 = widgets.Button(description=\"Load Actions\", layout=Layout(width='160px'))\n",
    "\n",
    "display(button2)\n",
    "\n",
    "def on_click_details(b):\n",
    "    global agg_actions\n",
    "    global editors\n",
    "    global action_types\n",
    "    global sources    \n",
    "    global actions_inc_stop\n",
    "    global revisions\n",
    "    global con_manager_all\n",
    "    with out4:\n",
    "        clear_output()\n",
    "       \n",
    "        # Preparetory works\n",
    "        wikiwho = WikiWho(lng=abbreviation(languageSelection.value))\n",
    "        display(md(\"Downloading all_content from the WikiWhoApi...\"))\n",
    "        all_content = wikiwho.dv.all_content(the_page['page_id'])\n",
    "        display(md(\"Downloading revisions from the WikiWhoApi...\"))\n",
    "        revisions = wikiwho.dv.rev_ids_of_article(the_page['page_id'])\n",
    "        clear_output()\n",
    "        \n",
    "        con_manager_all = ConflictManager(all_content, \n",
    "                                           revisions.copy(), \n",
    "                                           lng=abbreviation(languageSelection.value), \n",
    "                                           include_stopwords=True)\n",
    "\n",
    "        con_manager_all.calculate()\n",
    "        clear_output()\n",
    "        \n",
    "        sources = con_manager_all.source\n",
    "        sources[\"wiki_dv\"] = WikipediaDV(WikipediaAPI(lng=abbreviation(languageSelection.value)))\n",
    "        \n",
    "        listener = ActionsListener(sources=sources, lng=abbreviation(languageSelection.value))\n",
    "        listener.get_main()\n",
    "        clear_output()\n",
    "        agg_actions = listener.df.copy()\n",
    "        actions_inc_stop = listener.tokens_group_all.copy()\n",
    "        editors = listener.editors.copy()\n",
    "       \n",
    "        # Merge the names of the editors to the aggregate actions dataframe\n",
    "        display(md(f\"***Page: {the_page['title']} ({abbreviation(languageSelection.value).upper()}) with {agg_actions['revisions'].sum()} revisions***\"))\n",
    "\n",
    "        # Visualization\n",
    "        action_types = (agg_actions.columns[5:14]).values.tolist()\n",
    "        datepicker_from = widgets.DatePicker(description='Date starts', value=agg_actions['rev_time'].iloc[0],\n",
    "                                             style={'description_width': '40%'}, layout=Layout(width=\"29%\"))\n",
    "        datepicker_to = widgets.DatePicker(description='Date ends', value=agg_actions['rev_time'].iloc[-1],\n",
    "                                           style={'description_width': '43%'}, layout=Layout(width=\"31%\"))\n",
    "        editor_all = fixed('All')\n",
    "        frequency = Dropdown(options=['Yearly', 'Monthly', 'Weekly', 'Daily'], value='Monthly', description=\"Granularity\",\n",
    "                             style={'description_width': '43%'}, layout=Layout(width=\"32%\"))\n",
    "        black_actions = Dropdown(options=action_types, value='adds', description=\"All Actions(black)\", style={'description_width': '40%'})\n",
    "        red_actions = Dropdown(options= ['None'] + action_types, value=\"adds_surv_48h\", description=\"All Actions(red)\", style={'description_width': '40%'})\n",
    "        green = Dropdown(options= ['None'] + action_types, value='None', description=\"All Actions(green)\", style={'description_width': '40%'})\n",
    "        blue = Dropdown(options= ['None'] + action_types, value='None', description=\"All Actions(blue)\", style={'description_width': '40%'})\n",
    "        \n",
    "        metrics = ['Conflict Score', 'Total Elegible Actions', 'Absolute Conflict Score']\n",
    "        black_conflict = Dropdown(options=metrics, value='Conflict Score', description=\"Conflict(black)\", style={'description_width': '40%'})\n",
    "        red_conflict = Dropdown(options= ['None'] + metrics, value='None', description=\"Conflict(red)\", style={'description_width': '40%'})\n",
    "        \n",
    "        test_fig = make_subplots(rows=2, cols=1, start_cell=\"bottom-left\", shared_xaxes=True, vertical_spacing=0.05)\n",
    "        \n",
    "        # All actions\n",
    "        actions_out = interactive_output(listener.listen, \n",
    "            {\"_range1\": datepicker_from,\n",
    "            \"_range2\": datepicker_to,\n",
    "            \"editor\": fixed('All'),\n",
    "            \"granularity\": frequency,\n",
    "            \"black\": black_actions,\n",
    "            \"red\": red_actions,\n",
    "            \"green\": green,\n",
    "            \"blue\": blue,\n",
    "            \"black_conflict\": black_conflict,\n",
    "            \"red_conflict\": red_conflict})\n",
    "        display(HBox([datepicker_from, datepicker_to, frequency]))\n",
    "        display(HBox([black_actions, red_actions, green, blue, black_conflict, red_conflict],\n",
    "                    layout=Layout(flex_flow='wrap')))\n",
    "        display(actions_out)\n",
    "        \n",
    "        red_actions.value = \"dels\"\n",
    "        \n",
    "\n",
    "\n",
    "    \n",
    "out4 = Output()\n",
    "display(out4)\n",
    "\n",
    "# set the event\n",
    "button2.on_click(on_click_details)\n",
    "\n",
    "# trigger the event with the default value\n",
    "on_click_details(button2)"
   ]
  },
  {
   "cell_type": "markdown",
   "metadata": {
    "hide_input": false,
    "solution2": "hidden",
    "solution2_first": true
   },
   "source": [
    "<span style=\"color: #626262\"> Try yourself! This is what will happen when you click 'Load Actions' button: </span>"
   ]
  },
  {
   "cell_type": "code",
   "execution_count": 8,
   "metadata": {
    "hide_input": false,
    "solution2": "hidden"
   },
   "outputs": [
    {
     "name": "stdout",
     "output_type": "stream",
     "text": [
      "The page that is being used: Jay Chou (EN)\n"
     ]
    },
    {
     "data": {
      "application/vnd.plotly.v1+json": {
       "config": {
        "plotlyServerURL": "https://plot.ly"
       },
       "data": [
        {
         "marker": {
          "color": "rgba(0, 0, 0, 1)"
         },
         "name": "adds",
         "type": "scatter",
         "x": [
          "2004-03-31T00:00:00",
          "2004-04-30T00:00:00",
          "2004-05-31T00:00:00",
          "2004-06-30T00:00:00",
          "2004-07-31T00:00:00",
          "2004-08-31T00:00:00",
          "2004-09-30T00:00:00",
          "2004-10-31T00:00:00",
          "2004-11-30T00:00:00",
          "2004-12-31T00:00:00",
          "2005-01-31T00:00:00",
          "2005-02-28T00:00:00",
          "2005-03-31T00:00:00",
          "2005-04-30T00:00:00",
          "2005-05-31T00:00:00",
          "2005-06-30T00:00:00",
          "2005-07-31T00:00:00",
          "2005-08-31T00:00:00",
          "2005-09-30T00:00:00",
          "2005-10-31T00:00:00",
          "2005-11-30T00:00:00",
          "2005-12-31T00:00:00",
          "2006-01-31T00:00:00",
          "2006-02-28T00:00:00",
          "2006-03-31T00:00:00",
          "2006-04-30T00:00:00",
          "2006-05-31T00:00:00",
          "2006-06-30T00:00:00",
          "2006-07-31T00:00:00",
          "2006-08-31T00:00:00",
          "2006-09-30T00:00:00",
          "2006-10-31T00:00:00",
          "2006-11-30T00:00:00",
          "2006-12-31T00:00:00",
          "2007-01-31T00:00:00",
          "2007-02-28T00:00:00",
          "2007-03-31T00:00:00",
          "2007-04-30T00:00:00",
          "2007-05-31T00:00:00",
          "2007-06-30T00:00:00",
          "2007-07-31T00:00:00",
          "2007-08-31T00:00:00",
          "2007-09-30T00:00:00",
          "2007-10-31T00:00:00",
          "2007-11-30T00:00:00",
          "2007-12-31T00:00:00",
          "2008-01-31T00:00:00",
          "2008-02-29T00:00:00",
          "2008-03-31T00:00:00",
          "2008-04-30T00:00:00",
          "2008-05-31T00:00:00",
          "2008-06-30T00:00:00",
          "2008-07-31T00:00:00",
          "2008-08-31T00:00:00",
          "2008-09-30T00:00:00",
          "2008-10-31T00:00:00",
          "2008-11-30T00:00:00",
          "2008-12-31T00:00:00",
          "2009-01-31T00:00:00",
          "2009-02-28T00:00:00",
          "2009-03-31T00:00:00",
          "2009-04-30T00:00:00",
          "2009-05-31T00:00:00",
          "2009-06-30T00:00:00",
          "2009-07-31T00:00:00",
          "2009-08-31T00:00:00",
          "2009-09-30T00:00:00",
          "2009-10-31T00:00:00",
          "2009-11-30T00:00:00",
          "2009-12-31T00:00:00",
          "2010-01-31T00:00:00",
          "2010-02-28T00:00:00",
          "2010-03-31T00:00:00",
          "2010-04-30T00:00:00",
          "2010-05-31T00:00:00",
          "2010-06-30T00:00:00",
          "2010-07-31T00:00:00",
          "2010-08-31T00:00:00",
          "2010-09-30T00:00:00",
          "2010-10-31T00:00:00",
          "2010-11-30T00:00:00",
          "2010-12-31T00:00:00",
          "2011-01-31T00:00:00",
          "2011-02-28T00:00:00",
          "2011-03-31T00:00:00",
          "2011-04-30T00:00:00",
          "2011-05-31T00:00:00",
          "2011-06-30T00:00:00",
          "2011-07-31T00:00:00",
          "2011-08-31T00:00:00",
          "2011-09-30T00:00:00",
          "2011-10-31T00:00:00",
          "2011-11-30T00:00:00",
          "2011-12-31T00:00:00",
          "2012-01-31T00:00:00",
          "2012-02-29T00:00:00",
          "2012-03-31T00:00:00",
          "2012-04-30T00:00:00",
          "2012-05-31T00:00:00",
          "2012-06-30T00:00:00",
          "2012-07-31T00:00:00",
          "2012-08-31T00:00:00",
          "2012-09-30T00:00:00",
          "2012-10-31T00:00:00",
          "2012-11-30T00:00:00",
          "2012-12-31T00:00:00",
          "2013-01-31T00:00:00",
          "2013-02-28T00:00:00",
          "2013-03-31T00:00:00",
          "2013-04-30T00:00:00",
          "2013-05-31T00:00:00",
          "2013-06-30T00:00:00",
          "2013-07-31T00:00:00",
          "2013-08-31T00:00:00",
          "2013-09-30T00:00:00",
          "2013-10-31T00:00:00",
          "2013-11-30T00:00:00",
          "2013-12-31T00:00:00",
          "2014-01-31T00:00:00",
          "2014-02-28T00:00:00",
          "2014-03-31T00:00:00",
          "2014-04-30T00:00:00",
          "2014-05-31T00:00:00",
          "2014-06-30T00:00:00",
          "2014-07-31T00:00:00",
          "2014-08-31T00:00:00",
          "2014-09-30T00:00:00",
          "2014-10-31T00:00:00",
          "2014-11-30T00:00:00",
          "2014-12-31T00:00:00",
          "2015-01-31T00:00:00",
          "2015-02-28T00:00:00",
          "2015-03-31T00:00:00",
          "2015-04-30T00:00:00",
          "2015-05-31T00:00:00",
          "2015-06-30T00:00:00",
          "2015-07-31T00:00:00",
          "2015-08-31T00:00:00",
          "2015-09-30T00:00:00",
          "2015-10-31T00:00:00",
          "2015-11-30T00:00:00",
          "2015-12-31T00:00:00",
          "2016-01-31T00:00:00",
          "2016-02-29T00:00:00",
          "2016-03-31T00:00:00",
          "2016-04-30T00:00:00",
          "2016-05-31T00:00:00",
          "2016-06-30T00:00:00",
          "2016-07-31T00:00:00",
          "2016-08-31T00:00:00",
          "2016-09-30T00:00:00",
          "2016-10-31T00:00:00",
          "2016-11-30T00:00:00",
          "2016-12-31T00:00:00",
          "2017-01-31T00:00:00",
          "2017-02-28T00:00:00",
          "2017-03-31T00:00:00",
          "2017-04-30T00:00:00",
          "2017-05-31T00:00:00",
          "2017-06-30T00:00:00",
          "2017-07-31T00:00:00",
          "2017-08-31T00:00:00",
          "2017-09-30T00:00:00",
          "2017-10-31T00:00:00",
          "2017-11-30T00:00:00",
          "2017-12-31T00:00:00",
          "2018-01-31T00:00:00",
          "2018-02-28T00:00:00",
          "2018-03-31T00:00:00",
          "2018-04-30T00:00:00",
          "2018-05-31T00:00:00",
          "2018-06-30T00:00:00",
          "2018-07-31T00:00:00",
          "2018-08-31T00:00:00",
          "2018-09-30T00:00:00",
          "2018-10-31T00:00:00",
          "2018-11-30T00:00:00",
          "2018-12-31T00:00:00",
          "2019-01-31T00:00:00",
          "2019-02-28T00:00:00",
          "2019-03-31T00:00:00",
          "2019-04-30T00:00:00"
         ],
         "xaxis": "x2",
         "y": [
          553,
          15,
          0,
          0,
          0,
          11,
          21,
          332,
          10,
          12,
          3,
          108,
          170,
          2,
          4,
          77,
          77,
          22,
          165,
          142,
          247,
          56,
          362,
          143,
          182,
          316,
          184,
          87,
          187,
          187,
          203,
          212,
          226,
          397,
          130,
          1575,
          2891,
          3227,
          523,
          539,
          211,
          52,
          71,
          78,
          351,
          282,
          87,
          104,
          19,
          3474,
          107,
          25,
          42053,
          103,
          83,
          75,
          138,
          180,
          43,
          79,
          199,
          174,
          43,
          41,
          93,
          252,
          60,
          278,
          79,
          230,
          159,
          27,
          36,
          66,
          154,
          10,
          109,
          56,
          355,
          150,
          109,
          19,
          231,
          401,
          120,
          472,
          127,
          360,
          115,
          54,
          39,
          38,
          27,
          30,
          77,
          13,
          22,
          23,
          63,
          122,
          6,
          63,
          18,
          31,
          539,
          100,
          18,
          62,
          83,
          328,
          47,
          56,
          15,
          23,
          16,
          3,
          15,
          521,
          5,
          55,
          87,
          30,
          353,
          47,
          7,
          31,
          20,
          583,
          254,
          77,
          389,
          138,
          127,
          226,
          16,
          457,
          176,
          10,
          194,
          269,
          77,
          9,
          27,
          135,
          11,
          67,
          53,
          27,
          43,
          11,
          108,
          4,
          1,
          15,
          14,
          149,
          19,
          16,
          44,
          60,
          41,
          28,
          77,
          29,
          331,
          41,
          127,
          16,
          57,
          116,
          37,
          64,
          82,
          107,
          115,
          4,
          16,
          76,
          17,
          207,
          117,
          0
         ],
         "yaxis": "y2"
        },
        {
         "marker": {
          "color": "rgba(255, 0, 0, .8)"
         },
         "name": "dels",
         "type": "scatter",
         "x": [
          "2004-03-31T00:00:00",
          "2004-04-30T00:00:00",
          "2004-05-31T00:00:00",
          "2004-06-30T00:00:00",
          "2004-07-31T00:00:00",
          "2004-08-31T00:00:00",
          "2004-09-30T00:00:00",
          "2004-10-31T00:00:00",
          "2004-11-30T00:00:00",
          "2004-12-31T00:00:00",
          "2005-01-31T00:00:00",
          "2005-02-28T00:00:00",
          "2005-03-31T00:00:00",
          "2005-04-30T00:00:00",
          "2005-05-31T00:00:00",
          "2005-06-30T00:00:00",
          "2005-07-31T00:00:00",
          "2005-08-31T00:00:00",
          "2005-09-30T00:00:00",
          "2005-10-31T00:00:00",
          "2005-11-30T00:00:00",
          "2005-12-31T00:00:00",
          "2006-01-31T00:00:00",
          "2006-02-28T00:00:00",
          "2006-03-31T00:00:00",
          "2006-04-30T00:00:00",
          "2006-05-31T00:00:00",
          "2006-06-30T00:00:00",
          "2006-07-31T00:00:00",
          "2006-08-31T00:00:00",
          "2006-09-30T00:00:00",
          "2006-10-31T00:00:00",
          "2006-11-30T00:00:00",
          "2006-12-31T00:00:00",
          "2007-01-31T00:00:00",
          "2007-02-28T00:00:00",
          "2007-03-31T00:00:00",
          "2007-04-30T00:00:00",
          "2007-05-31T00:00:00",
          "2007-06-30T00:00:00",
          "2007-07-31T00:00:00",
          "2007-08-31T00:00:00",
          "2007-09-30T00:00:00",
          "2007-10-31T00:00:00",
          "2007-11-30T00:00:00",
          "2007-12-31T00:00:00",
          "2008-01-31T00:00:00",
          "2008-02-29T00:00:00",
          "2008-03-31T00:00:00",
          "2008-04-30T00:00:00",
          "2008-05-31T00:00:00",
          "2008-06-30T00:00:00",
          "2008-07-31T00:00:00",
          "2008-08-31T00:00:00",
          "2008-09-30T00:00:00",
          "2008-10-31T00:00:00",
          "2008-11-30T00:00:00",
          "2008-12-31T00:00:00",
          "2009-01-31T00:00:00",
          "2009-02-28T00:00:00",
          "2009-03-31T00:00:00",
          "2009-04-30T00:00:00",
          "2009-05-31T00:00:00",
          "2009-06-30T00:00:00",
          "2009-07-31T00:00:00",
          "2009-08-31T00:00:00",
          "2009-09-30T00:00:00",
          "2009-10-31T00:00:00",
          "2009-11-30T00:00:00",
          "2009-12-31T00:00:00",
          "2010-01-31T00:00:00",
          "2010-02-28T00:00:00",
          "2010-03-31T00:00:00",
          "2010-04-30T00:00:00",
          "2010-05-31T00:00:00",
          "2010-06-30T00:00:00",
          "2010-07-31T00:00:00",
          "2010-08-31T00:00:00",
          "2010-09-30T00:00:00",
          "2010-10-31T00:00:00",
          "2010-11-30T00:00:00",
          "2010-12-31T00:00:00",
          "2011-01-31T00:00:00",
          "2011-02-28T00:00:00",
          "2011-03-31T00:00:00",
          "2011-04-30T00:00:00",
          "2011-05-31T00:00:00",
          "2011-06-30T00:00:00",
          "2011-07-31T00:00:00",
          "2011-08-31T00:00:00",
          "2011-09-30T00:00:00",
          "2011-10-31T00:00:00",
          "2011-11-30T00:00:00",
          "2011-12-31T00:00:00",
          "2012-01-31T00:00:00",
          "2012-02-29T00:00:00",
          "2012-03-31T00:00:00",
          "2012-04-30T00:00:00",
          "2012-05-31T00:00:00",
          "2012-06-30T00:00:00",
          "2012-07-31T00:00:00",
          "2012-08-31T00:00:00",
          "2012-09-30T00:00:00",
          "2012-10-31T00:00:00",
          "2012-11-30T00:00:00",
          "2012-12-31T00:00:00",
          "2013-01-31T00:00:00",
          "2013-02-28T00:00:00",
          "2013-03-31T00:00:00",
          "2013-04-30T00:00:00",
          "2013-05-31T00:00:00",
          "2013-06-30T00:00:00",
          "2013-07-31T00:00:00",
          "2013-08-31T00:00:00",
          "2013-09-30T00:00:00",
          "2013-10-31T00:00:00",
          "2013-11-30T00:00:00",
          "2013-12-31T00:00:00",
          "2014-01-31T00:00:00",
          "2014-02-28T00:00:00",
          "2014-03-31T00:00:00",
          "2014-04-30T00:00:00",
          "2014-05-31T00:00:00",
          "2014-06-30T00:00:00",
          "2014-07-31T00:00:00",
          "2014-08-31T00:00:00",
          "2014-09-30T00:00:00",
          "2014-10-31T00:00:00",
          "2014-11-30T00:00:00",
          "2014-12-31T00:00:00",
          "2015-01-31T00:00:00",
          "2015-02-28T00:00:00",
          "2015-03-31T00:00:00",
          "2015-04-30T00:00:00",
          "2015-05-31T00:00:00",
          "2015-06-30T00:00:00",
          "2015-07-31T00:00:00",
          "2015-08-31T00:00:00",
          "2015-09-30T00:00:00",
          "2015-10-31T00:00:00",
          "2015-11-30T00:00:00",
          "2015-12-31T00:00:00",
          "2016-01-31T00:00:00",
          "2016-02-29T00:00:00",
          "2016-03-31T00:00:00",
          "2016-04-30T00:00:00",
          "2016-05-31T00:00:00",
          "2016-06-30T00:00:00",
          "2016-07-31T00:00:00",
          "2016-08-31T00:00:00",
          "2016-09-30T00:00:00",
          "2016-10-31T00:00:00",
          "2016-11-30T00:00:00",
          "2016-12-31T00:00:00",
          "2017-01-31T00:00:00",
          "2017-02-28T00:00:00",
          "2017-03-31T00:00:00",
          "2017-04-30T00:00:00",
          "2017-05-31T00:00:00",
          "2017-06-30T00:00:00",
          "2017-07-31T00:00:00",
          "2017-08-31T00:00:00",
          "2017-09-30T00:00:00",
          "2017-10-31T00:00:00",
          "2017-11-30T00:00:00",
          "2017-12-31T00:00:00",
          "2018-01-31T00:00:00",
          "2018-02-28T00:00:00",
          "2018-03-31T00:00:00",
          "2018-04-30T00:00:00",
          "2018-05-31T00:00:00",
          "2018-06-30T00:00:00",
          "2018-07-31T00:00:00",
          "2018-08-31T00:00:00",
          "2018-09-30T00:00:00",
          "2018-10-31T00:00:00",
          "2018-11-30T00:00:00",
          "2018-12-31T00:00:00",
          "2019-01-31T00:00:00",
          "2019-02-28T00:00:00",
          "2019-03-31T00:00:00",
          "2019-04-30T00:00:00"
         ],
         "xaxis": "x2",
         "y": [
          397,
          2,
          0,
          0,
          0,
          3,
          3,
          14,
          3,
          0,
          27,
          3,
          439,
          3,
          0,
          50,
          39,
          8,
          352,
          200,
          203,
          172,
          166,
          1046,
          1307,
          199,
          130,
          77,
          144,
          104,
          256,
          272,
          126,
          1455,
          146,
          1071,
          1211,
          2417,
          12723,
          592,
          1169,
          179,
          2564,
          92,
          5054,
          126,
          1489,
          254,
          26,
          10493,
          296,
          725,
          219519,
          641,
          501,
          2300,
          1987,
          2055,
          43,
          157,
          625,
          166,
          88,
          2817,
          153,
          148,
          132,
          517,
          111,
          245,
          451,
          8,
          37,
          54,
          163,
          17,
          109,
          21,
          130,
          116,
          87,
          250,
          417,
          745,
          152,
          7189,
          589,
          426,
          60,
          45,
          14,
          39,
          109,
          86,
          261,
          33,
          8,
          37,
          506,
          172,
          63,
          17,
          17,
          55,
          9,
          584,
          32,
          185,
          35,
          415,
          104,
          36,
          29,
          70,
          77,
          4,
          3,
          343,
          4,
          97,
          31,
          33,
          364,
          44,
          3,
          39,
          68,
          178,
          245,
          100,
          369,
          380,
          91,
          211,
          9,
          24,
          131,
          37,
          91,
          113,
          21,
          14,
          70,
          109,
          25,
          30,
          332,
          724,
          50,
          19,
          240,
          8,
          1,
          27,
          10,
          113,
          10,
          7,
          3,
          193,
          20,
          29,
          14,
          20,
          54,
          62,
          137,
          67,
          19,
          73,
          47,
          18,
          41,
          86,
          15,
          53,
          16,
          90,
          16,
          231,
          174,
          3
         ],
         "yaxis": "y2"
        },
        {
         "marker": {
          "color": "rgba(0, 0, 0, 1)"
         },
         "name": "Conflict Score",
         "type": "bar",
         "x": [
          "2005-04-30T00:00:00",
          "2005-06-30T00:00:00",
          "2005-09-30T00:00:00",
          "2005-10-31T00:00:00",
          "2005-11-30T00:00:00",
          "2005-12-31T00:00:00",
          "2006-01-31T00:00:00",
          "2006-02-28T00:00:00",
          "2006-03-31T00:00:00",
          "2006-04-30T00:00:00",
          "2006-05-31T00:00:00",
          "2006-06-30T00:00:00",
          "2006-07-31T00:00:00",
          "2006-08-31T00:00:00",
          "2006-09-30T00:00:00",
          "2006-10-31T00:00:00",
          "2006-11-30T00:00:00",
          "2006-12-31T00:00:00",
          "2007-01-31T00:00:00",
          "2007-02-28T00:00:00",
          "2007-03-31T00:00:00",
          "2007-04-30T00:00:00",
          "2007-05-31T00:00:00",
          "2007-06-30T00:00:00",
          "2007-07-31T00:00:00",
          "2007-08-31T00:00:00",
          "2007-09-30T00:00:00",
          "2007-10-31T00:00:00",
          "2007-11-30T00:00:00",
          "2007-12-31T00:00:00",
          "2008-01-31T00:00:00",
          "2008-02-29T00:00:00",
          "2008-03-31T00:00:00",
          "2008-04-30T00:00:00",
          "2008-05-31T00:00:00",
          "2008-06-30T00:00:00",
          "2008-07-31T00:00:00",
          "2008-08-31T00:00:00",
          "2008-09-30T00:00:00",
          "2008-10-31T00:00:00",
          "2008-11-30T00:00:00",
          "2008-12-31T00:00:00",
          "2009-01-31T00:00:00",
          "2009-02-28T00:00:00",
          "2009-03-31T00:00:00",
          "2009-04-30T00:00:00",
          "2009-05-31T00:00:00",
          "2009-06-30T00:00:00",
          "2009-07-31T00:00:00",
          "2009-08-31T00:00:00",
          "2009-09-30T00:00:00",
          "2009-10-31T00:00:00",
          "2009-11-30T00:00:00",
          "2009-12-31T00:00:00",
          "2010-01-31T00:00:00",
          "2010-02-28T00:00:00",
          "2010-03-31T00:00:00",
          "2010-04-30T00:00:00",
          "2010-05-31T00:00:00",
          "2010-06-30T00:00:00",
          "2010-07-31T00:00:00",
          "2010-08-31T00:00:00",
          "2010-09-30T00:00:00",
          "2010-10-31T00:00:00",
          "2010-11-30T00:00:00",
          "2010-12-31T00:00:00",
          "2011-01-31T00:00:00",
          "2011-02-28T00:00:00",
          "2011-03-31T00:00:00",
          "2011-04-30T00:00:00",
          "2011-05-31T00:00:00",
          "2011-06-30T00:00:00",
          "2011-07-31T00:00:00",
          "2011-08-31T00:00:00",
          "2011-09-30T00:00:00",
          "2011-11-30T00:00:00",
          "2011-12-31T00:00:00",
          "2012-01-31T00:00:00",
          "2012-02-29T00:00:00",
          "2012-03-31T00:00:00",
          "2012-04-30T00:00:00",
          "2012-05-31T00:00:00",
          "2012-06-30T00:00:00",
          "2012-07-31T00:00:00",
          "2012-08-31T00:00:00",
          "2012-09-30T00:00:00",
          "2012-10-31T00:00:00",
          "2012-11-30T00:00:00",
          "2012-12-31T00:00:00",
          "2013-01-31T00:00:00",
          "2013-02-28T00:00:00",
          "2013-03-31T00:00:00",
          "2013-04-30T00:00:00",
          "2013-05-31T00:00:00",
          "2013-06-30T00:00:00",
          "2013-07-31T00:00:00",
          "2013-08-31T00:00:00",
          "2013-09-30T00:00:00",
          "2013-10-31T00:00:00",
          "2013-11-30T00:00:00",
          "2013-12-31T00:00:00",
          "2014-01-31T00:00:00",
          "2014-02-28T00:00:00",
          "2014-03-31T00:00:00",
          "2014-04-30T00:00:00",
          "2014-05-31T00:00:00",
          "2014-06-30T00:00:00",
          "2014-08-31T00:00:00",
          "2014-09-30T00:00:00",
          "2014-10-31T00:00:00",
          "2014-11-30T00:00:00",
          "2014-12-31T00:00:00",
          "2015-01-31T00:00:00",
          "2015-02-28T00:00:00",
          "2015-03-31T00:00:00",
          "2015-04-30T00:00:00",
          "2015-05-31T00:00:00",
          "2015-06-30T00:00:00",
          "2015-07-31T00:00:00",
          "2015-08-31T00:00:00",
          "2015-10-31T00:00:00",
          "2015-11-30T00:00:00",
          "2015-12-31T00:00:00",
          "2016-01-31T00:00:00",
          "2016-02-29T00:00:00",
          "2016-03-31T00:00:00",
          "2016-04-30T00:00:00",
          "2016-05-31T00:00:00",
          "2016-06-30T00:00:00",
          "2016-07-31T00:00:00",
          "2016-08-31T00:00:00",
          "2016-09-30T00:00:00",
          "2016-10-31T00:00:00",
          "2016-11-30T00:00:00",
          "2016-12-31T00:00:00",
          "2017-01-31T00:00:00",
          "2017-02-28T00:00:00",
          "2017-03-31T00:00:00",
          "2017-04-30T00:00:00",
          "2017-05-31T00:00:00",
          "2017-06-30T00:00:00",
          "2017-07-31T00:00:00",
          "2017-08-31T00:00:00",
          "2017-09-30T00:00:00",
          "2017-10-31T00:00:00",
          "2017-11-30T00:00:00",
          "2017-12-31T00:00:00",
          "2018-01-31T00:00:00",
          "2018-02-28T00:00:00",
          "2018-03-31T00:00:00",
          "2018-04-30T00:00:00",
          "2018-05-31T00:00:00",
          "2018-06-30T00:00:00",
          "2018-07-31T00:00:00",
          "2018-08-31T00:00:00",
          "2018-09-30T00:00:00",
          "2018-10-31T00:00:00",
          "2018-11-30T00:00:00",
          "2018-12-31T00:00:00",
          "2019-01-31T00:00:00",
          "2019-02-28T00:00:00",
          "2019-03-31T00:00:00",
          "2019-04-30T00:00:00"
         ],
         "xaxis": "x",
         "y": [
          1.4165460034809778,
          0.8464791331294366,
          1.9417500521372508,
          0.7091432089458075,
          0.8272683916790681,
          0.5249298991038163,
          0.9251489528626795,
          1.3408471414034075,
          1.694320313260298,
          0.6739322022186494,
          0.7810879558666732,
          0.5931465734589398,
          0.5669878558011348,
          0.5097516477357927,
          1.5200787974902457,
          0.5121198213036486,
          0.6538792346419732,
          1.116519812580873,
          0.618573537723965,
          1.1680497784166781,
          0.5818229882409706,
          0.8521174890062215,
          1.3704436786202228,
          1.1620335699503967,
          1.4943777840524997,
          1.1236524509647297,
          0.9554956815781083,
          0.5996481932342294,
          0.6212570350255471,
          0.6768274962572226,
          1.3952309106122462,
          0.5936957513501386,
          0.734079247889247,
          1.7471917340928167,
          1.1644316589752663,
          0.7677354718270261,
          2.1668268778469004,
          0.8037708837919172,
          0.2696053600952716,
          1.5097178495308399,
          0.5310367270677127,
          0.885932810781598,
          0.5157824451241698,
          1.2273438966166548,
          0.7441770632560354,
          1.2521872142151091,
          0.7744772324788564,
          1.7380682555263973,
          0.6949029181013812,
          0.6116412051593906,
          0.8021297866782624,
          0.6657815644667416,
          0.6249242930127211,
          0.5726102318077078,
          1.7775232670497463,
          0.4903654039406333,
          0.47461897291917093,
          0.6786265641474023,
          0.7684112568387342,
          0.827721857623851,
          0.6742924872398082,
          0.5799082302176608,
          1.0244054685216086,
          0.5860322828515457,
          0.6372105060050812,
          0.5175220743560579,
          0.7066242672613667,
          0.4902497983384048,
          0.9397000662769156,
          1.1374707063128204,
          0.7906515673121872,
          1.0192161193906033,
          0.8287453734280795,
          0.47683954655185457,
          0.5049487672456904,
          0.6464588176440456,
          0.36162155940569635,
          1.6509977583689706,
          0.7435016907547302,
          0.5376519011350505,
          0.5695943808775291,
          0.7012801044003383,
          0.6695648077275484,
          0.5129564147627572,
          0.6751016494059552,
          0.5327170036970384,
          0.638456092152163,
          0.4620248436868758,
          0.5703774518137568,
          0.6007296992220111,
          0.5761279635078591,
          0.49589357553384394,
          0.8540252346760167,
          0.46383024260222194,
          0.4533833819123019,
          0.6255977180329706,
          0.5370837899990015,
          0.6128319682499634,
          0.5329887879927528,
          0.4517167626712071,
          0.4558017241987365,
          0.5754208502431211,
          0.5300543461337843,
          0.5692750335067175,
          0.6097134602023659,
          0.44622897275563866,
          0.4498748949916228,
          0.5685642812256311,
          0.9027419744450064,
          0.4434877146162837,
          0.5290665822579791,
          0.6220521993577991,
          0.5096041872712689,
          0.7560353854259222,
          0.4474537004847582,
          0.7209625898404496,
          0.5907750064344288,
          0.983570272681889,
          0.8354502370437388,
          0.9174920643029718,
          0.494310888430163,
          0.8082165000387551,
          0.7503718036843787,
          0.5443691672503221,
          0.4761705841493509,
          0.7801580576167572,
          0.6408074262285,
          0.9923941477398602,
          0.8035322924416519,
          0.733706146932177,
          0.5817275113573006,
          1.1345295824029176,
          0.5423575898065957,
          0.49800240374185056,
          0.6370156622396388,
          0.7033435180687512,
          0.4583647189911974,
          0.5866850433840851,
          0.4716662713966595,
          0.5106350485769333,
          0.47603076925635607,
          0.4683239545288658,
          0.4205260060402296,
          0.8758000949700888,
          0.8836779548924325,
          0.48266552003298796,
          0.49761171307983726,
          0.494947520088601,
          0.2997662443517668,
          0.4623268633140712,
          1.1167248424863954,
          1.0778641215648923,
          0.5302790324895038,
          0.48886210745216935,
          0.9991428307681011,
          0.701005207264594,
          0.5284299453097931,
          0.6116800164839824,
          0.22524020157270266,
          0.669669763566832,
          0.48621719472288333,
          1.0678623749349139,
          0.5945506105187932
         ],
         "yaxis": "y"
        }
       ],
       "layout": {
        "barmode": "group",
        "height": 600,
        "hovermode": "closest",
        "legend": {
         "orientation": "h",
         "x": 0.5,
         "y": 1.2
        },
        "showlegend": true,
        "template": {
         "data": {
          "bar": [
           {
            "error_x": {
             "color": "#2a3f5f"
            },
            "error_y": {
             "color": "#2a3f5f"
            },
            "marker": {
             "line": {
              "color": "#E5ECF6",
              "width": 0.5
             }
            },
            "type": "bar"
           }
          ],
          "barpolar": [
           {
            "marker": {
             "line": {
              "color": "#E5ECF6",
              "width": 0.5
             }
            },
            "type": "barpolar"
           }
          ],
          "carpet": [
           {
            "aaxis": {
             "endlinecolor": "#2a3f5f",
             "gridcolor": "white",
             "linecolor": "white",
             "minorgridcolor": "white",
             "startlinecolor": "#2a3f5f"
            },
            "baxis": {
             "endlinecolor": "#2a3f5f",
             "gridcolor": "white",
             "linecolor": "white",
             "minorgridcolor": "white",
             "startlinecolor": "#2a3f5f"
            },
            "type": "carpet"
           }
          ],
          "choropleth": [
           {
            "colorbar": {
             "outlinewidth": 0,
             "ticks": ""
            },
            "type": "choropleth"
           }
          ],
          "contour": [
           {
            "colorbar": {
             "outlinewidth": 0,
             "ticks": ""
            },
            "colorscale": [
             [
              0,
              "#0d0887"
             ],
             [
              0.1111111111111111,
              "#46039f"
             ],
             [
              0.2222222222222222,
              "#7201a8"
             ],
             [
              0.3333333333333333,
              "#9c179e"
             ],
             [
              0.4444444444444444,
              "#bd3786"
             ],
             [
              0.5555555555555556,
              "#d8576b"
             ],
             [
              0.6666666666666666,
              "#ed7953"
             ],
             [
              0.7777777777777778,
              "#fb9f3a"
             ],
             [
              0.8888888888888888,
              "#fdca26"
             ],
             [
              1,
              "#f0f921"
             ]
            ],
            "type": "contour"
           }
          ],
          "contourcarpet": [
           {
            "colorbar": {
             "outlinewidth": 0,
             "ticks": ""
            },
            "type": "contourcarpet"
           }
          ],
          "heatmap": [
           {
            "colorbar": {
             "outlinewidth": 0,
             "ticks": ""
            },
            "colorscale": [
             [
              0,
              "#0d0887"
             ],
             [
              0.1111111111111111,
              "#46039f"
             ],
             [
              0.2222222222222222,
              "#7201a8"
             ],
             [
              0.3333333333333333,
              "#9c179e"
             ],
             [
              0.4444444444444444,
              "#bd3786"
             ],
             [
              0.5555555555555556,
              "#d8576b"
             ],
             [
              0.6666666666666666,
              "#ed7953"
             ],
             [
              0.7777777777777778,
              "#fb9f3a"
             ],
             [
              0.8888888888888888,
              "#fdca26"
             ],
             [
              1,
              "#f0f921"
             ]
            ],
            "type": "heatmap"
           }
          ],
          "heatmapgl": [
           {
            "colorbar": {
             "outlinewidth": 0,
             "ticks": ""
            },
            "colorscale": [
             [
              0,
              "#0d0887"
             ],
             [
              0.1111111111111111,
              "#46039f"
             ],
             [
              0.2222222222222222,
              "#7201a8"
             ],
             [
              0.3333333333333333,
              "#9c179e"
             ],
             [
              0.4444444444444444,
              "#bd3786"
             ],
             [
              0.5555555555555556,
              "#d8576b"
             ],
             [
              0.6666666666666666,
              "#ed7953"
             ],
             [
              0.7777777777777778,
              "#fb9f3a"
             ],
             [
              0.8888888888888888,
              "#fdca26"
             ],
             [
              1,
              "#f0f921"
             ]
            ],
            "type": "heatmapgl"
           }
          ],
          "histogram": [
           {
            "marker": {
             "colorbar": {
              "outlinewidth": 0,
              "ticks": ""
             }
            },
            "type": "histogram"
           }
          ],
          "histogram2d": [
           {
            "colorbar": {
             "outlinewidth": 0,
             "ticks": ""
            },
            "colorscale": [
             [
              0,
              "#0d0887"
             ],
             [
              0.1111111111111111,
              "#46039f"
             ],
             [
              0.2222222222222222,
              "#7201a8"
             ],
             [
              0.3333333333333333,
              "#9c179e"
             ],
             [
              0.4444444444444444,
              "#bd3786"
             ],
             [
              0.5555555555555556,
              "#d8576b"
             ],
             [
              0.6666666666666666,
              "#ed7953"
             ],
             [
              0.7777777777777778,
              "#fb9f3a"
             ],
             [
              0.8888888888888888,
              "#fdca26"
             ],
             [
              1,
              "#f0f921"
             ]
            ],
            "type": "histogram2d"
           }
          ],
          "histogram2dcontour": [
           {
            "colorbar": {
             "outlinewidth": 0,
             "ticks": ""
            },
            "colorscale": [
             [
              0,
              "#0d0887"
             ],
             [
              0.1111111111111111,
              "#46039f"
             ],
             [
              0.2222222222222222,
              "#7201a8"
             ],
             [
              0.3333333333333333,
              "#9c179e"
             ],
             [
              0.4444444444444444,
              "#bd3786"
             ],
             [
              0.5555555555555556,
              "#d8576b"
             ],
             [
              0.6666666666666666,
              "#ed7953"
             ],
             [
              0.7777777777777778,
              "#fb9f3a"
             ],
             [
              0.8888888888888888,
              "#fdca26"
             ],
             [
              1,
              "#f0f921"
             ]
            ],
            "type": "histogram2dcontour"
           }
          ],
          "mesh3d": [
           {
            "colorbar": {
             "outlinewidth": 0,
             "ticks": ""
            },
            "type": "mesh3d"
           }
          ],
          "parcoords": [
           {
            "line": {
             "colorbar": {
              "outlinewidth": 0,
              "ticks": ""
             }
            },
            "type": "parcoords"
           }
          ],
          "pie": [
           {
            "automargin": true,
            "type": "pie"
           }
          ],
          "scatter": [
           {
            "marker": {
             "colorbar": {
              "outlinewidth": 0,
              "ticks": ""
             }
            },
            "type": "scatter"
           }
          ],
          "scatter3d": [
           {
            "line": {
             "colorbar": {
              "outlinewidth": 0,
              "ticks": ""
             }
            },
            "marker": {
             "colorbar": {
              "outlinewidth": 0,
              "ticks": ""
             }
            },
            "type": "scatter3d"
           }
          ],
          "scattercarpet": [
           {
            "marker": {
             "colorbar": {
              "outlinewidth": 0,
              "ticks": ""
             }
            },
            "type": "scattercarpet"
           }
          ],
          "scattergeo": [
           {
            "marker": {
             "colorbar": {
              "outlinewidth": 0,
              "ticks": ""
             }
            },
            "type": "scattergeo"
           }
          ],
          "scattergl": [
           {
            "marker": {
             "colorbar": {
              "outlinewidth": 0,
              "ticks": ""
             }
            },
            "type": "scattergl"
           }
          ],
          "scattermapbox": [
           {
            "marker": {
             "colorbar": {
              "outlinewidth": 0,
              "ticks": ""
             }
            },
            "type": "scattermapbox"
           }
          ],
          "scatterpolar": [
           {
            "marker": {
             "colorbar": {
              "outlinewidth": 0,
              "ticks": ""
             }
            },
            "type": "scatterpolar"
           }
          ],
          "scatterpolargl": [
           {
            "marker": {
             "colorbar": {
              "outlinewidth": 0,
              "ticks": ""
             }
            },
            "type": "scatterpolargl"
           }
          ],
          "scatterternary": [
           {
            "marker": {
             "colorbar": {
              "outlinewidth": 0,
              "ticks": ""
             }
            },
            "type": "scatterternary"
           }
          ],
          "surface": [
           {
            "colorbar": {
             "outlinewidth": 0,
             "ticks": ""
            },
            "colorscale": [
             [
              0,
              "#0d0887"
             ],
             [
              0.1111111111111111,
              "#46039f"
             ],
             [
              0.2222222222222222,
              "#7201a8"
             ],
             [
              0.3333333333333333,
              "#9c179e"
             ],
             [
              0.4444444444444444,
              "#bd3786"
             ],
             [
              0.5555555555555556,
              "#d8576b"
             ],
             [
              0.6666666666666666,
              "#ed7953"
             ],
             [
              0.7777777777777778,
              "#fb9f3a"
             ],
             [
              0.8888888888888888,
              "#fdca26"
             ],
             [
              1,
              "#f0f921"
             ]
            ],
            "type": "surface"
           }
          ],
          "table": [
           {
            "cells": {
             "fill": {
              "color": "#EBF0F8"
             },
             "line": {
              "color": "white"
             }
            },
            "header": {
             "fill": {
              "color": "#C8D4E3"
             },
             "line": {
              "color": "white"
             }
            },
            "type": "table"
           }
          ]
         },
         "layout": {
          "annotationdefaults": {
           "arrowcolor": "#2a3f5f",
           "arrowhead": 0,
           "arrowwidth": 1
          },
          "coloraxis": {
           "colorbar": {
            "outlinewidth": 0,
            "ticks": ""
           }
          },
          "colorscale": {
           "diverging": [
            [
             0,
             "#8e0152"
            ],
            [
             0.1,
             "#c51b7d"
            ],
            [
             0.2,
             "#de77ae"
            ],
            [
             0.3,
             "#f1b6da"
            ],
            [
             0.4,
             "#fde0ef"
            ],
            [
             0.5,
             "#f7f7f7"
            ],
            [
             0.6,
             "#e6f5d0"
            ],
            [
             0.7,
             "#b8e186"
            ],
            [
             0.8,
             "#7fbc41"
            ],
            [
             0.9,
             "#4d9221"
            ],
            [
             1,
             "#276419"
            ]
           ],
           "sequential": [
            [
             0,
             "#0d0887"
            ],
            [
             0.1111111111111111,
             "#46039f"
            ],
            [
             0.2222222222222222,
             "#7201a8"
            ],
            [
             0.3333333333333333,
             "#9c179e"
            ],
            [
             0.4444444444444444,
             "#bd3786"
            ],
            [
             0.5555555555555556,
             "#d8576b"
            ],
            [
             0.6666666666666666,
             "#ed7953"
            ],
            [
             0.7777777777777778,
             "#fb9f3a"
            ],
            [
             0.8888888888888888,
             "#fdca26"
            ],
            [
             1,
             "#f0f921"
            ]
           ],
           "sequentialminus": [
            [
             0,
             "#0d0887"
            ],
            [
             0.1111111111111111,
             "#46039f"
            ],
            [
             0.2222222222222222,
             "#7201a8"
            ],
            [
             0.3333333333333333,
             "#9c179e"
            ],
            [
             0.4444444444444444,
             "#bd3786"
            ],
            [
             0.5555555555555556,
             "#d8576b"
            ],
            [
             0.6666666666666666,
             "#ed7953"
            ],
            [
             0.7777777777777778,
             "#fb9f3a"
            ],
            [
             0.8888888888888888,
             "#fdca26"
            ],
            [
             1,
             "#f0f921"
            ]
           ]
          },
          "colorway": [
           "#636efa",
           "#EF553B",
           "#00cc96",
           "#ab63fa",
           "#FFA15A",
           "#19d3f3",
           "#FF6692",
           "#B6E880",
           "#FF97FF",
           "#FECB52"
          ],
          "font": {
           "color": "#2a3f5f"
          },
          "geo": {
           "bgcolor": "white",
           "lakecolor": "white",
           "landcolor": "#E5ECF6",
           "showlakes": true,
           "showland": true,
           "subunitcolor": "white"
          },
          "hoverlabel": {
           "align": "left"
          },
          "hovermode": "closest",
          "mapbox": {
           "style": "light"
          },
          "paper_bgcolor": "white",
          "plot_bgcolor": "#E5ECF6",
          "polar": {
           "angularaxis": {
            "gridcolor": "white",
            "linecolor": "white",
            "ticks": ""
           },
           "bgcolor": "#E5ECF6",
           "radialaxis": {
            "gridcolor": "white",
            "linecolor": "white",
            "ticks": ""
           }
          },
          "scene": {
           "xaxis": {
            "backgroundcolor": "#E5ECF6",
            "gridcolor": "white",
            "gridwidth": 2,
            "linecolor": "white",
            "showbackground": true,
            "ticks": "",
            "zerolinecolor": "white"
           },
           "yaxis": {
            "backgroundcolor": "#E5ECF6",
            "gridcolor": "white",
            "gridwidth": 2,
            "linecolor": "white",
            "showbackground": true,
            "ticks": "",
            "zerolinecolor": "white"
           },
           "zaxis": {
            "backgroundcolor": "#E5ECF6",
            "gridcolor": "white",
            "gridwidth": 2,
            "linecolor": "white",
            "showbackground": true,
            "ticks": "",
            "zerolinecolor": "white"
           }
          },
          "shapedefaults": {
           "line": {
            "color": "#2a3f5f"
           }
          },
          "ternary": {
           "aaxis": {
            "gridcolor": "white",
            "linecolor": "white",
            "ticks": ""
           },
           "baxis": {
            "gridcolor": "white",
            "linecolor": "white",
            "ticks": ""
           },
           "bgcolor": "#E5ECF6",
           "caxis": {
            "gridcolor": "white",
            "linecolor": "white",
            "ticks": ""
           }
          },
          "title": {
           "x": 0.05
          },
          "xaxis": {
           "automargin": true,
           "gridcolor": "white",
           "linecolor": "white",
           "ticks": "",
           "title": {
            "standoff": 15
           },
           "zerolinecolor": "white",
           "zerolinewidth": 2
          },
          "yaxis": {
           "automargin": true,
           "gridcolor": "white",
           "linecolor": "white",
           "ticks": "",
           "title": {
            "standoff": 15
           },
           "zerolinecolor": "white",
           "zerolinewidth": 2
          }
         }
        },
        "xaxis": {
         "anchor": "y",
         "domain": [
          0,
          1
         ],
         "gridwidth": 2,
         "ticklen": 5,
         "title": {
          "text": "Monthly"
         },
         "zeroline": true
        },
        "xaxis2": {
         "anchor": "y2",
         "domain": [
          0,
          1
         ],
         "matches": "x",
         "showticklabels": false
        },
        "yaxis": {
         "anchor": "x",
         "domain": [
          0,
          0.475
         ],
         "title": {
          "text": "Conflict Scores"
         }
        },
        "yaxis2": {
         "anchor": "x2",
         "domain": [
          0.525,
          1
         ],
         "title": {
          "text": "Actions"
         }
        }
       }
      },
      "text/html": [
       "<div>\n",
       "        \n",
       "        \n",
       "            <div id=\"eae55eb5-b4ab-4ce2-aab4-e06a03875be1\" class=\"plotly-graph-div\" style=\"height:600px; width:100%;\"></div>\n",
       "            <script type=\"text/javascript\">\n",
       "                require([\"plotly\"], function(Plotly) {\n",
       "                    window.PLOTLYENV=window.PLOTLYENV || {};\n",
       "                    \n",
       "                if (document.getElementById(\"eae55eb5-b4ab-4ce2-aab4-e06a03875be1\")) {\n",
       "                    Plotly.newPlot(\n",
       "                        'eae55eb5-b4ab-4ce2-aab4-e06a03875be1',\n",
       "                        [{\"marker\": {\"color\": \"rgba(0, 0, 0, 1)\"}, \"name\": \"adds\", \"type\": \"scatter\", \"x\": [\"2004-03-31T00:00:00\", \"2004-04-30T00:00:00\", \"2004-05-31T00:00:00\", \"2004-06-30T00:00:00\", \"2004-07-31T00:00:00\", \"2004-08-31T00:00:00\", \"2004-09-30T00:00:00\", \"2004-10-31T00:00:00\", \"2004-11-30T00:00:00\", \"2004-12-31T00:00:00\", \"2005-01-31T00:00:00\", \"2005-02-28T00:00:00\", \"2005-03-31T00:00:00\", \"2005-04-30T00:00:00\", \"2005-05-31T00:00:00\", \"2005-06-30T00:00:00\", \"2005-07-31T00:00:00\", \"2005-08-31T00:00:00\", \"2005-09-30T00:00:00\", \"2005-10-31T00:00:00\", \"2005-11-30T00:00:00\", \"2005-12-31T00:00:00\", \"2006-01-31T00:00:00\", \"2006-02-28T00:00:00\", \"2006-03-31T00:00:00\", \"2006-04-30T00:00:00\", \"2006-05-31T00:00:00\", \"2006-06-30T00:00:00\", \"2006-07-31T00:00:00\", \"2006-08-31T00:00:00\", \"2006-09-30T00:00:00\", \"2006-10-31T00:00:00\", \"2006-11-30T00:00:00\", \"2006-12-31T00:00:00\", \"2007-01-31T00:00:00\", \"2007-02-28T00:00:00\", \"2007-03-31T00:00:00\", \"2007-04-30T00:00:00\", \"2007-05-31T00:00:00\", \"2007-06-30T00:00:00\", \"2007-07-31T00:00:00\", \"2007-08-31T00:00:00\", \"2007-09-30T00:00:00\", \"2007-10-31T00:00:00\", \"2007-11-30T00:00:00\", \"2007-12-31T00:00:00\", \"2008-01-31T00:00:00\", \"2008-02-29T00:00:00\", \"2008-03-31T00:00:00\", \"2008-04-30T00:00:00\", \"2008-05-31T00:00:00\", \"2008-06-30T00:00:00\", \"2008-07-31T00:00:00\", \"2008-08-31T00:00:00\", \"2008-09-30T00:00:00\", \"2008-10-31T00:00:00\", \"2008-11-30T00:00:00\", \"2008-12-31T00:00:00\", \"2009-01-31T00:00:00\", \"2009-02-28T00:00:00\", \"2009-03-31T00:00:00\", \"2009-04-30T00:00:00\", \"2009-05-31T00:00:00\", \"2009-06-30T00:00:00\", \"2009-07-31T00:00:00\", \"2009-08-31T00:00:00\", \"2009-09-30T00:00:00\", \"2009-10-31T00:00:00\", \"2009-11-30T00:00:00\", \"2009-12-31T00:00:00\", \"2010-01-31T00:00:00\", \"2010-02-28T00:00:00\", \"2010-03-31T00:00:00\", \"2010-04-30T00:00:00\", \"2010-05-31T00:00:00\", \"2010-06-30T00:00:00\", \"2010-07-31T00:00:00\", \"2010-08-31T00:00:00\", \"2010-09-30T00:00:00\", \"2010-10-31T00:00:00\", \"2010-11-30T00:00:00\", \"2010-12-31T00:00:00\", \"2011-01-31T00:00:00\", \"2011-02-28T00:00:00\", \"2011-03-31T00:00:00\", \"2011-04-30T00:00:00\", \"2011-05-31T00:00:00\", \"2011-06-30T00:00:00\", \"2011-07-31T00:00:00\", \"2011-08-31T00:00:00\", \"2011-09-30T00:00:00\", \"2011-10-31T00:00:00\", \"2011-11-30T00:00:00\", \"2011-12-31T00:00:00\", \"2012-01-31T00:00:00\", \"2012-02-29T00:00:00\", \"2012-03-31T00:00:00\", \"2012-04-30T00:00:00\", \"2012-05-31T00:00:00\", \"2012-06-30T00:00:00\", \"2012-07-31T00:00:00\", \"2012-08-31T00:00:00\", \"2012-09-30T00:00:00\", \"2012-10-31T00:00:00\", \"2012-11-30T00:00:00\", \"2012-12-31T00:00:00\", \"2013-01-31T00:00:00\", \"2013-02-28T00:00:00\", \"2013-03-31T00:00:00\", \"2013-04-30T00:00:00\", \"2013-05-31T00:00:00\", \"2013-06-30T00:00:00\", \"2013-07-31T00:00:00\", \"2013-08-31T00:00:00\", \"2013-09-30T00:00:00\", \"2013-10-31T00:00:00\", \"2013-11-30T00:00:00\", \"2013-12-31T00:00:00\", \"2014-01-31T00:00:00\", \"2014-02-28T00:00:00\", \"2014-03-31T00:00:00\", \"2014-04-30T00:00:00\", \"2014-05-31T00:00:00\", \"2014-06-30T00:00:00\", \"2014-07-31T00:00:00\", \"2014-08-31T00:00:00\", \"2014-09-30T00:00:00\", \"2014-10-31T00:00:00\", \"2014-11-30T00:00:00\", \"2014-12-31T00:00:00\", \"2015-01-31T00:00:00\", \"2015-02-28T00:00:00\", \"2015-03-31T00:00:00\", \"2015-04-30T00:00:00\", \"2015-05-31T00:00:00\", \"2015-06-30T00:00:00\", \"2015-07-31T00:00:00\", \"2015-08-31T00:00:00\", \"2015-09-30T00:00:00\", \"2015-10-31T00:00:00\", \"2015-11-30T00:00:00\", \"2015-12-31T00:00:00\", \"2016-01-31T00:00:00\", \"2016-02-29T00:00:00\", \"2016-03-31T00:00:00\", \"2016-04-30T00:00:00\", \"2016-05-31T00:00:00\", \"2016-06-30T00:00:00\", \"2016-07-31T00:00:00\", \"2016-08-31T00:00:00\", \"2016-09-30T00:00:00\", \"2016-10-31T00:00:00\", \"2016-11-30T00:00:00\", \"2016-12-31T00:00:00\", \"2017-01-31T00:00:00\", \"2017-02-28T00:00:00\", \"2017-03-31T00:00:00\", \"2017-04-30T00:00:00\", \"2017-05-31T00:00:00\", \"2017-06-30T00:00:00\", \"2017-07-31T00:00:00\", \"2017-08-31T00:00:00\", \"2017-09-30T00:00:00\", \"2017-10-31T00:00:00\", \"2017-11-30T00:00:00\", \"2017-12-31T00:00:00\", \"2018-01-31T00:00:00\", \"2018-02-28T00:00:00\", \"2018-03-31T00:00:00\", \"2018-04-30T00:00:00\", \"2018-05-31T00:00:00\", \"2018-06-30T00:00:00\", \"2018-07-31T00:00:00\", \"2018-08-31T00:00:00\", \"2018-09-30T00:00:00\", \"2018-10-31T00:00:00\", \"2018-11-30T00:00:00\", \"2018-12-31T00:00:00\", \"2019-01-31T00:00:00\", \"2019-02-28T00:00:00\", \"2019-03-31T00:00:00\", \"2019-04-30T00:00:00\"], \"xaxis\": \"x2\", \"y\": [553.0, 15.0, 0.0, 0.0, 0.0, 11.0, 21.0, 332.0, 10.0, 12.0, 3.0, 108.0, 170.0, 2.0, 4.0, 77.0, 77.0, 22.0, 165.0, 142.0, 247.0, 56.0, 362.0, 143.0, 182.0, 316.0, 184.0, 87.0, 187.0, 187.0, 203.0, 212.0, 226.0, 397.0, 130.0, 1575.0, 2891.0, 3227.0, 523.0, 539.0, 211.0, 52.0, 71.0, 78.0, 351.0, 282.0, 87.0, 104.0, 19.0, 3474.0, 107.0, 25.0, 42053.0, 103.0, 83.0, 75.0, 138.0, 180.0, 43.0, 79.0, 199.0, 174.0, 43.0, 41.0, 93.0, 252.0, 60.0, 278.0, 79.0, 230.0, 159.0, 27.0, 36.0, 66.0, 154.0, 10.0, 109.0, 56.0, 355.0, 150.0, 109.0, 19.0, 231.0, 401.0, 120.0, 472.0, 127.0, 360.0, 115.0, 54.0, 39.0, 38.0, 27.0, 30.0, 77.0, 13.0, 22.0, 23.0, 63.0, 122.0, 6.0, 63.0, 18.0, 31.0, 539.0, 100.0, 18.0, 62.0, 83.0, 328.0, 47.0, 56.0, 15.0, 23.0, 16.0, 3.0, 15.0, 521.0, 5.0, 55.0, 87.0, 30.0, 353.0, 47.0, 7.0, 31.0, 20.0, 583.0, 254.0, 77.0, 389.0, 138.0, 127.0, 226.0, 16.0, 457.0, 176.0, 10.0, 194.0, 269.0, 77.0, 9.0, 27.0, 135.0, 11.0, 67.0, 53.0, 27.0, 43.0, 11.0, 108.0, 4.0, 1.0, 15.0, 14.0, 149.0, 19.0, 16.0, 44.0, 60.0, 41.0, 28.0, 77.0, 29.0, 331.0, 41.0, 127.0, 16.0, 57.0, 116.0, 37.0, 64.0, 82.0, 107.0, 115.0, 4.0, 16.0, 76.0, 17.0, 207.0, 117.0, 0.0], \"yaxis\": \"y2\"}, {\"marker\": {\"color\": \"rgba(255, 0, 0, .8)\"}, \"name\": \"dels\", \"type\": \"scatter\", \"x\": [\"2004-03-31T00:00:00\", \"2004-04-30T00:00:00\", \"2004-05-31T00:00:00\", \"2004-06-30T00:00:00\", \"2004-07-31T00:00:00\", \"2004-08-31T00:00:00\", \"2004-09-30T00:00:00\", \"2004-10-31T00:00:00\", \"2004-11-30T00:00:00\", \"2004-12-31T00:00:00\", \"2005-01-31T00:00:00\", \"2005-02-28T00:00:00\", \"2005-03-31T00:00:00\", \"2005-04-30T00:00:00\", \"2005-05-31T00:00:00\", \"2005-06-30T00:00:00\", \"2005-07-31T00:00:00\", \"2005-08-31T00:00:00\", \"2005-09-30T00:00:00\", \"2005-10-31T00:00:00\", \"2005-11-30T00:00:00\", \"2005-12-31T00:00:00\", \"2006-01-31T00:00:00\", \"2006-02-28T00:00:00\", \"2006-03-31T00:00:00\", \"2006-04-30T00:00:00\", \"2006-05-31T00:00:00\", \"2006-06-30T00:00:00\", \"2006-07-31T00:00:00\", \"2006-08-31T00:00:00\", \"2006-09-30T00:00:00\", \"2006-10-31T00:00:00\", \"2006-11-30T00:00:00\", \"2006-12-31T00:00:00\", \"2007-01-31T00:00:00\", \"2007-02-28T00:00:00\", \"2007-03-31T00:00:00\", \"2007-04-30T00:00:00\", \"2007-05-31T00:00:00\", \"2007-06-30T00:00:00\", \"2007-07-31T00:00:00\", \"2007-08-31T00:00:00\", \"2007-09-30T00:00:00\", \"2007-10-31T00:00:00\", \"2007-11-30T00:00:00\", \"2007-12-31T00:00:00\", \"2008-01-31T00:00:00\", \"2008-02-29T00:00:00\", \"2008-03-31T00:00:00\", \"2008-04-30T00:00:00\", \"2008-05-31T00:00:00\", \"2008-06-30T00:00:00\", \"2008-07-31T00:00:00\", \"2008-08-31T00:00:00\", \"2008-09-30T00:00:00\", \"2008-10-31T00:00:00\", \"2008-11-30T00:00:00\", \"2008-12-31T00:00:00\", \"2009-01-31T00:00:00\", \"2009-02-28T00:00:00\", \"2009-03-31T00:00:00\", \"2009-04-30T00:00:00\", \"2009-05-31T00:00:00\", \"2009-06-30T00:00:00\", \"2009-07-31T00:00:00\", \"2009-08-31T00:00:00\", \"2009-09-30T00:00:00\", \"2009-10-31T00:00:00\", \"2009-11-30T00:00:00\", \"2009-12-31T00:00:00\", \"2010-01-31T00:00:00\", \"2010-02-28T00:00:00\", \"2010-03-31T00:00:00\", \"2010-04-30T00:00:00\", \"2010-05-31T00:00:00\", \"2010-06-30T00:00:00\", \"2010-07-31T00:00:00\", \"2010-08-31T00:00:00\", \"2010-09-30T00:00:00\", \"2010-10-31T00:00:00\", \"2010-11-30T00:00:00\", \"2010-12-31T00:00:00\", \"2011-01-31T00:00:00\", \"2011-02-28T00:00:00\", \"2011-03-31T00:00:00\", \"2011-04-30T00:00:00\", \"2011-05-31T00:00:00\", \"2011-06-30T00:00:00\", \"2011-07-31T00:00:00\", \"2011-08-31T00:00:00\", \"2011-09-30T00:00:00\", \"2011-10-31T00:00:00\", \"2011-11-30T00:00:00\", \"2011-12-31T00:00:00\", \"2012-01-31T00:00:00\", \"2012-02-29T00:00:00\", \"2012-03-31T00:00:00\", \"2012-04-30T00:00:00\", \"2012-05-31T00:00:00\", \"2012-06-30T00:00:00\", \"2012-07-31T00:00:00\", \"2012-08-31T00:00:00\", \"2012-09-30T00:00:00\", \"2012-10-31T00:00:00\", \"2012-11-30T00:00:00\", \"2012-12-31T00:00:00\", \"2013-01-31T00:00:00\", \"2013-02-28T00:00:00\", \"2013-03-31T00:00:00\", \"2013-04-30T00:00:00\", \"2013-05-31T00:00:00\", \"2013-06-30T00:00:00\", \"2013-07-31T00:00:00\", \"2013-08-31T00:00:00\", \"2013-09-30T00:00:00\", \"2013-10-31T00:00:00\", \"2013-11-30T00:00:00\", \"2013-12-31T00:00:00\", \"2014-01-31T00:00:00\", \"2014-02-28T00:00:00\", \"2014-03-31T00:00:00\", \"2014-04-30T00:00:00\", \"2014-05-31T00:00:00\", \"2014-06-30T00:00:00\", \"2014-07-31T00:00:00\", \"2014-08-31T00:00:00\", \"2014-09-30T00:00:00\", \"2014-10-31T00:00:00\", \"2014-11-30T00:00:00\", \"2014-12-31T00:00:00\", \"2015-01-31T00:00:00\", \"2015-02-28T00:00:00\", \"2015-03-31T00:00:00\", \"2015-04-30T00:00:00\", \"2015-05-31T00:00:00\", \"2015-06-30T00:00:00\", \"2015-07-31T00:00:00\", \"2015-08-31T00:00:00\", \"2015-09-30T00:00:00\", \"2015-10-31T00:00:00\", \"2015-11-30T00:00:00\", \"2015-12-31T00:00:00\", \"2016-01-31T00:00:00\", \"2016-02-29T00:00:00\", \"2016-03-31T00:00:00\", \"2016-04-30T00:00:00\", \"2016-05-31T00:00:00\", \"2016-06-30T00:00:00\", \"2016-07-31T00:00:00\", \"2016-08-31T00:00:00\", \"2016-09-30T00:00:00\", \"2016-10-31T00:00:00\", \"2016-11-30T00:00:00\", \"2016-12-31T00:00:00\", \"2017-01-31T00:00:00\", \"2017-02-28T00:00:00\", \"2017-03-31T00:00:00\", \"2017-04-30T00:00:00\", \"2017-05-31T00:00:00\", \"2017-06-30T00:00:00\", \"2017-07-31T00:00:00\", \"2017-08-31T00:00:00\", \"2017-09-30T00:00:00\", \"2017-10-31T00:00:00\", \"2017-11-30T00:00:00\", \"2017-12-31T00:00:00\", \"2018-01-31T00:00:00\", \"2018-02-28T00:00:00\", \"2018-03-31T00:00:00\", \"2018-04-30T00:00:00\", \"2018-05-31T00:00:00\", \"2018-06-30T00:00:00\", \"2018-07-31T00:00:00\", \"2018-08-31T00:00:00\", \"2018-09-30T00:00:00\", \"2018-10-31T00:00:00\", \"2018-11-30T00:00:00\", \"2018-12-31T00:00:00\", \"2019-01-31T00:00:00\", \"2019-02-28T00:00:00\", \"2019-03-31T00:00:00\", \"2019-04-30T00:00:00\"], \"xaxis\": \"x2\", \"y\": [397.0, 2.0, 0.0, 0.0, 0.0, 3.0, 3.0, 14.0, 3.0, 0.0, 27.0, 3.0, 439.0, 3.0, 0.0, 50.0, 39.0, 8.0, 352.0, 200.0, 203.0, 172.0, 166.0, 1046.0, 1307.0, 199.0, 130.0, 77.0, 144.0, 104.0, 256.0, 272.0, 126.0, 1455.0, 146.0, 1071.0, 1211.0, 2417.0, 12723.0, 592.0, 1169.0, 179.0, 2564.0, 92.0, 5054.0, 126.0, 1489.0, 254.0, 26.0, 10493.0, 296.0, 725.0, 219519.0, 641.0, 501.0, 2300.0, 1987.0, 2055.0, 43.0, 157.0, 625.0, 166.0, 88.0, 2817.0, 153.0, 148.0, 132.0, 517.0, 111.0, 245.0, 451.0, 8.0, 37.0, 54.0, 163.0, 17.0, 109.0, 21.0, 130.0, 116.0, 87.0, 250.0, 417.0, 745.0, 152.0, 7189.0, 589.0, 426.0, 60.0, 45.0, 14.0, 39.0, 109.0, 86.0, 261.0, 33.0, 8.0, 37.0, 506.0, 172.0, 63.0, 17.0, 17.0, 55.0, 9.0, 584.0, 32.0, 185.0, 35.0, 415.0, 104.0, 36.0, 29.0, 70.0, 77.0, 4.0, 3.0, 343.0, 4.0, 97.0, 31.0, 33.0, 364.0, 44.0, 3.0, 39.0, 68.0, 178.0, 245.0, 100.0, 369.0, 380.0, 91.0, 211.0, 9.0, 24.0, 131.0, 37.0, 91.0, 113.0, 21.0, 14.0, 70.0, 109.0, 25.0, 30.0, 332.0, 724.0, 50.0, 19.0, 240.0, 8.0, 1.0, 27.0, 10.0, 113.0, 10.0, 7.0, 3.0, 193.0, 20.0, 29.0, 14.0, 20.0, 54.0, 62.0, 137.0, 67.0, 19.0, 73.0, 47.0, 18.0, 41.0, 86.0, 15.0, 53.0, 16.0, 90.0, 16.0, 231.0, 174.0, 3.0], \"yaxis\": \"y2\"}, {\"marker\": {\"color\": \"rgba(0, 0, 0, 1)\"}, \"name\": \"Conflict Score\", \"type\": \"bar\", \"x\": [\"2005-04-30T00:00:00\", \"2005-06-30T00:00:00\", \"2005-09-30T00:00:00\", \"2005-10-31T00:00:00\", \"2005-11-30T00:00:00\", \"2005-12-31T00:00:00\", \"2006-01-31T00:00:00\", \"2006-02-28T00:00:00\", \"2006-03-31T00:00:00\", \"2006-04-30T00:00:00\", \"2006-05-31T00:00:00\", \"2006-06-30T00:00:00\", \"2006-07-31T00:00:00\", \"2006-08-31T00:00:00\", \"2006-09-30T00:00:00\", \"2006-10-31T00:00:00\", \"2006-11-30T00:00:00\", \"2006-12-31T00:00:00\", \"2007-01-31T00:00:00\", \"2007-02-28T00:00:00\", \"2007-03-31T00:00:00\", \"2007-04-30T00:00:00\", \"2007-05-31T00:00:00\", \"2007-06-30T00:00:00\", \"2007-07-31T00:00:00\", \"2007-08-31T00:00:00\", \"2007-09-30T00:00:00\", \"2007-10-31T00:00:00\", \"2007-11-30T00:00:00\", \"2007-12-31T00:00:00\", \"2008-01-31T00:00:00\", \"2008-02-29T00:00:00\", \"2008-03-31T00:00:00\", \"2008-04-30T00:00:00\", \"2008-05-31T00:00:00\", \"2008-06-30T00:00:00\", \"2008-07-31T00:00:00\", \"2008-08-31T00:00:00\", \"2008-09-30T00:00:00\", \"2008-10-31T00:00:00\", \"2008-11-30T00:00:00\", \"2008-12-31T00:00:00\", \"2009-01-31T00:00:00\", \"2009-02-28T00:00:00\", \"2009-03-31T00:00:00\", \"2009-04-30T00:00:00\", \"2009-05-31T00:00:00\", \"2009-06-30T00:00:00\", \"2009-07-31T00:00:00\", \"2009-08-31T00:00:00\", \"2009-09-30T00:00:00\", \"2009-10-31T00:00:00\", \"2009-11-30T00:00:00\", \"2009-12-31T00:00:00\", \"2010-01-31T00:00:00\", \"2010-02-28T00:00:00\", \"2010-03-31T00:00:00\", \"2010-04-30T00:00:00\", \"2010-05-31T00:00:00\", \"2010-06-30T00:00:00\", \"2010-07-31T00:00:00\", \"2010-08-31T00:00:00\", \"2010-09-30T00:00:00\", \"2010-10-31T00:00:00\", \"2010-11-30T00:00:00\", \"2010-12-31T00:00:00\", \"2011-01-31T00:00:00\", \"2011-02-28T00:00:00\", \"2011-03-31T00:00:00\", \"2011-04-30T00:00:00\", \"2011-05-31T00:00:00\", \"2011-06-30T00:00:00\", \"2011-07-31T00:00:00\", \"2011-08-31T00:00:00\", \"2011-09-30T00:00:00\", \"2011-11-30T00:00:00\", \"2011-12-31T00:00:00\", \"2012-01-31T00:00:00\", \"2012-02-29T00:00:00\", \"2012-03-31T00:00:00\", \"2012-04-30T00:00:00\", \"2012-05-31T00:00:00\", \"2012-06-30T00:00:00\", \"2012-07-31T00:00:00\", \"2012-08-31T00:00:00\", \"2012-09-30T00:00:00\", \"2012-10-31T00:00:00\", \"2012-11-30T00:00:00\", \"2012-12-31T00:00:00\", \"2013-01-31T00:00:00\", \"2013-02-28T00:00:00\", \"2013-03-31T00:00:00\", \"2013-04-30T00:00:00\", \"2013-05-31T00:00:00\", \"2013-06-30T00:00:00\", \"2013-07-31T00:00:00\", \"2013-08-31T00:00:00\", \"2013-09-30T00:00:00\", \"2013-10-31T00:00:00\", \"2013-11-30T00:00:00\", \"2013-12-31T00:00:00\", \"2014-01-31T00:00:00\", \"2014-02-28T00:00:00\", \"2014-03-31T00:00:00\", \"2014-04-30T00:00:00\", \"2014-05-31T00:00:00\", \"2014-06-30T00:00:00\", \"2014-08-31T00:00:00\", \"2014-09-30T00:00:00\", \"2014-10-31T00:00:00\", \"2014-11-30T00:00:00\", \"2014-12-31T00:00:00\", \"2015-01-31T00:00:00\", \"2015-02-28T00:00:00\", \"2015-03-31T00:00:00\", \"2015-04-30T00:00:00\", \"2015-05-31T00:00:00\", \"2015-06-30T00:00:00\", \"2015-07-31T00:00:00\", \"2015-08-31T00:00:00\", \"2015-10-31T00:00:00\", \"2015-11-30T00:00:00\", \"2015-12-31T00:00:00\", \"2016-01-31T00:00:00\", \"2016-02-29T00:00:00\", \"2016-03-31T00:00:00\", \"2016-04-30T00:00:00\", \"2016-05-31T00:00:00\", \"2016-06-30T00:00:00\", \"2016-07-31T00:00:00\", \"2016-08-31T00:00:00\", \"2016-09-30T00:00:00\", \"2016-10-31T00:00:00\", \"2016-11-30T00:00:00\", \"2016-12-31T00:00:00\", \"2017-01-31T00:00:00\", \"2017-02-28T00:00:00\", \"2017-03-31T00:00:00\", \"2017-04-30T00:00:00\", \"2017-05-31T00:00:00\", \"2017-06-30T00:00:00\", \"2017-07-31T00:00:00\", \"2017-08-31T00:00:00\", \"2017-09-30T00:00:00\", \"2017-10-31T00:00:00\", \"2017-11-30T00:00:00\", \"2017-12-31T00:00:00\", \"2018-01-31T00:00:00\", \"2018-02-28T00:00:00\", \"2018-03-31T00:00:00\", \"2018-04-30T00:00:00\", \"2018-05-31T00:00:00\", \"2018-06-30T00:00:00\", \"2018-07-31T00:00:00\", \"2018-08-31T00:00:00\", \"2018-09-30T00:00:00\", \"2018-10-31T00:00:00\", \"2018-11-30T00:00:00\", \"2018-12-31T00:00:00\", \"2019-01-31T00:00:00\", \"2019-02-28T00:00:00\", \"2019-03-31T00:00:00\", \"2019-04-30T00:00:00\"], \"xaxis\": \"x\", \"y\": [1.4165460034809778, 0.8464791331294366, 1.9417500521372508, 0.7091432089458075, 0.8272683916790681, 0.5249298991038163, 0.9251489528626795, 1.3408471414034075, 1.694320313260298, 0.6739322022186494, 0.7810879558666732, 0.5931465734589398, 0.5669878558011348, 0.5097516477357927, 1.5200787974902457, 0.5121198213036486, 0.6538792346419732, 1.116519812580873, 0.618573537723965, 1.1680497784166781, 0.5818229882409706, 0.8521174890062215, 1.3704436786202228, 1.1620335699503967, 1.4943777840524997, 1.1236524509647297, 0.9554956815781083, 0.5996481932342294, 0.6212570350255471, 0.6768274962572226, 1.3952309106122462, 0.5936957513501386, 0.734079247889247, 1.7471917340928167, 1.1644316589752663, 0.7677354718270261, 2.1668268778469004, 0.8037708837919172, 0.2696053600952716, 1.5097178495308399, 0.5310367270677127, 0.885932810781598, 0.5157824451241698, 1.2273438966166548, 0.7441770632560354, 1.2521872142151091, 0.7744772324788564, 1.7380682555263973, 0.6949029181013812, 0.6116412051593906, 0.8021297866782624, 0.6657815644667416, 0.6249242930127211, 0.5726102318077078, 1.7775232670497463, 0.4903654039406333, 0.47461897291917093, 0.6786265641474023, 0.7684112568387342, 0.827721857623851, 0.6742924872398082, 0.5799082302176608, 1.0244054685216086, 0.5860322828515457, 0.6372105060050812, 0.5175220743560579, 0.7066242672613667, 0.4902497983384048, 0.9397000662769156, 1.1374707063128204, 0.7906515673121872, 1.0192161193906033, 0.8287453734280795, 0.47683954655185457, 0.5049487672456904, 0.6464588176440456, 0.36162155940569635, 1.6509977583689706, 0.7435016907547302, 0.5376519011350505, 0.5695943808775291, 0.7012801044003383, 0.6695648077275484, 0.5129564147627572, 0.6751016494059552, 0.5327170036970384, 0.638456092152163, 0.4620248436868758, 0.5703774518137568, 0.6007296992220111, 0.5761279635078591, 0.49589357553384394, 0.8540252346760167, 0.46383024260222194, 0.4533833819123019, 0.6255977180329706, 0.5370837899990015, 0.6128319682499634, 0.5329887879927528, 0.4517167626712071, 0.4558017241987365, 0.5754208502431211, 0.5300543461337843, 0.5692750335067175, 0.6097134602023659, 0.44622897275563866, 0.4498748949916228, 0.5685642812256311, 0.9027419744450064, 0.4434877146162837, 0.5290665822579791, 0.6220521993577991, 0.5096041872712689, 0.7560353854259222, 0.4474537004847582, 0.7209625898404496, 0.5907750064344288, 0.983570272681889, 0.8354502370437388, 0.9174920643029718, 0.494310888430163, 0.8082165000387551, 0.7503718036843787, 0.5443691672503221, 0.4761705841493509, 0.7801580576167572, 0.6408074262285, 0.9923941477398602, 0.8035322924416519, 0.733706146932177, 0.5817275113573006, 1.1345295824029176, 0.5423575898065957, 0.49800240374185056, 0.6370156622396388, 0.7033435180687512, 0.4583647189911974, 0.5866850433840851, 0.4716662713966595, 0.5106350485769333, 0.47603076925635607, 0.4683239545288658, 0.4205260060402296, 0.8758000949700888, 0.8836779548924325, 0.48266552003298796, 0.49761171307983726, 0.494947520088601, 0.2997662443517668, 0.4623268633140712, 1.1167248424863954, 1.0778641215648923, 0.5302790324895038, 0.48886210745216935, 0.9991428307681011, 0.701005207264594, 0.5284299453097931, 0.6116800164839824, 0.22524020157270266, 0.669669763566832, 0.48621719472288333, 1.0678623749349139, 0.5945506105187932], \"yaxis\": \"y\"}],\n",
       "                        {\"barmode\": \"group\", \"height\": 600, \"hovermode\": \"closest\", \"legend\": {\"orientation\": \"h\", \"x\": 0.5, \"y\": 1.2}, \"showlegend\": true, \"template\": {\"data\": {\"bar\": [{\"error_x\": {\"color\": \"#2a3f5f\"}, \"error_y\": {\"color\": \"#2a3f5f\"}, \"marker\": {\"line\": {\"color\": \"#E5ECF6\", \"width\": 0.5}}, \"type\": \"bar\"}], \"barpolar\": [{\"marker\": {\"line\": {\"color\": \"#E5ECF6\", \"width\": 0.5}}, \"type\": \"barpolar\"}], \"carpet\": [{\"aaxis\": {\"endlinecolor\": \"#2a3f5f\", \"gridcolor\": \"white\", \"linecolor\": \"white\", \"minorgridcolor\": \"white\", \"startlinecolor\": \"#2a3f5f\"}, \"baxis\": {\"endlinecolor\": \"#2a3f5f\", \"gridcolor\": \"white\", \"linecolor\": \"white\", \"minorgridcolor\": \"white\", \"startlinecolor\": \"#2a3f5f\"}, \"type\": \"carpet\"}], \"choropleth\": [{\"colorbar\": {\"outlinewidth\": 0, \"ticks\": \"\"}, \"type\": \"choropleth\"}], \"contour\": [{\"colorbar\": {\"outlinewidth\": 0, \"ticks\": \"\"}, \"colorscale\": [[0.0, \"#0d0887\"], [0.1111111111111111, \"#46039f\"], [0.2222222222222222, \"#7201a8\"], [0.3333333333333333, \"#9c179e\"], [0.4444444444444444, \"#bd3786\"], [0.5555555555555556, \"#d8576b\"], [0.6666666666666666, \"#ed7953\"], [0.7777777777777778, \"#fb9f3a\"], [0.8888888888888888, \"#fdca26\"], [1.0, \"#f0f921\"]], \"type\": \"contour\"}], \"contourcarpet\": [{\"colorbar\": {\"outlinewidth\": 0, \"ticks\": \"\"}, \"type\": \"contourcarpet\"}], \"heatmap\": [{\"colorbar\": {\"outlinewidth\": 0, \"ticks\": \"\"}, \"colorscale\": [[0.0, \"#0d0887\"], [0.1111111111111111, \"#46039f\"], [0.2222222222222222, \"#7201a8\"], [0.3333333333333333, \"#9c179e\"], [0.4444444444444444, \"#bd3786\"], [0.5555555555555556, \"#d8576b\"], [0.6666666666666666, \"#ed7953\"], [0.7777777777777778, \"#fb9f3a\"], [0.8888888888888888, \"#fdca26\"], [1.0, \"#f0f921\"]], \"type\": \"heatmap\"}], \"heatmapgl\": [{\"colorbar\": {\"outlinewidth\": 0, \"ticks\": \"\"}, \"colorscale\": [[0.0, \"#0d0887\"], [0.1111111111111111, \"#46039f\"], [0.2222222222222222, \"#7201a8\"], [0.3333333333333333, \"#9c179e\"], [0.4444444444444444, \"#bd3786\"], [0.5555555555555556, \"#d8576b\"], [0.6666666666666666, \"#ed7953\"], [0.7777777777777778, \"#fb9f3a\"], [0.8888888888888888, \"#fdca26\"], [1.0, \"#f0f921\"]], \"type\": \"heatmapgl\"}], \"histogram\": [{\"marker\": {\"colorbar\": {\"outlinewidth\": 0, \"ticks\": \"\"}}, \"type\": \"histogram\"}], \"histogram2d\": [{\"colorbar\": {\"outlinewidth\": 0, \"ticks\": \"\"}, \"colorscale\": [[0.0, \"#0d0887\"], [0.1111111111111111, \"#46039f\"], [0.2222222222222222, \"#7201a8\"], [0.3333333333333333, \"#9c179e\"], [0.4444444444444444, \"#bd3786\"], [0.5555555555555556, \"#d8576b\"], [0.6666666666666666, \"#ed7953\"], [0.7777777777777778, \"#fb9f3a\"], [0.8888888888888888, \"#fdca26\"], [1.0, \"#f0f921\"]], \"type\": \"histogram2d\"}], \"histogram2dcontour\": [{\"colorbar\": {\"outlinewidth\": 0, \"ticks\": \"\"}, \"colorscale\": [[0.0, \"#0d0887\"], [0.1111111111111111, \"#46039f\"], [0.2222222222222222, \"#7201a8\"], [0.3333333333333333, \"#9c179e\"], [0.4444444444444444, \"#bd3786\"], [0.5555555555555556, \"#d8576b\"], [0.6666666666666666, \"#ed7953\"], [0.7777777777777778, \"#fb9f3a\"], [0.8888888888888888, \"#fdca26\"], [1.0, \"#f0f921\"]], \"type\": \"histogram2dcontour\"}], \"mesh3d\": [{\"colorbar\": {\"outlinewidth\": 0, \"ticks\": \"\"}, \"type\": \"mesh3d\"}], \"parcoords\": [{\"line\": {\"colorbar\": {\"outlinewidth\": 0, \"ticks\": \"\"}}, \"type\": \"parcoords\"}], \"pie\": [{\"automargin\": true, \"type\": \"pie\"}], \"scatter\": [{\"marker\": {\"colorbar\": {\"outlinewidth\": 0, \"ticks\": \"\"}}, \"type\": \"scatter\"}], \"scatter3d\": [{\"line\": {\"colorbar\": {\"outlinewidth\": 0, \"ticks\": \"\"}}, \"marker\": {\"colorbar\": {\"outlinewidth\": 0, \"ticks\": \"\"}}, \"type\": \"scatter3d\"}], \"scattercarpet\": [{\"marker\": {\"colorbar\": {\"outlinewidth\": 0, \"ticks\": \"\"}}, \"type\": \"scattercarpet\"}], \"scattergeo\": [{\"marker\": {\"colorbar\": {\"outlinewidth\": 0, \"ticks\": \"\"}}, \"type\": \"scattergeo\"}], \"scattergl\": [{\"marker\": {\"colorbar\": {\"outlinewidth\": 0, \"ticks\": \"\"}}, \"type\": \"scattergl\"}], \"scattermapbox\": [{\"marker\": {\"colorbar\": {\"outlinewidth\": 0, \"ticks\": \"\"}}, \"type\": \"scattermapbox\"}], \"scatterpolar\": [{\"marker\": {\"colorbar\": {\"outlinewidth\": 0, \"ticks\": \"\"}}, \"type\": \"scatterpolar\"}], \"scatterpolargl\": [{\"marker\": {\"colorbar\": {\"outlinewidth\": 0, \"ticks\": \"\"}}, \"type\": \"scatterpolargl\"}], \"scatterternary\": [{\"marker\": {\"colorbar\": {\"outlinewidth\": 0, \"ticks\": \"\"}}, \"type\": \"scatterternary\"}], \"surface\": [{\"colorbar\": {\"outlinewidth\": 0, \"ticks\": \"\"}, \"colorscale\": [[0.0, \"#0d0887\"], [0.1111111111111111, \"#46039f\"], [0.2222222222222222, \"#7201a8\"], [0.3333333333333333, \"#9c179e\"], [0.4444444444444444, \"#bd3786\"], [0.5555555555555556, \"#d8576b\"], [0.6666666666666666, \"#ed7953\"], [0.7777777777777778, \"#fb9f3a\"], [0.8888888888888888, \"#fdca26\"], [1.0, \"#f0f921\"]], \"type\": \"surface\"}], \"table\": [{\"cells\": {\"fill\": {\"color\": \"#EBF0F8\"}, \"line\": {\"color\": \"white\"}}, \"header\": {\"fill\": {\"color\": \"#C8D4E3\"}, \"line\": {\"color\": \"white\"}}, \"type\": \"table\"}]}, \"layout\": {\"annotationdefaults\": {\"arrowcolor\": \"#2a3f5f\", \"arrowhead\": 0, \"arrowwidth\": 1}, \"coloraxis\": {\"colorbar\": {\"outlinewidth\": 0, \"ticks\": \"\"}}, \"colorscale\": {\"diverging\": [[0, \"#8e0152\"], [0.1, \"#c51b7d\"], [0.2, \"#de77ae\"], [0.3, \"#f1b6da\"], [0.4, \"#fde0ef\"], [0.5, \"#f7f7f7\"], [0.6, \"#e6f5d0\"], [0.7, \"#b8e186\"], [0.8, \"#7fbc41\"], [0.9, \"#4d9221\"], [1, \"#276419\"]], \"sequential\": [[0.0, \"#0d0887\"], [0.1111111111111111, \"#46039f\"], [0.2222222222222222, \"#7201a8\"], [0.3333333333333333, \"#9c179e\"], [0.4444444444444444, \"#bd3786\"], [0.5555555555555556, \"#d8576b\"], [0.6666666666666666, \"#ed7953\"], [0.7777777777777778, \"#fb9f3a\"], [0.8888888888888888, \"#fdca26\"], [1.0, \"#f0f921\"]], \"sequentialminus\": [[0.0, \"#0d0887\"], [0.1111111111111111, \"#46039f\"], [0.2222222222222222, \"#7201a8\"], [0.3333333333333333, \"#9c179e\"], [0.4444444444444444, \"#bd3786\"], [0.5555555555555556, \"#d8576b\"], [0.6666666666666666, \"#ed7953\"], [0.7777777777777778, \"#fb9f3a\"], [0.8888888888888888, \"#fdca26\"], [1.0, \"#f0f921\"]]}, \"colorway\": [\"#636efa\", \"#EF553B\", \"#00cc96\", \"#ab63fa\", \"#FFA15A\", \"#19d3f3\", \"#FF6692\", \"#B6E880\", \"#FF97FF\", \"#FECB52\"], \"font\": {\"color\": \"#2a3f5f\"}, \"geo\": {\"bgcolor\": \"white\", \"lakecolor\": \"white\", \"landcolor\": \"#E5ECF6\", \"showlakes\": true, \"showland\": true, \"subunitcolor\": \"white\"}, \"hoverlabel\": {\"align\": \"left\"}, \"hovermode\": \"closest\", \"mapbox\": {\"style\": \"light\"}, \"paper_bgcolor\": \"white\", \"plot_bgcolor\": \"#E5ECF6\", \"polar\": {\"angularaxis\": {\"gridcolor\": \"white\", \"linecolor\": \"white\", \"ticks\": \"\"}, \"bgcolor\": \"#E5ECF6\", \"radialaxis\": {\"gridcolor\": \"white\", \"linecolor\": \"white\", \"ticks\": \"\"}}, \"scene\": {\"xaxis\": {\"backgroundcolor\": \"#E5ECF6\", \"gridcolor\": \"white\", \"gridwidth\": 2, \"linecolor\": \"white\", \"showbackground\": true, \"ticks\": \"\", \"zerolinecolor\": \"white\"}, \"yaxis\": {\"backgroundcolor\": \"#E5ECF6\", \"gridcolor\": \"white\", \"gridwidth\": 2, \"linecolor\": \"white\", \"showbackground\": true, \"ticks\": \"\", \"zerolinecolor\": \"white\"}, \"zaxis\": {\"backgroundcolor\": \"#E5ECF6\", \"gridcolor\": \"white\", \"gridwidth\": 2, \"linecolor\": \"white\", \"showbackground\": true, \"ticks\": \"\", \"zerolinecolor\": \"white\"}}, \"shapedefaults\": {\"line\": {\"color\": \"#2a3f5f\"}}, \"ternary\": {\"aaxis\": {\"gridcolor\": \"white\", \"linecolor\": \"white\", \"ticks\": \"\"}, \"baxis\": {\"gridcolor\": \"white\", \"linecolor\": \"white\", \"ticks\": \"\"}, \"bgcolor\": \"#E5ECF6\", \"caxis\": {\"gridcolor\": \"white\", \"linecolor\": \"white\", \"ticks\": \"\"}}, \"title\": {\"x\": 0.05}, \"xaxis\": {\"automargin\": true, \"gridcolor\": \"white\", \"linecolor\": \"white\", \"ticks\": \"\", \"title\": {\"standoff\": 15}, \"zerolinecolor\": \"white\", \"zerolinewidth\": 2}, \"yaxis\": {\"automargin\": true, \"gridcolor\": \"white\", \"linecolor\": \"white\", \"ticks\": \"\", \"title\": {\"standoff\": 15}, \"zerolinecolor\": \"white\", \"zerolinewidth\": 2}}}, \"xaxis\": {\"anchor\": \"y\", \"domain\": [0.0, 1.0], \"gridwidth\": 2, \"ticklen\": 5, \"title\": {\"text\": \"Monthly\"}, \"zeroline\": true}, \"xaxis2\": {\"anchor\": \"y2\", \"domain\": [0.0, 1.0], \"matches\": \"x\", \"showticklabels\": false}, \"yaxis\": {\"anchor\": \"x\", \"domain\": [0.0, 0.475], \"title\": {\"text\": \"Conflict Scores\"}}, \"yaxis2\": {\"anchor\": \"x2\", \"domain\": [0.525, 1.0], \"title\": {\"text\": \"Actions\"}}},\n",
       "                        {\"responsive\": true}\n",
       "                    ).then(function(){\n",
       "                            \n",
       "var gd = document.getElementById('eae55eb5-b4ab-4ce2-aab4-e06a03875be1');\n",
       "var x = new MutationObserver(function (mutations, observer) {{\n",
       "        var display = window.getComputedStyle(gd).display;\n",
       "        if (!display || display === 'none') {{\n",
       "            console.log([gd, 'removed!']);\n",
       "            Plotly.purge(gd);\n",
       "            observer.disconnect();\n",
       "        }}\n",
       "}});\n",
       "\n",
       "// Listen for the removal of the full notebook cells\n",
       "var notebookContainer = gd.closest('#notebook-container');\n",
       "if (notebookContainer) {{\n",
       "    x.observe(notebookContainer, {childList: true});\n",
       "}}\n",
       "\n",
       "// Listen for the clearing of the current output cell\n",
       "var outputEl = gd.closest('.output');\n",
       "if (outputEl) {{\n",
       "    x.observe(outputEl, {childList: true});\n",
       "}}\n",
       "\n",
       "                        })\n",
       "                };\n",
       "                });\n",
       "            </script>\n",
       "        </div>"
      ]
     },
     "metadata": {},
     "output_type": "display_data"
    },
    {
     "name": "stdout",
     "output_type": "stream",
     "text": [
      "Stored 'total_actions' (DataFrame)\n"
     ]
    }
   ],
   "source": [
    "### --------------------------------------------------------------------------- ###\n",
    "### TRY YOURSELF! THIS IS WHAT WILL HAPPEN WHEN YOU CLICK 'Load Actions' BUTTON ###\n",
    "### --------------------------------------------------------------------------- ###\n",
    "\n",
    "## Create a WikiWho instance, which is an API; and use ConflictManager to get         ##\n",
    "## actions for given page id; more details see:                                       ##\n",
    "## https://github.com/gesiscss/wikiwho_wrapper/blob/master/wikiwho_wrapper/api.py     ##\n",
    "## https://github.com/gesiscss/wikiwho_wrapper/blob/master/wikiwho_wrapper/wikiwho.py ##\n",
    "## https://github.com/gesiscss/wikiwho_demo_new/blob/master/metrics/conflict.py       ##\n",
    "# wikiwho_api = WikiWho(lng=abbreviation(languageSelection.value))\n",
    "# print(\"Downloading all_content from the WikiWhoApi...\")\n",
    "# all_content = wikiwho_api.dv.all_content(the_page['page_id'])\n",
    "# print(\"Downloading revisions from the WikiWhoApi...\")\n",
    "# all_revisions = wikiwho_api.dv.rev_ids_of_article(the_page['page_id'])\n",
    "# clear_output()\n",
    "\n",
    "# conflict_manager = ConflictManager(all_content.copy(),\n",
    "#                                all_revisions.copy(), \n",
    "#                                lng=abbreviation(languageSelection.value), \n",
    "#                                include_stopwords=True)\n",
    "\n",
    "# conflict_manager.calculate()\n",
    "# clear_output()\n",
    "\n",
    "# Store the original data into variable \"token_sources\", it includes\n",
    "# \"tokens_all\" / \"tokens\" (all actions of an article, including/excluding stopwords)\n",
    "# \"elegibles_all\" / \"elegibles\" (elegible actions of an article, including/excluding stopwords)\n",
    "# \"conflicts_all\" / \"conflicts\" (conflict actions of an article, including/excluding stopwords)\n",
    "# \"wiki_dv\" (a WikipediaDV instance for retrieving editors' names given their IDs)\n",
    "# token_sources = conflict_manager.source\n",
    "# token_sources[\"wiki_dv\"] = WikipediaDV(WikipediaAPI(lng=abbreviation(languageSelection.value)))\n",
    "token_sources = sources.copy()\n",
    "all_revisions = revisions.copy()\n",
    "\n",
    "## Create an ActionsListener instance to get aggregated actions. More details see:            ##\n",
    "## https://github.com/gesiscss/wikiwho_demo_new/blob/master/visualization/actions_listener.py ##\n",
    "actions_listener = ActionsListener(sources=token_sources, lng=abbreviation(languageSelection.value))\n",
    "actions_listener.get_main()\n",
    "clear_output()\n",
    "\n",
    "# Aggregation data for actions.\n",
    "total_actions = actions_listener.df.copy()\n",
    "\n",
    "# adds/dels/reins actions (including stopwords)\n",
    "actions_inc = actions_listener.tokens_group_all.copy()\n",
    "\n",
    "# Editors' names.\n",
    "grabbed_names = actions_listener.editors.copy()\n",
    "\n",
    "\n",
    "## Visualization, core visual code lies in ActionsListener, then the interact function     ##\n",
    "## makes it interactive, mode details see:                                                 ##\n",
    "## https://github.com/gesiscss/wikiwho_demo/blob/master/visualization/actions_listener.py  ##\n",
    "\n",
    "# This is the page you used\n",
    "print('The page that is being used:', the_page['title'], f'({abbreviation(languageSelection.value).upper()})')\n",
    "\n",
    "# Which types do those actions have?\n",
    "actions_types = (total_actions.columns[5:14]).values.tolist()\n",
    "\n",
    "# Visualization: try yourself by coding!\n",
    "begin_date = date(2002, 3, 1)\n",
    "end_date = date(2019, 4, 1)\n",
    "editor_name = 'All'\n",
    "frequency = 'Monthly' # \"Yearly\", \"Monthly\", \"Weekly\", \"Daily\"\n",
    "black_line = 'adds' # Choose one from 'actions_types'. Note that 'black_line doesn't have 'None' option but others have.\n",
    "red_line = 'dels'\n",
    "blue_line = 'None'\n",
    "green_line = 'None'\n",
    "black_conflict = \"Conflict Score\"  # 'Conflict Score', 'Absolute Conflict Score', 'Total Elegible Actions'\n",
    "red_conflict = \"None\"\n",
    "\n",
    "actions_listener.listen(\n",
    "    _range1 = begin_date,\n",
    "    _range2 = end_date,\n",
    "    editor = editor_name,\n",
    "    granularity = frequency,\n",
    "    black = black_line,\n",
    "    red = red_line,\n",
    "    blue = blue_line,\n",
    "    green = green_line,\n",
    "    black_conflict = black_conflict,\n",
    "    red_conflict = red_conflict\n",
    ")\n",
    "\n",
    "# Store the variable total_actions for the next notebooks.\n",
    "%store total_actions"
   ]
  },
  {
   "cell_type": "markdown",
   "metadata": {},
   "source": [
    "## A.2 Who is responsible for these changes?"
   ]
  },
  {
   "cell_type": "code",
   "execution_count": 9,
   "metadata": {
    "hide_input": true
   },
   "outputs": [
    {
     "data": {
      "application/vnd.jupyter.widget-view+json": {
       "model_id": "76fad51bad344bc98ae0c5f58aafc970",
       "version_major": 2,
       "version_minor": 0
      },
      "text/plain": [
       "Button(description='Get Editors Rank', layout=Layout(width='160px'), style=ButtonStyle())"
      ]
     },
     "metadata": {},
     "output_type": "display_data"
    },
    {
     "data": {
      "application/vnd.jupyter.widget-view+json": {
       "model_id": "1d156f3be43f46f48a3c258a7c41f92c",
       "version_major": 2,
       "version_minor": 0
      },
      "text/plain": [
       "Output()"
      ]
     },
     "metadata": {},
     "output_type": "display_data"
    }
   ],
   "source": [
    "from visualization.editors_listener import RankedEditorsListener, mark_last_day\n",
    "\n",
    "# create and display the button\n",
    "button_rank = widgets.Button(description=\"Get Editors Rank\", layout=Layout(width='160px'))\n",
    "\n",
    "display(button_rank)\n",
    "\n",
    "def on_click_rank(b):\n",
    "    with out_rank:\n",
    "        clear_output()\n",
    "        ranked_listener = RankedEditorsListener(agg_actions)\n",
    "\n",
    "        datepicker_from = widgets.DatePicker(description='Date starts', value=agg_actions['rev_time'].iloc[0], layout=Layout(width='25%'))\n",
    "        datepicker_to = widgets.DatePicker(description='Date ends', value=agg_actions['rev_time'].iloc[-1], layout=Layout(width='25%'))\n",
    "        frequency = Dropdown(description='Granularity', options=['Monthly', 'Weekly', 'Daily', 'Timestamp (Revision)'], value='Monthly')\n",
    "        top = widgets.RadioButtons(options=[5, 10, 20], value=20, description=\"Top Editors\", layout={'width': '50%'})\n",
    "\n",
    "        interact(ranked_listener.listen,\n",
    "                _range1=datepicker_from,\n",
    "                _range2=datepicker_to,\n",
    "                granularity=frequency,\n",
    "                top=top)\n",
    "        \n",
    "out_rank = Output()\n",
    "display(out_rank)\n",
    "\n",
    "# set the event\n",
    "button_rank.on_click(on_click_rank)\n",
    "\n",
    "# trigger the event with the default value\n",
    "on_click_rank(button_rank)"
   ]
  },
  {
   "cell_type": "markdown",
   "metadata": {},
   "source": [
    "## A2.1\n",
    "\n",
    "We can also provide more information for each individual editor. The table below presents several metrics for each editor under Monthly/Weekly/Daily time frames. If you want to know which revisions a particular editor has created in that month/week/day, please click that row. Then another table containing all revisions in that time frame with other relevant metrics will be provided underneath.\n",
    "Click one revision that interests you and this revision will be automatically filled in the input box in A2.2, just following next.\n",
    "<details>    \n",
    "    <summary style=\"cursor: pointer;font-weight:bold\">Columns description</summary>\n",
    "\n",
    "General information:\n",
    "- **rev_time**: The time frame within which some revisions created by an editor fall. For example, when choosing \"Monthly\" time frame, \"2020-05-31\" denotes the whole month of May, 2020; when choosing \"Weekly\" time frame, \"2020-05-10\" denotes the week from 2020-05-04 to 2020-05-10 and it is always Sunday; when choosing \"Daily\" time frame, the \"rev_time\" simply indicates \"on that day\".\n",
    "- **editor**: the name of an editor that performed an action.\n",
    "- **editor_id**: the id of the editor that inserted the token (if starts with 0|, it means that the editor is not registered, and the ip is displayed instead)\n",
    "    \n",
    "Metrics taking stopwords into consideration:\n",
    "- **adds**: Number of first-time insertions (additions).\n",
    "- **dels**: Number of deletions.\n",
    "- **reins**: Number of reinsertions.\n",
    "- **prod**: Productivity, ratio of all actions that survived at least 48h.\n",
    "- **SW_ratio**: Stopwords ratio, ratio of stopwords.\n",
    "- **revs**: Total number of the revisions created by this editor within some time frame.\n",
    "    \n",
    "Metrics excluding stopwords:\n",
    "- **conflict**: The sum of conflict scores of all actions divided by the number of elegible actions.\n",
    "- **main_op**: Main opponent, the previous editor who has the most conflict with the editor in this row, within some time frame.\n",
    "- **avg_reac_time**: Average reaction time of all elegible actions (dels + reins) of an editor within some time frame.\n",
    "\n",
    "In the second table, the definition of adds/dels/reins/prod/SW_ratio remains the same as above. For the other metrics:\n",
    "- **main_op**: (Excluding stopwords) The previous editor who has the most conflict calculated using actions in this revision.\n",
    "- **min_reac**: (Excluding stopwords) The minimum length of the reaction time in this revision.\n",
    "- **Damaging**: The probability of being damaging edits provided by [ORES](https://www.mediawiki.org/wiki/ORES#Edit_quality)\n",
    "- **Goodfaith**: The probability of being non-damaging edits provided by [ORES](https://www.mediawiki.org/wiki/ORES#Edit_quality)\n",
    "    \n",
    "</details>"
   ]
  },
  {
   "cell_type": "code",
   "execution_count": 10,
   "metadata": {
    "hide_input": true
   },
   "outputs": [
    {
     "data": {
      "application/vnd.jupyter.widget-view+json": {
       "model_id": "400552491b474896afb239d61183a1ec",
       "version_major": 2,
       "version_minor": 0
      },
      "text/plain": [
       "Button(description='Get Editors Info', layout=Layout(width='160px'), style=ButtonStyle())"
      ]
     },
     "metadata": {},
     "output_type": "display_data"
    },
    {
     "data": {
      "application/vnd.jupyter.widget-view+json": {
       "model_id": "aa151d8cda894039be0243bac8ebb449",
       "version_major": 2,
       "version_minor": 0
      },
      "text/plain": [
       "Output()"
      ]
     },
     "metadata": {},
     "output_type": "display_data"
    }
   ],
   "source": [
    "searchRev = widgets.Text(description='Rev_id:')\n",
    "\n",
    "# create and display the button\n",
    "button_a2 = widgets.Button(description=\"Get Editors Info\", layout=Layout(width='160px'))\n",
    "\n",
    "display(button_a2)\n",
    "\n",
    "def on_click_editors(b):\n",
    "    global editor_listener\n",
    "    with out_a2:\n",
    "        clear_output()\n",
    "        \n",
    "        editor_listener = EditorsListener(agg_actions, sources, lng=abbreviation(languageSelection.value), search_widget=searchRev)\n",
    "        editor_listener.get_infos()\n",
    "\n",
    "        datepicker_from = widgets.DatePicker(description='Date starts', value=agg_actions['rev_time'].iloc[0], layout=Layout(width=\"25%\"))\n",
    "        datepicker_to = widgets.DatePicker(description='Date ends', value=agg_actions['rev_time'].iloc[-1], layout=Layout(width=\"25%\"))\n",
    "        timeframe = widgets.RadioButtons(options=['Monthly', 'Weekly', \"Daily\"], value='Monthly', description='Granularity:', layout={'width': '50%'})\n",
    "        interact(editor_listener.listen,\n",
    "                 _range1=datepicker_from,\n",
    "                 _range2=datepicker_to,\n",
    "                 granularity=timeframe)\n",
    "    \n",
    "out_a2 = Output()\n",
    "display(out_a2)\n",
    "\n",
    "# set the event\n",
    "button_a2.on_click(on_click_editors)\n",
    "\n",
    "# trigger the event with the default value\n",
    "on_click_editors(button_a2)"
   ]
  },
  {
   "cell_type": "markdown",
   "metadata": {
    "solution2": "hidden",
    "solution2_first": true
   },
   "source": [
    "<span style=\"color: #626262\"> Try yourself! This is what will happen when you click 'Load Actions' button: </span>"
   ]
  },
  {
   "cell_type": "code",
   "execution_count": 11,
   "metadata": {
    "hide_input": false,
    "solution2": "hidden"
   },
   "outputs": [
    {
     "name": "stdout",
     "output_type": "stream",
     "text": [
      "The page that is being used: Jay Chou (EN)\n"
     ]
    },
    {
     "data": {
      "application/vnd.jupyter.widget-view+json": {
       "model_id": "6ac06317c9ef46cba703a9a3ea99d20f",
       "version_major": 2,
       "version_minor": 0
      },
      "text/plain": [
       "QgridWidget(grid_options={'fullWidthRows': True, 'syncColumnCellResize': True, 'forceFitColumns': True, 'defau…"
      ]
     },
     "metadata": {},
     "output_type": "display_data"
    },
    {
     "data": {
      "application/vnd.jupyter.widget-view+json": {
       "model_id": "91ad42189b8144608347f8984d88d2a2",
       "version_major": 2,
       "version_minor": 0
      },
      "text/plain": [
       "Output()"
      ]
     },
     "metadata": {},
     "output_type": "display_data"
    },
    {
     "name": "stdout",
     "output_type": "stream",
     "text": [
      "Within Monthly timeframe, you have selected Obliviblob(id: 31926641)\n",
      "The revisions fall in 2020-09-01\n",
      "Link to revision history: https://en.wikipedia.org/w/index.php?date-range-to=2020-09-01&tagfilter=&title=Jay_Chou&action=history\n"
     ]
    },
    {
     "data": {
      "text/html": [
       "<div>\n",
       "<style scoped>\n",
       "    .dataframe tbody tr th:only-of-type {\n",
       "        vertical-align: middle;\n",
       "    }\n",
       "\n",
       "    .dataframe tbody tr th {\n",
       "        vertical-align: top;\n",
       "    }\n",
       "\n",
       "    .dataframe thead th {\n",
       "        text-align: right;\n",
       "    }\n",
       "</style>\n",
       "<table border=\"1\" class=\"dataframe\">\n",
       "  <thead>\n",
       "    <tr style=\"text-align: right;\">\n",
       "      <th></th>\n",
       "      <th>rev_id</th>\n",
       "      <th>adds</th>\n",
       "      <th>dels</th>\n",
       "      <th>reins</th>\n",
       "      <th>productivity</th>\n",
       "      <th>conflict</th>\n",
       "      <th>stopwords_ratio</th>\n",
       "      <th>main_opponent</th>\n",
       "      <th>min_react</th>\n",
       "      <th>Damaging</th>\n",
       "      <th>Goodfaith</th>\n",
       "    </tr>\n",
       "    <tr>\n",
       "      <th>rev_time</th>\n",
       "      <th></th>\n",
       "      <th></th>\n",
       "      <th></th>\n",
       "      <th></th>\n",
       "      <th></th>\n",
       "      <th></th>\n",
       "      <th></th>\n",
       "      <th></th>\n",
       "      <th></th>\n",
       "      <th></th>\n",
       "      <th></th>\n",
       "    </tr>\n",
       "  </thead>\n",
       "  <tbody>\n",
       "    <tr>\n",
       "      <th>2020-09-01 14:42:53</th>\n",
       "      <td>976164636</td>\n",
       "      <td>15.0</td>\n",
       "      <td>0.0</td>\n",
       "      <td>0.0</td>\n",
       "      <td>1.0</td>\n",
       "      <td>0.0</td>\n",
       "      <td>0.0</td>\n",
       "      <td>NaN</td>\n",
       "      <td>NaN</td>\n",
       "      <td>0.031107</td>\n",
       "      <td>0.987888</td>\n",
       "    </tr>\n",
       "  </tbody>\n",
       "</table>\n",
       "</div>"
      ],
      "text/plain": [
       "                        rev_id  adds  dels  reins  productivity  conflict  \\\n",
       "rev_time                                                                    \n",
       "2020-09-01 14:42:53  976164636  15.0   0.0    0.0           1.0       0.0   \n",
       "\n",
       "                     stopwords_ratio main_opponent min_react  Damaging  \\\n",
       "rev_time                                                                 \n",
       "2020-09-01 14:42:53              0.0           NaN       NaN  0.031107   \n",
       "\n",
       "                     Goodfaith  \n",
       "rev_time                        \n",
       "2020-09-01 14:42:53   0.987888  "
      ]
     },
     "metadata": {},
     "output_type": "display_data"
    },
    {
     "name": "stdout",
     "output_type": "stream",
     "text": [
      "Comment for the revision 976164636: Alter: title, pages, script-title. Add: s2cid, issue. Formatted [[WP:ENDASH|dashes]]. | You can [[WP:UCB|use this bot]] yourself. [[WP:DBUG|Report bugs here]]. | Suggested by Abductive | [[Category:All articles with deprecated sources]] | via #UCB_Category\n",
      "Link to revisions diff: https://en.wikipedia.org/w/index.php?diff=976164636&title=TITLEDOESNTMATTER&diffmode=source\n"
     ]
    }
   ],
   "source": [
    "### ------------------------------------------------------------------------------- ###\n",
    "### TRY YOURSELF! THIS IS WHAT WILL HAPPEN WHEN YOU CLICK 'Get Editors Info' BUTTON ###\n",
    "### ------------------------------------------------------------------------------- ###\n",
    "\n",
    "## Create an EditorsListener instance and calculate, more details can be found in             ##\n",
    "## https://github.com/gesiscss/wikiwho_demo_new/blob/master/visualization/editors_listener.py ##\n",
    "editors_listener = EditorsListener(total_actions, token_sources, lng=abbreviation(languageSelection.value))\n",
    "editors_listener.get_infos()\n",
    "\n",
    "\n",
    "## Visualization, core visual code lies in EditorsListener, then the interact function     ##\n",
    "## makes it interactive, mode details see:                                                 ##\n",
    "## https://github.com/gesiscss/wikiwho_demo/blob/master/visualization/editors_listener.py  ##\n",
    "\n",
    "# This is the page you used\n",
    "print('The page that is being used:', the_page['title'], f'({abbreviation(languageSelection.value).upper()})')\n",
    "\n",
    "# Visualization: parameters\n",
    "begin_date = date(2007, 3, 1)\n",
    "end_date = date(2020, 5, 1)\n",
    "frequency = 'Monthly' # \"Monthly\", \"Weekly\", \"Daily\"\n",
    "\n",
    "the_latest_date = editors_listener.df.iloc[-1][\"rev_time\"].date()\n",
    "the_latest_editor = str(editors_listener.df.iloc[-1][\"editor_id\"])\n",
    "selected_date = the_latest_date  # Pick any datetime value from \"rev_time\" column, example: date(2020, 4, 30)\n",
    "selected_editor = the_latest_editor  # Pick any string value from \"editor_id\" column, example: \"17723088\"\n",
    "\n",
    "# Visualization: the first table with general info\n",
    "editors_listener.listen(\n",
    "    _range1 = begin_date,\n",
    "    _range2 = end_date,\n",
    "    granularity = frequency,\n",
    ")\n",
    "\n",
    "# Visualization: the second table with revision info\n",
    "print(f\"Within {frequency} timeframe, you have selected {editors_listener.names_id[selected_editor]}(id: {selected_editor})\")\n",
    "print(f\"The revisions fall in {str(selected_date)}\")\n",
    "print(f\"Link to revision history: https://{editors_listener.lng}.wikipedia.org/w/index.php?date-range-to=\\\n",
    "{str(selected_date)}&tagfilter=&title={the_page['title'].replace(' ', '_')}&action=history\")\n",
    "\n",
    "# Use RevisionsManager, more details see:\n",
    "# https://github.com/gesiscss/wikiwho_demo_new/blob/master/visualization/editors_listener.py\n",
    "revisions_manager = editors_listener.revision_manager\n",
    "rev_table = revisions_manager.get_main(selected_date, selected_editor, frequency)\n",
    "display(rev_table)\n",
    "\n",
    "# Visualization: get the comment for this revision\n",
    "editors_listener.get_comments()  \n",
    "selected_rev = rev_table[\"rev_id\"].iloc[0]  # The first revision in the second table. You can also input another revision id if more are available.\n",
    "print(f\"Comment for the revision {selected_rev}: {editors_listener.rev_comments[editors_listener.selected_rev]}\")\n",
    "print(f\"Link to revisions diff: https://{editors_listener.lng}.wikipedia.org/w/index.php?diff={selected_rev}\\\n",
    "&title=TITLEDOESNTMATTER&diffmode=source\")"
   ]
  },
  {
   "cell_type": "markdown",
   "metadata": {},
   "source": [
    "## A2.2. Number of tokens owned by editors per time\n",
    "\n",
    "The graph below illustrates the number of tokens owned by top-15 editors for the given time period. Token ownerships are counted as original additions that have not been deleted by the end of a timeframe. It is possible to select daily, weekly or monthly granularity, which simply means that the latest revision would be considered within a time window. For example, for daily period the latest revision during each day is considered. The number of total tokens existing on a page can be considered as the top line of a graph. <br/>\n",
    "You can remove editors by clicking on their name in the legend and keep only a specific editor by double-clicking."
   ]
  },
  {
   "cell_type": "code",
   "execution_count": 12,
   "metadata": {
    "hide_input": true
   },
   "outputs": [
    {
     "data": {
      "application/vnd.jupyter.widget-view+json": {
       "model_id": "f343edaa171d4bfbaff2a4d60892c7d0",
       "version_major": 2,
       "version_minor": 0
      },
      "text/plain": [
       "DatePicker(value=Timestamp('2004-03-22 08:06:07'), description='Date starts', layout=Layout(width='25%'))"
      ]
     },
     "metadata": {},
     "output_type": "display_data"
    },
    {
     "data": {
      "application/vnd.jupyter.widget-view+json": {
       "model_id": "982f33dd88e14a9da4b901213a4fb8c2",
       "version_major": 2,
       "version_minor": 0
      },
      "text/plain": [
       "DatePicker(value=Timestamp('2020-09-01 14:42:53'), description='Date ends', layout=Layout(width='25%'))"
      ]
     },
     "metadata": {},
     "output_type": "display_data"
    },
    {
     "data": {
      "application/vnd.jupyter.widget-view+json": {
       "model_id": "6d1f2486e00d43bc8080205d00f6ed71",
       "version_major": 2,
       "version_minor": 0
      },
      "text/plain": [
       "RadioButtons(description='Granularity:', layout=Layout(width='50%'), options=('Monthly', 'Weekly', 'Daily'), v…"
      ]
     },
     "metadata": {},
     "output_type": "display_data"
    },
    {
     "data": {
      "application/vnd.jupyter.widget-view+json": {
       "model_id": "2da703e14dad45ebba607a6a3c86facb",
       "version_major": 2,
       "version_minor": 0
      },
      "text/plain": [
       "RadioButtons(description='Stopwords', layout=Layout(width='50%'), options=('Not included', 'Included'), value=…"
      ]
     },
     "metadata": {},
     "output_type": "display_data"
    },
    {
     "data": {
      "application/vnd.jupyter.widget-view+json": {
       "model_id": "1267011c71f147c782aac5c02af5065b",
       "version_major": 2,
       "version_minor": 0
      },
      "text/plain": [
       "Button(description='Show token owners', style=ButtonStyle())"
      ]
     },
     "metadata": {},
     "output_type": "display_data"
    },
    {
     "data": {
      "application/vnd.jupyter.widget-view+json": {
       "model_id": "d91d7d1a8d474a5890ea766c3853731b",
       "version_major": 2,
       "version_minor": 0
      },
      "text/plain": [
       "Output()"
      ]
     },
     "metadata": {},
     "output_type": "display_data"
    }
   ],
   "source": [
    "# # create and display the button\n",
    "button_a21 = widgets.Button(description=\"Show token owners\")\n",
    "\n",
    "def on_click_owned_tokens(b):\n",
    "    global listener\n",
    "    with out21:\n",
    "        clear_output()    \n",
    "        listener = TokensOwnedListener(agg_actions, sources, lng=abbreviation(languageSelection.value))\n",
    "    \n",
    "        # visualization\n",
    "           \n",
    "        listener.listen(_range1=datepicker_from.value,\n",
    "                 _range2=datepicker_to.value,\n",
    "                 granularity=timeframe.value,\n",
    "                 stopwords = stopwords.value)\n",
    "        \n",
    "        \n",
    "datepicker_from = widgets.DatePicker(description='Date starts', value=agg_actions['rev_time'].iloc[0], layout=Layout(width=\"25%\"))\n",
    "datepicker_to = widgets.DatePicker(description='Date ends', value=agg_actions['rev_time'].iloc[-1], layout=Layout(width=\"25%\"))\n",
    "timeframe = widgets.RadioButtons(options=['Monthly', 'Weekly', \"Daily\"], value='Monthly', description='Granularity:', layout={'width': '50%'})\n",
    "stopwords = widgets.RadioButtons(options=['Not included', 'Included'], value='Not included', description='Stopwords', layout={'width': '50%'})\n",
    "    \n",
    "display(datepicker_from, datepicker_to, timeframe, stopwords)\n",
    "display(button_a21)\n",
    "\n",
    "out21 = Output()\n",
    "display(out21)\n",
    "\n",
    "# # set the event\n",
    "button_a21.on_click(on_click_owned_tokens)\n",
    "\n",
    "# # trigger the event with the default value\n",
    "on_click_owned_tokens(button_a21)"
   ]
  },
  {
   "cell_type": "markdown",
   "metadata": {
    "solution2": "hidden",
    "solution2_first": true
   },
   "source": [
    "<span style=\"color: #626262\"> Try yourself! This is what will happen when you click 'Load Actions' button: </span>"
   ]
  },
  {
   "cell_type": "code",
   "execution_count": 13,
   "metadata": {
    "solution2": "hidden"
   },
   "outputs": [
    {
     "name": "stdout",
     "output_type": "stream",
     "text": [
      "The page that is being used: Jay Chou (EN)\n"
     ]
    },
    {
     "data": {
      "text/html": [
       "        <script type=\"text/javascript\">\n",
       "        window.PlotlyConfig = {MathJaxConfig: 'local'};\n",
       "        if (window.MathJax) {MathJax.Hub.Config({SVG: {font: \"STIX-Web\"}});}\n",
       "        if (typeof require !== 'undefined') {\n",
       "        require.undef(\"plotly\");\n",
       "        requirejs.config({\n",
       "            paths: {\n",
       "                'plotly': ['https://cdn.plot.ly/plotly-latest.min']\n",
       "            }\n",
       "        });\n",
       "        require(['plotly'], function(Plotly) {\n",
       "            window._Plotly = Plotly;\n",
       "        });\n",
       "        }\n",
       "        </script>\n",
       "        "
      ]
     },
     "metadata": {},
     "output_type": "display_data"
    },
    {
     "data": {
      "application/vnd.plotly.v1+json": {
       "config": {
        "linkText": "Export to plot.ly",
        "plotlyServerURL": "https://plot.ly",
        "showLink": false
       },
       "data": [
        {
         "name": "SeleneFN",
         "stackgroup": "one",
         "type": "scatter",
         "x": [
          "2020-09-30T00:00:00",
          "2020-04-30T00:00:00",
          "2020-03-31T00:00:00",
          "2020-02-29T00:00:00",
          "2020-01-31T00:00:00",
          "2019-12-31T00:00:00",
          "2019-11-30T00:00:00",
          "2019-10-31T00:00:00",
          "2019-09-30T00:00:00",
          "2019-08-31T00:00:00",
          "2019-07-31T00:00:00",
          "2019-06-30T00:00:00",
          "2019-05-31T00:00:00",
          "2019-04-30T00:00:00",
          "2019-03-31T00:00:00",
          "2019-02-28T00:00:00",
          "2019-01-31T00:00:00",
          "2018-12-31T00:00:00",
          "2018-11-30T00:00:00",
          "2018-10-31T00:00:00",
          "2018-09-30T00:00:00",
          "2018-08-31T00:00:00",
          "2018-07-31T00:00:00",
          "2018-06-30T00:00:00",
          "2018-05-31T00:00:00",
          "2018-04-30T00:00:00",
          "2018-03-31T00:00:00",
          "2018-02-28T00:00:00",
          "2018-01-31T00:00:00",
          "2017-12-31T00:00:00",
          "2017-11-30T00:00:00",
          "2017-10-31T00:00:00",
          "2017-09-30T00:00:00",
          "2017-08-31T00:00:00",
          "2017-07-31T00:00:00",
          "2017-06-30T00:00:00",
          "2017-05-31T00:00:00",
          "2017-04-30T00:00:00",
          "2017-03-31T00:00:00",
          "2017-02-28T00:00:00",
          "2017-01-31T00:00:00",
          "2016-12-31T00:00:00",
          "2016-11-30T00:00:00",
          "2016-10-31T00:00:00",
          "2016-09-30T00:00:00",
          "2016-08-31T00:00:00",
          "2016-07-31T00:00:00",
          "2016-06-30T00:00:00",
          "2016-05-31T00:00:00",
          "2016-04-30T00:00:00",
          "2016-03-31T00:00:00",
          "2016-02-29T00:00:00",
          "2016-01-31T00:00:00",
          "2015-12-31T00:00:00",
          "2015-11-30T00:00:00",
          "2015-10-31T00:00:00",
          "2015-09-30T00:00:00",
          "2015-08-31T00:00:00",
          "2015-07-31T00:00:00",
          "2015-06-30T00:00:00",
          "2015-05-31T00:00:00",
          "2015-04-30T00:00:00",
          "2015-03-31T00:00:00",
          "2015-02-28T00:00:00",
          "2015-01-31T00:00:00",
          "2014-12-31T00:00:00",
          "2014-11-30T00:00:00",
          "2014-10-31T00:00:00",
          "2014-09-30T00:00:00",
          "2014-08-31T00:00:00",
          "2014-07-31T00:00:00",
          "2014-06-30T00:00:00",
          "2014-05-31T00:00:00",
          "2014-04-30T00:00:00",
          "2014-03-31T00:00:00",
          "2014-02-28T00:00:00",
          "2014-01-31T00:00:00",
          "2013-12-31T00:00:00",
          "2013-11-30T00:00:00",
          "2013-10-31T00:00:00",
          "2013-09-30T00:00:00",
          "2013-08-31T00:00:00",
          "2013-07-31T00:00:00",
          "2013-06-30T00:00:00",
          "2013-05-31T00:00:00",
          "2013-04-30T00:00:00",
          "2013-03-31T00:00:00",
          "2013-02-28T00:00:00",
          "2013-01-31T00:00:00",
          "2012-12-31T00:00:00",
          "2012-11-30T00:00:00",
          "2012-10-31T00:00:00",
          "2012-09-30T00:00:00",
          "2012-08-31T00:00:00",
          "2012-07-31T00:00:00",
          "2012-06-30T00:00:00",
          "2012-05-31T00:00:00",
          "2012-04-30T00:00:00",
          "2012-03-31T00:00:00",
          "2012-02-29T00:00:00",
          "2012-01-31T00:00:00",
          "2011-12-31T00:00:00",
          "2011-11-30T00:00:00",
          "2011-10-31T00:00:00",
          "2011-09-30T00:00:00",
          "2011-08-31T00:00:00",
          "2011-07-31T00:00:00",
          "2011-06-30T00:00:00",
          "2011-05-31T00:00:00",
          "2011-04-30T00:00:00",
          "2011-03-31T00:00:00",
          "2011-02-28T00:00:00",
          "2011-01-31T00:00:00",
          "2010-12-31T00:00:00",
          "2010-11-30T00:00:00",
          "2010-10-31T00:00:00",
          "2010-09-30T00:00:00",
          "2010-08-31T00:00:00",
          "2010-07-31T00:00:00",
          "2010-06-30T00:00:00",
          "2010-05-31T00:00:00",
          "2010-04-30T00:00:00",
          "2010-03-31T00:00:00",
          "2010-02-28T00:00:00",
          "2010-01-31T00:00:00",
          "2009-12-31T00:00:00",
          "2009-11-30T00:00:00",
          "2009-10-31T00:00:00",
          "2009-09-30T00:00:00",
          "2009-08-31T00:00:00",
          "2009-07-31T00:00:00",
          "2009-06-30T00:00:00",
          "2009-05-31T00:00:00",
          "2009-04-30T00:00:00",
          "2009-03-31T00:00:00",
          "2009-02-28T00:00:00",
          "2009-01-31T00:00:00",
          "2008-12-31T00:00:00",
          "2008-11-30T00:00:00",
          "2008-10-31T00:00:00",
          "2008-09-30T00:00:00",
          "2008-08-31T00:00:00",
          "2008-07-31T00:00:00",
          "2008-06-30T00:00:00",
          "2008-05-31T00:00:00",
          "2008-04-30T00:00:00",
          "2008-03-31T00:00:00",
          "2008-02-29T00:00:00",
          "2008-01-31T00:00:00",
          "2007-12-31T00:00:00",
          "2007-11-30T00:00:00",
          "2007-10-31T00:00:00",
          "2007-09-30T00:00:00",
          "2007-08-31T00:00:00",
          "2007-07-31T00:00:00",
          "2007-06-30T00:00:00",
          "2007-05-31T00:00:00",
          "2007-04-30T00:00:00",
          "2007-03-31T00:00:00"
         ],
         "y": [
          3602,
          3602,
          3602,
          3603,
          3603,
          3603,
          3607,
          3607,
          3608,
          3608,
          3608,
          3608,
          3606,
          3606,
          3606,
          3606,
          3606,
          3606,
          3608,
          3608,
          3608,
          3608,
          3608,
          3608,
          3616,
          3616,
          3616,
          3615,
          3615,
          3615,
          3615,
          3615,
          3615,
          3615,
          3614,
          3615,
          3615,
          3615,
          3615,
          3615,
          3615,
          3615,
          3616,
          3616,
          3616,
          3621,
          3621,
          3621,
          3621,
          3620,
          3620,
          3620,
          3621,
          3621,
          3621,
          3621,
          3622,
          3622,
          3622,
          3622,
          3622,
          3622,
          3645,
          3668,
          3672,
          3674,
          3674,
          3772,
          3833,
          3833,
          3833,
          3833,
          3836,
          4161,
          4163,
          4163,
          4171,
          4171,
          4273,
          4273,
          4273,
          4280,
          4283,
          4283,
          4315,
          4315,
          4315,
          4317,
          4322,
          4322,
          4472,
          4472,
          4472,
          4475,
          4479,
          4479,
          4484,
          4503,
          4506,
          4506,
          4511,
          4511,
          4513,
          4517,
          4517,
          4517,
          4529,
          4529,
          4530,
          4542,
          4621,
          4626,
          4888,
          4895,
          5023,
          5029,
          5035,
          5038,
          5039,
          5051,
          5051,
          5051,
          5051,
          5055,
          5055,
          5055,
          5055,
          5081,
          5102,
          5104,
          5109,
          5135,
          5144,
          5150,
          5156,
          5160,
          5163,
          5163,
          5415,
          5443,
          5446,
          5443,
          5453,
          5732,
          5732,
          5732,
          5736,
          5736,
          5776,
          5776,
          2312,
          5714,
          5719,
          5723,
          5731,
          5739,
          5725,
          4793,
          2389
         ]
        },
        {
         "name": "Unregistered",
         "stackgroup": "one",
         "type": "scatter",
         "x": [
          "2020-09-30T00:00:00",
          "2020-04-30T00:00:00",
          "2020-03-31T00:00:00",
          "2020-02-29T00:00:00",
          "2020-01-31T00:00:00",
          "2019-12-31T00:00:00",
          "2019-11-30T00:00:00",
          "2019-10-31T00:00:00",
          "2019-09-30T00:00:00",
          "2019-08-31T00:00:00",
          "2019-07-31T00:00:00",
          "2019-06-30T00:00:00",
          "2019-05-31T00:00:00",
          "2019-04-30T00:00:00",
          "2019-03-31T00:00:00",
          "2019-02-28T00:00:00",
          "2019-01-31T00:00:00",
          "2018-12-31T00:00:00",
          "2018-11-30T00:00:00",
          "2018-10-31T00:00:00",
          "2018-09-30T00:00:00",
          "2018-08-31T00:00:00",
          "2018-07-31T00:00:00",
          "2018-06-30T00:00:00",
          "2018-05-31T00:00:00",
          "2018-04-30T00:00:00",
          "2018-03-31T00:00:00",
          "2018-02-28T00:00:00",
          "2018-01-31T00:00:00",
          "2017-12-31T00:00:00",
          "2017-11-30T00:00:00",
          "2017-10-31T00:00:00",
          "2017-09-30T00:00:00",
          "2017-08-31T00:00:00",
          "2017-07-31T00:00:00",
          "2017-06-30T00:00:00",
          "2017-05-31T00:00:00",
          "2017-04-30T00:00:00",
          "2017-03-31T00:00:00",
          "2017-02-28T00:00:00",
          "2017-01-31T00:00:00",
          "2016-12-31T00:00:00",
          "2016-11-30T00:00:00",
          "2016-10-31T00:00:00",
          "2016-09-30T00:00:00",
          "2016-08-31T00:00:00",
          "2016-07-31T00:00:00",
          "2016-06-30T00:00:00",
          "2016-05-31T00:00:00",
          "2016-04-30T00:00:00",
          "2016-03-31T00:00:00",
          "2016-02-29T00:00:00",
          "2016-01-31T00:00:00",
          "2015-12-31T00:00:00",
          "2015-11-30T00:00:00",
          "2015-10-31T00:00:00",
          "2015-09-30T00:00:00",
          "2015-08-31T00:00:00",
          "2015-07-31T00:00:00",
          "2015-06-30T00:00:00",
          "2015-05-31T00:00:00",
          "2015-04-30T00:00:00",
          "2015-03-31T00:00:00",
          "2015-02-28T00:00:00",
          "2015-01-31T00:00:00",
          "2014-12-31T00:00:00",
          "2014-11-30T00:00:00",
          "2014-10-31T00:00:00",
          "2014-09-30T00:00:00",
          "2014-08-31T00:00:00",
          "2014-07-31T00:00:00",
          "2014-06-30T00:00:00",
          "2014-05-31T00:00:00",
          "2014-04-30T00:00:00",
          "2014-03-31T00:00:00",
          "2014-02-28T00:00:00",
          "2014-01-31T00:00:00",
          "2013-12-31T00:00:00",
          "2013-11-30T00:00:00",
          "2013-10-31T00:00:00",
          "2013-09-30T00:00:00",
          "2013-08-31T00:00:00",
          "2013-07-31T00:00:00",
          "2013-06-30T00:00:00",
          "2013-05-31T00:00:00",
          "2013-04-30T00:00:00",
          "2013-03-31T00:00:00",
          "2013-02-28T00:00:00",
          "2013-01-31T00:00:00",
          "2012-12-31T00:00:00",
          "2012-11-30T00:00:00",
          "2012-10-31T00:00:00",
          "2012-09-30T00:00:00",
          "2012-08-31T00:00:00",
          "2012-07-31T00:00:00",
          "2012-06-30T00:00:00",
          "2012-05-31T00:00:00",
          "2012-04-30T00:00:00",
          "2012-03-31T00:00:00",
          "2012-02-29T00:00:00",
          "2012-01-31T00:00:00",
          "2011-12-31T00:00:00",
          "2011-11-30T00:00:00",
          "2011-10-31T00:00:00",
          "2011-09-30T00:00:00",
          "2011-08-31T00:00:00",
          "2011-07-31T00:00:00",
          "2011-06-30T00:00:00",
          "2011-05-31T00:00:00",
          "2011-04-30T00:00:00",
          "2011-03-31T00:00:00",
          "2011-02-28T00:00:00",
          "2011-01-31T00:00:00",
          "2010-12-31T00:00:00",
          "2010-11-30T00:00:00",
          "2010-10-31T00:00:00",
          "2010-09-30T00:00:00",
          "2010-08-31T00:00:00",
          "2010-07-31T00:00:00",
          "2010-06-30T00:00:00",
          "2010-05-31T00:00:00",
          "2010-04-30T00:00:00",
          "2010-03-31T00:00:00",
          "2010-02-28T00:00:00",
          "2010-01-31T00:00:00",
          "2009-12-31T00:00:00",
          "2009-11-30T00:00:00",
          "2009-10-31T00:00:00",
          "2009-09-30T00:00:00",
          "2009-08-31T00:00:00",
          "2009-07-31T00:00:00",
          "2009-06-30T00:00:00",
          "2009-05-31T00:00:00",
          "2009-04-30T00:00:00",
          "2009-03-31T00:00:00",
          "2009-02-28T00:00:00",
          "2009-01-31T00:00:00",
          "2008-12-31T00:00:00",
          "2008-11-30T00:00:00",
          "2008-10-31T00:00:00",
          "2008-09-30T00:00:00",
          "2008-08-31T00:00:00",
          "2008-07-31T00:00:00",
          "2008-06-30T00:00:00",
          "2008-05-31T00:00:00",
          "2008-04-30T00:00:00",
          "2008-03-31T00:00:00",
          "2008-02-29T00:00:00",
          "2008-01-31T00:00:00",
          "2007-12-31T00:00:00",
          "2007-11-30T00:00:00",
          "2007-10-31T00:00:00",
          "2007-09-30T00:00:00",
          "2007-08-31T00:00:00",
          "2007-07-31T00:00:00",
          "2007-06-30T00:00:00",
          "2007-05-31T00:00:00",
          "2007-04-30T00:00:00",
          "2007-03-31T00:00:00"
         ],
         "y": [
          1346,
          1346,
          1259,
          1268,
          1268,
          1272,
          1271,
          1273,
          1282,
          1287,
          1279,
          1286,
          1283,
          1283,
          1279,
          1282,
          1313,
          1315,
          1322,
          1315,
          1315,
          1215,
          1215,
          1222,
          1215,
          1211,
          1201,
          1205,
          1200,
          1203,
          1204,
          1204,
          1199,
          1199,
          1199,
          1194,
          1239,
          1239,
          1230,
          1225,
          1319,
          1308,
          1314,
          1314,
          1316,
          1298,
          1293,
          1295,
          1300,
          1296,
          1303,
          1296,
          1300,
          1300,
          1300,
          1303,
          1223,
          1223,
          1221,
          1217,
          1213,
          1213,
          1222,
          1236,
          1248,
          1213,
          1212,
          1212,
          1014,
          1014,
          1014,
          1009,
          1010,
          1010,
          1005,
          1002,
          1004,
          1002,
          565,
          564,
          564,
          573,
          568,
          568,
          560,
          580,
          562,
          525,
          536,
          536,
          521,
          520,
          525,
          525,
          525,
          545,
          549,
          550,
          543,
          537,
          537,
          551,
          547,
          545,
          539,
          538,
          524,
          496,
          497,
          520,
          507,
          500,
          577,
          551,
          561,
          556,
          582,
          518,
          517,
          509,
          508,
          520,
          522,
          504,
          485,
          484,
          505,
          488,
          555,
          560,
          495,
          503,
          490,
          466,
          460,
          435,
          434,
          426,
          473,
          456,
          446,
          420,
          420,
          315,
          324,
          324,
          324,
          322,
          299,
          286,
          63,
          273,
          288,
          282,
          275,
          276,
          312,
          12,
          7
         ]
        },
        {
         "name": "Arsonal",
         "stackgroup": "one",
         "type": "scatter",
         "x": [
          "2020-09-30T00:00:00",
          "2020-04-30T00:00:00",
          "2020-03-31T00:00:00",
          "2020-02-29T00:00:00",
          "2020-01-31T00:00:00",
          "2019-12-31T00:00:00",
          "2019-11-30T00:00:00",
          "2019-10-31T00:00:00",
          "2019-09-30T00:00:00",
          "2019-08-31T00:00:00",
          "2019-07-31T00:00:00",
          "2019-06-30T00:00:00",
          "2019-05-31T00:00:00",
          "2019-04-30T00:00:00",
          "2019-03-31T00:00:00",
          "2019-02-28T00:00:00",
          "2019-01-31T00:00:00",
          "2018-12-31T00:00:00",
          "2018-11-30T00:00:00",
          "2018-10-31T00:00:00",
          "2018-09-30T00:00:00",
          "2018-08-31T00:00:00",
          "2018-07-31T00:00:00",
          "2018-06-30T00:00:00",
          "2018-05-31T00:00:00",
          "2018-04-30T00:00:00",
          "2018-03-31T00:00:00",
          "2018-02-28T00:00:00",
          "2018-01-31T00:00:00",
          "2017-12-31T00:00:00",
          "2017-11-30T00:00:00",
          "2017-10-31T00:00:00",
          "2017-09-30T00:00:00",
          "2017-08-31T00:00:00",
          "2017-07-31T00:00:00",
          "2017-06-30T00:00:00",
          "2017-05-31T00:00:00",
          "2017-04-30T00:00:00",
          "2017-03-31T00:00:00",
          "2017-02-28T00:00:00",
          "2017-01-31T00:00:00",
          "2016-12-31T00:00:00",
          "2016-11-30T00:00:00",
          "2016-10-31T00:00:00",
          "2016-09-30T00:00:00",
          "2016-08-31T00:00:00",
          "2016-07-31T00:00:00",
          "2016-06-30T00:00:00",
          "2016-05-31T00:00:00",
          "2016-04-30T00:00:00",
          "2016-03-31T00:00:00",
          "2016-02-29T00:00:00",
          "2016-01-31T00:00:00",
          "2015-12-31T00:00:00",
          "2015-11-30T00:00:00",
          "2015-10-31T00:00:00",
          "2015-09-30T00:00:00",
          "2015-08-31T00:00:00",
          "2015-07-31T00:00:00",
          "2015-06-30T00:00:00",
          "2015-05-31T00:00:00",
          "2015-04-30T00:00:00",
          "2015-03-31T00:00:00",
          "2015-02-28T00:00:00",
          "2015-01-31T00:00:00",
          "2014-12-31T00:00:00",
          "2014-11-30T00:00:00",
          "2014-10-31T00:00:00",
          "2014-09-30T00:00:00",
          "2014-08-31T00:00:00",
          "2014-07-31T00:00:00",
          "2014-06-30T00:00:00",
          "2014-05-31T00:00:00",
          "2014-04-30T00:00:00",
          "2014-03-31T00:00:00",
          "2014-02-28T00:00:00",
          "2014-01-31T00:00:00",
          "2013-12-31T00:00:00",
          "2013-11-30T00:00:00",
          "2013-10-31T00:00:00",
          "2013-09-30T00:00:00",
          "2013-08-31T00:00:00",
          "2013-07-31T00:00:00",
          "2013-06-30T00:00:00",
          "2013-05-31T00:00:00",
          "2013-04-30T00:00:00",
          "2013-03-31T00:00:00",
          "2013-02-28T00:00:00",
          "2013-01-31T00:00:00",
          "2012-12-31T00:00:00",
          "2012-11-30T00:00:00",
          "2012-10-31T00:00:00",
          "2012-09-30T00:00:00",
          "2012-08-31T00:00:00",
          "2012-07-31T00:00:00",
          "2012-06-30T00:00:00",
          "2012-05-31T00:00:00",
          "2012-04-30T00:00:00",
          "2012-03-31T00:00:00",
          "2012-02-29T00:00:00",
          "2012-01-31T00:00:00",
          "2011-12-31T00:00:00",
          "2011-11-30T00:00:00",
          "2011-10-31T00:00:00",
          "2011-09-30T00:00:00",
          "2011-08-31T00:00:00",
          "2011-07-31T00:00:00",
          "2011-06-30T00:00:00",
          "2011-05-31T00:00:00",
          "2011-04-30T00:00:00",
          "2011-03-31T00:00:00",
          "2011-02-28T00:00:00",
          "2011-01-31T00:00:00",
          "2010-12-31T00:00:00",
          "2010-11-30T00:00:00",
          "2010-10-31T00:00:00",
          "2010-09-30T00:00:00",
          "2010-08-31T00:00:00",
          "2010-07-31T00:00:00",
          "2010-06-30T00:00:00",
          "2010-05-31T00:00:00",
          "2010-04-30T00:00:00",
          "2010-03-31T00:00:00",
          "2010-02-28T00:00:00",
          "2010-01-31T00:00:00",
          "2009-12-31T00:00:00",
          "2009-11-30T00:00:00",
          "2009-10-31T00:00:00",
          "2009-09-30T00:00:00",
          "2009-08-31T00:00:00",
          "2009-07-31T00:00:00",
          "2009-06-30T00:00:00",
          "2009-05-31T00:00:00",
          "2009-04-30T00:00:00",
          "2009-03-31T00:00:00",
          "2009-02-28T00:00:00",
          "2009-01-31T00:00:00",
          "2008-12-31T00:00:00",
          "2008-11-30T00:00:00",
          "2008-10-31T00:00:00",
          "2008-09-30T00:00:00",
          "2008-08-31T00:00:00",
          "2008-07-31T00:00:00",
          "2008-06-30T00:00:00",
          "2008-05-31T00:00:00",
          "2008-04-30T00:00:00",
          "2008-03-31T00:00:00",
          "2008-02-29T00:00:00",
          "2008-01-31T00:00:00",
          "2007-12-31T00:00:00",
          "2007-11-30T00:00:00",
          "2007-10-31T00:00:00",
          "2007-09-30T00:00:00",
          "2007-08-31T00:00:00",
          "2007-07-31T00:00:00",
          "2007-06-30T00:00:00",
          "2007-05-31T00:00:00",
          "2007-04-30T00:00:00",
          "2007-03-31T00:00:00"
         ],
         "y": [
          162,
          162,
          162,
          163,
          163,
          163,
          163,
          163,
          163,
          163,
          163,
          163,
          165,
          165,
          165,
          165,
          166,
          166,
          167,
          167,
          167,
          167,
          167,
          167,
          167,
          167,
          167,
          167,
          167,
          167,
          167,
          167,
          167,
          167,
          167,
          167,
          168,
          168,
          168,
          168,
          168,
          168,
          168,
          168,
          168,
          168,
          168,
          168,
          168,
          168,
          168,
          168,
          168,
          168,
          168,
          168,
          168,
          168,
          168,
          168,
          168,
          168,
          168,
          168,
          169,
          177,
          183,
          183,
          183,
          183,
          183,
          183,
          183,
          185,
          185,
          185,
          185,
          185,
          184,
          185,
          185,
          185,
          185,
          185,
          185,
          187,
          187,
          187,
          187,
          187,
          187,
          187,
          187,
          187,
          187,
          187,
          200,
          206,
          206,
          206,
          206,
          206,
          212,
          212,
          212,
          212,
          212,
          212,
          212,
          210,
          210,
          210,
          209,
          223,
          226,
          226,
          226,
          226,
          226,
          230,
          231,
          229,
          229,
          230,
          230,
          230,
          230,
          230,
          69,
          74,
          74,
          74,
          74,
          74,
          74,
          74,
          74,
          74,
          73,
          75,
          75,
          75,
          75,
          75,
          75,
          75,
          75,
          75,
          75,
          75,
          18,
          63,
          64,
          64,
          64,
          17,
          10,
          4,
          1
         ]
        },
        {
         "name": "Pandacomics",
         "stackgroup": "one",
         "type": "scatter",
         "x": [
          "2020-09-30T00:00:00",
          "2020-04-30T00:00:00",
          "2020-03-31T00:00:00",
          "2020-02-29T00:00:00",
          "2020-01-31T00:00:00",
          "2019-12-31T00:00:00",
          "2019-11-30T00:00:00",
          "2019-10-31T00:00:00",
          "2019-09-30T00:00:00",
          "2019-08-31T00:00:00",
          "2019-07-31T00:00:00",
          "2019-06-30T00:00:00",
          "2019-05-31T00:00:00",
          "2019-04-30T00:00:00",
          "2019-03-31T00:00:00",
          "2019-02-28T00:00:00",
          "2019-01-31T00:00:00",
          "2018-12-31T00:00:00",
          "2018-11-30T00:00:00",
          "2018-10-31T00:00:00",
          "2018-09-30T00:00:00",
          "2018-08-31T00:00:00",
          "2018-07-31T00:00:00",
          "2018-06-30T00:00:00",
          "2018-05-31T00:00:00",
          "2018-04-30T00:00:00",
          "2018-03-31T00:00:00",
          "2018-02-28T00:00:00",
          "2018-01-31T00:00:00",
          "2017-12-31T00:00:00",
          "2017-11-30T00:00:00",
          "2017-10-31T00:00:00",
          "2017-09-30T00:00:00",
          "2017-08-31T00:00:00",
          "2017-07-31T00:00:00",
          "2017-06-30T00:00:00",
          "2017-05-31T00:00:00",
          "2017-04-30T00:00:00",
          "2017-03-31T00:00:00",
          "2017-02-28T00:00:00",
          "2017-01-31T00:00:00",
          "2016-12-31T00:00:00",
          "2016-11-30T00:00:00",
          "2016-10-31T00:00:00",
          "2016-09-30T00:00:00",
          "2016-08-31T00:00:00",
          "2016-07-31T00:00:00",
          "2016-06-30T00:00:00",
          "2016-05-31T00:00:00",
          "2016-04-30T00:00:00",
          "2016-03-31T00:00:00",
          "2016-02-29T00:00:00",
          "2016-01-31T00:00:00",
          "2015-12-31T00:00:00",
          "2015-11-30T00:00:00",
          "2015-10-31T00:00:00",
          "2015-09-30T00:00:00",
          "2015-08-31T00:00:00",
          "2015-07-31T00:00:00",
          "2015-06-30T00:00:00",
          "2015-05-31T00:00:00",
          "2015-04-30T00:00:00",
          "2015-03-31T00:00:00",
          "2015-02-28T00:00:00",
          "2015-01-31T00:00:00",
          "2014-12-31T00:00:00",
          "2014-11-30T00:00:00",
          "2014-10-31T00:00:00",
          "2014-09-30T00:00:00",
          "2014-08-31T00:00:00",
          "2014-07-31T00:00:00",
          "2014-06-30T00:00:00",
          "2014-05-31T00:00:00",
          "2014-04-30T00:00:00",
          "2014-03-31T00:00:00",
          "2014-02-28T00:00:00",
          "2014-01-31T00:00:00",
          "2013-12-31T00:00:00",
          "2013-11-30T00:00:00",
          "2013-10-31T00:00:00",
          "2013-09-30T00:00:00",
          "2013-08-31T00:00:00",
          "2013-07-31T00:00:00",
          "2013-06-30T00:00:00",
          "2013-05-31T00:00:00",
          "2013-04-30T00:00:00",
          "2013-03-31T00:00:00",
          "2013-02-28T00:00:00",
          "2013-01-31T00:00:00",
          "2012-12-31T00:00:00",
          "2012-11-30T00:00:00",
          "2012-10-31T00:00:00",
          "2012-09-30T00:00:00",
          "2012-08-31T00:00:00",
          "2012-07-31T00:00:00",
          "2012-06-30T00:00:00",
          "2012-05-31T00:00:00",
          "2012-04-30T00:00:00",
          "2012-03-31T00:00:00",
          "2012-02-29T00:00:00",
          "2012-01-31T00:00:00",
          "2011-12-31T00:00:00",
          "2011-11-30T00:00:00",
          "2011-10-31T00:00:00",
          "2011-09-30T00:00:00",
          "2011-08-31T00:00:00",
          "2011-07-31T00:00:00",
          "2011-06-30T00:00:00",
          "2011-05-31T00:00:00",
          "2011-04-30T00:00:00",
          "2011-03-31T00:00:00",
          "2011-02-28T00:00:00",
          "2011-01-31T00:00:00",
          "2010-12-31T00:00:00",
          "2010-11-30T00:00:00",
          "2010-10-31T00:00:00",
          "2010-09-30T00:00:00",
          "2010-08-31T00:00:00",
          "2010-07-31T00:00:00",
          "2010-06-30T00:00:00",
          "2010-05-31T00:00:00",
          "2010-04-30T00:00:00",
          "2010-03-31T00:00:00",
          "2010-02-28T00:00:00",
          "2010-01-31T00:00:00",
          "2009-12-31T00:00:00",
          "2009-11-30T00:00:00",
          "2009-10-31T00:00:00",
          "2009-09-30T00:00:00",
          "2009-08-31T00:00:00",
          "2009-07-31T00:00:00",
          "2009-06-30T00:00:00",
          "2009-05-31T00:00:00",
          "2009-04-30T00:00:00",
          "2009-03-31T00:00:00",
          "2009-02-28T00:00:00",
          "2009-01-31T00:00:00",
          "2008-12-31T00:00:00",
          "2008-11-30T00:00:00",
          "2008-10-31T00:00:00",
          "2008-09-30T00:00:00",
          "2008-08-31T00:00:00",
          "2008-07-31T00:00:00",
          "2008-06-30T00:00:00",
          "2008-05-31T00:00:00",
          "2008-04-30T00:00:00",
          "2008-03-31T00:00:00",
          "2008-02-29T00:00:00",
          "2008-01-31T00:00:00",
          "2007-12-31T00:00:00",
          "2007-11-30T00:00:00",
          "2007-10-31T00:00:00",
          "2007-09-30T00:00:00",
          "2007-08-31T00:00:00",
          "2007-07-31T00:00:00",
          "2007-06-30T00:00:00",
          "2007-05-31T00:00:00",
          "2007-04-30T00:00:00"
         ],
         "y": [
          25,
          25,
          25,
          64,
          64,
          64,
          64,
          64,
          64,
          64,
          64,
          64,
          64,
          64,
          63,
          70,
          131,
          131,
          131,
          131,
          131,
          131,
          131,
          131,
          131,
          131,
          122,
          122,
          122,
          122,
          122,
          122,
          122,
          122,
          122,
          122,
          126,
          126,
          127,
          125,
          140,
          140,
          140,
          140,
          140,
          140,
          140,
          140,
          140,
          140,
          140,
          140,
          140,
          140,
          140,
          140,
          140,
          140,
          140,
          140,
          140,
          140,
          142,
          144,
          144,
          149,
          149,
          148,
          149,
          149,
          149,
          149,
          149,
          149,
          149,
          149,
          149,
          149,
          150,
          150,
          150,
          150,
          150,
          150,
          150,
          176,
          176,
          176,
          176,
          176,
          176,
          176,
          176,
          176,
          176,
          176,
          177,
          177,
          179,
          179,
          179,
          185,
          186,
          185,
          185,
          186,
          186,
          186,
          186,
          198,
          198,
          198,
          208,
          204,
          205,
          206,
          206,
          208,
          209,
          209,
          209,
          210,
          210,
          220,
          220,
          230,
          230,
          230,
          230,
          239,
          244,
          245,
          243,
          244,
          244,
          232,
          232,
          232,
          245,
          245,
          251,
          250,
          249,
          250,
          251,
          251,
          253,
          258,
          244,
          255,
          59,
          82,
          85,
          85,
          85,
          25,
          10,
          1
         ]
        },
        {
         "name": "Adjusting",
         "stackgroup": "one",
         "type": "scatter",
         "x": [
          "2020-09-30T00:00:00",
          "2020-04-30T00:00:00",
          "2020-03-31T00:00:00",
          "2020-02-29T00:00:00",
          "2020-01-31T00:00:00",
          "2019-12-31T00:00:00",
          "2019-11-30T00:00:00",
          "2019-10-31T00:00:00",
          "2019-09-30T00:00:00",
          "2019-08-31T00:00:00",
          "2019-07-31T00:00:00",
          "2019-06-30T00:00:00",
          "2019-05-31T00:00:00",
          "2019-04-30T00:00:00",
          "2019-03-31T00:00:00",
          "2019-02-28T00:00:00",
          "2019-01-31T00:00:00",
          "2018-12-31T00:00:00",
          "2018-11-30T00:00:00",
          "2018-10-31T00:00:00",
          "2018-09-30T00:00:00",
          "2018-08-31T00:00:00",
          "2018-07-31T00:00:00",
          "2018-06-30T00:00:00",
          "2018-05-31T00:00:00",
          "2018-04-30T00:00:00",
          "2018-03-31T00:00:00",
          "2018-02-28T00:00:00",
          "2018-01-31T00:00:00",
          "2017-12-31T00:00:00",
          "2017-11-30T00:00:00",
          "2017-10-31T00:00:00",
          "2017-09-30T00:00:00",
          "2017-08-31T00:00:00",
          "2017-07-31T00:00:00",
          "2017-06-30T00:00:00",
          "2017-05-31T00:00:00",
          "2017-04-30T00:00:00",
          "2017-03-31T00:00:00",
          "2017-02-28T00:00:00",
          "2017-01-31T00:00:00",
          "2016-12-31T00:00:00",
          "2016-11-30T00:00:00",
          "2016-10-31T00:00:00",
          "2016-09-30T00:00:00",
          "2016-08-31T00:00:00",
          "2016-07-31T00:00:00",
          "2016-06-30T00:00:00",
          "2016-05-31T00:00:00",
          "2016-04-30T00:00:00",
          "2016-03-31T00:00:00",
          "2016-02-29T00:00:00",
          "2016-01-31T00:00:00",
          "2015-12-31T00:00:00",
          "2015-11-30T00:00:00",
          "2015-10-31T00:00:00",
          "2015-09-30T00:00:00",
          "2015-08-31T00:00:00",
          "2015-07-31T00:00:00",
          "2015-06-30T00:00:00",
          "2015-05-31T00:00:00",
          "2015-04-30T00:00:00",
          "2015-03-31T00:00:00",
          "2015-02-28T00:00:00",
          "2015-01-31T00:00:00",
          "2014-12-31T00:00:00",
          "2014-11-30T00:00:00",
          "2014-10-31T00:00:00",
          "2014-09-30T00:00:00",
          "2014-08-31T00:00:00",
          "2014-07-31T00:00:00",
          "2014-06-30T00:00:00",
          "2014-05-31T00:00:00",
          "2014-04-30T00:00:00",
          "2014-03-31T00:00:00",
          "2014-02-28T00:00:00",
          "2014-01-31T00:00:00",
          "2013-12-31T00:00:00",
          "2013-11-30T00:00:00",
          "2013-10-31T00:00:00",
          "2013-09-30T00:00:00",
          "2013-08-31T00:00:00",
          "2013-07-31T00:00:00",
          "2013-06-30T00:00:00",
          "2013-05-31T00:00:00",
          "2013-04-30T00:00:00",
          "2013-03-31T00:00:00",
          "2013-02-28T00:00:00",
          "2013-01-31T00:00:00",
          "2012-12-31T00:00:00",
          "2012-11-30T00:00:00",
          "2012-10-31T00:00:00",
          "2012-09-30T00:00:00",
          "2012-08-31T00:00:00",
          "2012-07-31T00:00:00",
          "2012-06-30T00:00:00",
          "2012-05-31T00:00:00",
          "2012-04-30T00:00:00",
          "2012-03-31T00:00:00",
          "2012-02-29T00:00:00",
          "2012-01-31T00:00:00",
          "2011-12-31T00:00:00",
          "2011-11-30T00:00:00",
          "2011-10-31T00:00:00",
          "2011-09-30T00:00:00",
          "2011-08-31T00:00:00",
          "2011-07-31T00:00:00",
          "2011-06-30T00:00:00",
          "2011-05-31T00:00:00",
          "2011-04-30T00:00:00",
          "2011-03-31T00:00:00",
          "2011-02-28T00:00:00",
          "2011-01-31T00:00:00",
          "2010-12-31T00:00:00",
          "2010-11-30T00:00:00",
          "2010-10-31T00:00:00",
          "2010-09-30T00:00:00",
          "2010-08-31T00:00:00",
          "2010-07-31T00:00:00",
          "2010-06-30T00:00:00",
          "2010-05-31T00:00:00",
          "2010-04-30T00:00:00",
          "2010-03-31T00:00:00",
          "2010-02-28T00:00:00",
          "2010-01-31T00:00:00",
          "2009-12-31T00:00:00",
          "2009-11-30T00:00:00",
          "2009-10-31T00:00:00",
          "2009-09-30T00:00:00",
          "2009-08-31T00:00:00",
          "2009-07-31T00:00:00",
          "2009-06-30T00:00:00",
          "2009-05-31T00:00:00",
          "2009-04-30T00:00:00",
          "2009-03-31T00:00:00",
          "2009-02-28T00:00:00",
          "2009-01-31T00:00:00",
          "2008-12-31T00:00:00",
          "2008-11-30T00:00:00",
          "2008-10-31T00:00:00",
          "2008-09-30T00:00:00",
          "2008-08-31T00:00:00",
          "2008-07-31T00:00:00",
          "2008-06-30T00:00:00",
          "2008-05-31T00:00:00",
          "2008-04-30T00:00:00",
          "2008-03-31T00:00:00",
          "2008-02-29T00:00:00",
          "2008-01-31T00:00:00",
          "2007-12-31T00:00:00",
          "2007-11-30T00:00:00",
          "2007-10-31T00:00:00",
          "2007-09-30T00:00:00",
          "2007-08-31T00:00:00",
          "2007-07-31T00:00:00",
          "2007-06-30T00:00:00",
          "2007-05-31T00:00:00"
         ],
         "y": [
          74,
          74,
          74,
          74,
          74,
          74,
          74,
          74,
          74,
          74,
          74,
          74,
          74,
          74,
          74,
          74,
          74,
          74,
          74,
          74,
          74,
          74,
          74,
          74,
          74,
          74,
          74,
          74,
          74,
          74,
          74,
          74,
          74,
          74,
          74,
          74,
          74,
          74,
          74,
          74,
          74,
          74,
          74,
          74,
          74,
          74,
          74,
          74,
          74,
          74,
          74,
          74,
          74,
          74,
          74,
          74,
          74,
          74,
          74,
          74,
          74,
          74,
          74,
          74,
          74,
          74,
          74,
          74,
          88,
          88,
          88,
          88,
          88,
          88,
          88,
          88,
          88,
          88,
          88,
          88,
          88,
          88,
          88,
          88,
          88,
          88,
          88,
          88,
          88,
          88,
          88,
          88,
          88,
          88,
          88,
          88,
          88,
          88,
          88,
          88,
          88,
          88,
          93,
          93,
          93,
          93,
          97,
          97,
          97,
          101,
          101,
          101,
          101,
          101,
          102,
          102,
          103,
          103,
          103,
          103,
          103,
          103,
          103,
          106,
          106,
          106,
          106,
          106,
          109,
          131,
          131,
          131,
          131,
          134,
          134,
          137,
          137,
          137,
          148,
          148,
          148,
          148,
          148,
          169,
          169,
          169,
          169,
          169,
          169,
          169,
          140,
          169,
          169,
          169,
          169,
          181,
          2
         ]
        },
        {
         "name": "CaliforniaAliBaba",
         "stackgroup": "one",
         "type": "scatter",
         "x": [
          "2020-09-30T00:00:00",
          "2020-04-30T00:00:00",
          "2020-03-31T00:00:00",
          "2020-02-29T00:00:00",
          "2020-01-31T00:00:00",
          "2019-12-31T00:00:00",
          "2019-11-30T00:00:00",
          "2019-10-31T00:00:00",
          "2019-09-30T00:00:00",
          "2019-08-31T00:00:00",
          "2019-07-31T00:00:00",
          "2019-06-30T00:00:00",
          "2019-05-31T00:00:00",
          "2019-04-30T00:00:00",
          "2019-03-31T00:00:00",
          "2019-02-28T00:00:00",
          "2019-01-31T00:00:00",
          "2018-12-31T00:00:00",
          "2018-11-30T00:00:00",
          "2018-10-31T00:00:00",
          "2018-09-30T00:00:00",
          "2018-08-31T00:00:00",
          "2018-07-31T00:00:00",
          "2018-06-30T00:00:00",
          "2018-05-31T00:00:00",
          "2018-04-30T00:00:00",
          "2018-03-31T00:00:00",
          "2018-02-28T00:00:00",
          "2018-01-31T00:00:00",
          "2017-12-31T00:00:00",
          "2017-11-30T00:00:00",
          "2017-10-31T00:00:00",
          "2017-09-30T00:00:00",
          "2017-08-31T00:00:00",
          "2017-07-31T00:00:00",
          "2017-06-30T00:00:00",
          "2017-05-31T00:00:00",
          "2017-04-30T00:00:00",
          "2017-03-31T00:00:00",
          "2017-02-28T00:00:00",
          "2017-01-31T00:00:00",
          "2016-12-31T00:00:00",
          "2016-11-30T00:00:00",
          "2016-10-31T00:00:00",
          "2016-09-30T00:00:00",
          "2016-08-31T00:00:00",
          "2016-07-31T00:00:00",
          "2016-06-30T00:00:00",
          "2016-05-31T00:00:00",
          "2016-04-30T00:00:00",
          "2016-03-31T00:00:00",
          "2016-02-29T00:00:00",
          "2016-01-31T00:00:00",
          "2015-12-31T00:00:00",
          "2015-11-30T00:00:00",
          "2015-10-31T00:00:00",
          "2015-09-30T00:00:00",
          "2015-08-31T00:00:00",
          "2015-07-31T00:00:00",
          "2015-06-30T00:00:00",
          "2015-05-31T00:00:00",
          "2015-04-30T00:00:00",
          "2015-03-31T00:00:00",
          "2015-02-28T00:00:00",
          "2015-01-31T00:00:00",
          "2014-12-31T00:00:00",
          "2014-11-30T00:00:00",
          "2014-10-31T00:00:00",
          "2014-09-30T00:00:00",
          "2014-08-31T00:00:00",
          "2014-07-31T00:00:00",
          "2014-06-30T00:00:00",
          "2014-05-31T00:00:00",
          "2014-04-30T00:00:00",
          "2014-03-31T00:00:00",
          "2014-02-28T00:00:00",
          "2014-01-31T00:00:00",
          "2013-12-31T00:00:00",
          "2013-11-30T00:00:00",
          "2013-10-31T00:00:00",
          "2013-09-30T00:00:00",
          "2013-08-31T00:00:00",
          "2013-07-31T00:00:00",
          "2013-06-30T00:00:00",
          "2013-05-31T00:00:00",
          "2013-04-30T00:00:00",
          "2013-03-31T00:00:00",
          "2013-02-28T00:00:00",
          "2013-01-31T00:00:00",
          "2012-12-31T00:00:00",
          "2012-11-30T00:00:00",
          "2012-10-31T00:00:00",
          "2012-09-30T00:00:00",
          "2012-08-31T00:00:00",
          "2012-07-31T00:00:00",
          "2012-06-30T00:00:00",
          "2012-05-31T00:00:00",
          "2012-04-30T00:00:00",
          "2012-03-31T00:00:00",
          "2012-02-29T00:00:00",
          "2012-01-31T00:00:00",
          "2011-12-31T00:00:00",
          "2011-11-30T00:00:00",
          "2011-10-31T00:00:00",
          "2011-09-30T00:00:00",
          "2011-08-31T00:00:00",
          "2011-07-31T00:00:00",
          "2011-06-30T00:00:00",
          "2011-05-31T00:00:00",
          "2011-04-30T00:00:00",
          "2011-03-31T00:00:00",
          "2011-02-28T00:00:00",
          "2011-01-31T00:00:00",
          "2010-12-31T00:00:00",
          "2010-11-30T00:00:00",
          "2010-10-31T00:00:00",
          "2010-09-30T00:00:00",
          "2010-08-31T00:00:00",
          "2010-07-31T00:00:00",
          "2010-06-30T00:00:00",
          "2010-05-31T00:00:00",
          "2010-04-30T00:00:00",
          "2010-03-31T00:00:00",
          "2010-02-28T00:00:00",
          "2010-01-31T00:00:00",
          "2009-12-31T00:00:00",
          "2009-11-30T00:00:00",
          "2009-10-31T00:00:00",
          "2009-09-30T00:00:00",
          "2009-08-31T00:00:00",
          "2009-07-31T00:00:00",
          "2009-06-30T00:00:00",
          "2009-05-31T00:00:00",
          "2009-04-30T00:00:00",
          "2009-03-31T00:00:00",
          "2009-02-28T00:00:00",
          "2009-01-31T00:00:00",
          "2008-12-31T00:00:00",
          "2008-11-30T00:00:00",
          "2008-10-31T00:00:00",
          "2008-09-30T00:00:00",
          "2008-08-31T00:00:00",
          "2008-07-31T00:00:00",
          "2008-06-30T00:00:00",
          "2008-05-31T00:00:00",
          "2008-04-30T00:00:00",
          "2008-03-31T00:00:00",
          "2008-02-29T00:00:00",
          "2008-01-31T00:00:00",
          "2007-12-31T00:00:00"
         ],
         "y": [
          90,
          90,
          90,
          90,
          90,
          90,
          90,
          90,
          90,
          90,
          90,
          90,
          90,
          90,
          90,
          90,
          90,
          90,
          90,
          90,
          90,
          90,
          90,
          90,
          90,
          90,
          90,
          90,
          90,
          90,
          90,
          90,
          90,
          90,
          90,
          90,
          90,
          90,
          90,
          90,
          90,
          90,
          90,
          90,
          90,
          93,
          93,
          93,
          93,
          93,
          93,
          93,
          93,
          93,
          93,
          93,
          93,
          93,
          93,
          93,
          93,
          93,
          93,
          93,
          93,
          93,
          93,
          93,
          93,
          93,
          93,
          93,
          93,
          105,
          105,
          105,
          105,
          105,
          105,
          105,
          105,
          105,
          105,
          105,
          105,
          105,
          105,
          105,
          105,
          105,
          105,
          105,
          105,
          105,
          105,
          105,
          105,
          105,
          105,
          105,
          105,
          105,
          105,
          105,
          105,
          105,
          105,
          105,
          105,
          106,
          106,
          106,
          106,
          106,
          106,
          106,
          106,
          106,
          106,
          106,
          106,
          106,
          106,
          106,
          106,
          106,
          106,
          106,
          106,
          106,
          106,
          106,
          106,
          106,
          106,
          106,
          106,
          106,
          106,
          106,
          106,
          106,
          106,
          106,
          106,
          106,
          106,
          106,
          106,
          106
         ]
        },
        {
         "name": "Hza100",
         "stackgroup": "one",
         "type": "scatter",
         "x": [
          "2020-09-30T00:00:00",
          "2020-04-30T00:00:00",
          "2020-03-31T00:00:00",
          "2020-02-29T00:00:00",
          "2020-01-31T00:00:00",
          "2019-12-31T00:00:00",
          "2019-11-30T00:00:00",
          "2019-10-31T00:00:00",
          "2019-09-30T00:00:00",
          "2019-08-31T00:00:00",
          "2019-07-31T00:00:00",
          "2019-06-30T00:00:00",
          "2019-05-31T00:00:00",
          "2019-04-30T00:00:00",
          "2019-03-31T00:00:00",
          "2019-02-28T00:00:00",
          "2019-01-31T00:00:00",
          "2018-12-31T00:00:00",
          "2018-11-30T00:00:00",
          "2018-10-31T00:00:00",
          "2018-09-30T00:00:00",
          "2018-08-31T00:00:00",
          "2018-07-31T00:00:00",
          "2018-06-30T00:00:00",
          "2018-05-31T00:00:00",
          "2018-04-30T00:00:00",
          "2018-03-31T00:00:00",
          "2018-02-28T00:00:00",
          "2018-01-31T00:00:00",
          "2017-12-31T00:00:00",
          "2017-11-30T00:00:00",
          "2017-10-31T00:00:00",
          "2017-09-30T00:00:00",
          "2017-08-31T00:00:00",
          "2017-07-31T00:00:00",
          "2017-06-30T00:00:00",
          "2017-05-31T00:00:00",
          "2017-04-30T00:00:00",
          "2017-03-31T00:00:00",
          "2017-02-28T00:00:00",
          "2017-01-31T00:00:00",
          "2016-12-31T00:00:00",
          "2016-11-30T00:00:00",
          "2016-10-31T00:00:00",
          "2016-09-30T00:00:00",
          "2016-08-31T00:00:00",
          "2016-07-31T00:00:00",
          "2016-06-30T00:00:00",
          "2016-05-31T00:00:00",
          "2016-04-30T00:00:00",
          "2016-03-31T00:00:00",
          "2016-02-29T00:00:00",
          "2016-01-31T00:00:00",
          "2015-12-31T00:00:00",
          "2015-11-30T00:00:00",
          "2015-10-31T00:00:00",
          "2015-09-30T00:00:00",
          "2015-08-31T00:00:00",
          "2015-07-31T00:00:00",
          "2015-06-30T00:00:00",
          "2015-05-31T00:00:00",
          "2015-04-30T00:00:00",
          "2015-03-31T00:00:00",
          "2015-02-28T00:00:00",
          "2015-01-31T00:00:00",
          "2014-12-31T00:00:00",
          "2014-11-30T00:00:00",
          "2014-10-31T00:00:00",
          "2014-09-30T00:00:00",
          "2014-08-31T00:00:00",
          "2014-07-31T00:00:00",
          "2014-06-30T00:00:00",
          "2014-05-31T00:00:00",
          "2014-04-30T00:00:00",
          "2014-03-31T00:00:00",
          "2014-02-28T00:00:00",
          "2014-01-31T00:00:00",
          "2013-12-31T00:00:00",
          "2013-11-30T00:00:00",
          "2013-10-31T00:00:00",
          "2013-09-30T00:00:00",
          "2013-08-31T00:00:00",
          "2013-07-31T00:00:00",
          "2013-06-30T00:00:00",
          "2013-05-31T00:00:00",
          "2013-04-30T00:00:00",
          "2013-03-31T00:00:00",
          "2013-02-28T00:00:00",
          "2013-01-31T00:00:00",
          "2012-12-31T00:00:00",
          "2012-11-30T00:00:00",
          "2012-10-31T00:00:00",
          "2012-09-30T00:00:00",
          "2012-08-31T00:00:00",
          "2012-07-31T00:00:00",
          "2012-06-30T00:00:00",
          "2012-05-31T00:00:00",
          "2012-04-30T00:00:00",
          "2012-03-31T00:00:00",
          "2012-02-29T00:00:00",
          "2012-01-31T00:00:00",
          "2011-12-31T00:00:00",
          "2011-11-30T00:00:00",
          "2011-10-31T00:00:00",
          "2011-09-30T00:00:00",
          "2011-08-31T00:00:00",
          "2011-07-31T00:00:00",
          "2011-06-30T00:00:00",
          "2011-05-31T00:00:00",
          "2011-04-30T00:00:00",
          "2011-03-31T00:00:00",
          "2011-02-28T00:00:00",
          "2011-01-31T00:00:00",
          "2010-12-31T00:00:00",
          "2010-11-30T00:00:00",
          "2010-10-31T00:00:00",
          "2010-09-30T00:00:00",
          "2010-08-31T00:00:00",
          "2010-07-31T00:00:00",
          "2010-06-30T00:00:00",
          "2010-05-31T00:00:00",
          "2010-04-30T00:00:00",
          "2010-03-31T00:00:00",
          "2010-02-28T00:00:00",
          "2010-01-31T00:00:00",
          "2009-12-31T00:00:00",
          "2009-11-30T00:00:00",
          "2009-10-31T00:00:00",
          "2009-09-30T00:00:00",
          "2009-08-31T00:00:00",
          "2009-07-31T00:00:00",
          "2009-06-30T00:00:00",
          "2009-05-31T00:00:00",
          "2009-04-30T00:00:00",
          "2009-03-31T00:00:00",
          "2009-02-28T00:00:00",
          "2009-01-31T00:00:00",
          "2008-12-31T00:00:00",
          "2008-11-30T00:00:00",
          "2008-10-31T00:00:00",
          "2008-09-30T00:00:00",
          "2008-08-31T00:00:00",
          "2008-07-31T00:00:00"
         ],
         "y": [
          132,
          132,
          132,
          133,
          133,
          133,
          133,
          133,
          133,
          133,
          133,
          133,
          133,
          133,
          133,
          133,
          133,
          133,
          134,
          134,
          134,
          134,
          134,
          134,
          134,
          134,
          134,
          134,
          134,
          134,
          134,
          134,
          134,
          134,
          134,
          134,
          136,
          136,
          136,
          136,
          136,
          136,
          136,
          135,
          135,
          135,
          135,
          135,
          132,
          132,
          132,
          132,
          132,
          132,
          134,
          134,
          134,
          134,
          134,
          134,
          134,
          134,
          26,
          26,
          26,
          26,
          26,
          26,
          39,
          39,
          39,
          39,
          39,
          40,
          40,
          40,
          40,
          40,
          40,
          40,
          40,
          40,
          40,
          40,
          40,
          40,
          40,
          40,
          40,
          40,
          40,
          40,
          40,
          40,
          40,
          40,
          40,
          40,
          40,
          40,
          40,
          40,
          40,
          40,
          40,
          40,
          40,
          40,
          40,
          46,
          46,
          46,
          71,
          78,
          78,
          78,
          79,
          79,
          79,
          79,
          79,
          79,
          79,
          79,
          81,
          81,
          81,
          81,
          81,
          85,
          86,
          86,
          87,
          87,
          87,
          91,
          91,
          91,
          83,
          50,
          42,
          4,
          3
         ]
        },
        {
         "name": "Soangry",
         "stackgroup": "one",
         "type": "scatter",
         "x": [
          "2020-09-30T00:00:00",
          "2020-04-30T00:00:00",
          "2020-03-31T00:00:00",
          "2020-02-29T00:00:00",
          "2020-01-31T00:00:00",
          "2019-12-31T00:00:00",
          "2019-11-30T00:00:00",
          "2019-10-31T00:00:00",
          "2019-09-30T00:00:00",
          "2019-08-31T00:00:00",
          "2019-07-31T00:00:00",
          "2019-06-30T00:00:00",
          "2019-05-31T00:00:00",
          "2019-04-30T00:00:00",
          "2019-03-31T00:00:00",
          "2019-02-28T00:00:00",
          "2019-01-31T00:00:00",
          "2018-12-31T00:00:00",
          "2018-11-30T00:00:00",
          "2018-10-31T00:00:00",
          "2018-09-30T00:00:00",
          "2018-08-31T00:00:00",
          "2018-07-31T00:00:00",
          "2018-06-30T00:00:00",
          "2018-05-31T00:00:00",
          "2018-04-30T00:00:00",
          "2018-03-31T00:00:00",
          "2018-02-28T00:00:00",
          "2018-01-31T00:00:00",
          "2017-12-31T00:00:00",
          "2017-11-30T00:00:00",
          "2017-10-31T00:00:00",
          "2017-09-30T00:00:00",
          "2017-08-31T00:00:00",
          "2017-07-31T00:00:00",
          "2017-06-30T00:00:00",
          "2017-05-31T00:00:00",
          "2017-04-30T00:00:00",
          "2017-03-31T00:00:00",
          "2017-02-28T00:00:00",
          "2017-01-31T00:00:00",
          "2016-12-31T00:00:00",
          "2016-11-30T00:00:00",
          "2016-10-31T00:00:00",
          "2016-09-30T00:00:00",
          "2016-08-31T00:00:00",
          "2016-07-31T00:00:00",
          "2016-06-30T00:00:00",
          "2016-05-31T00:00:00",
          "2016-04-30T00:00:00",
          "2016-03-31T00:00:00",
          "2016-02-29T00:00:00",
          "2016-01-31T00:00:00",
          "2015-12-31T00:00:00",
          "2015-11-30T00:00:00",
          "2015-10-31T00:00:00",
          "2015-09-30T00:00:00",
          "2015-08-31T00:00:00",
          "2015-07-31T00:00:00",
          "2015-06-30T00:00:00",
          "2015-05-31T00:00:00",
          "2015-04-30T00:00:00",
          "2015-03-31T00:00:00",
          "2015-02-28T00:00:00",
          "2015-01-31T00:00:00",
          "2014-12-31T00:00:00",
          "2014-11-30T00:00:00",
          "2014-10-31T00:00:00",
          "2014-09-30T00:00:00",
          "2014-08-31T00:00:00",
          "2014-07-31T00:00:00",
          "2014-06-30T00:00:00",
          "2014-05-31T00:00:00",
          "2014-04-30T00:00:00",
          "2014-03-31T00:00:00",
          "2014-02-28T00:00:00",
          "2014-01-31T00:00:00",
          "2013-12-31T00:00:00",
          "2013-11-30T00:00:00",
          "2013-10-31T00:00:00",
          "2013-09-30T00:00:00",
          "2013-08-31T00:00:00",
          "2013-07-31T00:00:00",
          "2013-06-30T00:00:00",
          "2013-05-31T00:00:00",
          "2013-04-30T00:00:00",
          "2013-03-31T00:00:00",
          "2013-02-28T00:00:00",
          "2013-01-31T00:00:00",
          "2012-12-31T00:00:00",
          "2012-11-30T00:00:00",
          "2012-10-31T00:00:00",
          "2012-09-30T00:00:00",
          "2012-08-31T00:00:00",
          "2012-07-31T00:00:00",
          "2012-06-30T00:00:00",
          "2012-05-31T00:00:00",
          "2012-04-30T00:00:00",
          "2012-03-31T00:00:00",
          "2012-02-29T00:00:00",
          "2012-01-31T00:00:00",
          "2011-12-31T00:00:00",
          "2011-11-30T00:00:00",
          "2011-10-31T00:00:00",
          "2011-09-30T00:00:00",
          "2011-08-31T00:00:00",
          "2011-07-31T00:00:00",
          "2011-06-30T00:00:00",
          "2011-05-31T00:00:00",
          "2011-04-30T00:00:00",
          "2011-03-31T00:00:00",
          "2011-02-28T00:00:00",
          "2011-01-31T00:00:00",
          "2010-12-31T00:00:00",
          "2010-11-30T00:00:00",
          "2010-10-31T00:00:00",
          "2010-09-30T00:00:00",
          "2010-08-31T00:00:00",
          "2010-07-31T00:00:00",
          "2010-06-30T00:00:00",
          "2010-05-31T00:00:00",
          "2010-04-30T00:00:00",
          "2010-03-31T00:00:00",
          "2010-02-28T00:00:00",
          "2010-01-31T00:00:00",
          "2009-12-31T00:00:00",
          "2009-11-30T00:00:00",
          "2009-10-31T00:00:00",
          "2009-09-30T00:00:00"
         ],
         "y": [
          49,
          49,
          49,
          58,
          58,
          58,
          58,
          58,
          58,
          58,
          58,
          58,
          58,
          58,
          58,
          58,
          65,
          65,
          66,
          66,
          66,
          68,
          68,
          68,
          68,
          68,
          68,
          68,
          68,
          68,
          68,
          68,
          68,
          68,
          68,
          68,
          87,
          87,
          87,
          87,
          87,
          87,
          87,
          87,
          87,
          87,
          87,
          87,
          90,
          90,
          90,
          90,
          90,
          90,
          90,
          90,
          90,
          90,
          90,
          90,
          90,
          90,
          90,
          90,
          99,
          114,
          111,
          113,
          113,
          113,
          113,
          113,
          113,
          113,
          113,
          113,
          113,
          113,
          124,
          124,
          124,
          124,
          124,
          124,
          124,
          126,
          126,
          126,
          126,
          126,
          129,
          129,
          132,
          132,
          132,
          135,
          134,
          136,
          136,
          136,
          136,
          132,
          132,
          132,
          132,
          133,
          133,
          133,
          131,
          134,
          134,
          129,
          128,
          134,
          147,
          149,
          129,
          129,
          91,
          106,
          106,
          92,
          80,
          75,
          75,
          75,
          79,
          77,
          6
         ]
        },
        {
         "name": "Michaela den",
         "stackgroup": "one",
         "type": "scatter",
         "x": [
          "2020-09-30T00:00:00",
          "2020-04-30T00:00:00",
          "2020-03-31T00:00:00",
          "2020-02-29T00:00:00",
          "2020-01-31T00:00:00",
          "2019-12-31T00:00:00",
          "2019-11-30T00:00:00",
          "2019-10-31T00:00:00",
          "2019-09-30T00:00:00",
          "2019-08-31T00:00:00",
          "2019-07-31T00:00:00",
          "2019-06-30T00:00:00",
          "2019-05-31T00:00:00",
          "2019-04-30T00:00:00",
          "2019-03-31T00:00:00",
          "2019-02-28T00:00:00",
          "2019-01-31T00:00:00",
          "2018-12-31T00:00:00",
          "2018-11-30T00:00:00",
          "2018-10-31T00:00:00",
          "2018-09-30T00:00:00",
          "2018-08-31T00:00:00",
          "2018-07-31T00:00:00",
          "2018-06-30T00:00:00",
          "2018-05-31T00:00:00",
          "2018-04-30T00:00:00",
          "2018-03-31T00:00:00",
          "2018-02-28T00:00:00",
          "2018-01-31T00:00:00",
          "2017-12-31T00:00:00",
          "2017-11-30T00:00:00",
          "2017-10-31T00:00:00",
          "2017-09-30T00:00:00",
          "2017-08-31T00:00:00",
          "2017-07-31T00:00:00",
          "2017-06-30T00:00:00",
          "2017-05-31T00:00:00",
          "2017-04-30T00:00:00",
          "2017-03-31T00:00:00",
          "2017-02-28T00:00:00",
          "2017-01-31T00:00:00",
          "2016-12-31T00:00:00",
          "2016-11-30T00:00:00",
          "2016-10-31T00:00:00",
          "2016-09-30T00:00:00",
          "2016-08-31T00:00:00",
          "2016-07-31T00:00:00",
          "2016-06-30T00:00:00",
          "2016-05-31T00:00:00",
          "2016-04-30T00:00:00",
          "2016-03-31T00:00:00",
          "2016-02-29T00:00:00",
          "2016-01-31T00:00:00",
          "2015-12-31T00:00:00",
          "2015-11-30T00:00:00",
          "2015-10-31T00:00:00",
          "2015-09-30T00:00:00",
          "2015-08-31T00:00:00",
          "2015-07-31T00:00:00",
          "2015-06-30T00:00:00",
          "2015-05-31T00:00:00",
          "2015-04-30T00:00:00",
          "2015-03-31T00:00:00",
          "2015-02-28T00:00:00",
          "2015-01-31T00:00:00",
          "2014-12-31T00:00:00",
          "2014-11-30T00:00:00",
          "2014-10-31T00:00:00",
          "2014-09-30T00:00:00",
          "2014-08-31T00:00:00",
          "2014-07-31T00:00:00",
          "2014-06-30T00:00:00",
          "2014-05-31T00:00:00",
          "2014-04-30T00:00:00",
          "2014-03-31T00:00:00",
          "2014-02-28T00:00:00",
          "2014-01-31T00:00:00",
          "2013-12-31T00:00:00",
          "2013-11-30T00:00:00",
          "2013-10-31T00:00:00",
          "2013-09-30T00:00:00",
          "2013-08-31T00:00:00",
          "2013-07-31T00:00:00",
          "2013-06-30T00:00:00",
          "2013-05-31T00:00:00",
          "2013-04-30T00:00:00",
          "2013-03-31T00:00:00",
          "2013-02-28T00:00:00",
          "2013-01-31T00:00:00",
          "2012-12-31T00:00:00",
          "2012-11-30T00:00:00",
          "2012-10-31T00:00:00",
          "2012-09-30T00:00:00",
          "2012-08-31T00:00:00",
          "2012-07-31T00:00:00",
          "2012-06-30T00:00:00",
          "2012-05-31T00:00:00",
          "2012-04-30T00:00:00",
          "2012-03-31T00:00:00",
          "2012-02-29T00:00:00",
          "2012-01-31T00:00:00",
          "2011-12-31T00:00:00",
          "2011-11-30T00:00:00",
          "2011-10-31T00:00:00",
          "2011-09-30T00:00:00",
          "2011-08-31T00:00:00",
          "2011-07-31T00:00:00",
          "2011-06-30T00:00:00",
          "2011-05-31T00:00:00",
          "2011-04-30T00:00:00",
          "2011-03-31T00:00:00",
          "2011-02-28T00:00:00",
          "2011-01-31T00:00:00",
          "2010-12-31T00:00:00",
          "2010-11-30T00:00:00"
         ],
         "y": [
          159,
          159,
          159,
          159,
          159,
          159,
          159,
          164,
          164,
          164,
          164,
          164,
          164,
          164,
          164,
          164,
          178,
          178,
          178,
          178,
          178,
          178,
          178,
          178,
          178,
          178,
          178,
          178,
          178,
          178,
          178,
          178,
          178,
          178,
          178,
          178,
          178,
          178,
          178,
          178,
          178,
          178,
          178,
          178,
          178,
          178,
          178,
          178,
          178,
          178,
          178,
          178,
          182,
          182,
          182,
          182,
          182,
          182,
          182,
          182,
          182,
          182,
          182,
          182,
          186,
          196,
          203,
          203,
          203,
          203,
          203,
          203,
          203,
          203,
          203,
          203,
          216,
          216,
          216,
          216,
          216,
          216,
          216,
          216,
          216,
          220,
          220,
          220,
          220,
          220,
          220,
          220,
          220,
          220,
          220,
          220,
          222,
          222,
          222,
          222,
          218,
          220,
          225,
          218,
          218,
          221,
          221,
          221,
          209,
          164,
          164,
          164,
          1,
          1,
          1
         ]
        },
        {
         "name": "Nbagigafreak",
         "stackgroup": "one",
         "type": "scatter",
         "x": [
          "2020-09-30T00:00:00",
          "2020-04-30T00:00:00",
          "2020-03-31T00:00:00",
          "2020-02-29T00:00:00",
          "2020-01-31T00:00:00",
          "2019-12-31T00:00:00",
          "2019-11-30T00:00:00",
          "2019-10-31T00:00:00",
          "2019-09-30T00:00:00",
          "2019-08-31T00:00:00",
          "2019-07-31T00:00:00",
          "2019-06-30T00:00:00",
          "2019-05-31T00:00:00",
          "2019-04-30T00:00:00",
          "2019-03-31T00:00:00",
          "2019-02-28T00:00:00",
          "2019-01-31T00:00:00",
          "2018-12-31T00:00:00",
          "2018-11-30T00:00:00",
          "2018-10-31T00:00:00",
          "2018-09-30T00:00:00",
          "2018-08-31T00:00:00",
          "2018-07-31T00:00:00",
          "2018-06-30T00:00:00",
          "2018-05-31T00:00:00",
          "2018-04-30T00:00:00",
          "2018-03-31T00:00:00",
          "2018-02-28T00:00:00",
          "2018-01-31T00:00:00",
          "2017-12-31T00:00:00",
          "2017-11-30T00:00:00",
          "2017-10-31T00:00:00",
          "2017-09-30T00:00:00",
          "2017-08-31T00:00:00",
          "2017-07-31T00:00:00",
          "2017-06-30T00:00:00",
          "2017-05-31T00:00:00",
          "2017-04-30T00:00:00",
          "2017-03-31T00:00:00",
          "2017-02-28T00:00:00",
          "2017-01-31T00:00:00",
          "2016-12-31T00:00:00",
          "2016-11-30T00:00:00",
          "2016-10-31T00:00:00",
          "2016-09-30T00:00:00",
          "2016-08-31T00:00:00",
          "2016-07-31T00:00:00",
          "2016-06-30T00:00:00",
          "2016-05-31T00:00:00",
          "2016-04-30T00:00:00",
          "2016-03-31T00:00:00",
          "2016-02-29T00:00:00",
          "2016-01-31T00:00:00",
          "2015-12-31T00:00:00",
          "2015-11-30T00:00:00",
          "2015-10-31T00:00:00",
          "2015-09-30T00:00:00",
          "2015-08-31T00:00:00",
          "2015-07-31T00:00:00",
          "2015-06-30T00:00:00",
          "2015-05-31T00:00:00",
          "2015-04-30T00:00:00",
          "2015-03-31T00:00:00",
          "2015-02-28T00:00:00",
          "2015-01-31T00:00:00",
          "2014-12-31T00:00:00",
          "2014-11-30T00:00:00",
          "2014-10-31T00:00:00",
          "2014-09-30T00:00:00",
          "2014-08-31T00:00:00",
          "2014-07-31T00:00:00",
          "2014-06-30T00:00:00",
          "2014-05-31T00:00:00",
          "2014-04-30T00:00:00",
          "2014-03-31T00:00:00",
          "2014-02-28T00:00:00",
          "2014-01-31T00:00:00",
          "2013-12-31T00:00:00",
          "2013-11-30T00:00:00",
          "2013-10-31T00:00:00",
          "2013-09-30T00:00:00",
          "2013-08-31T00:00:00",
          "2013-07-31T00:00:00",
          "2013-06-30T00:00:00",
          "2013-05-31T00:00:00",
          "2013-04-30T00:00:00",
          "2013-03-31T00:00:00",
          "2013-02-28T00:00:00",
          "2013-01-31T00:00:00",
          "2012-12-31T00:00:00",
          "2012-11-30T00:00:00",
          "2012-10-31T00:00:00",
          "2012-09-30T00:00:00",
          "2012-08-31T00:00:00",
          "2012-07-31T00:00:00",
          "2012-06-30T00:00:00",
          "2012-05-31T00:00:00",
          "2012-04-30T00:00:00"
         ],
         "y": [
          328,
          328,
          328,
          328,
          328,
          328,
          334,
          334,
          334,
          334,
          334,
          334,
          334,
          334,
          334,
          334,
          335,
          335,
          335,
          335,
          335,
          335,
          335,
          335,
          335,
          335,
          340,
          343,
          345,
          353,
          355,
          355,
          355,
          355,
          355,
          357,
          364,
          364,
          364,
          365,
          343,
          343,
          343,
          344,
          344,
          344,
          344,
          344,
          352,
          355,
          355,
          355,
          355,
          355,
          355,
          345,
          345,
          346,
          347,
          439,
          1,
          1,
          1,
          1,
          1,
          1,
          1,
          1,
          1,
          1,
          1,
          1,
          1,
          1,
          1,
          1,
          1,
          1,
          1,
          1,
          1,
          1,
          1,
          1,
          1,
          1,
          1,
          1,
          1,
          1,
          1,
          1,
          1,
          1,
          1,
          1,
          1,
          1
         ]
        },
        {
         "name": "Zijiao Wang",
         "stackgroup": "one",
         "type": "scatter",
         "x": [
          "2020-09-30T00:00:00",
          "2020-04-30T00:00:00",
          "2020-03-31T00:00:00",
          "2020-02-29T00:00:00",
          "2020-01-31T00:00:00",
          "2019-12-31T00:00:00",
          "2019-11-30T00:00:00",
          "2019-10-31T00:00:00",
          "2019-09-30T00:00:00",
          "2019-08-31T00:00:00",
          "2019-07-31T00:00:00",
          "2019-06-30T00:00:00",
          "2019-05-31T00:00:00",
          "2019-04-30T00:00:00",
          "2019-03-31T00:00:00",
          "2019-02-28T00:00:00",
          "2019-01-31T00:00:00",
          "2018-12-31T00:00:00",
          "2018-11-30T00:00:00",
          "2018-10-31T00:00:00",
          "2018-09-30T00:00:00",
          "2018-08-31T00:00:00",
          "2018-07-31T00:00:00",
          "2018-06-30T00:00:00",
          "2018-05-31T00:00:00",
          "2018-04-30T00:00:00",
          "2018-03-31T00:00:00",
          "2018-02-28T00:00:00",
          "2018-01-31T00:00:00",
          "2017-12-31T00:00:00",
          "2017-11-30T00:00:00",
          "2017-10-31T00:00:00",
          "2017-09-30T00:00:00",
          "2017-08-31T00:00:00",
          "2017-07-31T00:00:00",
          "2017-06-30T00:00:00",
          "2017-05-31T00:00:00",
          "2017-04-30T00:00:00",
          "2017-03-31T00:00:00",
          "2017-02-28T00:00:00",
          "2017-01-31T00:00:00",
          "2016-12-31T00:00:00",
          "2016-11-30T00:00:00",
          "2016-10-31T00:00:00",
          "2016-09-30T00:00:00",
          "2016-08-31T00:00:00",
          "2016-07-31T00:00:00",
          "2016-06-30T00:00:00",
          "2016-05-31T00:00:00",
          "2016-04-30T00:00:00",
          "2016-03-31T00:00:00",
          "2016-02-29T00:00:00",
          "2016-01-31T00:00:00",
          "2015-12-31T00:00:00",
          "2015-11-30T00:00:00",
          "2015-10-31T00:00:00",
          "2015-09-30T00:00:00",
          "2015-08-31T00:00:00",
          "2015-07-31T00:00:00",
          "2015-06-30T00:00:00",
          "2015-05-31T00:00:00",
          "2015-04-30T00:00:00",
          "2015-03-31T00:00:00",
          "2015-02-28T00:00:00",
          "2015-01-31T00:00:00",
          "2014-12-31T00:00:00",
          "2014-11-30T00:00:00",
          "2014-10-31T00:00:00",
          "2014-09-30T00:00:00",
          "2014-08-31T00:00:00",
          "2014-07-31T00:00:00",
          "2014-06-30T00:00:00",
          "2014-05-31T00:00:00",
          "2014-04-30T00:00:00",
          "2014-03-31T00:00:00",
          "2014-02-28T00:00:00",
          "2014-01-31T00:00:00",
          "2013-12-31T00:00:00",
          "2013-11-30T00:00:00",
          "2013-10-31T00:00:00",
          "2013-09-30T00:00:00",
          "2013-08-31T00:00:00",
          "2013-07-31T00:00:00",
          "2013-06-30T00:00:00",
          "2013-05-31T00:00:00",
          "2013-04-30T00:00:00",
          "2013-03-31T00:00:00",
          "2013-02-28T00:00:00",
          "2013-01-31T00:00:00",
          "2012-12-31T00:00:00",
          "2012-11-30T00:00:00"
         ],
         "y": [
          166,
          166,
          169,
          169,
          169,
          169,
          169,
          169,
          169,
          169,
          169,
          169,
          169,
          169,
          169,
          169,
          169,
          169,
          169,
          169,
          169,
          169,
          169,
          169,
          169,
          169,
          169,
          169,
          169,
          169,
          169,
          169,
          169,
          169,
          169,
          169,
          169,
          169,
          169,
          169,
          169,
          169,
          169,
          169,
          169,
          188,
          188,
          188,
          188,
          188,
          188,
          188,
          188,
          188,
          188,
          188,
          188,
          188,
          188,
          188,
          188,
          188,
          188,
          188,
          188,
          190,
          190,
          190,
          190,
          190,
          190,
          190,
          191,
          191,
          191,
          191,
          191,
          191,
          191,
          191,
          191,
          191,
          219,
          219,
          219,
          219,
          250,
          250,
          258,
          258,
          522
         ]
        },
        {
         "name": "Gaius Cornelius",
         "stackgroup": "one",
         "type": "scatter",
         "x": [
          "2020-09-30T00:00:00",
          "2020-04-30T00:00:00",
          "2020-03-31T00:00:00",
          "2020-02-29T00:00:00",
          "2020-01-31T00:00:00",
          "2019-12-31T00:00:00",
          "2019-11-30T00:00:00",
          "2019-10-31T00:00:00",
          "2019-09-30T00:00:00",
          "2019-08-31T00:00:00",
          "2019-07-31T00:00:00",
          "2019-06-30T00:00:00",
          "2019-05-31T00:00:00",
          "2019-04-30T00:00:00",
          "2019-03-31T00:00:00",
          "2019-02-28T00:00:00",
          "2019-01-31T00:00:00",
          "2018-12-31T00:00:00",
          "2018-11-30T00:00:00",
          "2018-10-31T00:00:00",
          "2018-09-30T00:00:00",
          "2018-08-31T00:00:00",
          "2018-07-31T00:00:00",
          "2018-06-30T00:00:00",
          "2018-05-31T00:00:00",
          "2018-04-30T00:00:00",
          "2018-03-31T00:00:00",
          "2018-02-28T00:00:00",
          "2018-01-31T00:00:00",
          "2017-12-31T00:00:00",
          "2017-11-30T00:00:00",
          "2017-10-31T00:00:00",
          "2017-09-30T00:00:00",
          "2017-08-31T00:00:00",
          "2017-07-31T00:00:00",
          "2017-06-30T00:00:00",
          "2017-05-31T00:00:00",
          "2017-04-30T00:00:00",
          "2017-03-31T00:00:00",
          "2017-02-28T00:00:00",
          "2017-01-31T00:00:00",
          "2016-12-31T00:00:00",
          "2016-11-30T00:00:00",
          "2016-10-31T00:00:00",
          "2016-09-30T00:00:00",
          "2016-08-31T00:00:00",
          "2016-07-31T00:00:00",
          "2016-06-30T00:00:00",
          "2016-05-31T00:00:00",
          "2016-04-30T00:00:00",
          "2016-03-31T00:00:00",
          "2016-02-29T00:00:00",
          "2016-01-31T00:00:00",
          "2015-12-31T00:00:00",
          "2015-11-30T00:00:00",
          "2015-10-31T00:00:00",
          "2015-09-30T00:00:00",
          "2015-08-31T00:00:00",
          "2015-07-31T00:00:00",
          "2015-06-30T00:00:00",
          "2015-05-31T00:00:00",
          "2015-04-30T00:00:00",
          "2015-03-31T00:00:00",
          "2015-02-28T00:00:00",
          "2015-01-31T00:00:00",
          "2014-12-31T00:00:00",
          "2014-11-30T00:00:00",
          "2014-10-31T00:00:00",
          "2014-09-30T00:00:00",
          "2014-08-31T00:00:00",
          "2014-07-31T00:00:00",
          "2014-06-30T00:00:00",
          "2014-05-31T00:00:00"
         ],
         "y": [
          333,
          333,
          333,
          333,
          333,
          333,
          333,
          333,
          333,
          334,
          334,
          334,
          334,
          334,
          334,
          334,
          334,
          334,
          334,
          334,
          334,
          334,
          334,
          334,
          334,
          334,
          334,
          334,
          334,
          334,
          334,
          334,
          334,
          334,
          334,
          334,
          334,
          334,
          334,
          334,
          334,
          334,
          334,
          334,
          334,
          344,
          344,
          344,
          344,
          344,
          344,
          344,
          344,
          344,
          344,
          344,
          344,
          346,
          346,
          346,
          346,
          346,
          348,
          351,
          351,
          351,
          351,
          351,
          351,
          351,
          351,
          351,
          352
         ]
        },
        {
         "name": "Yinfengchen",
         "stackgroup": "one",
         "type": "scatter",
         "x": [
          "2020-09-30T00:00:00",
          "2020-04-30T00:00:00",
          "2020-03-31T00:00:00",
          "2020-02-29T00:00:00",
          "2020-01-31T00:00:00",
          "2019-12-31T00:00:00",
          "2019-11-30T00:00:00",
          "2019-10-31T00:00:00",
          "2019-09-30T00:00:00",
          "2019-08-31T00:00:00",
          "2019-07-31T00:00:00",
          "2019-06-30T00:00:00",
          "2019-05-31T00:00:00",
          "2019-04-30T00:00:00",
          "2019-03-31T00:00:00",
          "2019-02-28T00:00:00",
          "2019-01-31T00:00:00",
          "2018-12-31T00:00:00",
          "2018-11-30T00:00:00",
          "2018-10-31T00:00:00",
          "2018-09-30T00:00:00",
          "2018-08-31T00:00:00",
          "2018-07-31T00:00:00",
          "2018-06-30T00:00:00",
          "2018-05-31T00:00:00",
          "2018-04-30T00:00:00",
          "2018-03-31T00:00:00",
          "2018-02-28T00:00:00",
          "2018-01-31T00:00:00",
          "2017-12-31T00:00:00",
          "2017-11-30T00:00:00",
          "2017-10-31T00:00:00",
          "2017-09-30T00:00:00",
          "2017-08-31T00:00:00",
          "2017-07-31T00:00:00",
          "2017-06-30T00:00:00",
          "2017-05-31T00:00:00",
          "2017-04-30T00:00:00",
          "2017-03-31T00:00:00",
          "2017-02-28T00:00:00",
          "2017-01-31T00:00:00",
          "2016-12-31T00:00:00",
          "2016-11-30T00:00:00",
          "2016-10-31T00:00:00",
          "2016-09-30T00:00:00",
          "2016-08-31T00:00:00",
          "2016-07-31T00:00:00",
          "2016-06-30T00:00:00",
          "2016-05-31T00:00:00",
          "2016-04-30T00:00:00",
          "2016-03-31T00:00:00",
          "2016-02-29T00:00:00",
          "2016-01-31T00:00:00",
          "2015-12-31T00:00:00",
          "2015-11-30T00:00:00",
          "2015-10-31T00:00:00",
          "2015-09-30T00:00:00",
          "2015-08-31T00:00:00",
          "2015-07-31T00:00:00",
          "2015-06-30T00:00:00",
          "2015-05-31T00:00:00",
          "2015-04-30T00:00:00",
          "2015-03-31T00:00:00",
          "2015-02-28T00:00:00",
          "2015-01-31T00:00:00",
          "2014-12-31T00:00:00",
          "2014-11-30T00:00:00",
          "2014-10-31T00:00:00"
         ],
         "y": [
          185,
          185,
          185,
          185,
          185,
          185,
          185,
          185,
          185,
          185,
          185,
          185,
          185,
          185,
          185,
          185,
          185,
          185,
          185,
          185,
          185,
          185,
          185,
          185,
          185,
          185,
          185,
          194,
          194,
          194,
          194,
          194,
          194,
          194,
          194,
          194,
          194,
          194,
          194,
          194,
          195,
          195,
          195,
          195,
          195,
          195,
          195,
          195,
          195,
          195,
          195,
          195,
          195,
          195,
          195,
          195,
          196,
          196,
          198,
          198,
          198,
          198,
          200,
          200,
          200,
          294,
          294,
          366
         ]
        },
        {
         "name": "Vycl1994",
         "stackgroup": "one",
         "type": "scatter",
         "x": [
          "2020-09-30T00:00:00",
          "2020-04-30T00:00:00",
          "2020-03-31T00:00:00",
          "2020-02-29T00:00:00",
          "2020-01-31T00:00:00",
          "2019-12-31T00:00:00",
          "2019-11-30T00:00:00",
          "2019-10-31T00:00:00",
          "2019-09-30T00:00:00",
          "2019-08-31T00:00:00",
          "2019-07-31T00:00:00",
          "2019-06-30T00:00:00",
          "2019-05-31T00:00:00",
          "2019-04-30T00:00:00",
          "2019-03-31T00:00:00",
          "2019-02-28T00:00:00",
          "2019-01-31T00:00:00",
          "2018-12-31T00:00:00",
          "2018-11-30T00:00:00",
          "2018-10-31T00:00:00",
          "2018-09-30T00:00:00",
          "2018-08-31T00:00:00",
          "2018-07-31T00:00:00",
          "2018-06-30T00:00:00",
          "2018-05-31T00:00:00",
          "2018-04-30T00:00:00",
          "2018-03-31T00:00:00",
          "2018-02-28T00:00:00",
          "2018-01-31T00:00:00",
          "2017-12-31T00:00:00",
          "2017-11-30T00:00:00",
          "2017-10-31T00:00:00",
          "2017-09-30T00:00:00",
          "2017-08-31T00:00:00",
          "2017-07-31T00:00:00",
          "2017-06-30T00:00:00",
          "2017-05-31T00:00:00",
          "2017-04-30T00:00:00",
          "2017-03-31T00:00:00",
          "2017-02-28T00:00:00",
          "2017-01-31T00:00:00",
          "2016-12-31T00:00:00",
          "2016-11-30T00:00:00",
          "2016-10-31T00:00:00",
          "2016-09-30T00:00:00",
          "2016-08-31T00:00:00",
          "2016-07-31T00:00:00",
          "2016-06-30T00:00:00",
          "2016-05-31T00:00:00",
          "2016-04-30T00:00:00",
          "2016-03-31T00:00:00",
          "2016-02-29T00:00:00",
          "2016-01-31T00:00:00",
          "2015-12-31T00:00:00",
          "2015-11-30T00:00:00",
          "2015-10-31T00:00:00",
          "2015-09-30T00:00:00",
          "2015-08-31T00:00:00",
          "2015-07-31T00:00:00",
          "2015-06-30T00:00:00",
          "2015-05-31T00:00:00",
          "2015-04-30T00:00:00",
          "2015-03-31T00:00:00",
          "2015-02-28T00:00:00",
          "2015-01-31T00:00:00",
          "2014-12-31T00:00:00",
          "2014-11-30T00:00:00"
         ],
         "y": [
          379,
          379,
          379,
          379,
          379,
          383,
          383,
          383,
          383,
          406,
          406,
          406,
          406,
          406,
          401,
          401,
          401,
          401,
          401,
          401,
          401,
          401,
          401,
          402,
          402,
          402,
          403,
          403,
          403,
          448,
          448,
          448,
          448,
          448,
          448,
          448,
          450,
          450,
          450,
          450,
          374,
          374,
          374,
          374,
          374,
          374,
          374,
          374,
          374,
          374,
          374,
          374,
          374,
          374,
          374,
          374,
          373,
          373,
          373,
          332,
          332,
          332,
          320,
          219,
          145,
          123,
          83
         ]
        },
        {
         "name": "InternetArchiveBot",
         "stackgroup": "one",
         "type": "scatter",
         "x": [
          "2020-09-30T00:00:00",
          "2020-04-30T00:00:00",
          "2020-03-31T00:00:00",
          "2020-02-29T00:00:00",
          "2020-01-31T00:00:00",
          "2019-12-31T00:00:00",
          "2019-11-30T00:00:00",
          "2019-10-31T00:00:00",
          "2019-09-30T00:00:00",
          "2019-08-31T00:00:00",
          "2019-07-31T00:00:00",
          "2019-06-30T00:00:00",
          "2019-05-31T00:00:00",
          "2019-04-30T00:00:00",
          "2019-03-31T00:00:00",
          "2019-02-28T00:00:00",
          "2019-01-31T00:00:00",
          "2018-12-31T00:00:00",
          "2018-11-30T00:00:00",
          "2018-10-31T00:00:00",
          "2018-09-30T00:00:00",
          "2018-08-31T00:00:00",
          "2018-07-31T00:00:00",
          "2018-06-30T00:00:00",
          "2018-05-31T00:00:00",
          "2018-04-30T00:00:00",
          "2018-03-31T00:00:00",
          "2018-02-28T00:00:00",
          "2018-01-31T00:00:00",
          "2017-12-31T00:00:00",
          "2017-11-30T00:00:00",
          "2017-10-31T00:00:00",
          "2017-09-30T00:00:00",
          "2017-08-31T00:00:00",
          "2017-07-31T00:00:00",
          "2017-06-30T00:00:00",
          "2017-05-31T00:00:00",
          "2017-04-30T00:00:00"
         ],
         "y": [
          464,
          464,
          464,
          487,
          368,
          368,
          370,
          370,
          370,
          398,
          398,
          398,
          398,
          398,
          398,
          398,
          398,
          398,
          398,
          398,
          398,
          398,
          374,
          367,
          367,
          367,
          367,
          367,
          367,
          367,
          331,
          38,
          38,
          38,
          38,
          38,
          38,
          6
         ]
        }
       ],
       "layout": {
        "hovermode": "x unified",
        "margin": {
         "b": 150,
         "l": 50,
         "pad": 3,
         "r": 50,
         "t": 10
        },
        "showlegend": true,
        "template": {
         "data": {
          "bar": [
           {
            "error_x": {
             "color": "#2a3f5f"
            },
            "error_y": {
             "color": "#2a3f5f"
            },
            "marker": {
             "line": {
              "color": "#E5ECF6",
              "width": 0.5
             }
            },
            "type": "bar"
           }
          ],
          "barpolar": [
           {
            "marker": {
             "line": {
              "color": "#E5ECF6",
              "width": 0.5
             }
            },
            "type": "barpolar"
           }
          ],
          "carpet": [
           {
            "aaxis": {
             "endlinecolor": "#2a3f5f",
             "gridcolor": "white",
             "linecolor": "white",
             "minorgridcolor": "white",
             "startlinecolor": "#2a3f5f"
            },
            "baxis": {
             "endlinecolor": "#2a3f5f",
             "gridcolor": "white",
             "linecolor": "white",
             "minorgridcolor": "white",
             "startlinecolor": "#2a3f5f"
            },
            "type": "carpet"
           }
          ],
          "choropleth": [
           {
            "colorbar": {
             "outlinewidth": 0,
             "ticks": ""
            },
            "type": "choropleth"
           }
          ],
          "contour": [
           {
            "colorbar": {
             "outlinewidth": 0,
             "ticks": ""
            },
            "colorscale": [
             [
              0,
              "#0d0887"
             ],
             [
              0.1111111111111111,
              "#46039f"
             ],
             [
              0.2222222222222222,
              "#7201a8"
             ],
             [
              0.3333333333333333,
              "#9c179e"
             ],
             [
              0.4444444444444444,
              "#bd3786"
             ],
             [
              0.5555555555555556,
              "#d8576b"
             ],
             [
              0.6666666666666666,
              "#ed7953"
             ],
             [
              0.7777777777777778,
              "#fb9f3a"
             ],
             [
              0.8888888888888888,
              "#fdca26"
             ],
             [
              1,
              "#f0f921"
             ]
            ],
            "type": "contour"
           }
          ],
          "contourcarpet": [
           {
            "colorbar": {
             "outlinewidth": 0,
             "ticks": ""
            },
            "type": "contourcarpet"
           }
          ],
          "heatmap": [
           {
            "colorbar": {
             "outlinewidth": 0,
             "ticks": ""
            },
            "colorscale": [
             [
              0,
              "#0d0887"
             ],
             [
              0.1111111111111111,
              "#46039f"
             ],
             [
              0.2222222222222222,
              "#7201a8"
             ],
             [
              0.3333333333333333,
              "#9c179e"
             ],
             [
              0.4444444444444444,
              "#bd3786"
             ],
             [
              0.5555555555555556,
              "#d8576b"
             ],
             [
              0.6666666666666666,
              "#ed7953"
             ],
             [
              0.7777777777777778,
              "#fb9f3a"
             ],
             [
              0.8888888888888888,
              "#fdca26"
             ],
             [
              1,
              "#f0f921"
             ]
            ],
            "type": "heatmap"
           }
          ],
          "heatmapgl": [
           {
            "colorbar": {
             "outlinewidth": 0,
             "ticks": ""
            },
            "colorscale": [
             [
              0,
              "#0d0887"
             ],
             [
              0.1111111111111111,
              "#46039f"
             ],
             [
              0.2222222222222222,
              "#7201a8"
             ],
             [
              0.3333333333333333,
              "#9c179e"
             ],
             [
              0.4444444444444444,
              "#bd3786"
             ],
             [
              0.5555555555555556,
              "#d8576b"
             ],
             [
              0.6666666666666666,
              "#ed7953"
             ],
             [
              0.7777777777777778,
              "#fb9f3a"
             ],
             [
              0.8888888888888888,
              "#fdca26"
             ],
             [
              1,
              "#f0f921"
             ]
            ],
            "type": "heatmapgl"
           }
          ],
          "histogram": [
           {
            "marker": {
             "colorbar": {
              "outlinewidth": 0,
              "ticks": ""
             }
            },
            "type": "histogram"
           }
          ],
          "histogram2d": [
           {
            "colorbar": {
             "outlinewidth": 0,
             "ticks": ""
            },
            "colorscale": [
             [
              0,
              "#0d0887"
             ],
             [
              0.1111111111111111,
              "#46039f"
             ],
             [
              0.2222222222222222,
              "#7201a8"
             ],
             [
              0.3333333333333333,
              "#9c179e"
             ],
             [
              0.4444444444444444,
              "#bd3786"
             ],
             [
              0.5555555555555556,
              "#d8576b"
             ],
             [
              0.6666666666666666,
              "#ed7953"
             ],
             [
              0.7777777777777778,
              "#fb9f3a"
             ],
             [
              0.8888888888888888,
              "#fdca26"
             ],
             [
              1,
              "#f0f921"
             ]
            ],
            "type": "histogram2d"
           }
          ],
          "histogram2dcontour": [
           {
            "colorbar": {
             "outlinewidth": 0,
             "ticks": ""
            },
            "colorscale": [
             [
              0,
              "#0d0887"
             ],
             [
              0.1111111111111111,
              "#46039f"
             ],
             [
              0.2222222222222222,
              "#7201a8"
             ],
             [
              0.3333333333333333,
              "#9c179e"
             ],
             [
              0.4444444444444444,
              "#bd3786"
             ],
             [
              0.5555555555555556,
              "#d8576b"
             ],
             [
              0.6666666666666666,
              "#ed7953"
             ],
             [
              0.7777777777777778,
              "#fb9f3a"
             ],
             [
              0.8888888888888888,
              "#fdca26"
             ],
             [
              1,
              "#f0f921"
             ]
            ],
            "type": "histogram2dcontour"
           }
          ],
          "mesh3d": [
           {
            "colorbar": {
             "outlinewidth": 0,
             "ticks": ""
            },
            "type": "mesh3d"
           }
          ],
          "parcoords": [
           {
            "line": {
             "colorbar": {
              "outlinewidth": 0,
              "ticks": ""
             }
            },
            "type": "parcoords"
           }
          ],
          "pie": [
           {
            "automargin": true,
            "type": "pie"
           }
          ],
          "scatter": [
           {
            "marker": {
             "colorbar": {
              "outlinewidth": 0,
              "ticks": ""
             }
            },
            "type": "scatter"
           }
          ],
          "scatter3d": [
           {
            "line": {
             "colorbar": {
              "outlinewidth": 0,
              "ticks": ""
             }
            },
            "marker": {
             "colorbar": {
              "outlinewidth": 0,
              "ticks": ""
             }
            },
            "type": "scatter3d"
           }
          ],
          "scattercarpet": [
           {
            "marker": {
             "colorbar": {
              "outlinewidth": 0,
              "ticks": ""
             }
            },
            "type": "scattercarpet"
           }
          ],
          "scattergeo": [
           {
            "marker": {
             "colorbar": {
              "outlinewidth": 0,
              "ticks": ""
             }
            },
            "type": "scattergeo"
           }
          ],
          "scattergl": [
           {
            "marker": {
             "colorbar": {
              "outlinewidth": 0,
              "ticks": ""
             }
            },
            "type": "scattergl"
           }
          ],
          "scattermapbox": [
           {
            "marker": {
             "colorbar": {
              "outlinewidth": 0,
              "ticks": ""
             }
            },
            "type": "scattermapbox"
           }
          ],
          "scatterpolar": [
           {
            "marker": {
             "colorbar": {
              "outlinewidth": 0,
              "ticks": ""
             }
            },
            "type": "scatterpolar"
           }
          ],
          "scatterpolargl": [
           {
            "marker": {
             "colorbar": {
              "outlinewidth": 0,
              "ticks": ""
             }
            },
            "type": "scatterpolargl"
           }
          ],
          "scatterternary": [
           {
            "marker": {
             "colorbar": {
              "outlinewidth": 0,
              "ticks": ""
             }
            },
            "type": "scatterternary"
           }
          ],
          "surface": [
           {
            "colorbar": {
             "outlinewidth": 0,
             "ticks": ""
            },
            "colorscale": [
             [
              0,
              "#0d0887"
             ],
             [
              0.1111111111111111,
              "#46039f"
             ],
             [
              0.2222222222222222,
              "#7201a8"
             ],
             [
              0.3333333333333333,
              "#9c179e"
             ],
             [
              0.4444444444444444,
              "#bd3786"
             ],
             [
              0.5555555555555556,
              "#d8576b"
             ],
             [
              0.6666666666666666,
              "#ed7953"
             ],
             [
              0.7777777777777778,
              "#fb9f3a"
             ],
             [
              0.8888888888888888,
              "#fdca26"
             ],
             [
              1,
              "#f0f921"
             ]
            ],
            "type": "surface"
           }
          ],
          "table": [
           {
            "cells": {
             "fill": {
              "color": "#EBF0F8"
             },
             "line": {
              "color": "white"
             }
            },
            "header": {
             "fill": {
              "color": "#C8D4E3"
             },
             "line": {
              "color": "white"
             }
            },
            "type": "table"
           }
          ]
         },
         "layout": {
          "annotationdefaults": {
           "arrowcolor": "#2a3f5f",
           "arrowhead": 0,
           "arrowwidth": 1
          },
          "coloraxis": {
           "colorbar": {
            "outlinewidth": 0,
            "ticks": ""
           }
          },
          "colorscale": {
           "diverging": [
            [
             0,
             "#8e0152"
            ],
            [
             0.1,
             "#c51b7d"
            ],
            [
             0.2,
             "#de77ae"
            ],
            [
             0.3,
             "#f1b6da"
            ],
            [
             0.4,
             "#fde0ef"
            ],
            [
             0.5,
             "#f7f7f7"
            ],
            [
             0.6,
             "#e6f5d0"
            ],
            [
             0.7,
             "#b8e186"
            ],
            [
             0.8,
             "#7fbc41"
            ],
            [
             0.9,
             "#4d9221"
            ],
            [
             1,
             "#276419"
            ]
           ],
           "sequential": [
            [
             0,
             "#0d0887"
            ],
            [
             0.1111111111111111,
             "#46039f"
            ],
            [
             0.2222222222222222,
             "#7201a8"
            ],
            [
             0.3333333333333333,
             "#9c179e"
            ],
            [
             0.4444444444444444,
             "#bd3786"
            ],
            [
             0.5555555555555556,
             "#d8576b"
            ],
            [
             0.6666666666666666,
             "#ed7953"
            ],
            [
             0.7777777777777778,
             "#fb9f3a"
            ],
            [
             0.8888888888888888,
             "#fdca26"
            ],
            [
             1,
             "#f0f921"
            ]
           ],
           "sequentialminus": [
            [
             0,
             "#0d0887"
            ],
            [
             0.1111111111111111,
             "#46039f"
            ],
            [
             0.2222222222222222,
             "#7201a8"
            ],
            [
             0.3333333333333333,
             "#9c179e"
            ],
            [
             0.4444444444444444,
             "#bd3786"
            ],
            [
             0.5555555555555556,
             "#d8576b"
            ],
            [
             0.6666666666666666,
             "#ed7953"
            ],
            [
             0.7777777777777778,
             "#fb9f3a"
            ],
            [
             0.8888888888888888,
             "#fdca26"
            ],
            [
             1,
             "#f0f921"
            ]
           ]
          },
          "colorway": [
           "#636efa",
           "#EF553B",
           "#00cc96",
           "#ab63fa",
           "#FFA15A",
           "#19d3f3",
           "#FF6692",
           "#B6E880",
           "#FF97FF",
           "#FECB52"
          ],
          "font": {
           "color": "#2a3f5f"
          },
          "geo": {
           "bgcolor": "white",
           "lakecolor": "white",
           "landcolor": "#E5ECF6",
           "showlakes": true,
           "showland": true,
           "subunitcolor": "white"
          },
          "hoverlabel": {
           "align": "left"
          },
          "hovermode": "closest",
          "mapbox": {
           "style": "light"
          },
          "paper_bgcolor": "white",
          "plot_bgcolor": "#E5ECF6",
          "polar": {
           "angularaxis": {
            "gridcolor": "white",
            "linecolor": "white",
            "ticks": ""
           },
           "bgcolor": "#E5ECF6",
           "radialaxis": {
            "gridcolor": "white",
            "linecolor": "white",
            "ticks": ""
           }
          },
          "scene": {
           "xaxis": {
            "backgroundcolor": "#E5ECF6",
            "gridcolor": "white",
            "gridwidth": 2,
            "linecolor": "white",
            "showbackground": true,
            "ticks": "",
            "zerolinecolor": "white"
           },
           "yaxis": {
            "backgroundcolor": "#E5ECF6",
            "gridcolor": "white",
            "gridwidth": 2,
            "linecolor": "white",
            "showbackground": true,
            "ticks": "",
            "zerolinecolor": "white"
           },
           "zaxis": {
            "backgroundcolor": "#E5ECF6",
            "gridcolor": "white",
            "gridwidth": 2,
            "linecolor": "white",
            "showbackground": true,
            "ticks": "",
            "zerolinecolor": "white"
           }
          },
          "shapedefaults": {
           "line": {
            "color": "#2a3f5f"
           }
          },
          "ternary": {
           "aaxis": {
            "gridcolor": "white",
            "linecolor": "white",
            "ticks": ""
           },
           "baxis": {
            "gridcolor": "white",
            "linecolor": "white",
            "ticks": ""
           },
           "bgcolor": "#E5ECF6",
           "caxis": {
            "gridcolor": "white",
            "linecolor": "white",
            "ticks": ""
           }
          },
          "title": {
           "x": 0.05
          },
          "xaxis": {
           "automargin": true,
           "gridcolor": "white",
           "linecolor": "white",
           "ticks": "",
           "title": {
            "standoff": 15
           },
           "zerolinecolor": "white",
           "zerolinewidth": 2
          },
          "yaxis": {
           "automargin": true,
           "gridcolor": "white",
           "linecolor": "white",
           "ticks": "",
           "title": {
            "standoff": 15
           },
           "zerolinecolor": "white",
           "zerolinewidth": 2
          }
         }
        }
       }
      },
      "text/html": [
       "<div>\n",
       "        \n",
       "        \n",
       "            <div id=\"63f136dc-5036-4282-8895-de5686d7ff23\" class=\"plotly-graph-div\" style=\"height:525px; width:100%;\"></div>\n",
       "            <script type=\"text/javascript\">\n",
       "                require([\"plotly\"], function(Plotly) {\n",
       "                    window.PLOTLYENV=window.PLOTLYENV || {};\n",
       "                    \n",
       "                if (document.getElementById(\"63f136dc-5036-4282-8895-de5686d7ff23\")) {\n",
       "                    Plotly.newPlot(\n",
       "                        '63f136dc-5036-4282-8895-de5686d7ff23',\n",
       "                        [{\"name\": \"SeleneFN\", \"stackgroup\": \"one\", \"type\": \"scatter\", \"x\": [\"2020-09-30T00:00:00\", \"2020-04-30T00:00:00\", \"2020-03-31T00:00:00\", \"2020-02-29T00:00:00\", \"2020-01-31T00:00:00\", \"2019-12-31T00:00:00\", \"2019-11-30T00:00:00\", \"2019-10-31T00:00:00\", \"2019-09-30T00:00:00\", \"2019-08-31T00:00:00\", \"2019-07-31T00:00:00\", \"2019-06-30T00:00:00\", \"2019-05-31T00:00:00\", \"2019-04-30T00:00:00\", \"2019-03-31T00:00:00\", \"2019-02-28T00:00:00\", \"2019-01-31T00:00:00\", \"2018-12-31T00:00:00\", \"2018-11-30T00:00:00\", \"2018-10-31T00:00:00\", \"2018-09-30T00:00:00\", \"2018-08-31T00:00:00\", \"2018-07-31T00:00:00\", \"2018-06-30T00:00:00\", \"2018-05-31T00:00:00\", \"2018-04-30T00:00:00\", \"2018-03-31T00:00:00\", \"2018-02-28T00:00:00\", \"2018-01-31T00:00:00\", \"2017-12-31T00:00:00\", \"2017-11-30T00:00:00\", \"2017-10-31T00:00:00\", \"2017-09-30T00:00:00\", \"2017-08-31T00:00:00\", \"2017-07-31T00:00:00\", \"2017-06-30T00:00:00\", \"2017-05-31T00:00:00\", \"2017-04-30T00:00:00\", \"2017-03-31T00:00:00\", \"2017-02-28T00:00:00\", \"2017-01-31T00:00:00\", \"2016-12-31T00:00:00\", \"2016-11-30T00:00:00\", \"2016-10-31T00:00:00\", \"2016-09-30T00:00:00\", \"2016-08-31T00:00:00\", \"2016-07-31T00:00:00\", \"2016-06-30T00:00:00\", \"2016-05-31T00:00:00\", \"2016-04-30T00:00:00\", \"2016-03-31T00:00:00\", \"2016-02-29T00:00:00\", \"2016-01-31T00:00:00\", \"2015-12-31T00:00:00\", \"2015-11-30T00:00:00\", \"2015-10-31T00:00:00\", \"2015-09-30T00:00:00\", \"2015-08-31T00:00:00\", \"2015-07-31T00:00:00\", \"2015-06-30T00:00:00\", \"2015-05-31T00:00:00\", \"2015-04-30T00:00:00\", \"2015-03-31T00:00:00\", \"2015-02-28T00:00:00\", \"2015-01-31T00:00:00\", \"2014-12-31T00:00:00\", \"2014-11-30T00:00:00\", \"2014-10-31T00:00:00\", \"2014-09-30T00:00:00\", \"2014-08-31T00:00:00\", \"2014-07-31T00:00:00\", \"2014-06-30T00:00:00\", \"2014-05-31T00:00:00\", \"2014-04-30T00:00:00\", \"2014-03-31T00:00:00\", \"2014-02-28T00:00:00\", \"2014-01-31T00:00:00\", \"2013-12-31T00:00:00\", \"2013-11-30T00:00:00\", \"2013-10-31T00:00:00\", \"2013-09-30T00:00:00\", \"2013-08-31T00:00:00\", \"2013-07-31T00:00:00\", \"2013-06-30T00:00:00\", \"2013-05-31T00:00:00\", \"2013-04-30T00:00:00\", \"2013-03-31T00:00:00\", \"2013-02-28T00:00:00\", \"2013-01-31T00:00:00\", \"2012-12-31T00:00:00\", \"2012-11-30T00:00:00\", \"2012-10-31T00:00:00\", \"2012-09-30T00:00:00\", \"2012-08-31T00:00:00\", \"2012-07-31T00:00:00\", \"2012-06-30T00:00:00\", \"2012-05-31T00:00:00\", \"2012-04-30T00:00:00\", \"2012-03-31T00:00:00\", \"2012-02-29T00:00:00\", \"2012-01-31T00:00:00\", \"2011-12-31T00:00:00\", \"2011-11-30T00:00:00\", \"2011-10-31T00:00:00\", \"2011-09-30T00:00:00\", \"2011-08-31T00:00:00\", \"2011-07-31T00:00:00\", \"2011-06-30T00:00:00\", \"2011-05-31T00:00:00\", \"2011-04-30T00:00:00\", \"2011-03-31T00:00:00\", \"2011-02-28T00:00:00\", \"2011-01-31T00:00:00\", \"2010-12-31T00:00:00\", \"2010-11-30T00:00:00\", \"2010-10-31T00:00:00\", \"2010-09-30T00:00:00\", \"2010-08-31T00:00:00\", \"2010-07-31T00:00:00\", \"2010-06-30T00:00:00\", \"2010-05-31T00:00:00\", \"2010-04-30T00:00:00\", \"2010-03-31T00:00:00\", \"2010-02-28T00:00:00\", \"2010-01-31T00:00:00\", \"2009-12-31T00:00:00\", \"2009-11-30T00:00:00\", \"2009-10-31T00:00:00\", \"2009-09-30T00:00:00\", \"2009-08-31T00:00:00\", \"2009-07-31T00:00:00\", \"2009-06-30T00:00:00\", \"2009-05-31T00:00:00\", \"2009-04-30T00:00:00\", \"2009-03-31T00:00:00\", \"2009-02-28T00:00:00\", \"2009-01-31T00:00:00\", \"2008-12-31T00:00:00\", \"2008-11-30T00:00:00\", \"2008-10-31T00:00:00\", \"2008-09-30T00:00:00\", \"2008-08-31T00:00:00\", \"2008-07-31T00:00:00\", \"2008-06-30T00:00:00\", \"2008-05-31T00:00:00\", \"2008-04-30T00:00:00\", \"2008-03-31T00:00:00\", \"2008-02-29T00:00:00\", \"2008-01-31T00:00:00\", \"2007-12-31T00:00:00\", \"2007-11-30T00:00:00\", \"2007-10-31T00:00:00\", \"2007-09-30T00:00:00\", \"2007-08-31T00:00:00\", \"2007-07-31T00:00:00\", \"2007-06-30T00:00:00\", \"2007-05-31T00:00:00\", \"2007-04-30T00:00:00\", \"2007-03-31T00:00:00\"], \"y\": [3602, 3602, 3602, 3603, 3603, 3603, 3607, 3607, 3608, 3608, 3608, 3608, 3606, 3606, 3606, 3606, 3606, 3606, 3608, 3608, 3608, 3608, 3608, 3608, 3616, 3616, 3616, 3615, 3615, 3615, 3615, 3615, 3615, 3615, 3614, 3615, 3615, 3615, 3615, 3615, 3615, 3615, 3616, 3616, 3616, 3621, 3621, 3621, 3621, 3620, 3620, 3620, 3621, 3621, 3621, 3621, 3622, 3622, 3622, 3622, 3622, 3622, 3645, 3668, 3672, 3674, 3674, 3772, 3833, 3833, 3833, 3833, 3836, 4161, 4163, 4163, 4171, 4171, 4273, 4273, 4273, 4280, 4283, 4283, 4315, 4315, 4315, 4317, 4322, 4322, 4472, 4472, 4472, 4475, 4479, 4479, 4484, 4503, 4506, 4506, 4511, 4511, 4513, 4517, 4517, 4517, 4529, 4529, 4530, 4542, 4621, 4626, 4888, 4895, 5023, 5029, 5035, 5038, 5039, 5051, 5051, 5051, 5051, 5055, 5055, 5055, 5055, 5081, 5102, 5104, 5109, 5135, 5144, 5150, 5156, 5160, 5163, 5163, 5415, 5443, 5446, 5443, 5453, 5732, 5732, 5732, 5736, 5736, 5776, 5776, 2312, 5714, 5719, 5723, 5731, 5739, 5725, 4793, 2389]}, {\"name\": \"Unregistered\", \"stackgroup\": \"one\", \"type\": \"scatter\", \"x\": [\"2020-09-30T00:00:00\", \"2020-04-30T00:00:00\", \"2020-03-31T00:00:00\", \"2020-02-29T00:00:00\", \"2020-01-31T00:00:00\", \"2019-12-31T00:00:00\", \"2019-11-30T00:00:00\", \"2019-10-31T00:00:00\", \"2019-09-30T00:00:00\", \"2019-08-31T00:00:00\", \"2019-07-31T00:00:00\", \"2019-06-30T00:00:00\", \"2019-05-31T00:00:00\", \"2019-04-30T00:00:00\", \"2019-03-31T00:00:00\", \"2019-02-28T00:00:00\", \"2019-01-31T00:00:00\", \"2018-12-31T00:00:00\", \"2018-11-30T00:00:00\", \"2018-10-31T00:00:00\", \"2018-09-30T00:00:00\", \"2018-08-31T00:00:00\", \"2018-07-31T00:00:00\", \"2018-06-30T00:00:00\", \"2018-05-31T00:00:00\", \"2018-04-30T00:00:00\", \"2018-03-31T00:00:00\", \"2018-02-28T00:00:00\", \"2018-01-31T00:00:00\", \"2017-12-31T00:00:00\", \"2017-11-30T00:00:00\", \"2017-10-31T00:00:00\", \"2017-09-30T00:00:00\", \"2017-08-31T00:00:00\", \"2017-07-31T00:00:00\", \"2017-06-30T00:00:00\", \"2017-05-31T00:00:00\", \"2017-04-30T00:00:00\", \"2017-03-31T00:00:00\", \"2017-02-28T00:00:00\", \"2017-01-31T00:00:00\", \"2016-12-31T00:00:00\", \"2016-11-30T00:00:00\", \"2016-10-31T00:00:00\", \"2016-09-30T00:00:00\", \"2016-08-31T00:00:00\", \"2016-07-31T00:00:00\", \"2016-06-30T00:00:00\", \"2016-05-31T00:00:00\", \"2016-04-30T00:00:00\", \"2016-03-31T00:00:00\", \"2016-02-29T00:00:00\", \"2016-01-31T00:00:00\", \"2015-12-31T00:00:00\", \"2015-11-30T00:00:00\", \"2015-10-31T00:00:00\", \"2015-09-30T00:00:00\", \"2015-08-31T00:00:00\", \"2015-07-31T00:00:00\", \"2015-06-30T00:00:00\", \"2015-05-31T00:00:00\", \"2015-04-30T00:00:00\", \"2015-03-31T00:00:00\", \"2015-02-28T00:00:00\", \"2015-01-31T00:00:00\", \"2014-12-31T00:00:00\", \"2014-11-30T00:00:00\", \"2014-10-31T00:00:00\", \"2014-09-30T00:00:00\", \"2014-08-31T00:00:00\", \"2014-07-31T00:00:00\", \"2014-06-30T00:00:00\", \"2014-05-31T00:00:00\", \"2014-04-30T00:00:00\", \"2014-03-31T00:00:00\", \"2014-02-28T00:00:00\", \"2014-01-31T00:00:00\", \"2013-12-31T00:00:00\", \"2013-11-30T00:00:00\", \"2013-10-31T00:00:00\", \"2013-09-30T00:00:00\", \"2013-08-31T00:00:00\", \"2013-07-31T00:00:00\", \"2013-06-30T00:00:00\", \"2013-05-31T00:00:00\", \"2013-04-30T00:00:00\", \"2013-03-31T00:00:00\", \"2013-02-28T00:00:00\", \"2013-01-31T00:00:00\", \"2012-12-31T00:00:00\", \"2012-11-30T00:00:00\", \"2012-10-31T00:00:00\", \"2012-09-30T00:00:00\", \"2012-08-31T00:00:00\", \"2012-07-31T00:00:00\", \"2012-06-30T00:00:00\", \"2012-05-31T00:00:00\", \"2012-04-30T00:00:00\", \"2012-03-31T00:00:00\", \"2012-02-29T00:00:00\", \"2012-01-31T00:00:00\", \"2011-12-31T00:00:00\", \"2011-11-30T00:00:00\", \"2011-10-31T00:00:00\", \"2011-09-30T00:00:00\", \"2011-08-31T00:00:00\", \"2011-07-31T00:00:00\", \"2011-06-30T00:00:00\", \"2011-05-31T00:00:00\", \"2011-04-30T00:00:00\", \"2011-03-31T00:00:00\", \"2011-02-28T00:00:00\", \"2011-01-31T00:00:00\", \"2010-12-31T00:00:00\", \"2010-11-30T00:00:00\", \"2010-10-31T00:00:00\", \"2010-09-30T00:00:00\", \"2010-08-31T00:00:00\", \"2010-07-31T00:00:00\", \"2010-06-30T00:00:00\", \"2010-05-31T00:00:00\", \"2010-04-30T00:00:00\", \"2010-03-31T00:00:00\", \"2010-02-28T00:00:00\", \"2010-01-31T00:00:00\", \"2009-12-31T00:00:00\", \"2009-11-30T00:00:00\", \"2009-10-31T00:00:00\", \"2009-09-30T00:00:00\", \"2009-08-31T00:00:00\", \"2009-07-31T00:00:00\", \"2009-06-30T00:00:00\", \"2009-05-31T00:00:00\", \"2009-04-30T00:00:00\", \"2009-03-31T00:00:00\", \"2009-02-28T00:00:00\", \"2009-01-31T00:00:00\", \"2008-12-31T00:00:00\", \"2008-11-30T00:00:00\", \"2008-10-31T00:00:00\", \"2008-09-30T00:00:00\", \"2008-08-31T00:00:00\", \"2008-07-31T00:00:00\", \"2008-06-30T00:00:00\", \"2008-05-31T00:00:00\", \"2008-04-30T00:00:00\", \"2008-03-31T00:00:00\", \"2008-02-29T00:00:00\", \"2008-01-31T00:00:00\", \"2007-12-31T00:00:00\", \"2007-11-30T00:00:00\", \"2007-10-31T00:00:00\", \"2007-09-30T00:00:00\", \"2007-08-31T00:00:00\", \"2007-07-31T00:00:00\", \"2007-06-30T00:00:00\", \"2007-05-31T00:00:00\", \"2007-04-30T00:00:00\", \"2007-03-31T00:00:00\"], \"y\": [1346, 1346, 1259, 1268, 1268, 1272, 1271, 1273, 1282, 1287, 1279, 1286, 1283, 1283, 1279, 1282, 1313, 1315, 1322, 1315, 1315, 1215, 1215, 1222, 1215, 1211, 1201, 1205, 1200, 1203, 1204, 1204, 1199, 1199, 1199, 1194, 1239, 1239, 1230, 1225, 1319, 1308, 1314, 1314, 1316, 1298, 1293, 1295, 1300, 1296, 1303, 1296, 1300, 1300, 1300, 1303, 1223, 1223, 1221, 1217, 1213, 1213, 1222, 1236, 1248, 1213, 1212, 1212, 1014, 1014, 1014, 1009, 1010, 1010, 1005, 1002, 1004, 1002, 565, 564, 564, 573, 568, 568, 560, 580, 562, 525, 536, 536, 521, 520, 525, 525, 525, 545, 549, 550, 543, 537, 537, 551, 547, 545, 539, 538, 524, 496, 497, 520, 507, 500, 577, 551, 561, 556, 582, 518, 517, 509, 508, 520, 522, 504, 485, 484, 505, 488, 555, 560, 495, 503, 490, 466, 460, 435, 434, 426, 473, 456, 446, 420, 420, 315, 324, 324, 324, 322, 299, 286, 63, 273, 288, 282, 275, 276, 312, 12, 7]}, {\"name\": \"Arsonal\", \"stackgroup\": \"one\", \"type\": \"scatter\", \"x\": [\"2020-09-30T00:00:00\", \"2020-04-30T00:00:00\", \"2020-03-31T00:00:00\", \"2020-02-29T00:00:00\", \"2020-01-31T00:00:00\", \"2019-12-31T00:00:00\", \"2019-11-30T00:00:00\", \"2019-10-31T00:00:00\", \"2019-09-30T00:00:00\", \"2019-08-31T00:00:00\", \"2019-07-31T00:00:00\", \"2019-06-30T00:00:00\", \"2019-05-31T00:00:00\", \"2019-04-30T00:00:00\", \"2019-03-31T00:00:00\", \"2019-02-28T00:00:00\", \"2019-01-31T00:00:00\", \"2018-12-31T00:00:00\", \"2018-11-30T00:00:00\", \"2018-10-31T00:00:00\", \"2018-09-30T00:00:00\", \"2018-08-31T00:00:00\", \"2018-07-31T00:00:00\", \"2018-06-30T00:00:00\", \"2018-05-31T00:00:00\", \"2018-04-30T00:00:00\", \"2018-03-31T00:00:00\", \"2018-02-28T00:00:00\", \"2018-01-31T00:00:00\", \"2017-12-31T00:00:00\", \"2017-11-30T00:00:00\", \"2017-10-31T00:00:00\", \"2017-09-30T00:00:00\", \"2017-08-31T00:00:00\", \"2017-07-31T00:00:00\", \"2017-06-30T00:00:00\", \"2017-05-31T00:00:00\", \"2017-04-30T00:00:00\", \"2017-03-31T00:00:00\", \"2017-02-28T00:00:00\", \"2017-01-31T00:00:00\", \"2016-12-31T00:00:00\", \"2016-11-30T00:00:00\", \"2016-10-31T00:00:00\", \"2016-09-30T00:00:00\", \"2016-08-31T00:00:00\", \"2016-07-31T00:00:00\", \"2016-06-30T00:00:00\", \"2016-05-31T00:00:00\", \"2016-04-30T00:00:00\", \"2016-03-31T00:00:00\", \"2016-02-29T00:00:00\", \"2016-01-31T00:00:00\", \"2015-12-31T00:00:00\", \"2015-11-30T00:00:00\", \"2015-10-31T00:00:00\", \"2015-09-30T00:00:00\", \"2015-08-31T00:00:00\", \"2015-07-31T00:00:00\", \"2015-06-30T00:00:00\", \"2015-05-31T00:00:00\", \"2015-04-30T00:00:00\", \"2015-03-31T00:00:00\", \"2015-02-28T00:00:00\", \"2015-01-31T00:00:00\", \"2014-12-31T00:00:00\", \"2014-11-30T00:00:00\", \"2014-10-31T00:00:00\", \"2014-09-30T00:00:00\", \"2014-08-31T00:00:00\", \"2014-07-31T00:00:00\", \"2014-06-30T00:00:00\", \"2014-05-31T00:00:00\", \"2014-04-30T00:00:00\", \"2014-03-31T00:00:00\", \"2014-02-28T00:00:00\", \"2014-01-31T00:00:00\", \"2013-12-31T00:00:00\", \"2013-11-30T00:00:00\", \"2013-10-31T00:00:00\", \"2013-09-30T00:00:00\", \"2013-08-31T00:00:00\", \"2013-07-31T00:00:00\", \"2013-06-30T00:00:00\", \"2013-05-31T00:00:00\", \"2013-04-30T00:00:00\", \"2013-03-31T00:00:00\", \"2013-02-28T00:00:00\", \"2013-01-31T00:00:00\", \"2012-12-31T00:00:00\", \"2012-11-30T00:00:00\", \"2012-10-31T00:00:00\", \"2012-09-30T00:00:00\", \"2012-08-31T00:00:00\", \"2012-07-31T00:00:00\", \"2012-06-30T00:00:00\", \"2012-05-31T00:00:00\", \"2012-04-30T00:00:00\", \"2012-03-31T00:00:00\", \"2012-02-29T00:00:00\", \"2012-01-31T00:00:00\", \"2011-12-31T00:00:00\", \"2011-11-30T00:00:00\", \"2011-10-31T00:00:00\", \"2011-09-30T00:00:00\", \"2011-08-31T00:00:00\", \"2011-07-31T00:00:00\", \"2011-06-30T00:00:00\", \"2011-05-31T00:00:00\", \"2011-04-30T00:00:00\", \"2011-03-31T00:00:00\", \"2011-02-28T00:00:00\", \"2011-01-31T00:00:00\", \"2010-12-31T00:00:00\", \"2010-11-30T00:00:00\", \"2010-10-31T00:00:00\", \"2010-09-30T00:00:00\", \"2010-08-31T00:00:00\", \"2010-07-31T00:00:00\", \"2010-06-30T00:00:00\", \"2010-05-31T00:00:00\", \"2010-04-30T00:00:00\", \"2010-03-31T00:00:00\", \"2010-02-28T00:00:00\", \"2010-01-31T00:00:00\", \"2009-12-31T00:00:00\", \"2009-11-30T00:00:00\", \"2009-10-31T00:00:00\", \"2009-09-30T00:00:00\", \"2009-08-31T00:00:00\", \"2009-07-31T00:00:00\", \"2009-06-30T00:00:00\", \"2009-05-31T00:00:00\", \"2009-04-30T00:00:00\", \"2009-03-31T00:00:00\", \"2009-02-28T00:00:00\", \"2009-01-31T00:00:00\", \"2008-12-31T00:00:00\", \"2008-11-30T00:00:00\", \"2008-10-31T00:00:00\", \"2008-09-30T00:00:00\", \"2008-08-31T00:00:00\", \"2008-07-31T00:00:00\", \"2008-06-30T00:00:00\", \"2008-05-31T00:00:00\", \"2008-04-30T00:00:00\", \"2008-03-31T00:00:00\", \"2008-02-29T00:00:00\", \"2008-01-31T00:00:00\", \"2007-12-31T00:00:00\", \"2007-11-30T00:00:00\", \"2007-10-31T00:00:00\", \"2007-09-30T00:00:00\", \"2007-08-31T00:00:00\", \"2007-07-31T00:00:00\", \"2007-06-30T00:00:00\", \"2007-05-31T00:00:00\", \"2007-04-30T00:00:00\", \"2007-03-31T00:00:00\"], \"y\": [162, 162, 162, 163, 163, 163, 163, 163, 163, 163, 163, 163, 165, 165, 165, 165, 166, 166, 167, 167, 167, 167, 167, 167, 167, 167, 167, 167, 167, 167, 167, 167, 167, 167, 167, 167, 168, 168, 168, 168, 168, 168, 168, 168, 168, 168, 168, 168, 168, 168, 168, 168, 168, 168, 168, 168, 168, 168, 168, 168, 168, 168, 168, 168, 169, 177, 183, 183, 183, 183, 183, 183, 183, 185, 185, 185, 185, 185, 184, 185, 185, 185, 185, 185, 185, 187, 187, 187, 187, 187, 187, 187, 187, 187, 187, 187, 200, 206, 206, 206, 206, 206, 212, 212, 212, 212, 212, 212, 212, 210, 210, 210, 209, 223, 226, 226, 226, 226, 226, 230, 231, 229, 229, 230, 230, 230, 230, 230, 69, 74, 74, 74, 74, 74, 74, 74, 74, 74, 73, 75, 75, 75, 75, 75, 75, 75, 75, 75, 75, 75, 18, 63, 64, 64, 64, 17, 10, 4, 1]}, {\"name\": \"Pandacomics\", \"stackgroup\": \"one\", \"type\": \"scatter\", \"x\": [\"2020-09-30T00:00:00\", \"2020-04-30T00:00:00\", \"2020-03-31T00:00:00\", \"2020-02-29T00:00:00\", \"2020-01-31T00:00:00\", \"2019-12-31T00:00:00\", \"2019-11-30T00:00:00\", \"2019-10-31T00:00:00\", \"2019-09-30T00:00:00\", \"2019-08-31T00:00:00\", \"2019-07-31T00:00:00\", \"2019-06-30T00:00:00\", \"2019-05-31T00:00:00\", \"2019-04-30T00:00:00\", \"2019-03-31T00:00:00\", \"2019-02-28T00:00:00\", \"2019-01-31T00:00:00\", \"2018-12-31T00:00:00\", \"2018-11-30T00:00:00\", \"2018-10-31T00:00:00\", \"2018-09-30T00:00:00\", \"2018-08-31T00:00:00\", \"2018-07-31T00:00:00\", \"2018-06-30T00:00:00\", \"2018-05-31T00:00:00\", \"2018-04-30T00:00:00\", \"2018-03-31T00:00:00\", \"2018-02-28T00:00:00\", \"2018-01-31T00:00:00\", \"2017-12-31T00:00:00\", \"2017-11-30T00:00:00\", \"2017-10-31T00:00:00\", \"2017-09-30T00:00:00\", \"2017-08-31T00:00:00\", \"2017-07-31T00:00:00\", \"2017-06-30T00:00:00\", \"2017-05-31T00:00:00\", \"2017-04-30T00:00:00\", \"2017-03-31T00:00:00\", \"2017-02-28T00:00:00\", \"2017-01-31T00:00:00\", \"2016-12-31T00:00:00\", \"2016-11-30T00:00:00\", \"2016-10-31T00:00:00\", \"2016-09-30T00:00:00\", \"2016-08-31T00:00:00\", \"2016-07-31T00:00:00\", \"2016-06-30T00:00:00\", \"2016-05-31T00:00:00\", \"2016-04-30T00:00:00\", \"2016-03-31T00:00:00\", \"2016-02-29T00:00:00\", \"2016-01-31T00:00:00\", \"2015-12-31T00:00:00\", \"2015-11-30T00:00:00\", \"2015-10-31T00:00:00\", \"2015-09-30T00:00:00\", \"2015-08-31T00:00:00\", \"2015-07-31T00:00:00\", \"2015-06-30T00:00:00\", \"2015-05-31T00:00:00\", \"2015-04-30T00:00:00\", \"2015-03-31T00:00:00\", \"2015-02-28T00:00:00\", \"2015-01-31T00:00:00\", \"2014-12-31T00:00:00\", \"2014-11-30T00:00:00\", \"2014-10-31T00:00:00\", \"2014-09-30T00:00:00\", \"2014-08-31T00:00:00\", \"2014-07-31T00:00:00\", \"2014-06-30T00:00:00\", \"2014-05-31T00:00:00\", \"2014-04-30T00:00:00\", \"2014-03-31T00:00:00\", \"2014-02-28T00:00:00\", \"2014-01-31T00:00:00\", \"2013-12-31T00:00:00\", \"2013-11-30T00:00:00\", \"2013-10-31T00:00:00\", \"2013-09-30T00:00:00\", \"2013-08-31T00:00:00\", \"2013-07-31T00:00:00\", \"2013-06-30T00:00:00\", \"2013-05-31T00:00:00\", \"2013-04-30T00:00:00\", \"2013-03-31T00:00:00\", \"2013-02-28T00:00:00\", \"2013-01-31T00:00:00\", \"2012-12-31T00:00:00\", \"2012-11-30T00:00:00\", \"2012-10-31T00:00:00\", \"2012-09-30T00:00:00\", \"2012-08-31T00:00:00\", \"2012-07-31T00:00:00\", \"2012-06-30T00:00:00\", \"2012-05-31T00:00:00\", \"2012-04-30T00:00:00\", \"2012-03-31T00:00:00\", \"2012-02-29T00:00:00\", \"2012-01-31T00:00:00\", \"2011-12-31T00:00:00\", \"2011-11-30T00:00:00\", \"2011-10-31T00:00:00\", \"2011-09-30T00:00:00\", \"2011-08-31T00:00:00\", \"2011-07-31T00:00:00\", \"2011-06-30T00:00:00\", \"2011-05-31T00:00:00\", \"2011-04-30T00:00:00\", \"2011-03-31T00:00:00\", \"2011-02-28T00:00:00\", \"2011-01-31T00:00:00\", \"2010-12-31T00:00:00\", \"2010-11-30T00:00:00\", \"2010-10-31T00:00:00\", \"2010-09-30T00:00:00\", \"2010-08-31T00:00:00\", \"2010-07-31T00:00:00\", \"2010-06-30T00:00:00\", \"2010-05-31T00:00:00\", \"2010-04-30T00:00:00\", \"2010-03-31T00:00:00\", \"2010-02-28T00:00:00\", \"2010-01-31T00:00:00\", \"2009-12-31T00:00:00\", \"2009-11-30T00:00:00\", \"2009-10-31T00:00:00\", \"2009-09-30T00:00:00\", \"2009-08-31T00:00:00\", \"2009-07-31T00:00:00\", \"2009-06-30T00:00:00\", \"2009-05-31T00:00:00\", \"2009-04-30T00:00:00\", \"2009-03-31T00:00:00\", \"2009-02-28T00:00:00\", \"2009-01-31T00:00:00\", \"2008-12-31T00:00:00\", \"2008-11-30T00:00:00\", \"2008-10-31T00:00:00\", \"2008-09-30T00:00:00\", \"2008-08-31T00:00:00\", \"2008-07-31T00:00:00\", \"2008-06-30T00:00:00\", \"2008-05-31T00:00:00\", \"2008-04-30T00:00:00\", \"2008-03-31T00:00:00\", \"2008-02-29T00:00:00\", \"2008-01-31T00:00:00\", \"2007-12-31T00:00:00\", \"2007-11-30T00:00:00\", \"2007-10-31T00:00:00\", \"2007-09-30T00:00:00\", \"2007-08-31T00:00:00\", \"2007-07-31T00:00:00\", \"2007-06-30T00:00:00\", \"2007-05-31T00:00:00\", \"2007-04-30T00:00:00\"], \"y\": [25, 25, 25, 64, 64, 64, 64, 64, 64, 64, 64, 64, 64, 64, 63, 70, 131, 131, 131, 131, 131, 131, 131, 131, 131, 131, 122, 122, 122, 122, 122, 122, 122, 122, 122, 122, 126, 126, 127, 125, 140, 140, 140, 140, 140, 140, 140, 140, 140, 140, 140, 140, 140, 140, 140, 140, 140, 140, 140, 140, 140, 140, 142, 144, 144, 149, 149, 148, 149, 149, 149, 149, 149, 149, 149, 149, 149, 149, 150, 150, 150, 150, 150, 150, 150, 176, 176, 176, 176, 176, 176, 176, 176, 176, 176, 176, 177, 177, 179, 179, 179, 185, 186, 185, 185, 186, 186, 186, 186, 198, 198, 198, 208, 204, 205, 206, 206, 208, 209, 209, 209, 210, 210, 220, 220, 230, 230, 230, 230, 239, 244, 245, 243, 244, 244, 232, 232, 232, 245, 245, 251, 250, 249, 250, 251, 251, 253, 258, 244, 255, 59, 82, 85, 85, 85, 25, 10, 1]}, {\"name\": \"Adjusting\", \"stackgroup\": \"one\", \"type\": \"scatter\", \"x\": [\"2020-09-30T00:00:00\", \"2020-04-30T00:00:00\", \"2020-03-31T00:00:00\", \"2020-02-29T00:00:00\", \"2020-01-31T00:00:00\", \"2019-12-31T00:00:00\", \"2019-11-30T00:00:00\", \"2019-10-31T00:00:00\", \"2019-09-30T00:00:00\", \"2019-08-31T00:00:00\", \"2019-07-31T00:00:00\", \"2019-06-30T00:00:00\", \"2019-05-31T00:00:00\", \"2019-04-30T00:00:00\", \"2019-03-31T00:00:00\", \"2019-02-28T00:00:00\", \"2019-01-31T00:00:00\", \"2018-12-31T00:00:00\", \"2018-11-30T00:00:00\", \"2018-10-31T00:00:00\", \"2018-09-30T00:00:00\", \"2018-08-31T00:00:00\", \"2018-07-31T00:00:00\", \"2018-06-30T00:00:00\", \"2018-05-31T00:00:00\", \"2018-04-30T00:00:00\", \"2018-03-31T00:00:00\", \"2018-02-28T00:00:00\", \"2018-01-31T00:00:00\", \"2017-12-31T00:00:00\", \"2017-11-30T00:00:00\", \"2017-10-31T00:00:00\", \"2017-09-30T00:00:00\", \"2017-08-31T00:00:00\", \"2017-07-31T00:00:00\", \"2017-06-30T00:00:00\", \"2017-05-31T00:00:00\", \"2017-04-30T00:00:00\", \"2017-03-31T00:00:00\", \"2017-02-28T00:00:00\", \"2017-01-31T00:00:00\", \"2016-12-31T00:00:00\", \"2016-11-30T00:00:00\", \"2016-10-31T00:00:00\", \"2016-09-30T00:00:00\", \"2016-08-31T00:00:00\", \"2016-07-31T00:00:00\", \"2016-06-30T00:00:00\", \"2016-05-31T00:00:00\", \"2016-04-30T00:00:00\", \"2016-03-31T00:00:00\", \"2016-02-29T00:00:00\", \"2016-01-31T00:00:00\", \"2015-12-31T00:00:00\", \"2015-11-30T00:00:00\", \"2015-10-31T00:00:00\", \"2015-09-30T00:00:00\", \"2015-08-31T00:00:00\", \"2015-07-31T00:00:00\", \"2015-06-30T00:00:00\", \"2015-05-31T00:00:00\", \"2015-04-30T00:00:00\", \"2015-03-31T00:00:00\", \"2015-02-28T00:00:00\", \"2015-01-31T00:00:00\", \"2014-12-31T00:00:00\", \"2014-11-30T00:00:00\", \"2014-10-31T00:00:00\", \"2014-09-30T00:00:00\", \"2014-08-31T00:00:00\", \"2014-07-31T00:00:00\", \"2014-06-30T00:00:00\", \"2014-05-31T00:00:00\", \"2014-04-30T00:00:00\", \"2014-03-31T00:00:00\", \"2014-02-28T00:00:00\", \"2014-01-31T00:00:00\", \"2013-12-31T00:00:00\", \"2013-11-30T00:00:00\", \"2013-10-31T00:00:00\", \"2013-09-30T00:00:00\", \"2013-08-31T00:00:00\", \"2013-07-31T00:00:00\", \"2013-06-30T00:00:00\", \"2013-05-31T00:00:00\", \"2013-04-30T00:00:00\", \"2013-03-31T00:00:00\", \"2013-02-28T00:00:00\", \"2013-01-31T00:00:00\", \"2012-12-31T00:00:00\", \"2012-11-30T00:00:00\", \"2012-10-31T00:00:00\", \"2012-09-30T00:00:00\", \"2012-08-31T00:00:00\", \"2012-07-31T00:00:00\", \"2012-06-30T00:00:00\", \"2012-05-31T00:00:00\", \"2012-04-30T00:00:00\", \"2012-03-31T00:00:00\", \"2012-02-29T00:00:00\", \"2012-01-31T00:00:00\", \"2011-12-31T00:00:00\", \"2011-11-30T00:00:00\", \"2011-10-31T00:00:00\", \"2011-09-30T00:00:00\", \"2011-08-31T00:00:00\", \"2011-07-31T00:00:00\", \"2011-06-30T00:00:00\", \"2011-05-31T00:00:00\", \"2011-04-30T00:00:00\", \"2011-03-31T00:00:00\", \"2011-02-28T00:00:00\", \"2011-01-31T00:00:00\", \"2010-12-31T00:00:00\", \"2010-11-30T00:00:00\", \"2010-10-31T00:00:00\", \"2010-09-30T00:00:00\", \"2010-08-31T00:00:00\", \"2010-07-31T00:00:00\", \"2010-06-30T00:00:00\", \"2010-05-31T00:00:00\", \"2010-04-30T00:00:00\", \"2010-03-31T00:00:00\", \"2010-02-28T00:00:00\", \"2010-01-31T00:00:00\", \"2009-12-31T00:00:00\", \"2009-11-30T00:00:00\", \"2009-10-31T00:00:00\", \"2009-09-30T00:00:00\", \"2009-08-31T00:00:00\", \"2009-07-31T00:00:00\", \"2009-06-30T00:00:00\", \"2009-05-31T00:00:00\", \"2009-04-30T00:00:00\", \"2009-03-31T00:00:00\", \"2009-02-28T00:00:00\", \"2009-01-31T00:00:00\", \"2008-12-31T00:00:00\", \"2008-11-30T00:00:00\", \"2008-10-31T00:00:00\", \"2008-09-30T00:00:00\", \"2008-08-31T00:00:00\", \"2008-07-31T00:00:00\", \"2008-06-30T00:00:00\", \"2008-05-31T00:00:00\", \"2008-04-30T00:00:00\", \"2008-03-31T00:00:00\", \"2008-02-29T00:00:00\", \"2008-01-31T00:00:00\", \"2007-12-31T00:00:00\", \"2007-11-30T00:00:00\", \"2007-10-31T00:00:00\", \"2007-09-30T00:00:00\", \"2007-08-31T00:00:00\", \"2007-07-31T00:00:00\", \"2007-06-30T00:00:00\", \"2007-05-31T00:00:00\"], \"y\": [74, 74, 74, 74, 74, 74, 74, 74, 74, 74, 74, 74, 74, 74, 74, 74, 74, 74, 74, 74, 74, 74, 74, 74, 74, 74, 74, 74, 74, 74, 74, 74, 74, 74, 74, 74, 74, 74, 74, 74, 74, 74, 74, 74, 74, 74, 74, 74, 74, 74, 74, 74, 74, 74, 74, 74, 74, 74, 74, 74, 74, 74, 74, 74, 74, 74, 74, 74, 88, 88, 88, 88, 88, 88, 88, 88, 88, 88, 88, 88, 88, 88, 88, 88, 88, 88, 88, 88, 88, 88, 88, 88, 88, 88, 88, 88, 88, 88, 88, 88, 88, 88, 93, 93, 93, 93, 97, 97, 97, 101, 101, 101, 101, 101, 102, 102, 103, 103, 103, 103, 103, 103, 103, 106, 106, 106, 106, 106, 109, 131, 131, 131, 131, 134, 134, 137, 137, 137, 148, 148, 148, 148, 148, 169, 169, 169, 169, 169, 169, 169, 140, 169, 169, 169, 169, 181, 2]}, {\"name\": \"CaliforniaAliBaba\", \"stackgroup\": \"one\", \"type\": \"scatter\", \"x\": [\"2020-09-30T00:00:00\", \"2020-04-30T00:00:00\", \"2020-03-31T00:00:00\", \"2020-02-29T00:00:00\", \"2020-01-31T00:00:00\", \"2019-12-31T00:00:00\", \"2019-11-30T00:00:00\", \"2019-10-31T00:00:00\", \"2019-09-30T00:00:00\", \"2019-08-31T00:00:00\", \"2019-07-31T00:00:00\", \"2019-06-30T00:00:00\", \"2019-05-31T00:00:00\", \"2019-04-30T00:00:00\", \"2019-03-31T00:00:00\", \"2019-02-28T00:00:00\", \"2019-01-31T00:00:00\", \"2018-12-31T00:00:00\", \"2018-11-30T00:00:00\", \"2018-10-31T00:00:00\", \"2018-09-30T00:00:00\", \"2018-08-31T00:00:00\", \"2018-07-31T00:00:00\", \"2018-06-30T00:00:00\", \"2018-05-31T00:00:00\", \"2018-04-30T00:00:00\", \"2018-03-31T00:00:00\", \"2018-02-28T00:00:00\", \"2018-01-31T00:00:00\", \"2017-12-31T00:00:00\", \"2017-11-30T00:00:00\", \"2017-10-31T00:00:00\", \"2017-09-30T00:00:00\", \"2017-08-31T00:00:00\", \"2017-07-31T00:00:00\", \"2017-06-30T00:00:00\", \"2017-05-31T00:00:00\", \"2017-04-30T00:00:00\", \"2017-03-31T00:00:00\", \"2017-02-28T00:00:00\", \"2017-01-31T00:00:00\", \"2016-12-31T00:00:00\", \"2016-11-30T00:00:00\", \"2016-10-31T00:00:00\", \"2016-09-30T00:00:00\", \"2016-08-31T00:00:00\", \"2016-07-31T00:00:00\", \"2016-06-30T00:00:00\", \"2016-05-31T00:00:00\", \"2016-04-30T00:00:00\", \"2016-03-31T00:00:00\", \"2016-02-29T00:00:00\", \"2016-01-31T00:00:00\", \"2015-12-31T00:00:00\", \"2015-11-30T00:00:00\", \"2015-10-31T00:00:00\", \"2015-09-30T00:00:00\", \"2015-08-31T00:00:00\", \"2015-07-31T00:00:00\", \"2015-06-30T00:00:00\", \"2015-05-31T00:00:00\", \"2015-04-30T00:00:00\", \"2015-03-31T00:00:00\", \"2015-02-28T00:00:00\", \"2015-01-31T00:00:00\", \"2014-12-31T00:00:00\", \"2014-11-30T00:00:00\", \"2014-10-31T00:00:00\", \"2014-09-30T00:00:00\", \"2014-08-31T00:00:00\", \"2014-07-31T00:00:00\", \"2014-06-30T00:00:00\", \"2014-05-31T00:00:00\", \"2014-04-30T00:00:00\", \"2014-03-31T00:00:00\", \"2014-02-28T00:00:00\", \"2014-01-31T00:00:00\", \"2013-12-31T00:00:00\", \"2013-11-30T00:00:00\", \"2013-10-31T00:00:00\", \"2013-09-30T00:00:00\", \"2013-08-31T00:00:00\", \"2013-07-31T00:00:00\", \"2013-06-30T00:00:00\", \"2013-05-31T00:00:00\", \"2013-04-30T00:00:00\", \"2013-03-31T00:00:00\", \"2013-02-28T00:00:00\", \"2013-01-31T00:00:00\", \"2012-12-31T00:00:00\", \"2012-11-30T00:00:00\", \"2012-10-31T00:00:00\", \"2012-09-30T00:00:00\", \"2012-08-31T00:00:00\", \"2012-07-31T00:00:00\", \"2012-06-30T00:00:00\", \"2012-05-31T00:00:00\", \"2012-04-30T00:00:00\", \"2012-03-31T00:00:00\", \"2012-02-29T00:00:00\", \"2012-01-31T00:00:00\", \"2011-12-31T00:00:00\", \"2011-11-30T00:00:00\", \"2011-10-31T00:00:00\", \"2011-09-30T00:00:00\", \"2011-08-31T00:00:00\", \"2011-07-31T00:00:00\", \"2011-06-30T00:00:00\", \"2011-05-31T00:00:00\", \"2011-04-30T00:00:00\", \"2011-03-31T00:00:00\", \"2011-02-28T00:00:00\", \"2011-01-31T00:00:00\", \"2010-12-31T00:00:00\", \"2010-11-30T00:00:00\", \"2010-10-31T00:00:00\", \"2010-09-30T00:00:00\", \"2010-08-31T00:00:00\", \"2010-07-31T00:00:00\", \"2010-06-30T00:00:00\", \"2010-05-31T00:00:00\", \"2010-04-30T00:00:00\", \"2010-03-31T00:00:00\", \"2010-02-28T00:00:00\", \"2010-01-31T00:00:00\", \"2009-12-31T00:00:00\", \"2009-11-30T00:00:00\", \"2009-10-31T00:00:00\", \"2009-09-30T00:00:00\", \"2009-08-31T00:00:00\", \"2009-07-31T00:00:00\", \"2009-06-30T00:00:00\", \"2009-05-31T00:00:00\", \"2009-04-30T00:00:00\", \"2009-03-31T00:00:00\", \"2009-02-28T00:00:00\", \"2009-01-31T00:00:00\", \"2008-12-31T00:00:00\", \"2008-11-30T00:00:00\", \"2008-10-31T00:00:00\", \"2008-09-30T00:00:00\", \"2008-08-31T00:00:00\", \"2008-07-31T00:00:00\", \"2008-06-30T00:00:00\", \"2008-05-31T00:00:00\", \"2008-04-30T00:00:00\", \"2008-03-31T00:00:00\", \"2008-02-29T00:00:00\", \"2008-01-31T00:00:00\", \"2007-12-31T00:00:00\"], \"y\": [90, 90, 90, 90, 90, 90, 90, 90, 90, 90, 90, 90, 90, 90, 90, 90, 90, 90, 90, 90, 90, 90, 90, 90, 90, 90, 90, 90, 90, 90, 90, 90, 90, 90, 90, 90, 90, 90, 90, 90, 90, 90, 90, 90, 90, 93, 93, 93, 93, 93, 93, 93, 93, 93, 93, 93, 93, 93, 93, 93, 93, 93, 93, 93, 93, 93, 93, 93, 93, 93, 93, 93, 93, 105, 105, 105, 105, 105, 105, 105, 105, 105, 105, 105, 105, 105, 105, 105, 105, 105, 105, 105, 105, 105, 105, 105, 105, 105, 105, 105, 105, 105, 105, 105, 105, 105, 105, 105, 105, 106, 106, 106, 106, 106, 106, 106, 106, 106, 106, 106, 106, 106, 106, 106, 106, 106, 106, 106, 106, 106, 106, 106, 106, 106, 106, 106, 106, 106, 106, 106, 106, 106, 106, 106, 106, 106, 106, 106, 106, 106]}, {\"name\": \"Hza100\", \"stackgroup\": \"one\", \"type\": \"scatter\", \"x\": [\"2020-09-30T00:00:00\", \"2020-04-30T00:00:00\", \"2020-03-31T00:00:00\", \"2020-02-29T00:00:00\", \"2020-01-31T00:00:00\", \"2019-12-31T00:00:00\", \"2019-11-30T00:00:00\", \"2019-10-31T00:00:00\", \"2019-09-30T00:00:00\", \"2019-08-31T00:00:00\", \"2019-07-31T00:00:00\", \"2019-06-30T00:00:00\", \"2019-05-31T00:00:00\", \"2019-04-30T00:00:00\", \"2019-03-31T00:00:00\", \"2019-02-28T00:00:00\", \"2019-01-31T00:00:00\", \"2018-12-31T00:00:00\", \"2018-11-30T00:00:00\", \"2018-10-31T00:00:00\", \"2018-09-30T00:00:00\", \"2018-08-31T00:00:00\", \"2018-07-31T00:00:00\", \"2018-06-30T00:00:00\", \"2018-05-31T00:00:00\", \"2018-04-30T00:00:00\", \"2018-03-31T00:00:00\", \"2018-02-28T00:00:00\", \"2018-01-31T00:00:00\", \"2017-12-31T00:00:00\", \"2017-11-30T00:00:00\", \"2017-10-31T00:00:00\", \"2017-09-30T00:00:00\", \"2017-08-31T00:00:00\", \"2017-07-31T00:00:00\", \"2017-06-30T00:00:00\", \"2017-05-31T00:00:00\", \"2017-04-30T00:00:00\", \"2017-03-31T00:00:00\", \"2017-02-28T00:00:00\", \"2017-01-31T00:00:00\", \"2016-12-31T00:00:00\", \"2016-11-30T00:00:00\", \"2016-10-31T00:00:00\", \"2016-09-30T00:00:00\", \"2016-08-31T00:00:00\", \"2016-07-31T00:00:00\", \"2016-06-30T00:00:00\", \"2016-05-31T00:00:00\", \"2016-04-30T00:00:00\", \"2016-03-31T00:00:00\", \"2016-02-29T00:00:00\", \"2016-01-31T00:00:00\", \"2015-12-31T00:00:00\", \"2015-11-30T00:00:00\", \"2015-10-31T00:00:00\", \"2015-09-30T00:00:00\", \"2015-08-31T00:00:00\", \"2015-07-31T00:00:00\", \"2015-06-30T00:00:00\", \"2015-05-31T00:00:00\", \"2015-04-30T00:00:00\", \"2015-03-31T00:00:00\", \"2015-02-28T00:00:00\", \"2015-01-31T00:00:00\", \"2014-12-31T00:00:00\", \"2014-11-30T00:00:00\", \"2014-10-31T00:00:00\", \"2014-09-30T00:00:00\", \"2014-08-31T00:00:00\", \"2014-07-31T00:00:00\", \"2014-06-30T00:00:00\", \"2014-05-31T00:00:00\", \"2014-04-30T00:00:00\", \"2014-03-31T00:00:00\", \"2014-02-28T00:00:00\", \"2014-01-31T00:00:00\", \"2013-12-31T00:00:00\", \"2013-11-30T00:00:00\", \"2013-10-31T00:00:00\", \"2013-09-30T00:00:00\", \"2013-08-31T00:00:00\", \"2013-07-31T00:00:00\", \"2013-06-30T00:00:00\", \"2013-05-31T00:00:00\", \"2013-04-30T00:00:00\", \"2013-03-31T00:00:00\", \"2013-02-28T00:00:00\", \"2013-01-31T00:00:00\", \"2012-12-31T00:00:00\", \"2012-11-30T00:00:00\", \"2012-10-31T00:00:00\", \"2012-09-30T00:00:00\", \"2012-08-31T00:00:00\", \"2012-07-31T00:00:00\", \"2012-06-30T00:00:00\", \"2012-05-31T00:00:00\", \"2012-04-30T00:00:00\", \"2012-03-31T00:00:00\", \"2012-02-29T00:00:00\", \"2012-01-31T00:00:00\", \"2011-12-31T00:00:00\", \"2011-11-30T00:00:00\", \"2011-10-31T00:00:00\", \"2011-09-30T00:00:00\", \"2011-08-31T00:00:00\", \"2011-07-31T00:00:00\", \"2011-06-30T00:00:00\", \"2011-05-31T00:00:00\", \"2011-04-30T00:00:00\", \"2011-03-31T00:00:00\", \"2011-02-28T00:00:00\", \"2011-01-31T00:00:00\", \"2010-12-31T00:00:00\", \"2010-11-30T00:00:00\", \"2010-10-31T00:00:00\", \"2010-09-30T00:00:00\", \"2010-08-31T00:00:00\", \"2010-07-31T00:00:00\", \"2010-06-30T00:00:00\", \"2010-05-31T00:00:00\", \"2010-04-30T00:00:00\", \"2010-03-31T00:00:00\", \"2010-02-28T00:00:00\", \"2010-01-31T00:00:00\", \"2009-12-31T00:00:00\", \"2009-11-30T00:00:00\", \"2009-10-31T00:00:00\", \"2009-09-30T00:00:00\", \"2009-08-31T00:00:00\", \"2009-07-31T00:00:00\", \"2009-06-30T00:00:00\", \"2009-05-31T00:00:00\", \"2009-04-30T00:00:00\", \"2009-03-31T00:00:00\", \"2009-02-28T00:00:00\", \"2009-01-31T00:00:00\", \"2008-12-31T00:00:00\", \"2008-11-30T00:00:00\", \"2008-10-31T00:00:00\", \"2008-09-30T00:00:00\", \"2008-08-31T00:00:00\", \"2008-07-31T00:00:00\"], \"y\": [132, 132, 132, 133, 133, 133, 133, 133, 133, 133, 133, 133, 133, 133, 133, 133, 133, 133, 134, 134, 134, 134, 134, 134, 134, 134, 134, 134, 134, 134, 134, 134, 134, 134, 134, 134, 136, 136, 136, 136, 136, 136, 136, 135, 135, 135, 135, 135, 132, 132, 132, 132, 132, 132, 134, 134, 134, 134, 134, 134, 134, 134, 26, 26, 26, 26, 26, 26, 39, 39, 39, 39, 39, 40, 40, 40, 40, 40, 40, 40, 40, 40, 40, 40, 40, 40, 40, 40, 40, 40, 40, 40, 40, 40, 40, 40, 40, 40, 40, 40, 40, 40, 40, 40, 40, 40, 40, 40, 40, 46, 46, 46, 71, 78, 78, 78, 79, 79, 79, 79, 79, 79, 79, 79, 81, 81, 81, 81, 81, 85, 86, 86, 87, 87, 87, 91, 91, 91, 83, 50, 42, 4, 3]}, {\"name\": \"Soangry\", \"stackgroup\": \"one\", \"type\": \"scatter\", \"x\": [\"2020-09-30T00:00:00\", \"2020-04-30T00:00:00\", \"2020-03-31T00:00:00\", \"2020-02-29T00:00:00\", \"2020-01-31T00:00:00\", \"2019-12-31T00:00:00\", \"2019-11-30T00:00:00\", \"2019-10-31T00:00:00\", \"2019-09-30T00:00:00\", \"2019-08-31T00:00:00\", \"2019-07-31T00:00:00\", \"2019-06-30T00:00:00\", \"2019-05-31T00:00:00\", \"2019-04-30T00:00:00\", \"2019-03-31T00:00:00\", \"2019-02-28T00:00:00\", \"2019-01-31T00:00:00\", \"2018-12-31T00:00:00\", \"2018-11-30T00:00:00\", \"2018-10-31T00:00:00\", \"2018-09-30T00:00:00\", \"2018-08-31T00:00:00\", \"2018-07-31T00:00:00\", \"2018-06-30T00:00:00\", \"2018-05-31T00:00:00\", \"2018-04-30T00:00:00\", \"2018-03-31T00:00:00\", \"2018-02-28T00:00:00\", \"2018-01-31T00:00:00\", \"2017-12-31T00:00:00\", \"2017-11-30T00:00:00\", \"2017-10-31T00:00:00\", \"2017-09-30T00:00:00\", \"2017-08-31T00:00:00\", \"2017-07-31T00:00:00\", \"2017-06-30T00:00:00\", \"2017-05-31T00:00:00\", \"2017-04-30T00:00:00\", \"2017-03-31T00:00:00\", \"2017-02-28T00:00:00\", \"2017-01-31T00:00:00\", \"2016-12-31T00:00:00\", \"2016-11-30T00:00:00\", \"2016-10-31T00:00:00\", \"2016-09-30T00:00:00\", \"2016-08-31T00:00:00\", \"2016-07-31T00:00:00\", \"2016-06-30T00:00:00\", \"2016-05-31T00:00:00\", \"2016-04-30T00:00:00\", \"2016-03-31T00:00:00\", \"2016-02-29T00:00:00\", \"2016-01-31T00:00:00\", \"2015-12-31T00:00:00\", \"2015-11-30T00:00:00\", \"2015-10-31T00:00:00\", \"2015-09-30T00:00:00\", \"2015-08-31T00:00:00\", \"2015-07-31T00:00:00\", \"2015-06-30T00:00:00\", \"2015-05-31T00:00:00\", \"2015-04-30T00:00:00\", \"2015-03-31T00:00:00\", \"2015-02-28T00:00:00\", \"2015-01-31T00:00:00\", \"2014-12-31T00:00:00\", \"2014-11-30T00:00:00\", \"2014-10-31T00:00:00\", \"2014-09-30T00:00:00\", \"2014-08-31T00:00:00\", \"2014-07-31T00:00:00\", \"2014-06-30T00:00:00\", \"2014-05-31T00:00:00\", \"2014-04-30T00:00:00\", \"2014-03-31T00:00:00\", \"2014-02-28T00:00:00\", \"2014-01-31T00:00:00\", \"2013-12-31T00:00:00\", \"2013-11-30T00:00:00\", \"2013-10-31T00:00:00\", \"2013-09-30T00:00:00\", \"2013-08-31T00:00:00\", \"2013-07-31T00:00:00\", \"2013-06-30T00:00:00\", \"2013-05-31T00:00:00\", \"2013-04-30T00:00:00\", \"2013-03-31T00:00:00\", \"2013-02-28T00:00:00\", \"2013-01-31T00:00:00\", \"2012-12-31T00:00:00\", \"2012-11-30T00:00:00\", \"2012-10-31T00:00:00\", \"2012-09-30T00:00:00\", \"2012-08-31T00:00:00\", \"2012-07-31T00:00:00\", \"2012-06-30T00:00:00\", \"2012-05-31T00:00:00\", \"2012-04-30T00:00:00\", \"2012-03-31T00:00:00\", \"2012-02-29T00:00:00\", \"2012-01-31T00:00:00\", \"2011-12-31T00:00:00\", \"2011-11-30T00:00:00\", \"2011-10-31T00:00:00\", \"2011-09-30T00:00:00\", \"2011-08-31T00:00:00\", \"2011-07-31T00:00:00\", \"2011-06-30T00:00:00\", \"2011-05-31T00:00:00\", \"2011-04-30T00:00:00\", \"2011-03-31T00:00:00\", \"2011-02-28T00:00:00\", \"2011-01-31T00:00:00\", \"2010-12-31T00:00:00\", \"2010-11-30T00:00:00\", \"2010-10-31T00:00:00\", \"2010-09-30T00:00:00\", \"2010-08-31T00:00:00\", \"2010-07-31T00:00:00\", \"2010-06-30T00:00:00\", \"2010-05-31T00:00:00\", \"2010-04-30T00:00:00\", \"2010-03-31T00:00:00\", \"2010-02-28T00:00:00\", \"2010-01-31T00:00:00\", \"2009-12-31T00:00:00\", \"2009-11-30T00:00:00\", \"2009-10-31T00:00:00\", \"2009-09-30T00:00:00\"], \"y\": [49, 49, 49, 58, 58, 58, 58, 58, 58, 58, 58, 58, 58, 58, 58, 58, 65, 65, 66, 66, 66, 68, 68, 68, 68, 68, 68, 68, 68, 68, 68, 68, 68, 68, 68, 68, 87, 87, 87, 87, 87, 87, 87, 87, 87, 87, 87, 87, 90, 90, 90, 90, 90, 90, 90, 90, 90, 90, 90, 90, 90, 90, 90, 90, 99, 114, 111, 113, 113, 113, 113, 113, 113, 113, 113, 113, 113, 113, 124, 124, 124, 124, 124, 124, 124, 126, 126, 126, 126, 126, 129, 129, 132, 132, 132, 135, 134, 136, 136, 136, 136, 132, 132, 132, 132, 133, 133, 133, 131, 134, 134, 129, 128, 134, 147, 149, 129, 129, 91, 106, 106, 92, 80, 75, 75, 75, 79, 77, 6]}, {\"name\": \"Michaela den\", \"stackgroup\": \"one\", \"type\": \"scatter\", \"x\": [\"2020-09-30T00:00:00\", \"2020-04-30T00:00:00\", \"2020-03-31T00:00:00\", \"2020-02-29T00:00:00\", \"2020-01-31T00:00:00\", \"2019-12-31T00:00:00\", \"2019-11-30T00:00:00\", \"2019-10-31T00:00:00\", \"2019-09-30T00:00:00\", \"2019-08-31T00:00:00\", \"2019-07-31T00:00:00\", \"2019-06-30T00:00:00\", \"2019-05-31T00:00:00\", \"2019-04-30T00:00:00\", \"2019-03-31T00:00:00\", \"2019-02-28T00:00:00\", \"2019-01-31T00:00:00\", \"2018-12-31T00:00:00\", \"2018-11-30T00:00:00\", \"2018-10-31T00:00:00\", \"2018-09-30T00:00:00\", \"2018-08-31T00:00:00\", \"2018-07-31T00:00:00\", \"2018-06-30T00:00:00\", \"2018-05-31T00:00:00\", \"2018-04-30T00:00:00\", \"2018-03-31T00:00:00\", \"2018-02-28T00:00:00\", \"2018-01-31T00:00:00\", \"2017-12-31T00:00:00\", \"2017-11-30T00:00:00\", \"2017-10-31T00:00:00\", \"2017-09-30T00:00:00\", \"2017-08-31T00:00:00\", \"2017-07-31T00:00:00\", \"2017-06-30T00:00:00\", \"2017-05-31T00:00:00\", \"2017-04-30T00:00:00\", \"2017-03-31T00:00:00\", \"2017-02-28T00:00:00\", \"2017-01-31T00:00:00\", \"2016-12-31T00:00:00\", \"2016-11-30T00:00:00\", \"2016-10-31T00:00:00\", \"2016-09-30T00:00:00\", \"2016-08-31T00:00:00\", \"2016-07-31T00:00:00\", \"2016-06-30T00:00:00\", \"2016-05-31T00:00:00\", \"2016-04-30T00:00:00\", \"2016-03-31T00:00:00\", \"2016-02-29T00:00:00\", \"2016-01-31T00:00:00\", \"2015-12-31T00:00:00\", \"2015-11-30T00:00:00\", \"2015-10-31T00:00:00\", \"2015-09-30T00:00:00\", \"2015-08-31T00:00:00\", \"2015-07-31T00:00:00\", \"2015-06-30T00:00:00\", \"2015-05-31T00:00:00\", \"2015-04-30T00:00:00\", \"2015-03-31T00:00:00\", \"2015-02-28T00:00:00\", \"2015-01-31T00:00:00\", \"2014-12-31T00:00:00\", \"2014-11-30T00:00:00\", \"2014-10-31T00:00:00\", \"2014-09-30T00:00:00\", \"2014-08-31T00:00:00\", \"2014-07-31T00:00:00\", \"2014-06-30T00:00:00\", \"2014-05-31T00:00:00\", \"2014-04-30T00:00:00\", \"2014-03-31T00:00:00\", \"2014-02-28T00:00:00\", \"2014-01-31T00:00:00\", \"2013-12-31T00:00:00\", \"2013-11-30T00:00:00\", \"2013-10-31T00:00:00\", \"2013-09-30T00:00:00\", \"2013-08-31T00:00:00\", \"2013-07-31T00:00:00\", \"2013-06-30T00:00:00\", \"2013-05-31T00:00:00\", \"2013-04-30T00:00:00\", \"2013-03-31T00:00:00\", \"2013-02-28T00:00:00\", \"2013-01-31T00:00:00\", \"2012-12-31T00:00:00\", \"2012-11-30T00:00:00\", \"2012-10-31T00:00:00\", \"2012-09-30T00:00:00\", \"2012-08-31T00:00:00\", \"2012-07-31T00:00:00\", \"2012-06-30T00:00:00\", \"2012-05-31T00:00:00\", \"2012-04-30T00:00:00\", \"2012-03-31T00:00:00\", \"2012-02-29T00:00:00\", \"2012-01-31T00:00:00\", \"2011-12-31T00:00:00\", \"2011-11-30T00:00:00\", \"2011-10-31T00:00:00\", \"2011-09-30T00:00:00\", \"2011-08-31T00:00:00\", \"2011-07-31T00:00:00\", \"2011-06-30T00:00:00\", \"2011-05-31T00:00:00\", \"2011-04-30T00:00:00\", \"2011-03-31T00:00:00\", \"2011-02-28T00:00:00\", \"2011-01-31T00:00:00\", \"2010-12-31T00:00:00\", \"2010-11-30T00:00:00\"], \"y\": [159, 159, 159, 159, 159, 159, 159, 164, 164, 164, 164, 164, 164, 164, 164, 164, 178, 178, 178, 178, 178, 178, 178, 178, 178, 178, 178, 178, 178, 178, 178, 178, 178, 178, 178, 178, 178, 178, 178, 178, 178, 178, 178, 178, 178, 178, 178, 178, 178, 178, 178, 178, 182, 182, 182, 182, 182, 182, 182, 182, 182, 182, 182, 182, 186, 196, 203, 203, 203, 203, 203, 203, 203, 203, 203, 203, 216, 216, 216, 216, 216, 216, 216, 216, 216, 220, 220, 220, 220, 220, 220, 220, 220, 220, 220, 220, 222, 222, 222, 222, 218, 220, 225, 218, 218, 221, 221, 221, 209, 164, 164, 164, 1, 1, 1]}, {\"name\": \"Nbagigafreak\", \"stackgroup\": \"one\", \"type\": \"scatter\", \"x\": [\"2020-09-30T00:00:00\", \"2020-04-30T00:00:00\", \"2020-03-31T00:00:00\", \"2020-02-29T00:00:00\", \"2020-01-31T00:00:00\", \"2019-12-31T00:00:00\", \"2019-11-30T00:00:00\", \"2019-10-31T00:00:00\", \"2019-09-30T00:00:00\", \"2019-08-31T00:00:00\", \"2019-07-31T00:00:00\", \"2019-06-30T00:00:00\", \"2019-05-31T00:00:00\", \"2019-04-30T00:00:00\", \"2019-03-31T00:00:00\", \"2019-02-28T00:00:00\", \"2019-01-31T00:00:00\", \"2018-12-31T00:00:00\", \"2018-11-30T00:00:00\", \"2018-10-31T00:00:00\", \"2018-09-30T00:00:00\", \"2018-08-31T00:00:00\", \"2018-07-31T00:00:00\", \"2018-06-30T00:00:00\", \"2018-05-31T00:00:00\", \"2018-04-30T00:00:00\", \"2018-03-31T00:00:00\", \"2018-02-28T00:00:00\", \"2018-01-31T00:00:00\", \"2017-12-31T00:00:00\", \"2017-11-30T00:00:00\", \"2017-10-31T00:00:00\", \"2017-09-30T00:00:00\", \"2017-08-31T00:00:00\", \"2017-07-31T00:00:00\", \"2017-06-30T00:00:00\", \"2017-05-31T00:00:00\", \"2017-04-30T00:00:00\", \"2017-03-31T00:00:00\", \"2017-02-28T00:00:00\", \"2017-01-31T00:00:00\", \"2016-12-31T00:00:00\", \"2016-11-30T00:00:00\", \"2016-10-31T00:00:00\", \"2016-09-30T00:00:00\", \"2016-08-31T00:00:00\", \"2016-07-31T00:00:00\", \"2016-06-30T00:00:00\", \"2016-05-31T00:00:00\", \"2016-04-30T00:00:00\", \"2016-03-31T00:00:00\", \"2016-02-29T00:00:00\", \"2016-01-31T00:00:00\", \"2015-12-31T00:00:00\", \"2015-11-30T00:00:00\", \"2015-10-31T00:00:00\", \"2015-09-30T00:00:00\", \"2015-08-31T00:00:00\", \"2015-07-31T00:00:00\", \"2015-06-30T00:00:00\", \"2015-05-31T00:00:00\", \"2015-04-30T00:00:00\", \"2015-03-31T00:00:00\", \"2015-02-28T00:00:00\", \"2015-01-31T00:00:00\", \"2014-12-31T00:00:00\", \"2014-11-30T00:00:00\", \"2014-10-31T00:00:00\", \"2014-09-30T00:00:00\", \"2014-08-31T00:00:00\", \"2014-07-31T00:00:00\", \"2014-06-30T00:00:00\", \"2014-05-31T00:00:00\", \"2014-04-30T00:00:00\", \"2014-03-31T00:00:00\", \"2014-02-28T00:00:00\", \"2014-01-31T00:00:00\", \"2013-12-31T00:00:00\", \"2013-11-30T00:00:00\", \"2013-10-31T00:00:00\", \"2013-09-30T00:00:00\", \"2013-08-31T00:00:00\", \"2013-07-31T00:00:00\", \"2013-06-30T00:00:00\", \"2013-05-31T00:00:00\", \"2013-04-30T00:00:00\", \"2013-03-31T00:00:00\", \"2013-02-28T00:00:00\", \"2013-01-31T00:00:00\", \"2012-12-31T00:00:00\", \"2012-11-30T00:00:00\", \"2012-10-31T00:00:00\", \"2012-09-30T00:00:00\", \"2012-08-31T00:00:00\", \"2012-07-31T00:00:00\", \"2012-06-30T00:00:00\", \"2012-05-31T00:00:00\", \"2012-04-30T00:00:00\"], \"y\": [328, 328, 328, 328, 328, 328, 334, 334, 334, 334, 334, 334, 334, 334, 334, 334, 335, 335, 335, 335, 335, 335, 335, 335, 335, 335, 340, 343, 345, 353, 355, 355, 355, 355, 355, 357, 364, 364, 364, 365, 343, 343, 343, 344, 344, 344, 344, 344, 352, 355, 355, 355, 355, 355, 355, 345, 345, 346, 347, 439, 1, 1, 1, 1, 1, 1, 1, 1, 1, 1, 1, 1, 1, 1, 1, 1, 1, 1, 1, 1, 1, 1, 1, 1, 1, 1, 1, 1, 1, 1, 1, 1, 1, 1, 1, 1, 1, 1]}, {\"name\": \"Zijiao Wang\", \"stackgroup\": \"one\", \"type\": \"scatter\", \"x\": [\"2020-09-30T00:00:00\", \"2020-04-30T00:00:00\", \"2020-03-31T00:00:00\", \"2020-02-29T00:00:00\", \"2020-01-31T00:00:00\", \"2019-12-31T00:00:00\", \"2019-11-30T00:00:00\", \"2019-10-31T00:00:00\", \"2019-09-30T00:00:00\", \"2019-08-31T00:00:00\", \"2019-07-31T00:00:00\", \"2019-06-30T00:00:00\", \"2019-05-31T00:00:00\", \"2019-04-30T00:00:00\", \"2019-03-31T00:00:00\", \"2019-02-28T00:00:00\", \"2019-01-31T00:00:00\", \"2018-12-31T00:00:00\", \"2018-11-30T00:00:00\", \"2018-10-31T00:00:00\", \"2018-09-30T00:00:00\", \"2018-08-31T00:00:00\", \"2018-07-31T00:00:00\", \"2018-06-30T00:00:00\", \"2018-05-31T00:00:00\", \"2018-04-30T00:00:00\", \"2018-03-31T00:00:00\", \"2018-02-28T00:00:00\", \"2018-01-31T00:00:00\", \"2017-12-31T00:00:00\", \"2017-11-30T00:00:00\", \"2017-10-31T00:00:00\", \"2017-09-30T00:00:00\", \"2017-08-31T00:00:00\", \"2017-07-31T00:00:00\", \"2017-06-30T00:00:00\", \"2017-05-31T00:00:00\", \"2017-04-30T00:00:00\", \"2017-03-31T00:00:00\", \"2017-02-28T00:00:00\", \"2017-01-31T00:00:00\", \"2016-12-31T00:00:00\", \"2016-11-30T00:00:00\", \"2016-10-31T00:00:00\", \"2016-09-30T00:00:00\", \"2016-08-31T00:00:00\", \"2016-07-31T00:00:00\", \"2016-06-30T00:00:00\", \"2016-05-31T00:00:00\", \"2016-04-30T00:00:00\", \"2016-03-31T00:00:00\", \"2016-02-29T00:00:00\", \"2016-01-31T00:00:00\", \"2015-12-31T00:00:00\", \"2015-11-30T00:00:00\", \"2015-10-31T00:00:00\", \"2015-09-30T00:00:00\", \"2015-08-31T00:00:00\", \"2015-07-31T00:00:00\", \"2015-06-30T00:00:00\", \"2015-05-31T00:00:00\", \"2015-04-30T00:00:00\", \"2015-03-31T00:00:00\", \"2015-02-28T00:00:00\", \"2015-01-31T00:00:00\", \"2014-12-31T00:00:00\", \"2014-11-30T00:00:00\", \"2014-10-31T00:00:00\", \"2014-09-30T00:00:00\", \"2014-08-31T00:00:00\", \"2014-07-31T00:00:00\", \"2014-06-30T00:00:00\", \"2014-05-31T00:00:00\", \"2014-04-30T00:00:00\", \"2014-03-31T00:00:00\", \"2014-02-28T00:00:00\", \"2014-01-31T00:00:00\", \"2013-12-31T00:00:00\", \"2013-11-30T00:00:00\", \"2013-10-31T00:00:00\", \"2013-09-30T00:00:00\", \"2013-08-31T00:00:00\", \"2013-07-31T00:00:00\", \"2013-06-30T00:00:00\", \"2013-05-31T00:00:00\", \"2013-04-30T00:00:00\", \"2013-03-31T00:00:00\", \"2013-02-28T00:00:00\", \"2013-01-31T00:00:00\", \"2012-12-31T00:00:00\", \"2012-11-30T00:00:00\"], \"y\": [166, 166, 169, 169, 169, 169, 169, 169, 169, 169, 169, 169, 169, 169, 169, 169, 169, 169, 169, 169, 169, 169, 169, 169, 169, 169, 169, 169, 169, 169, 169, 169, 169, 169, 169, 169, 169, 169, 169, 169, 169, 169, 169, 169, 169, 188, 188, 188, 188, 188, 188, 188, 188, 188, 188, 188, 188, 188, 188, 188, 188, 188, 188, 188, 188, 190, 190, 190, 190, 190, 190, 190, 191, 191, 191, 191, 191, 191, 191, 191, 191, 191, 219, 219, 219, 219, 250, 250, 258, 258, 522]}, {\"name\": \"Gaius Cornelius\", \"stackgroup\": \"one\", \"type\": \"scatter\", \"x\": [\"2020-09-30T00:00:00\", \"2020-04-30T00:00:00\", \"2020-03-31T00:00:00\", \"2020-02-29T00:00:00\", \"2020-01-31T00:00:00\", \"2019-12-31T00:00:00\", \"2019-11-30T00:00:00\", \"2019-10-31T00:00:00\", \"2019-09-30T00:00:00\", \"2019-08-31T00:00:00\", \"2019-07-31T00:00:00\", \"2019-06-30T00:00:00\", \"2019-05-31T00:00:00\", \"2019-04-30T00:00:00\", \"2019-03-31T00:00:00\", \"2019-02-28T00:00:00\", \"2019-01-31T00:00:00\", \"2018-12-31T00:00:00\", \"2018-11-30T00:00:00\", \"2018-10-31T00:00:00\", \"2018-09-30T00:00:00\", \"2018-08-31T00:00:00\", \"2018-07-31T00:00:00\", \"2018-06-30T00:00:00\", \"2018-05-31T00:00:00\", \"2018-04-30T00:00:00\", \"2018-03-31T00:00:00\", \"2018-02-28T00:00:00\", \"2018-01-31T00:00:00\", \"2017-12-31T00:00:00\", \"2017-11-30T00:00:00\", \"2017-10-31T00:00:00\", \"2017-09-30T00:00:00\", \"2017-08-31T00:00:00\", \"2017-07-31T00:00:00\", \"2017-06-30T00:00:00\", \"2017-05-31T00:00:00\", \"2017-04-30T00:00:00\", \"2017-03-31T00:00:00\", \"2017-02-28T00:00:00\", \"2017-01-31T00:00:00\", \"2016-12-31T00:00:00\", \"2016-11-30T00:00:00\", \"2016-10-31T00:00:00\", \"2016-09-30T00:00:00\", \"2016-08-31T00:00:00\", \"2016-07-31T00:00:00\", \"2016-06-30T00:00:00\", \"2016-05-31T00:00:00\", \"2016-04-30T00:00:00\", \"2016-03-31T00:00:00\", \"2016-02-29T00:00:00\", \"2016-01-31T00:00:00\", \"2015-12-31T00:00:00\", \"2015-11-30T00:00:00\", \"2015-10-31T00:00:00\", \"2015-09-30T00:00:00\", \"2015-08-31T00:00:00\", \"2015-07-31T00:00:00\", \"2015-06-30T00:00:00\", \"2015-05-31T00:00:00\", \"2015-04-30T00:00:00\", \"2015-03-31T00:00:00\", \"2015-02-28T00:00:00\", \"2015-01-31T00:00:00\", \"2014-12-31T00:00:00\", \"2014-11-30T00:00:00\", \"2014-10-31T00:00:00\", \"2014-09-30T00:00:00\", \"2014-08-31T00:00:00\", \"2014-07-31T00:00:00\", \"2014-06-30T00:00:00\", \"2014-05-31T00:00:00\"], \"y\": [333, 333, 333, 333, 333, 333, 333, 333, 333, 334, 334, 334, 334, 334, 334, 334, 334, 334, 334, 334, 334, 334, 334, 334, 334, 334, 334, 334, 334, 334, 334, 334, 334, 334, 334, 334, 334, 334, 334, 334, 334, 334, 334, 334, 334, 344, 344, 344, 344, 344, 344, 344, 344, 344, 344, 344, 344, 346, 346, 346, 346, 346, 348, 351, 351, 351, 351, 351, 351, 351, 351, 351, 352]}, {\"name\": \"Yinfengchen\", \"stackgroup\": \"one\", \"type\": \"scatter\", \"x\": [\"2020-09-30T00:00:00\", \"2020-04-30T00:00:00\", \"2020-03-31T00:00:00\", \"2020-02-29T00:00:00\", \"2020-01-31T00:00:00\", \"2019-12-31T00:00:00\", \"2019-11-30T00:00:00\", \"2019-10-31T00:00:00\", \"2019-09-30T00:00:00\", \"2019-08-31T00:00:00\", \"2019-07-31T00:00:00\", \"2019-06-30T00:00:00\", \"2019-05-31T00:00:00\", \"2019-04-30T00:00:00\", \"2019-03-31T00:00:00\", \"2019-02-28T00:00:00\", \"2019-01-31T00:00:00\", \"2018-12-31T00:00:00\", \"2018-11-30T00:00:00\", \"2018-10-31T00:00:00\", \"2018-09-30T00:00:00\", \"2018-08-31T00:00:00\", \"2018-07-31T00:00:00\", \"2018-06-30T00:00:00\", \"2018-05-31T00:00:00\", \"2018-04-30T00:00:00\", \"2018-03-31T00:00:00\", \"2018-02-28T00:00:00\", \"2018-01-31T00:00:00\", \"2017-12-31T00:00:00\", \"2017-11-30T00:00:00\", \"2017-10-31T00:00:00\", \"2017-09-30T00:00:00\", \"2017-08-31T00:00:00\", \"2017-07-31T00:00:00\", \"2017-06-30T00:00:00\", \"2017-05-31T00:00:00\", \"2017-04-30T00:00:00\", \"2017-03-31T00:00:00\", \"2017-02-28T00:00:00\", \"2017-01-31T00:00:00\", \"2016-12-31T00:00:00\", \"2016-11-30T00:00:00\", \"2016-10-31T00:00:00\", \"2016-09-30T00:00:00\", \"2016-08-31T00:00:00\", \"2016-07-31T00:00:00\", \"2016-06-30T00:00:00\", \"2016-05-31T00:00:00\", \"2016-04-30T00:00:00\", \"2016-03-31T00:00:00\", \"2016-02-29T00:00:00\", \"2016-01-31T00:00:00\", \"2015-12-31T00:00:00\", \"2015-11-30T00:00:00\", \"2015-10-31T00:00:00\", \"2015-09-30T00:00:00\", \"2015-08-31T00:00:00\", \"2015-07-31T00:00:00\", \"2015-06-30T00:00:00\", \"2015-05-31T00:00:00\", \"2015-04-30T00:00:00\", \"2015-03-31T00:00:00\", \"2015-02-28T00:00:00\", \"2015-01-31T00:00:00\", \"2014-12-31T00:00:00\", \"2014-11-30T00:00:00\", \"2014-10-31T00:00:00\"], \"y\": [185, 185, 185, 185, 185, 185, 185, 185, 185, 185, 185, 185, 185, 185, 185, 185, 185, 185, 185, 185, 185, 185, 185, 185, 185, 185, 185, 194, 194, 194, 194, 194, 194, 194, 194, 194, 194, 194, 194, 194, 195, 195, 195, 195, 195, 195, 195, 195, 195, 195, 195, 195, 195, 195, 195, 195, 196, 196, 198, 198, 198, 198, 200, 200, 200, 294, 294, 366]}, {\"name\": \"Vycl1994\", \"stackgroup\": \"one\", \"type\": \"scatter\", \"x\": [\"2020-09-30T00:00:00\", \"2020-04-30T00:00:00\", \"2020-03-31T00:00:00\", \"2020-02-29T00:00:00\", \"2020-01-31T00:00:00\", \"2019-12-31T00:00:00\", \"2019-11-30T00:00:00\", \"2019-10-31T00:00:00\", \"2019-09-30T00:00:00\", \"2019-08-31T00:00:00\", \"2019-07-31T00:00:00\", \"2019-06-30T00:00:00\", \"2019-05-31T00:00:00\", \"2019-04-30T00:00:00\", \"2019-03-31T00:00:00\", \"2019-02-28T00:00:00\", \"2019-01-31T00:00:00\", \"2018-12-31T00:00:00\", \"2018-11-30T00:00:00\", \"2018-10-31T00:00:00\", \"2018-09-30T00:00:00\", \"2018-08-31T00:00:00\", \"2018-07-31T00:00:00\", \"2018-06-30T00:00:00\", \"2018-05-31T00:00:00\", \"2018-04-30T00:00:00\", \"2018-03-31T00:00:00\", \"2018-02-28T00:00:00\", \"2018-01-31T00:00:00\", \"2017-12-31T00:00:00\", \"2017-11-30T00:00:00\", \"2017-10-31T00:00:00\", \"2017-09-30T00:00:00\", \"2017-08-31T00:00:00\", \"2017-07-31T00:00:00\", \"2017-06-30T00:00:00\", \"2017-05-31T00:00:00\", \"2017-04-30T00:00:00\", \"2017-03-31T00:00:00\", \"2017-02-28T00:00:00\", \"2017-01-31T00:00:00\", \"2016-12-31T00:00:00\", \"2016-11-30T00:00:00\", \"2016-10-31T00:00:00\", \"2016-09-30T00:00:00\", \"2016-08-31T00:00:00\", \"2016-07-31T00:00:00\", \"2016-06-30T00:00:00\", \"2016-05-31T00:00:00\", \"2016-04-30T00:00:00\", \"2016-03-31T00:00:00\", \"2016-02-29T00:00:00\", \"2016-01-31T00:00:00\", \"2015-12-31T00:00:00\", \"2015-11-30T00:00:00\", \"2015-10-31T00:00:00\", \"2015-09-30T00:00:00\", \"2015-08-31T00:00:00\", \"2015-07-31T00:00:00\", \"2015-06-30T00:00:00\", \"2015-05-31T00:00:00\", \"2015-04-30T00:00:00\", \"2015-03-31T00:00:00\", \"2015-02-28T00:00:00\", \"2015-01-31T00:00:00\", \"2014-12-31T00:00:00\", \"2014-11-30T00:00:00\"], \"y\": [379, 379, 379, 379, 379, 383, 383, 383, 383, 406, 406, 406, 406, 406, 401, 401, 401, 401, 401, 401, 401, 401, 401, 402, 402, 402, 403, 403, 403, 448, 448, 448, 448, 448, 448, 448, 450, 450, 450, 450, 374, 374, 374, 374, 374, 374, 374, 374, 374, 374, 374, 374, 374, 374, 374, 374, 373, 373, 373, 332, 332, 332, 320, 219, 145, 123, 83]}, {\"name\": \"InternetArchiveBot\", \"stackgroup\": \"one\", \"type\": \"scatter\", \"x\": [\"2020-09-30T00:00:00\", \"2020-04-30T00:00:00\", \"2020-03-31T00:00:00\", \"2020-02-29T00:00:00\", \"2020-01-31T00:00:00\", \"2019-12-31T00:00:00\", \"2019-11-30T00:00:00\", \"2019-10-31T00:00:00\", \"2019-09-30T00:00:00\", \"2019-08-31T00:00:00\", \"2019-07-31T00:00:00\", \"2019-06-30T00:00:00\", \"2019-05-31T00:00:00\", \"2019-04-30T00:00:00\", \"2019-03-31T00:00:00\", \"2019-02-28T00:00:00\", \"2019-01-31T00:00:00\", \"2018-12-31T00:00:00\", \"2018-11-30T00:00:00\", \"2018-10-31T00:00:00\", \"2018-09-30T00:00:00\", \"2018-08-31T00:00:00\", \"2018-07-31T00:00:00\", \"2018-06-30T00:00:00\", \"2018-05-31T00:00:00\", \"2018-04-30T00:00:00\", \"2018-03-31T00:00:00\", \"2018-02-28T00:00:00\", \"2018-01-31T00:00:00\", \"2017-12-31T00:00:00\", \"2017-11-30T00:00:00\", \"2017-10-31T00:00:00\", \"2017-09-30T00:00:00\", \"2017-08-31T00:00:00\", \"2017-07-31T00:00:00\", \"2017-06-30T00:00:00\", \"2017-05-31T00:00:00\", \"2017-04-30T00:00:00\"], \"y\": [464, 464, 464, 487, 368, 368, 370, 370, 370, 398, 398, 398, 398, 398, 398, 398, 398, 398, 398, 398, 398, 398, 374, 367, 367, 367, 367, 367, 367, 367, 331, 38, 38, 38, 38, 38, 38, 6]}],\n",
       "                        {\"hovermode\": \"x unified\", \"margin\": {\"b\": 150, \"l\": 50, \"pad\": 3, \"r\": 50, \"t\": 10}, \"showlegend\": true, \"template\": {\"data\": {\"bar\": [{\"error_x\": {\"color\": \"#2a3f5f\"}, \"error_y\": {\"color\": \"#2a3f5f\"}, \"marker\": {\"line\": {\"color\": \"#E5ECF6\", \"width\": 0.5}}, \"type\": \"bar\"}], \"barpolar\": [{\"marker\": {\"line\": {\"color\": \"#E5ECF6\", \"width\": 0.5}}, \"type\": \"barpolar\"}], \"carpet\": [{\"aaxis\": {\"endlinecolor\": \"#2a3f5f\", \"gridcolor\": \"white\", \"linecolor\": \"white\", \"minorgridcolor\": \"white\", \"startlinecolor\": \"#2a3f5f\"}, \"baxis\": {\"endlinecolor\": \"#2a3f5f\", \"gridcolor\": \"white\", \"linecolor\": \"white\", \"minorgridcolor\": \"white\", \"startlinecolor\": \"#2a3f5f\"}, \"type\": \"carpet\"}], \"choropleth\": [{\"colorbar\": {\"outlinewidth\": 0, \"ticks\": \"\"}, \"type\": \"choropleth\"}], \"contour\": [{\"colorbar\": {\"outlinewidth\": 0, \"ticks\": \"\"}, \"colorscale\": [[0.0, \"#0d0887\"], [0.1111111111111111, \"#46039f\"], [0.2222222222222222, \"#7201a8\"], [0.3333333333333333, \"#9c179e\"], [0.4444444444444444, \"#bd3786\"], [0.5555555555555556, \"#d8576b\"], [0.6666666666666666, \"#ed7953\"], [0.7777777777777778, \"#fb9f3a\"], [0.8888888888888888, \"#fdca26\"], [1.0, \"#f0f921\"]], \"type\": \"contour\"}], \"contourcarpet\": [{\"colorbar\": {\"outlinewidth\": 0, \"ticks\": \"\"}, \"type\": \"contourcarpet\"}], \"heatmap\": [{\"colorbar\": {\"outlinewidth\": 0, \"ticks\": \"\"}, \"colorscale\": [[0.0, \"#0d0887\"], [0.1111111111111111, \"#46039f\"], [0.2222222222222222, \"#7201a8\"], [0.3333333333333333, \"#9c179e\"], [0.4444444444444444, \"#bd3786\"], [0.5555555555555556, \"#d8576b\"], [0.6666666666666666, \"#ed7953\"], [0.7777777777777778, \"#fb9f3a\"], [0.8888888888888888, \"#fdca26\"], [1.0, \"#f0f921\"]], \"type\": \"heatmap\"}], \"heatmapgl\": [{\"colorbar\": {\"outlinewidth\": 0, \"ticks\": \"\"}, \"colorscale\": [[0.0, \"#0d0887\"], [0.1111111111111111, \"#46039f\"], [0.2222222222222222, \"#7201a8\"], [0.3333333333333333, \"#9c179e\"], [0.4444444444444444, \"#bd3786\"], [0.5555555555555556, \"#d8576b\"], [0.6666666666666666, \"#ed7953\"], [0.7777777777777778, \"#fb9f3a\"], [0.8888888888888888, \"#fdca26\"], [1.0, \"#f0f921\"]], \"type\": \"heatmapgl\"}], \"histogram\": [{\"marker\": {\"colorbar\": {\"outlinewidth\": 0, \"ticks\": \"\"}}, \"type\": \"histogram\"}], \"histogram2d\": [{\"colorbar\": {\"outlinewidth\": 0, \"ticks\": \"\"}, \"colorscale\": [[0.0, \"#0d0887\"], [0.1111111111111111, \"#46039f\"], [0.2222222222222222, \"#7201a8\"], [0.3333333333333333, \"#9c179e\"], [0.4444444444444444, \"#bd3786\"], [0.5555555555555556, \"#d8576b\"], [0.6666666666666666, \"#ed7953\"], [0.7777777777777778, \"#fb9f3a\"], [0.8888888888888888, \"#fdca26\"], [1.0, \"#f0f921\"]], \"type\": \"histogram2d\"}], \"histogram2dcontour\": [{\"colorbar\": {\"outlinewidth\": 0, \"ticks\": \"\"}, \"colorscale\": [[0.0, \"#0d0887\"], [0.1111111111111111, \"#46039f\"], [0.2222222222222222, \"#7201a8\"], [0.3333333333333333, \"#9c179e\"], [0.4444444444444444, \"#bd3786\"], [0.5555555555555556, \"#d8576b\"], [0.6666666666666666, \"#ed7953\"], [0.7777777777777778, \"#fb9f3a\"], [0.8888888888888888, \"#fdca26\"], [1.0, \"#f0f921\"]], \"type\": \"histogram2dcontour\"}], \"mesh3d\": [{\"colorbar\": {\"outlinewidth\": 0, \"ticks\": \"\"}, \"type\": \"mesh3d\"}], \"parcoords\": [{\"line\": {\"colorbar\": {\"outlinewidth\": 0, \"ticks\": \"\"}}, \"type\": \"parcoords\"}], \"pie\": [{\"automargin\": true, \"type\": \"pie\"}], \"scatter\": [{\"marker\": {\"colorbar\": {\"outlinewidth\": 0, \"ticks\": \"\"}}, \"type\": \"scatter\"}], \"scatter3d\": [{\"line\": {\"colorbar\": {\"outlinewidth\": 0, \"ticks\": \"\"}}, \"marker\": {\"colorbar\": {\"outlinewidth\": 0, \"ticks\": \"\"}}, \"type\": \"scatter3d\"}], \"scattercarpet\": [{\"marker\": {\"colorbar\": {\"outlinewidth\": 0, \"ticks\": \"\"}}, \"type\": \"scattercarpet\"}], \"scattergeo\": [{\"marker\": {\"colorbar\": {\"outlinewidth\": 0, \"ticks\": \"\"}}, \"type\": \"scattergeo\"}], \"scattergl\": [{\"marker\": {\"colorbar\": {\"outlinewidth\": 0, \"ticks\": \"\"}}, \"type\": \"scattergl\"}], \"scattermapbox\": [{\"marker\": {\"colorbar\": {\"outlinewidth\": 0, \"ticks\": \"\"}}, \"type\": \"scattermapbox\"}], \"scatterpolar\": [{\"marker\": {\"colorbar\": {\"outlinewidth\": 0, \"ticks\": \"\"}}, \"type\": \"scatterpolar\"}], \"scatterpolargl\": [{\"marker\": {\"colorbar\": {\"outlinewidth\": 0, \"ticks\": \"\"}}, \"type\": \"scatterpolargl\"}], \"scatterternary\": [{\"marker\": {\"colorbar\": {\"outlinewidth\": 0, \"ticks\": \"\"}}, \"type\": \"scatterternary\"}], \"surface\": [{\"colorbar\": {\"outlinewidth\": 0, \"ticks\": \"\"}, \"colorscale\": [[0.0, \"#0d0887\"], [0.1111111111111111, \"#46039f\"], [0.2222222222222222, \"#7201a8\"], [0.3333333333333333, \"#9c179e\"], [0.4444444444444444, \"#bd3786\"], [0.5555555555555556, \"#d8576b\"], [0.6666666666666666, \"#ed7953\"], [0.7777777777777778, \"#fb9f3a\"], [0.8888888888888888, \"#fdca26\"], [1.0, \"#f0f921\"]], \"type\": \"surface\"}], \"table\": [{\"cells\": {\"fill\": {\"color\": \"#EBF0F8\"}, \"line\": {\"color\": \"white\"}}, \"header\": {\"fill\": {\"color\": \"#C8D4E3\"}, \"line\": {\"color\": \"white\"}}, \"type\": \"table\"}]}, \"layout\": {\"annotationdefaults\": {\"arrowcolor\": \"#2a3f5f\", \"arrowhead\": 0, \"arrowwidth\": 1}, \"coloraxis\": {\"colorbar\": {\"outlinewidth\": 0, \"ticks\": \"\"}}, \"colorscale\": {\"diverging\": [[0, \"#8e0152\"], [0.1, \"#c51b7d\"], [0.2, \"#de77ae\"], [0.3, \"#f1b6da\"], [0.4, \"#fde0ef\"], [0.5, \"#f7f7f7\"], [0.6, \"#e6f5d0\"], [0.7, \"#b8e186\"], [0.8, \"#7fbc41\"], [0.9, \"#4d9221\"], [1, \"#276419\"]], \"sequential\": [[0.0, \"#0d0887\"], [0.1111111111111111, \"#46039f\"], [0.2222222222222222, \"#7201a8\"], [0.3333333333333333, \"#9c179e\"], [0.4444444444444444, \"#bd3786\"], [0.5555555555555556, \"#d8576b\"], [0.6666666666666666, \"#ed7953\"], [0.7777777777777778, \"#fb9f3a\"], [0.8888888888888888, \"#fdca26\"], [1.0, \"#f0f921\"]], \"sequentialminus\": [[0.0, \"#0d0887\"], [0.1111111111111111, \"#46039f\"], [0.2222222222222222, \"#7201a8\"], [0.3333333333333333, \"#9c179e\"], [0.4444444444444444, \"#bd3786\"], [0.5555555555555556, \"#d8576b\"], [0.6666666666666666, \"#ed7953\"], [0.7777777777777778, \"#fb9f3a\"], [0.8888888888888888, \"#fdca26\"], [1.0, \"#f0f921\"]]}, \"colorway\": [\"#636efa\", \"#EF553B\", \"#00cc96\", \"#ab63fa\", \"#FFA15A\", \"#19d3f3\", \"#FF6692\", \"#B6E880\", \"#FF97FF\", \"#FECB52\"], \"font\": {\"color\": \"#2a3f5f\"}, \"geo\": {\"bgcolor\": \"white\", \"lakecolor\": \"white\", \"landcolor\": \"#E5ECF6\", \"showlakes\": true, \"showland\": true, \"subunitcolor\": \"white\"}, \"hoverlabel\": {\"align\": \"left\"}, \"hovermode\": \"closest\", \"mapbox\": {\"style\": \"light\"}, \"paper_bgcolor\": \"white\", \"plot_bgcolor\": \"#E5ECF6\", \"polar\": {\"angularaxis\": {\"gridcolor\": \"white\", \"linecolor\": \"white\", \"ticks\": \"\"}, \"bgcolor\": \"#E5ECF6\", \"radialaxis\": {\"gridcolor\": \"white\", \"linecolor\": \"white\", \"ticks\": \"\"}}, \"scene\": {\"xaxis\": {\"backgroundcolor\": \"#E5ECF6\", \"gridcolor\": \"white\", \"gridwidth\": 2, \"linecolor\": \"white\", \"showbackground\": true, \"ticks\": \"\", \"zerolinecolor\": \"white\"}, \"yaxis\": {\"backgroundcolor\": \"#E5ECF6\", \"gridcolor\": \"white\", \"gridwidth\": 2, \"linecolor\": \"white\", \"showbackground\": true, \"ticks\": \"\", \"zerolinecolor\": \"white\"}, \"zaxis\": {\"backgroundcolor\": \"#E5ECF6\", \"gridcolor\": \"white\", \"gridwidth\": 2, \"linecolor\": \"white\", \"showbackground\": true, \"ticks\": \"\", \"zerolinecolor\": \"white\"}}, \"shapedefaults\": {\"line\": {\"color\": \"#2a3f5f\"}}, \"ternary\": {\"aaxis\": {\"gridcolor\": \"white\", \"linecolor\": \"white\", \"ticks\": \"\"}, \"baxis\": {\"gridcolor\": \"white\", \"linecolor\": \"white\", \"ticks\": \"\"}, \"bgcolor\": \"#E5ECF6\", \"caxis\": {\"gridcolor\": \"white\", \"linecolor\": \"white\", \"ticks\": \"\"}}, \"title\": {\"x\": 0.05}, \"xaxis\": {\"automargin\": true, \"gridcolor\": \"white\", \"linecolor\": \"white\", \"ticks\": \"\", \"title\": {\"standoff\": 15}, \"zerolinecolor\": \"white\", \"zerolinewidth\": 2}, \"yaxis\": {\"automargin\": true, \"gridcolor\": \"white\", \"linecolor\": \"white\", \"ticks\": \"\", \"title\": {\"standoff\": 15}, \"zerolinecolor\": \"white\", \"zerolinewidth\": 2}}}},\n",
       "                        {\"responsive\": true}\n",
       "                    ).then(function(){\n",
       "                            \n",
       "var gd = document.getElementById('63f136dc-5036-4282-8895-de5686d7ff23');\n",
       "var x = new MutationObserver(function (mutations, observer) {{\n",
       "        var display = window.getComputedStyle(gd).display;\n",
       "        if (!display || display === 'none') {{\n",
       "            console.log([gd, 'removed!']);\n",
       "            Plotly.purge(gd);\n",
       "            observer.disconnect();\n",
       "        }}\n",
       "}});\n",
       "\n",
       "// Listen for the removal of the full notebook cells\n",
       "var notebookContainer = gd.closest('#notebook-container');\n",
       "if (notebookContainer) {{\n",
       "    x.observe(notebookContainer, {childList: true});\n",
       "}}\n",
       "\n",
       "// Listen for the clearing of the current output cell\n",
       "var outputEl = gd.closest('.output');\n",
       "if (outputEl) {{\n",
       "    x.observe(outputEl, {childList: true});\n",
       "}}\n",
       "\n",
       "                        })\n",
       "                };\n",
       "                });\n",
       "            </script>\n",
       "        </div>"
      ]
     },
     "metadata": {},
     "output_type": "display_data"
    }
   ],
   "source": [
    "### ------------------------------------------------------------------------------- ###\n",
    "### TRY YOURSELF! THIS IS WHAT WILL HAPPEN WHEN YOU CLICK 'Get Editors Info' BUTTON ###\n",
    "### ------------------------------------------------------------------------------- ###\n",
    "\n",
    "## Create a TokensOwnedListener instance, more details can be found in             ##\n",
    "## https://github.com/gesiscss/wikiwho_demo_new/blob/master/visualization/tokens_listener.py ##\n",
    "owned_listener = TokensOwnedListener(total_actions, token_sources, lng=abbreviation(languageSelection.value))\n",
    "\n",
    "## Visualization, core visual code lies in TokensOwnedListener, then the interact function     ##\n",
    "## makes it interactive, mode details see:                                                 ##\n",
    "## https://github.com/gesiscss/wikiwho_demo/blob/master/visualization/tokens_listener.py  ##\n",
    "\n",
    "# This is the page you used\n",
    "print('The page that is being used:', the_page['title'], f'({abbreviation(languageSelection.value).upper()})')\n",
    "\n",
    "# Visualization: parameters\n",
    "begin_date = date(2007, 3, 1)\n",
    "end_date = date(2020, 5, 1)\n",
    "frequency = 'Monthly' # \"Monthly\", \"Weekly\", \"Daily\"\n",
    "stopwords = 'Not included'\n",
    "\n",
    "# Visualization: the stacked area plot\n",
    "owned_listener.listen(\n",
    "    _range1 = begin_date,\n",
    "    _range2 = end_date,\n",
    "    granularity = frequency,\n",
    "    stopwords = stopwords\n",
    ")"
   ]
  },
  {
   "cell_type": "markdown",
   "metadata": {
    "hide_input": true
   },
   "source": [
    "## A2.3. Which tokens were changed in a revision?\n",
    "\n",
    "Default revision is the latest revision of this article. To change the revision, you can enter a revision id manually or just click one row in the above table you are interested in and then click \"Show tokens\" button."
   ]
  },
  {
   "cell_type": "code",
   "execution_count": 14,
   "metadata": {
    "hide_input": true
   },
   "outputs": [
    {
     "data": {
      "application/vnd.jupyter.widget-view+json": {
       "model_id": "574216563a314bd59c78e06133330395",
       "version_major": 2,
       "version_minor": 0
      },
      "text/plain": [
       "Text(value='977146303', description='Rev_id:')"
      ]
     },
     "metadata": {},
     "output_type": "display_data"
    },
    {
     "data": {
      "application/vnd.jupyter.widget-view+json": {
       "model_id": "909ff38ea84c4a65a4dcab2901069f73",
       "version_major": 2,
       "version_minor": 0
      },
      "text/plain": [
       "RadioButtons(description='Stopwords', layout=Layout(width='50%'), options=('Not included', 'Included'), value=…"
      ]
     },
     "metadata": {},
     "output_type": "display_data"
    },
    {
     "data": {
      "application/vnd.jupyter.widget-view+json": {
       "model_id": "523115192cff409eab61e6f440f8f626",
       "version_major": 2,
       "version_minor": 0
      },
      "text/plain": [
       "Button(description='Show tokens', style=ButtonStyle())"
      ]
     },
     "metadata": {},
     "output_type": "display_data"
    },
    {
     "data": {
      "application/vnd.jupyter.widget-view+json": {
       "model_id": "63baae02642d445cb7c5d729be293de0",
       "version_major": 2,
       "version_minor": 0
      },
      "text/plain": [
       "Output()"
      ]
     },
     "metadata": {},
     "output_type": "display_data"
    }
   ],
   "source": [
    "# create and display the button\n",
    "button21 = widgets.Button(description=\"Show tokens\")\n",
    "\n",
    "def on_click_rev_tokens(b):\n",
    "    global listener\n",
    "    with out212:\n",
    "        clear_output()    \n",
    "        listener = TokensListener(agg_actions, sources, lng=abbreviation(languageSelection.value))\n",
    "        \n",
    "\n",
    "        # visualization\n",
    "        search_value = editor_listener.search_widget.value\n",
    "        #listener.rev_id = int(search_value)\n",
    "        listener.listen(int(search_value), stopwords_a22.value)\n",
    "        #out = interactive_output(listener.listen, {'stopwords':stopwords_a22})\n",
    "        #display(out)\n",
    "        \n",
    "        # preset filter to display only the selected revision\n",
    "        if len(listener.filtered_df) != 0:\n",
    "            listener.qgrid_selected_revision._handle_qgrid_msg_helper({\n",
    "                'type': 'show_filter_dropdown',\n",
    "                'field': 'rev_id',\n",
    "                'search_val': search_value})\n",
    "\n",
    "            listener.qgrid_selected_revision._handle_qgrid_msg_helper({\n",
    "                    'field': \"rev_id\",\n",
    "                    'filter_info': {\n",
    "                        'field': \"rev_id\",\n",
    "                        'selected': [0],\n",
    "                        'type': \"text\",\n",
    "                        'excluded': []\n",
    "                    },\n",
    "                    'type': \"change_filter\"\n",
    "                })\n",
    "        \n",
    "selected_rev = copy.copy(editor_listener.selected_rev)\n",
    "stopwords_a22 = widgets.RadioButtons(options=['Not included', 'Included'], value='Not included', description='Stopwords', layout={'width': '50%'})\n",
    "display(editor_listener.search_widget)\n",
    "display(stopwords_a22)\n",
    "display(button21)\n",
    "\n",
    "out212 = Output()\n",
    "display(out212)\n",
    "\n",
    "# set the event\n",
    "button21.on_click(on_click_rev_tokens)\n",
    "\n",
    "# trigger the event with the default value\n",
    "on_click_rev_tokens(button21)"
   ]
  },
  {
   "cell_type": "markdown",
   "metadata": {
    "solution2": "hidden",
    "solution2_first": true
   },
   "source": [
    "<span style=\"color: #626262\"> Try yourself! This is what will happen when you click 'Show Tokens' button: </span>"
   ]
  },
  {
   "cell_type": "code",
   "execution_count": 15,
   "metadata": {
    "solution2": "hidden"
   },
   "outputs": [
    {
     "data": {
      "text/markdown": [
       "No tokens in this revision!"
      ],
      "text/plain": [
       "<IPython.core.display.Markdown object>"
      ]
     },
     "metadata": {},
     "output_type": "display_data"
    }
   ],
   "source": [
    "### -------------------------------------------------------------------------- ###\n",
    "### TRY YOURSELF! THIS IS WHAT WILL HAPPEN WHEN YOU CLICK 'Show Tokens' BUTTON ###\n",
    "### -------------------------------------------------------------------------- ###\n",
    "\n",
    "## Create a TokensListener instance, more details see:                                       ##\n",
    "## https://github.com/gesiscss/wikiwho_demo_new/blob/master/visualization/tokens_listener.py ##\n",
    "tokens_listener = TokensListener(total_actions, token_sources, lng=abbreviation(languageSelection.value))\n",
    "\n",
    "## Visualization ##\n",
    "selected_rev = \"954896444\"\n",
    "include_stopwords = False  # True, False\n",
    "\n",
    "tokens_listener.listen(int(selected_rev), include_stopwords)"
   ]
  },
  {
   "cell_type": "markdown",
   "metadata": {},
   "source": [
    "## A.3 Which words were changed?\n",
    "\n",
    "The following WordCloud and table present the most 100 popular token strings that are either **added** or **undone (deleted/reinserted)**. The table also presents the detailed actions of each token.\n",
    "\n",
    "<br>\n",
    "\n",
    "\n",
    "<details>    \n",
    "    <summary style=\"cursor: pointer;font-weight:bold\">Explanation of the change action types</summary>\n",
    "\n",
    "   \n",
    "- **adds**: number of first-time insertions (additions)\n",
    "- **adds_48h**: number of adds that survived at least 48 hours\n",
    "- **adds_48h_ratio**: adds_48h / adds\n",
    "<br>\n",
    "\n",
    "- **dels**: number of deletions\n",
    "- **dels_48h**: number of deletions that were not resinserted in the next 48 hours\n",
    "- **dels_48h_ratio**: dels_48h / dels\n",
    "<br>\n",
    "\n",
    "- **reins**: number of reinsertions\n",
    "- **reins_48h**: number of reinsertions that survived at least 48 hours\n",
    "- **reins_48h_ratio**: reins_48h / reins\n",
    "</details>\n",
    "\n",
    "In case you are insterested in a particular token, e.g. \"racist\", just click the token (row) in the table and another table containing all revision history of this token within the selected date range will appear beneath the first table. Furthermore, if you want to investigate one action implemented on that token, then click that action (revision row) and a link to Wikipedia will be provided below for comparing different revisions.\n",
    "\n",
    "### Most frequent conflicting token strings\n",
    "The WordCloud displays the most common conflicting token strings, i.e. words (token strings) \n",
    "with the most actions that have conflict. The size of the token string in the WordCloud indicates frequency \n",
    "of actions.\n",
    "In the controls you can select the *date range*, the type of *action* (insertion or deletion), and the \n",
    "*source*.\n",
    "\n",
    "<details>    \n",
    "    <summary style=\"cursor: pointer;font-weight:bold\">Source description</summary>\n",
    "    \n",
    "-   **Only Conflicts**: use only the actions that are in conflict.\n",
    "-   **Elegible Actions**: use only the actions that can potentially enter into conflict, i.e. actions \n",
    "that have occurred at least twice, e.g. the token x has been inserted twice (which necessarily implies \n",
    "it was remove once), the token x has been deleted twice (which necessarily implies it was inserted twice) \n",
    "-   **All Actions**: use all tokens regardles conflict\n",
    "</details>"
   ]
  },
  {
   "cell_type": "code",
   "execution_count": 16,
   "metadata": {
    "hide_input": true,
    "scrolled": false
   },
   "outputs": [
    {
     "data": {
      "application/vnd.jupyter.widget-view+json": {
       "model_id": "fada355ec12b4b9fafbc51a2355a7aeb",
       "version_major": 2,
       "version_minor": 0
      },
      "text/plain": [
       "ToggleButtons(description='Based on:', options=('All actions', 'Conflicts', 'Both'), tooltips=('Most frequent …"
      ]
     },
     "metadata": {},
     "output_type": "display_data"
    },
    {
     "data": {
      "application/vnd.jupyter.widget-view+json": {
       "model_id": "facd3da881374eb3b73f60aee7296d3e",
       "version_major": 2,
       "version_minor": 0
      },
      "text/plain": [
       "Button(description='Show WordCloud', style=ButtonStyle())"
      ]
     },
     "metadata": {},
     "output_type": "display_data"
    },
    {
     "data": {
      "application/vnd.jupyter.widget-view+json": {
       "model_id": "e343f2282a69416ca07018d0473ef0c4",
       "version_major": 2,
       "version_minor": 0
      },
      "text/plain": [
       "Output()"
      ]
     },
     "metadata": {},
     "output_type": "display_data"
    }
   ],
   "source": [
    "# create and display the button\n",
    "button3 = widgets.Button(description=\"Show WordCloud\")\n",
    "wc_select = widgets.ToggleButtons(options=['All actions', 'Conflicts', 'Both'], description='Based on:',\n",
    "    tooltips=['Most frequent words changed', 'Most frequent conflicting words', 'Both']\n",
    ")\n",
    "display(wc_select, button3)\n",
    "\n",
    "def on_click_wc_action(b):\n",
    "    with out12:\n",
    "        clear_output()\n",
    "    \n",
    "        listener = WCActionsListener(sources={\n",
    "            \"tokens_source\": sources,\n",
    "            \"tokens_inc_stop\": actions_inc_stop\n",
    "        }, lng=abbreviation(languageSelection.value))\n",
    "        \n",
    "        con_listener = WCListener(sources={\"tokens_source\": sources}, lng=abbreviation(languageSelection.value))\n",
    " \n",
    "\n",
    "        # visualization\n",
    "        date_from = sources[\"tokens_all\"][\"rev_time\"].iloc[0].date()\n",
    "        date_to = sources[\"tokens_all\"][\"rev_time\"].iloc[-1].date()\n",
    "        datepicker_from = widgets.DatePicker(description='Date starts', value=date_from, layout=Layout(width='25%'))\n",
    "        datepicker_to = widgets.DatePicker(description='Date ends', value=date_to, layout=Layout(width='25%'))\n",
    "        \n",
    "        _range1=datepicker_from\n",
    "        _range2=datepicker_to\n",
    "        action=Dropdown(options=['All', 'adds', 'adds_48h', 'dels', 'dels_48h', 'reins', 'reins_48h'], value='All', description='Action')\n",
    "        stopwords = widgets.RadioButtons(options=['Not included', 'Included'], value='Not included', description='Stopwords', layout={'width': '50%'})\n",
    "        \n",
    "        # conflict tokens visualization\n",
    "        source=Dropdown(options=['All Actions', 'Elegible Actions', 'Only Conflicts'], value='Only Conflicts', description='Source (*)')\n",
    "        con_action=Dropdown(options=['Both', 'Just Insertions', 'Just Deletions'], value='Both', description='Action')\n",
    "        editor=fixed('All')\n",
    "        \n",
    "        out = interactive_output(listener.listen, {'_range1': _range1, '_range2':_range2, 'action':action, 'stopwords':stopwords})\n",
    "        \n",
    "        con_out = interactive_output(con_listener.listen, {\n",
    "                 '_range1': datepicker_from,\n",
    "                 '_range2': datepicker_to,\n",
    "                 'source': source,\n",
    "                 'action': con_action,\n",
    "                 'editor': editor,\n",
    "                 'stopwords': stopwords\n",
    "        })\n",
    "\n",
    "        display(md(f\"***Page: {the_page['title']} ({abbreviation(languageSelection.value).upper()})***\"))\n",
    "                   \n",
    "        if wc_select.value == 'All actions':\n",
    "            display(VBox([datepicker_from, datepicker_to, action, stopwords, out]))\n",
    "        elif wc_select.value == 'Conflicts':\n",
    "            display(VBox([datepicker_from, datepicker_to, con_action, source, stopwords, con_out]))\n",
    "        else:\n",
    "            display(VBox([datepicker_from, datepicker_to, action, stopwords, out]))\n",
    "            display(VBox([con_action, source, con_out]))\n",
    "\n",
    "\n",
    "        \n",
    "\n",
    "out12 = Output()\n",
    "display(out12)\n",
    "\n",
    "# set the event\n",
    "button3.on_click(on_click_wc_action)\n",
    "wc_select.observe(on_click_wc_action, 'value')\n",
    "\n",
    "# trigger the event with the default value\n",
    "on_click_wc_action(button3)"
   ]
  },
  {
   "cell_type": "markdown",
   "metadata": {
    "hide_input": true,
    "solution2": "hidden",
    "solution2_first": true
   },
   "source": [
    "<span style=\"color: #626262\"> Try yourself! This is what will happen when you click 'Show WordCloud' button: </span>"
   ]
  },
  {
   "cell_type": "code",
   "execution_count": 17,
   "metadata": {
    "hide_input": false,
    "solution2": "hidden"
   },
   "outputs": [],
   "source": [
    "# ### ----------------------------------------------------------------------------- ###\n",
    "# ### TRY YOURSELF! THIS IS WHAT WILL HAPPEN WHEN YOU CLICK 'Show WordCloud' BUTTON ###\n",
    "# ### ----------------------------------------------------------------------------- ###\n",
    "\n",
    "# ## Visualization\n",
    "\n",
    "# # Parameters\n",
    "# date_start = date(2005, 3, 1)\n",
    "# date_end = date(2020, 3, 1)\n",
    "# action_type = 'All'  #'All', 'adds', 'adds_48h', 'dels', 'dels_48h', 'reins', 'reins_48h'\n",
    "# include_stopwords = True # 'True', False\n",
    "# maxwords = 100\n",
    "\n",
    "\n",
    "\n",
    "# if include_stopwords:\n",
    "#     token_source = token_sources[\"tokens_all\"].copy()\n",
    "#     adds_actions = actions_inc[\"adds\"]\n",
    "#     dels_actions = actions_inc[\"dels\"]\n",
    "#     reins_actions = actions_inc[\"reins\"]\n",
    "# else:\n",
    "#     token_source = token_sources[\"tokens\"].copy()\n",
    "#     adds_actions = actions_noinc[\"adds\"]\n",
    "#     dels_actions = actions_noinc[\"dels\"]\n",
    "#     reins_actions = actions_noinc[\"reins\"]\n",
    "\n",
    "# # Use 'token_survive()' method of TokensManager to obtain the 48h survival stats for 'adds', 'dels' and 'reins' actions, details can be found in\n",
    "# # https://github.com/gesiscss/wikiwho_demo_new/blob/master/metrics/token.py\n",
    "# tokensmanager = TokensManager(token_source)\n",
    "\n",
    "# # Filter by time\n",
    "# filtered_actions = [adds_actions, dels_actions, reins_actions, token_source]\n",
    "# for loc, actions in enumerate(filtered_actions):   \n",
    "#     filtered_actions[loc] = actions[(actions['rev_time'].dt.date >= date_start) & (actions['rev_time'].dt.date <= date_end)]\n",
    "# adds_filtered, dels_filtered, reins_filtered, source_filterd = filtered_actions\n",
    "\n",
    "# # Join the tables using 'get_all_tokens()' method of TokensManager, ratio=False denotes the number of survival tokens rather than\n",
    "# # tokens survival rate.\n",
    "# tokens_stats = tokensmanager.get_all_tokens(adds_filtered, dels_filtered, reins_filtered, maxwords=maxwords, ratio=False)\n",
    "# tokens_stats.index = tokens_stats.index.rename(\"string\")\n",
    "\n",
    "# # Draw WordCloud\n",
    "# symbol_dict = {'adds': '+', 'adds_48h': '!', 'dels': '-', 'dels_48h': '@', 'reins': '*', 'reins_48h': '#'}\n",
    "# if action_type == 'All':\n",
    "#     long_list = []\n",
    "#     tokens_for_wc = tokens_stats.rename(symbol_dict, axis=1)\n",
    "#     for col in list(tokens_for_wc.columns):\n",
    "#         tokens_for_wc[col].index = tokens_for_wc[col].index + f'{col}'  # Label actions\n",
    "#         long_list.append(tokens_for_wc[col])\n",
    "#     df = pd.concat(long_list)\n",
    "# else:\n",
    "#     symbol = symbol_dict[action]\n",
    "#     tokens_for_wc = tokens_stats.rename({action: symbol}, axis=1)\n",
    "#     tokens_for_wc[symbol].index = tokens_for_wc[symbol].index + symbol  # Label actions\n",
    "#     df = tokens_for_wc[symbol]\n",
    "\n",
    "# if len(df) == 0:\n",
    "#     print(\"There are no words to build the word cloud.\")\n",
    "\n",
    "# colors = {'+': '#003399', '!': '#0099ff', '-': '#CC3300', \n",
    "#       '@': '#CC6633', '*': '#00ffcc', '#':'#00ff33'}\n",
    "\n",
    "# # Create word cloud\n",
    "# wc = WordClouder(df, colors, 5000)\n",
    "\n",
    "# try:\n",
    "#     wcr = wc.get_wordcloud()\n",
    "#     print(f\"The page that is being used:, {the_page['title']}, ({abbreviation(languageSelection.value).upper()})\")\n",
    "#     print(f\"Time ranges from {date_start} to {date_end}\")\n",
    "#     print(f\"Only top {maxwords} most frequent words displayed.\")\n",
    "\n",
    "#     # Plot\n",
    "#     plt.figure(figsize=(14, 7))\n",
    "#     plt.imshow(wcr, interpolation=\"bilinear\")\n",
    "#     plt.axis(\"off\")\n",
    "#     plt.show()\n",
    "\n",
    "# except ValueError:\n",
    "#     print(\"Cannot create the wordcloud, there were zero actions.\")\n",
    "    \n",
    "# # Display changed tokens in the form of table. If you want use survival ratio, set ratio=True \n",
    "# # in tokensmanager.get_all_tokens().\n",
    "# table1 = qgrid.show_grid(tokens_stats,grid_options={'forceFitColumns':False})\n",
    "\n",
    "# # Track revision history of a particular token.\n",
    "# token_interest = tokens_stats.index[0]  # You can use any token you are interested in\n",
    "# selected_token = source_filterd[source_filterd['token'] == token_interest]  \n",
    "# df_selected_token = selected_token.drop(['page_id', 'o_editor', 'token', 'o_rev_id', 'article_title'], axis=1)\n",
    "# new_cols = ['token_id', 'action', 'rev_time', 'editor', 'rev_id']\n",
    "# df_selected_token = df_selected_token[new_cols].rename({'editor': 'editor_id'}, axis=1)\n",
    "# df_selected_token['token_id'] = df_selected_token['token_id'].astype(str)\n",
    "# df_selected_token['rev_id'] = df_selected_token['rev_id'].astype(str)\n",
    "# df_selected_token.set_index('token_id', inplace=True)\n",
    "# table2 = qgrid.show_grid(df_selected_token)\n",
    "\n",
    "# display(table1)\n",
    "# print(f'With token {token_interest}, select one revision you want to investigate:')\n",
    "# display(table2)\n",
    "\n",
    "# # Display revision diff url redirected to Wikipedia website.\n",
    "# revision_id = df_selected_token['rev_id'][5]  # You can use any revision id you are interested in\n",
    "# url_diff = f'https://{abbreviation(languageSelection.value)}.wikipedia.org/w/index.php?title=TITLEDOESNTMATTER&diff={revision_id}&diffmode=source'\n",
    "# print(url_diff)\n",
    "          \n",
    "# ## MOST FREQUENT CONFLICTING TOKEN STRINGS ##\n",
    "# ## WordCloud, core visual code lies in WCListener, then the interact function               ##\n",
    "# ## make it interactive, mode details see:                                                   ##\n",
    "# ## https://github.com/gesiscss/wikiwho_demo/blob/master/visualization/wordcloud_listener.py ##\n",
    "# # Create a WCListener instance, continue to use our data from B.1\"                          ##\n",
    "# wclistener = WCListener(sources={\"tokens_source\": token_sources}, lng=abbreviation(languageSelection.value))\n",
    "\n",
    "# # visualization: you could also perform it by coding!\n",
    "# editor='All'\n",
    "# conflict_action = 'Both' #'Just Insertions', 'Just Deletions'\n",
    "# conflict_source = 'Only Conflicts' #'All Actions', 'Elegible Actions'\n",
    "\n",
    "\n",
    "# wclistener.listen(\n",
    "#      _range1=date_start,\n",
    "#      _range2=date_end,\n",
    "#      source=conflict_source,\n",
    "#      action=conflict_action,\n",
    "#      editor=editor,\n",
    "#      stopwords=include_stopwords\n",
    "# )"
   ]
  },
  {
   "cell_type": "markdown",
   "metadata": {},
   "source": [
    "---\n",
    "# B. Conflicts\n",
    "\n",
    "## B.1 When did conflicts happen?"
   ]
  },
  {
   "cell_type": "markdown",
   "metadata": {},
   "source": [
    "Our measurement of ***conflict*** for single tokens is taken from [Flöck et al.](https://arxiv.org/abs/1703.08244):\n",
    "\n",
    "\n",
    "* (1)  The main idea is to count how often a token  - after being created (added) the first time -  was being deleted, re-inserted, re-deleted, re-inserted, and so on; which would often happen in case two editors disagree on the token's justification to be in the text. \n",
    "* (2) Only the **re-**deletions and **re-**insertions are counted, since up to the first delete it could be a simple correction that didn't trigger a reponse - this wouldn't indicate conflict. \n",
    "* (3) The **\"re-\"** actions are only counted if they alternate between different editors and don't come from the same editor twice or more in a row - as the latter would simply indicate self-corrections. \n",
    "* (4) In a last step, each re-insertion/re-deletion interaction gets a higher weight the faster it occurs (see [Flöck et al.](https://arxiv.org/abs/1703.08244) for the exact formula).\n",
    "\n",
    "The total conflict of a page is the sum of all the conflict scores of all actions with \n",
    "conflict (or conflict actions).\n",
    "\n",
    "<mark> *Question: What is the exact definition of conflict scores of actions?* </mark>\n",
    "\n",
    "This total conflict can be normalized if the sum is divided by the number of \n",
    "actions that could potentially be counted as conflict (elegible actions, i.e **\"re-\"** actions that have occurred at \n",
    "least twice).\n",
    "\n",
    "The conflict scores in all notebooks are calculated based on the tokens excluding stopwords."
   ]
  },
  {
   "cell_type": "markdown",
   "metadata": {},
   "source": [
    "In the following graph you can select the *date range* and *granularity* (yearly, monthly) \n",
    "of the timeline (X-axis), and plot any of the following counts in the black and red lines:\n",
    "<details>    \n",
    "    <summary style=\"cursor: pointer;font-weight:bold\">Options description</summary>\n",
    "    \n",
    "- **Total**: total number of actions (insertions, and deletions)\n",
    "- **Total_surv_48h**: total number of actions that survived at least 48 hours\n",
    "- **Total_persistent**: total number of actions that survived until, at least, the end of the month\n",
    "- **Total_stopword_count**: total number of actions that were performed in stop words\n",
    "- **Total Elegible Actions**: the total number of elegible actions\n",
    "- **Number of Conflicts**: the total number of conflicts\n",
    "- **Number of Revisions**: the total number of revisions/edits\n",
    "- **Conflict Score**: the sum of conflict scores of all actions divided by the number of elegible actions\n",
    "- **Absolute Conflict Score**: the sum of conflict scores of all actions (without division)\n",
    "- **Conflict Ratio**: the count of all conflicts divided by the number of elegible actions\n",
    "</details>"
   ]
  },
  {
   "cell_type": "code",
   "execution_count": 18,
   "metadata": {
    "hide_input": true
   },
   "outputs": [],
   "source": [
    "# # create and display the button\n",
    "# button2 = widgets.Button(description=\"Show Page Conflict\", layout=Layout(width='160px'))\n",
    "# display(button2)\n",
    "\n",
    "# def on_click_conflict(b):\n",
    "#     global datepicker_from\n",
    "#     with out6:\n",
    "#         clear_output()\n",
    "#         display(md(f\"***Page: {the_page['title']} ({abbreviation(languageSelection.value).upper()})***\"))\n",
    "        \n",
    "#         # Visualization\n",
    "#         listener = ConflictsListener(agg_actions)\n",
    "\n",
    "#         metrics = ['Conflict Score', 'Total Elegible Actions', 'Absolute Conflict Score']\n",
    "#         conflict_score = agg_actions.conflict.sum() / agg_actions.elegibles.sum()\n",
    "#         display(md(f'**Page conflict score: {conflict_score}**'))\n",
    "        \n",
    "#         # Visualization\n",
    "#         datepicker_from = widgets.DatePicker(description='Date starts', value=agg_actions['rev_time'].iloc[0], layout=Layout(width='25%'))\n",
    "#         datepicker_to = widgets.DatePicker(description='Date ends', value=agg_actions['rev_time'].iloc[-1], layout=Layout(width='25%'))\n",
    "#         if (conflict_score != 0):\n",
    "#             interact(listener.listen,\n",
    "#                      _range1 = datepicker_from,\n",
    "#                      _range2 = datepicker_to,\n",
    "#                      granularity=Dropdown(options=['Yearly', 'Monthly', 'Daily'], value='Monthly'),\n",
    "#                      black=Dropdown(options=metrics, value='Conflict Score'),\n",
    "#                      red=Dropdown(options= ['None'] + metrics, value='None'))\n",
    "    \n",
    "\n",
    "# out6 = Output()\n",
    "# display(out6)\n",
    "\n",
    "# # set the event\n",
    "# button2.on_click(on_click_conflict)\n",
    "\n",
    "# # trigger the event with the default value\n",
    "# on_click_conflict(button2)"
   ]
  },
  {
   "cell_type": "markdown",
   "metadata": {
    "solution2": "hidden",
    "solution2_first": true
   },
   "source": [
    "<span style=\"color: #626262\"> Try yourself! This is what will happen when you click 'Show Page Conflict' button: </span>"
   ]
  },
  {
   "cell_type": "code",
   "execution_count": 19,
   "metadata": {
    "solution2": "hidden"
   },
   "outputs": [],
   "source": [
    "# ### ----------------------------------------------------------------------------------- ###\n",
    "# ### TRY YOURSELF! THIS IS WHAT WILL HAPPEN WHEN YOU CLICK 'Show Page Conflict' BUTTON   ###\n",
    "# ### ----------------------------------------------------------------------------------- ###\n",
    "\n",
    "# ## This is the page you used ##\n",
    "# print('The page that is being used:', the_page['title'], f'({abbreviation(languageSelection.value).upper()})')\n",
    "\n",
    "# ## Continue to use our data from A.2; calculate the Conflict Score definded as above ##\n",
    "# conflict_sc = total_actions.conflict.sum() / total_actions.elegibles.sum()\n",
    "# print('Page conflict score is:', conflict_sc)\n",
    "\n",
    "# ## visualization, core visual code lies in ConflictsListener, then the interact function    ##\n",
    "# ## make it interactive, mode details see:                                                   ##\n",
    "# ## https://github.com/gesiscss/wikiwho_demo/blob/master/visualization/conflicts_listener.py ##\n",
    "\n",
    "# # First check whether the page conflict score is zero\n",
    "# if conflict_sc != 0:\n",
    "#     # Define a ConflictsListener instance\n",
    "#     conflicts_listener = ConflictsListener(total_actions)\n",
    "\n",
    "#     # Set parameters\n",
    "#     begin_date = total_actions['rev_time'].iloc[0]\n",
    "#     end_date = total_actions['rev_time'].iloc[-1]\n",
    "#     frequency = 'Daily' # 'Yearly', 'Monthly', 'Daily'\n",
    "    \n",
    "#     # The metrics we need:\n",
    "#     # ['Total', 'Total_surv_48h', 'Total_persistent', 'Total_stopword_count',\n",
    "#     #  'Total Elegible Actions', 'Number of Conflicts', 'Number of Revisions',\n",
    "#     #  'Conflict Score', 'Absolute Conflict Score', 'Conflict Ratio', ('None')]\n",
    "#     # Note: only 'red_line' has 'None' option.\n",
    "#     black_line = 'Conflict Score'\n",
    "#     red_line = 'None'\n",
    "    \n",
    "#     conflicts_listener.listen(\n",
    "#         _range1 = begin_date,\n",
    "#         _range2 = end_date,\n",
    "#         granularity = frequency,\n",
    "#         black = black_line,\n",
    "#         red = red_line\n",
    "#     )"
   ]
  },
  {
   "cell_type": "markdown",
   "metadata": {},
   "source": [
    "---\n",
    "\n",
    "## B.2 Editor Conflict Score"
   ]
  },
  {
   "cell_type": "markdown",
   "metadata": {},
   "source": [
    "We can also calculate the conflict score for each individual editor. The table below presents the conflict score per editor per month. Same as A.2, the *rev_time* column denotes when this revision is created. If you want to know which tokens a particular editor have conflicts about in that day (row), please click that row. Then another frame containing all conflicting tokens with other relevant metrics will be provided underneath.\n",
    "\n",
    "<details>    \n",
    "    <summary style=\"cursor: pointer;font-weight:bold\">Columns description</summary>\n",
    "\n",
    "The main table:\n",
    "- **editor_id**: the id of the editor that inserted the token (if starts with 0|, it means that the editor is not registered, and the ip is displayed instead\n",
    "- **name**: the name of an editor that performed an action (if nan, it means that for this editor id, no name is found in Edit API)\n",
    "- **conflict**: for an editor in a month, the sum of conflict scores of all actions divided by the number of elegible actions \n",
    "\n",
    "The tokens table:\n",
    "\n",
    "Given editor and year-month:\n",
    "- **token_id**: the id of the token that is being tracked\n",
    "- **string**: the string of the token that is being tracked\n",
    "- **elegibles**: the total number of elegible actions to that token \n",
    "- **conflicts**: the total number of conflicts to that token\n",
    "- **conflict**: for a token, the sum of conflict scores of all actions divided by the number of elegible actions\n",
    "- **revisions**: the total number of the revisions that involve this token\n",
    "- **in_actions**: the total number of the revisions in which the actions are \"in\"s\n",
    "- **out_actions**: the total number of the revisions in which the actions are \"out\"s\n",
    "- **main_opponent**: another editor who has the most conflict with this token, in other words, the main opponent to that token (note: the conflict also likely occurs in another month)\n",
    "\n",
    "</details>"
   ]
  },
  {
   "cell_type": "code",
   "execution_count": 20,
   "metadata": {
    "hide_input": true
   },
   "outputs": [],
   "source": [
    "# # create and display the button\n",
    "# button_b2 = widgets.Button(description=\"Show Editor's Conflicts\", layout=Layout(width='160px'))\n",
    "# display(button_b2)\n",
    "\n",
    "# def on_click_editor_conflict(b):\n",
    "#     with out_b2:\n",
    "#         clear_output()\n",
    "        \n",
    "#         sources = {\"conflict_manager\": con_manager, \"actions\": actions_exc_stop}\n",
    "#         cel = ConflictsEditorListener(sources, editors)\n",
    "#         display(md(f\"***Page: {the_page['title']} ({abbreviation(languageSelection.value).upper()})***\"))\n",
    "#         cel.listen()\n",
    "        \n",
    "        \n",
    "# out_b2 = Output()\n",
    "# display(out_b2)\n",
    "\n",
    "# # set the event\n",
    "# button_b2.on_click(on_click_editor_conflict)\n",
    "\n",
    "# # trigger the event with the default value\n",
    "# on_click_editor_conflict(button_b2)"
   ]
  },
  {
   "cell_type": "markdown",
   "metadata": {
    "solution2": "hidden",
    "solution2_first": true
   },
   "source": [
    "<span style=\"color: #626262\"> Try yourself! This is what will happen when you click 'Show Editor's Conflicts' button: </span>"
   ]
  },
  {
   "cell_type": "code",
   "execution_count": 21,
   "metadata": {
    "solution2": "hidden"
   },
   "outputs": [],
   "source": [
    "# ### -------------------------------------------------------------------------------------- ###\n",
    "# ### TRY YOURSELF! THIS IS WHAT WILL HAPPEN WHEN YOU CLICK 'Show Editor's Conflicts' BUTTON ###\n",
    "# ### -------------------------------------------------------------------------------------- ###\n",
    "\n",
    "# ## This is the page you used ##\n",
    "# print('The page that is being used:', the_page['title'], f'({abbreviation(languageSelection.value).upper()})')\n",
    "\n",
    "# ## Continue to use our data from A.2; sum 'conflicts', 'elegibles' and 'conflict' (absolute) up by editors ##\n",
    "# conflicts_by_editors = total_actions.groupby(pd.Grouper(\n",
    "#                             key='editor_id')).agg({'conflicts': 'sum', 'elegibles': 'sum', 'conflict': 'sum'}).reset_index()\n",
    "\n",
    "# ## Convert 'conflict' (absolute) to conflict ##\n",
    "# conflicts_by_editors['conflict'] = (conflicts_by_editors['conflict'] / conflicts_by_editors['elegibles'])\n",
    "\n",
    "# ## If there are conflicts, then display it using qgrid ##\n",
    "# grabbed_names[\"editor_id\"] = grabbed_names[\"editor_id\"].astype(int)\n",
    "\n",
    "# if len(conflicts_by_editors) > 0:    \n",
    "#     conflicts_by_editors = grabbed_names[['editor_id', 'name']].merge(conflicts_by_editors.dropna(), \n",
    "#                                                     right_index=True, on='editor_id').set_index('editor_id').dropna()\n",
    "#     conflicts_by_editors_noid = conflicts_by_editors.set_index('name')[['elegibles', 'conflicts', 'conflict']]\n",
    "#     qg_obj = qgrid.show_grid(conflicts_by_editors_noid)\n",
    "#     display(qg_obj)\n",
    "# else:\n",
    "#     display(md(f'**There is no Conflict Scores**')) \n",
    "#     conflicts_by_editors = None\n",
    "\n",
    "# ## Store the variable for the next notebook. ##\n",
    "# editors_conflicts = conflicts_by_editors.copy()\n",
    "\n",
    "# %store conflicts_by_editors"
   ]
  },
  {
   "cell_type": "markdown",
   "metadata": {},
   "source": [
    "---\n",
    "\n",
    "## B.3 Most frequent conflicting token strings"
   ]
  },
  {
   "cell_type": "markdown",
   "metadata": {},
   "source": [
    "The WordCloud displays the most common conflicting token strings, i.e. words (token strings) \n",
    "with the most actions that have conflict. The size of the token string in the WordCloud indicates frequency \n",
    "of actions.\n",
    "In the controls you can select the *date range*, the type of *action* (insertion or deletion), and the \n",
    "*source*.\n",
    "\n",
    "<details>    \n",
    "    <summary style=\"cursor: pointer;font-weight:bold\">Source description</summary>\n",
    "    \n",
    "-   **Only Conflicts**: use only the actions that are in conflict.\n",
    "-   **Elegible Actions**: use only the actions that can potentially enter into conflict, i.e. actions \n",
    "that have occurred at least twice, e.g. the token x has been inserted twice (which necessarily implies \n",
    "it was remove once), the token x has been deleted twice (which necessarily implies it was inserted twice) \n",
    "-   **All Actions**: use all tokens regardles conflict\n",
    "</details>"
   ]
  },
  {
   "cell_type": "code",
   "execution_count": 22,
   "metadata": {
    "hide_input": true
   },
   "outputs": [],
   "source": [
    "# # create and display the button\n",
    "# button2 = widgets.Button(description=\"Show WordCloud\")\n",
    "# display(button2)\n",
    "\n",
    "# def on_click_wc(b): \n",
    "#     with out11:  \n",
    "#         clear_output()\n",
    "#         revisions_display = revisions.copy()\n",
    "#         revisions_display.loc[:, 'rev_time'] = pd.to_datetime(revisions_display['rev_time'])\n",
    "#         #clear_output()\n",
    "#         display(md(f\"***Page: {the_page['title']} ({abbreviation(languageSelection.value).upper()})***\"))\n",
    "                   \n",
    "        \n",
    "#         # listener\n",
    "#         listener = WCListener(sources={\"tokens_source\": sources}, lng=abbreviation(languageSelection.value))\n",
    "\n",
    "#         # visualization\n",
    "#         datepicker_from = widgets.DatePicker(description='Date starts', value=revisions_display['rev_time'].iloc[0], layout=Layout(width='25%'))\n",
    "#         datepicker_to = widgets.DatePicker(description='Date ends', value=revisions_display['rev_time'].iloc[-1], layout=Layout(width='25%'))        \n",
    "        \n",
    "#         source=Dropdown(options=['All Actions', 'Elegible Actions', 'Only Conflicts'], value='Only Conflicts', description='Source (*)')\n",
    "#         action=Dropdown(options=['Both', 'Just Insertions', 'Just Deletions'], value='Both', description='Action')\n",
    "#         editor=fixed('All')\n",
    "        \n",
    "#         stopwords = widgets.RadioButtons(options=['Not included', 'Included'], value='Not included', description='Stopwords', layout={'width': '50%'})\n",
    "\n",
    "#         out = interactive_output(listener.listen, {\n",
    "#                  '_range1': datepicker_from,\n",
    "#                  '_range2': datepicker_to,\n",
    "#                  'source': source,\n",
    "#                  'action': action,\n",
    "#                  'editor': editor,\n",
    "#                  'stopwords': stopwords\n",
    "#         })\n",
    "\n",
    "#         display(VBox([datepicker_from, datepicker_to, action, source, stopwords, out]))\n",
    "\n",
    "# out11 = Output()\n",
    "# display(out11)\n",
    "\n",
    "# # set the event\n",
    "# button2.on_click(on_click_wc)\n",
    "\n",
    "# # trigger the event with the default value\n",
    "# on_click_wc(button2)"
   ]
  },
  {
   "cell_type": "markdown",
   "metadata": {
    "hide_input": false,
    "solution2": "hidden",
    "solution2_first": true
   },
   "source": [
    "<span style=\"color: #626262\"> Try yourself! This is what will happen when you click 'Show WordCloud' button: </span>"
   ]
  },
  {
   "cell_type": "code",
   "execution_count": 23,
   "metadata": {
    "hide_input": false,
    "solution2": "hidden"
   },
   "outputs": [],
   "source": [
    "# ### ------------------------------------------------------------------------------ ###\n",
    "# ### TRY YOURSELF! THIS IS WHAT WILL HAPPEN WHEN YOU CLICK 'Show WordCloud' BUTTON  ###\n",
    "# ### ------------------------------------------------------------------------------ ###\n",
    "\n",
    "# ## WordCloud, core visual code lies in WCListener, then the interact function               ##\n",
    "# ## make it interactive, mode details see:                                                   ##\n",
    "# ## https://github.com/gesiscss/wikiwho_demo/blob/master/visualization/wordcloud_listener.py ##\n",
    "# # Create a WCListener instance, continue to use our data from B.1\"                          ##\n",
    "# wclistener = WCListener(sources={\"tokens_source\": token_sources}, lng=abbreviation(languageSelection.value))\n",
    "\n",
    "# # visualization: you could also perform it by coding!\n",
    "# begin_date = date(2020, 1, 1)\n",
    "# end_date = date(2020, 5, 25)\n",
    "# actions_source='Only Conflicts' # 'Elegible Actions', 'All actions'\n",
    "# action_type='Both' # 'Just Insertions', 'Just Deletions'\n",
    "# editor='All'\n",
    "# stopwords = 'Not included'  # 'Not included', 'Included'\n",
    "\n",
    "# wclistener.listen(\n",
    "#      _range1=begin_date,\n",
    "#      _range2=end_date,\n",
    "#      source=actions_source,\n",
    "#      action=action_type,\n",
    "#      editor=editor,\n",
    "#      stopwords=stopwords\n",
    "# )\n",
    "\n",
    "# ## This is the page you used ##,\n",
    "# print('The page that is being used:', the_page['title'], f'({abbreviation(languageSelection.value).upper()})')\n",
    "# print('Time range from', begin_date.strftime(\"%Y-%m-%d\"), 'to', end_date.strftime(\"%Y-%m-%d\"))"
   ]
  },
  {
   "cell_type": "markdown",
   "metadata": {},
   "source": [
    "## B.4 Conflict score of each singular action"
   ]
  },
  {
   "cell_type": "markdown",
   "metadata": {},
   "source": [
    "In the following table, all the actions that are in conflict are presented, and a conflict score\n",
    "is presented per action. The importance of the conflict can be meassure by considering the seconds t that \n",
    "have passed since the last action on the same token (string) has occured (`time_diff_secs` column). A score to \n",
    "meassure conflict is calculated based on t with the following formula: 1 / log<sub>3600</sub>(t+2). \n",
    "Thus, *undo* actions are weighted higher than the original time in seconds when the *t* is less than an hour.\n",
    "For details, please refer to [Flöck et al, 2017](https://arxiv.org/abs/1703.08244).\n",
    "\n",
    "<details>    \n",
    "    <summary style=\"cursor: pointer;font-weight:bold\">Columns description</summary>\n",
    "\n",
    "- **string**: the string of the token that is being tracked\n",
    "- **order**: numerical variable, shows the order of the conflicting actions in the revision history\n",
    "- **count**: numerical indicator of how often a given token is in the revision history\n",
    "- **token_id**: the id of the token that is being tracked\n",
    "- **rev_id**: the revision id in which the action (insertion or deletion) happen\n",
    "- **editor_name**: the name of an editor that performed an action\n",
    "- **editor_id**: the id of the editor that inserted the token (if starts with **0|**, it means that\n",
    "the editor is not registered, and the ip is displayed instead\n",
    "- **time_diff_secs**: seconds that have passed since the last action on the same token has occured\n",
    "- **conflict**: a score to meassure conflict that is calculated based on the `time_diff_secs` \n",
    "with the following formula: *1 / log<sub>3600</sub>(time_diff_secs + 2)*. For details, please refer to \n",
    "[Flöck et al, 2017](https://arxiv.org/abs/1703.08244)\n",
    "\n",
    "<mark> *Question: Should explain -1 in the rev_id column?* </mark>\n",
    "</details>"
   ]
  },
  {
   "cell_type": "code",
   "execution_count": 24,
   "metadata": {
    "hide_input": true
   },
   "outputs": [
    {
     "data": {
      "application/vnd.jupyter.widget-view+json": {
       "model_id": "16f290f36b3d464bafdd066cbf164a62",
       "version_major": 2,
       "version_minor": 0
      },
      "text/plain": [
       "Button(description='Show Conflict Score of Each Action', layout=Layout(width='250px'), style=ButtonStyle())"
      ]
     },
     "metadata": {},
     "output_type": "display_data"
    },
    {
     "data": {
      "application/vnd.jupyter.widget-view+json": {
       "model_id": "0aba70599a48454896c0bef062609cfd",
       "version_major": 2,
       "version_minor": 0
      },
      "text/plain": [
       "Output()"
      ]
     },
     "metadata": {},
     "output_type": "display_data"
    }
   ],
   "source": [
    "# create and display the button\n",
    "button2 = widgets.Button(description=\"Show Conflict Score of Each Action\", layout=Layout(width='250px'))\n",
    "display(button2)\n",
    "\n",
    "def on_click_actions(b):\n",
    "    global conflictaction_listener\n",
    "    with out9:\n",
    "        clear_output()\n",
    "        \n",
    "        display(md(f\"***Page: {the_page['title']} ({abbreviation(languageSelection.value).upper()})***\"))\n",
    "        datepicker_from = widgets.DatePicker(description='Date starts', value=pd.to_datetime(revisions['rev_time'].iloc[0]), layout=Layout(width='25%'))\n",
    "        datepicker_to = widgets.DatePicker(description='Date ends', value=pd.to_datetime(revisions['rev_time'].iloc[-1]), layout=Layout(width='25%'))\n",
    "        \n",
    "        conflictaction_listener = ConflictsActionListener(sources={\n",
    "            \"tokens_source\": sources,\n",
    "            \"Editors\": editors,\n",
    "            \"Revisions\": revisions\n",
    "        },lng=abbreviation(languageSelection.value))\n",
    "               \n",
    "        stopwords = widgets.RadioButtons(options=['Not included', 'Included'], value='Not included', description='Stopwords', layout={'width': '50%'})\n",
    "        interact(conflictaction_listener.listen_to_interact, _range1 = datepicker_from, _range2 = datepicker_to, stopwords = stopwords)\n",
    "\n",
    "                      \n",
    "out9 = Output()\n",
    "display(out9)\n",
    "\n",
    "# set the event\n",
    "button2.on_click(on_click_actions)\n",
    "\n",
    "# trigger the event with the default value\n",
    "on_click_actions(button2)"
   ]
  },
  {
   "cell_type": "markdown",
   "metadata": {
    "hide_input": false,
    "solution2": "hidden",
    "solution2_first": true
   },
   "source": [
    "<span style=\"color: #626262\"> Try yourself! This is what will happen when you click 'Show Conflict Score of Each Action' button: </span>"
   ]
  },
  {
   "cell_type": "code",
   "execution_count": 25,
   "metadata": {
    "hide_input": false,
    "solution2": "hidden"
   },
   "outputs": [
    {
     "name": "stdout",
     "output_type": "stream",
     "text": [
      "The page that is being used: Jay Chou (EN)\n"
     ]
    },
    {
     "data": {
      "application/vnd.jupyter.widget-view+json": {
       "model_id": "9dcf576578974514820ebbcf658f763a",
       "version_major": 2,
       "version_minor": 0
      },
      "text/plain": [
       "QgridWidget(grid_options={'fullWidthRows': True, 'syncColumnCellResize': True, 'forceFitColumns': False, 'defa…"
      ]
     },
     "metadata": {},
     "output_type": "display_data"
    },
    {
     "name": "stdout",
     "output_type": "stream",
     "text": [
      "Link to the wikipedia diff: https://en.wikipedia.org/w/index.php?&title=Jay_Chou&diff=706448515\n"
     ]
    }
   ],
   "source": [
    "### --------------------------------------------------------------------------------------------------- ###\n",
    "### TRY YOURSELF! THIS IS WHAT WILL HAPPEN WHEN YOU CLICK 'Show Conflict Score of Each Action' BUTTON   ###\n",
    "### --------------------------------------------------------------------------------------------------- ###\n",
    "\n",
    "## This is the page you used ##\n",
    "print('The page that is being used:', the_page['title'], f'({abbreviation(languageSelection.value).upper()})')\n",
    "\n",
    "## Create a ConflictsActionListener instance, more details see: ##\n",
    "## https://github.com/gesiscss/wikiwho_demo_new/blob/master/visualization/conflicts_listener.py#L178 ##\n",
    "# conflict_actions = ConflictsActionListener(sources={\n",
    "#             \"tokens_source\": token_sources,\n",
    "#             \"Editors\": grabbed_names,\n",
    "#             \"Revisions\": all_revisions\n",
    "#         },lng=abbreviation(languageSelection.value))\n",
    "\n",
    "## Visualization ##\n",
    "begin_date = date(2007, 3, 1)\n",
    "end_date = date(2020, 5, 1)\n",
    "include_stopwords = \"Not included\"  # \"Not inclueded\", \"Included\"\n",
    "rev_id = \"706448515\"  # Any revision id from rev_id column\n",
    "\n",
    "conflictaction_listener.listen(begin_date, end_date, include_stopwords)\n",
    "print(f\"Link to the wikipedia diff: https://{conflictaction_listener.lng}.wikipedia.org/w/index.php?&title={the_page['title'].replace(' ', '_')}&diff={rev_id}\")"
   ]
  },
  {
   "cell_type": "markdown",
   "metadata": {},
   "source": [
    "---\n",
    "# C. Talk\n",
    "\n",
    "## C.1 How are revisions in talk section spread over time?\n",
    "\n",
    "The Talk page activity represents the number of revisions on the Talk page of the Wikipedia article extracted by WikiWho API. \n",
    "\n",
    "In the controls you can select the *date range* and the *granularity*"
   ]
  },
  {
   "cell_type": "code",
   "execution_count": 26,
   "metadata": {
    "hide_input": true
   },
   "outputs": [
    {
     "data": {
      "application/vnd.jupyter.widget-view+json": {
       "model_id": "b6b0877d891d4f81942d81b3f5dfb43a",
       "version_major": 2,
       "version_minor": 0
      },
      "text/plain": [
       "Button(description='Load Talks', layout=Layout(width='160px'), style=ButtonStyle())"
      ]
     },
     "metadata": {},
     "output_type": "display_data"
    },
    {
     "data": {
      "application/vnd.jupyter.widget-view+json": {
       "model_id": "7f3a1ae66a644ef89edddb51e11ebbd6",
       "version_major": 2,
       "version_minor": 0
      },
      "text/plain": [
       "Output()"
      ]
     },
     "metadata": {},
     "output_type": "display_data"
    }
   ],
   "source": [
    "button_t = widgets.Button(description=\"Load Talks\", layout=Layout(width='160px'))\n",
    "display(button_t)\n",
    "\n",
    "def on_click_details(b):\n",
    "    global talk_content \n",
    "    with out_t:\n",
    "        clear_output()\n",
    "        display(md(f\"***Page: {the_page['title']} ({abbreviation(languageSelection.value).upper()})***\"))\n",
    "\n",
    "        #Initiate a Wikipedia instance\n",
    "        wikipediadv_instance = WikipediaDV(WikipediaAPI(lng=abbreviation(languageSelection.value)))\n",
    "        \n",
    "        #Get content of revisions on talk page\n",
    "        talk_content = wikipediadv_instance.get_talk_content(the_talk_page[\"page_id\"])\n",
    "        \n",
    "        #convert to datetime format\n",
    "        talk_content['year_month'] = pd.to_datetime(talk_content['timestamp'])\n",
    "\n",
    "        \n",
    "        # Define a TalksListener instance\n",
    "        talks_listener = TalksListener(talk_content)\n",
    "\n",
    "        # Visualization\n",
    "        datepicker_from = widgets.DatePicker(description='Date starts', value=talk_content['year_month'].iloc[-1], layout=Layout(width='25%'))\n",
    "        datepicker_to = widgets.DatePicker(description='Date ends', value=talk_content['year_month'].iloc[0], layout=Layout(width='25%'))\n",
    "\n",
    "        interact(talks_listener.listen,\n",
    "            begin = datepicker_from,\n",
    "            end = datepicker_to,\n",
    "            granularity = Dropdown(options=['Monthly', 'Yearly', 'Daily'], value='Monthly')\n",
    "        )\n",
    "\n",
    "out_t = Output()\n",
    "display(out_t)\n",
    "\n",
    "# set the event\n",
    "button_t.on_click(on_click_details)\n",
    "\n",
    "# trigger the event with the default value\n",
    "on_click_details(button_t)"
   ]
  },
  {
   "cell_type": "markdown",
   "metadata": {
    "solution2": "hidden",
    "solution2_first": true
   },
   "source": [
    "<span style=\"color: #626262\"> Try yourself! This is what will happen when you click 'Load Talks' button: </span>"
   ]
  },
  {
   "cell_type": "code",
   "execution_count": 27,
   "metadata": {
    "solution2": "hidden"
   },
   "outputs": [
    {
     "name": "stdout",
     "output_type": "stream",
     "text": [
      "The page that is being used: Talk:Jay Chou\n",
      "Time range from 2005-03-01 to 2015-07-04\n"
     ]
    },
    {
     "data": {
      "text/html": [
       "        <script type=\"text/javascript\">\n",
       "        window.PlotlyConfig = {MathJaxConfig: 'local'};\n",
       "        if (window.MathJax) {MathJax.Hub.Config({SVG: {font: \"STIX-Web\"}});}\n",
       "        if (typeof require !== 'undefined') {\n",
       "        require.undef(\"plotly\");\n",
       "        requirejs.config({\n",
       "            paths: {\n",
       "                'plotly': ['https://cdn.plot.ly/plotly-latest.min']\n",
       "            }\n",
       "        });\n",
       "        require(['plotly'], function(Plotly) {\n",
       "            window._Plotly = Plotly;\n",
       "        });\n",
       "        }\n",
       "        </script>\n",
       "        "
      ]
     },
     "metadata": {},
     "output_type": "display_data"
    },
    {
     "data": {
      "application/vnd.plotly.v1+json": {
       "config": {
        "linkText": "Export to plot.ly",
        "plotlyServerURL": "https://plot.ly",
        "showLink": false
       },
       "data": [
        {
         "hovertemplate": "%{x}<extra>%{y}</extra>",
         "marker": {
          "color": "rgba(0, 0, 0, 1)"
         },
         "type": "scatter",
         "x": [
          "2005-03-31",
          "2005-04-30",
          "2005-05-31",
          "2005-06-30",
          "2005-07-31",
          "2005-08-31",
          "2005-09-30",
          "2005-10-31",
          "2005-11-30",
          "2005-12-31",
          "2006-01-31",
          "2006-02-28",
          "2006-03-31",
          "2006-04-30",
          "2006-05-31",
          "2006-06-30",
          "2006-07-31",
          "2006-08-31",
          "2006-09-30",
          "2006-10-31",
          "2006-11-30",
          "2006-12-31",
          "2007-01-31",
          "2007-02-28",
          "2007-03-31",
          "2007-04-30",
          "2007-05-31",
          "2007-06-30",
          "2007-07-31",
          "2007-08-31",
          "2007-09-30",
          "2007-10-31",
          "2007-11-30",
          "2007-12-31",
          "2008-01-31",
          "2008-02-29",
          "2008-03-31",
          "2008-04-30",
          "2008-05-31",
          "2008-06-30",
          "2008-07-31",
          "2008-08-31",
          "2008-09-30",
          "2008-10-31",
          "2008-11-30",
          "2008-12-31",
          "2009-01-31",
          "2009-02-28",
          "2009-03-31",
          "2009-04-30",
          "2009-05-31",
          "2009-06-30",
          "2009-07-31",
          "2009-08-31",
          "2009-09-30",
          "2009-10-31",
          "2009-11-30",
          "2009-12-31",
          "2010-01-31",
          "2010-02-28",
          "2010-03-31",
          "2010-04-30",
          "2010-05-31",
          "2010-06-30",
          "2010-07-31",
          "2010-08-31",
          "2010-09-30",
          "2010-10-31",
          "2010-11-30",
          "2010-12-31",
          "2011-01-31",
          "2011-02-28",
          "2011-03-31",
          "2011-04-30",
          "2011-05-31",
          "2011-06-30",
          "2011-07-31",
          "2011-08-31",
          "2011-09-30",
          "2011-10-31",
          "2011-11-30",
          "2011-12-31",
          "2012-01-31",
          "2012-02-29",
          "2012-03-31",
          "2012-04-30",
          "2012-05-31",
          "2012-06-30",
          "2012-07-31",
          "2012-08-31",
          "2012-09-30",
          "2012-10-31",
          "2012-11-30",
          "2012-12-31",
          "2013-01-31",
          "2013-02-28",
          "2013-03-31",
          "2013-04-30",
          "2013-05-31",
          "2013-06-30",
          "2013-07-31",
          "2013-08-31",
          "2013-09-30",
          "2013-10-31",
          "2013-11-30",
          "2013-12-31",
          "2014-01-31",
          "2014-02-28",
          "2014-03-31",
          "2014-04-30",
          "2014-05-31",
          "2014-06-30",
          "2014-07-31",
          "2014-08-31",
          "2014-09-30",
          "2014-10-31",
          "2014-11-30",
          "2014-12-31",
          "2015-01-31",
          "2015-02-28",
          "2015-03-31",
          "2015-04-30",
          "2015-05-31"
         ],
         "y": [
          2,
          3,
          0,
          0,
          0,
          1,
          0,
          6,
          0,
          0,
          1,
          3,
          0,
          2,
          14,
          5,
          1,
          2,
          4,
          3,
          6,
          3,
          7,
          4,
          19,
          18,
          12,
          12,
          9,
          0,
          0,
          4,
          1,
          0,
          2,
          0,
          4,
          1,
          15,
          1,
          17,
          15,
          3,
          1,
          0,
          0,
          0,
          0,
          1,
          0,
          0,
          1,
          0,
          0,
          1,
          0,
          6,
          0,
          0,
          2,
          0,
          1,
          6,
          0,
          1,
          0,
          1,
          0,
          1,
          1,
          0,
          4,
          0,
          5,
          4,
          1,
          0,
          0,
          2,
          0,
          0,
          0,
          0,
          0,
          0,
          0,
          0,
          0,
          0,
          0,
          0,
          0,
          0,
          0,
          0,
          0,
          0,
          0,
          0,
          1,
          0,
          0,
          0,
          0,
          0,
          0,
          0,
          0,
          0,
          0,
          0,
          1,
          0,
          0,
          0,
          0,
          0,
          0,
          1,
          0,
          6,
          8,
          1
         ]
        }
       ],
       "layout": {
        "barmode": "group",
        "hovermode": "closest",
        "legend": {
         "x": 0.5,
         "y": 1.2
        },
        "showlegend": false,
        "template": {
         "data": {
          "bar": [
           {
            "error_x": {
             "color": "#2a3f5f"
            },
            "error_y": {
             "color": "#2a3f5f"
            },
            "marker": {
             "line": {
              "color": "#E5ECF6",
              "width": 0.5
             }
            },
            "type": "bar"
           }
          ],
          "barpolar": [
           {
            "marker": {
             "line": {
              "color": "#E5ECF6",
              "width": 0.5
             }
            },
            "type": "barpolar"
           }
          ],
          "carpet": [
           {
            "aaxis": {
             "endlinecolor": "#2a3f5f",
             "gridcolor": "white",
             "linecolor": "white",
             "minorgridcolor": "white",
             "startlinecolor": "#2a3f5f"
            },
            "baxis": {
             "endlinecolor": "#2a3f5f",
             "gridcolor": "white",
             "linecolor": "white",
             "minorgridcolor": "white",
             "startlinecolor": "#2a3f5f"
            },
            "type": "carpet"
           }
          ],
          "choropleth": [
           {
            "colorbar": {
             "outlinewidth": 0,
             "ticks": ""
            },
            "type": "choropleth"
           }
          ],
          "contour": [
           {
            "colorbar": {
             "outlinewidth": 0,
             "ticks": ""
            },
            "colorscale": [
             [
              0,
              "#0d0887"
             ],
             [
              0.1111111111111111,
              "#46039f"
             ],
             [
              0.2222222222222222,
              "#7201a8"
             ],
             [
              0.3333333333333333,
              "#9c179e"
             ],
             [
              0.4444444444444444,
              "#bd3786"
             ],
             [
              0.5555555555555556,
              "#d8576b"
             ],
             [
              0.6666666666666666,
              "#ed7953"
             ],
             [
              0.7777777777777778,
              "#fb9f3a"
             ],
             [
              0.8888888888888888,
              "#fdca26"
             ],
             [
              1,
              "#f0f921"
             ]
            ],
            "type": "contour"
           }
          ],
          "contourcarpet": [
           {
            "colorbar": {
             "outlinewidth": 0,
             "ticks": ""
            },
            "type": "contourcarpet"
           }
          ],
          "heatmap": [
           {
            "colorbar": {
             "outlinewidth": 0,
             "ticks": ""
            },
            "colorscale": [
             [
              0,
              "#0d0887"
             ],
             [
              0.1111111111111111,
              "#46039f"
             ],
             [
              0.2222222222222222,
              "#7201a8"
             ],
             [
              0.3333333333333333,
              "#9c179e"
             ],
             [
              0.4444444444444444,
              "#bd3786"
             ],
             [
              0.5555555555555556,
              "#d8576b"
             ],
             [
              0.6666666666666666,
              "#ed7953"
             ],
             [
              0.7777777777777778,
              "#fb9f3a"
             ],
             [
              0.8888888888888888,
              "#fdca26"
             ],
             [
              1,
              "#f0f921"
             ]
            ],
            "type": "heatmap"
           }
          ],
          "heatmapgl": [
           {
            "colorbar": {
             "outlinewidth": 0,
             "ticks": ""
            },
            "colorscale": [
             [
              0,
              "#0d0887"
             ],
             [
              0.1111111111111111,
              "#46039f"
             ],
             [
              0.2222222222222222,
              "#7201a8"
             ],
             [
              0.3333333333333333,
              "#9c179e"
             ],
             [
              0.4444444444444444,
              "#bd3786"
             ],
             [
              0.5555555555555556,
              "#d8576b"
             ],
             [
              0.6666666666666666,
              "#ed7953"
             ],
             [
              0.7777777777777778,
              "#fb9f3a"
             ],
             [
              0.8888888888888888,
              "#fdca26"
             ],
             [
              1,
              "#f0f921"
             ]
            ],
            "type": "heatmapgl"
           }
          ],
          "histogram": [
           {
            "marker": {
             "colorbar": {
              "outlinewidth": 0,
              "ticks": ""
             }
            },
            "type": "histogram"
           }
          ],
          "histogram2d": [
           {
            "colorbar": {
             "outlinewidth": 0,
             "ticks": ""
            },
            "colorscale": [
             [
              0,
              "#0d0887"
             ],
             [
              0.1111111111111111,
              "#46039f"
             ],
             [
              0.2222222222222222,
              "#7201a8"
             ],
             [
              0.3333333333333333,
              "#9c179e"
             ],
             [
              0.4444444444444444,
              "#bd3786"
             ],
             [
              0.5555555555555556,
              "#d8576b"
             ],
             [
              0.6666666666666666,
              "#ed7953"
             ],
             [
              0.7777777777777778,
              "#fb9f3a"
             ],
             [
              0.8888888888888888,
              "#fdca26"
             ],
             [
              1,
              "#f0f921"
             ]
            ],
            "type": "histogram2d"
           }
          ],
          "histogram2dcontour": [
           {
            "colorbar": {
             "outlinewidth": 0,
             "ticks": ""
            },
            "colorscale": [
             [
              0,
              "#0d0887"
             ],
             [
              0.1111111111111111,
              "#46039f"
             ],
             [
              0.2222222222222222,
              "#7201a8"
             ],
             [
              0.3333333333333333,
              "#9c179e"
             ],
             [
              0.4444444444444444,
              "#bd3786"
             ],
             [
              0.5555555555555556,
              "#d8576b"
             ],
             [
              0.6666666666666666,
              "#ed7953"
             ],
             [
              0.7777777777777778,
              "#fb9f3a"
             ],
             [
              0.8888888888888888,
              "#fdca26"
             ],
             [
              1,
              "#f0f921"
             ]
            ],
            "type": "histogram2dcontour"
           }
          ],
          "mesh3d": [
           {
            "colorbar": {
             "outlinewidth": 0,
             "ticks": ""
            },
            "type": "mesh3d"
           }
          ],
          "parcoords": [
           {
            "line": {
             "colorbar": {
              "outlinewidth": 0,
              "ticks": ""
             }
            },
            "type": "parcoords"
           }
          ],
          "pie": [
           {
            "automargin": true,
            "type": "pie"
           }
          ],
          "scatter": [
           {
            "marker": {
             "colorbar": {
              "outlinewidth": 0,
              "ticks": ""
             }
            },
            "type": "scatter"
           }
          ],
          "scatter3d": [
           {
            "line": {
             "colorbar": {
              "outlinewidth": 0,
              "ticks": ""
             }
            },
            "marker": {
             "colorbar": {
              "outlinewidth": 0,
              "ticks": ""
             }
            },
            "type": "scatter3d"
           }
          ],
          "scattercarpet": [
           {
            "marker": {
             "colorbar": {
              "outlinewidth": 0,
              "ticks": ""
             }
            },
            "type": "scattercarpet"
           }
          ],
          "scattergeo": [
           {
            "marker": {
             "colorbar": {
              "outlinewidth": 0,
              "ticks": ""
             }
            },
            "type": "scattergeo"
           }
          ],
          "scattergl": [
           {
            "marker": {
             "colorbar": {
              "outlinewidth": 0,
              "ticks": ""
             }
            },
            "type": "scattergl"
           }
          ],
          "scattermapbox": [
           {
            "marker": {
             "colorbar": {
              "outlinewidth": 0,
              "ticks": ""
             }
            },
            "type": "scattermapbox"
           }
          ],
          "scatterpolar": [
           {
            "marker": {
             "colorbar": {
              "outlinewidth": 0,
              "ticks": ""
             }
            },
            "type": "scatterpolar"
           }
          ],
          "scatterpolargl": [
           {
            "marker": {
             "colorbar": {
              "outlinewidth": 0,
              "ticks": ""
             }
            },
            "type": "scatterpolargl"
           }
          ],
          "scatterternary": [
           {
            "marker": {
             "colorbar": {
              "outlinewidth": 0,
              "ticks": ""
             }
            },
            "type": "scatterternary"
           }
          ],
          "surface": [
           {
            "colorbar": {
             "outlinewidth": 0,
             "ticks": ""
            },
            "colorscale": [
             [
              0,
              "#0d0887"
             ],
             [
              0.1111111111111111,
              "#46039f"
             ],
             [
              0.2222222222222222,
              "#7201a8"
             ],
             [
              0.3333333333333333,
              "#9c179e"
             ],
             [
              0.4444444444444444,
              "#bd3786"
             ],
             [
              0.5555555555555556,
              "#d8576b"
             ],
             [
              0.6666666666666666,
              "#ed7953"
             ],
             [
              0.7777777777777778,
              "#fb9f3a"
             ],
             [
              0.8888888888888888,
              "#fdca26"
             ],
             [
              1,
              "#f0f921"
             ]
            ],
            "type": "surface"
           }
          ],
          "table": [
           {
            "cells": {
             "fill": {
              "color": "#EBF0F8"
             },
             "line": {
              "color": "white"
             }
            },
            "header": {
             "fill": {
              "color": "#C8D4E3"
             },
             "line": {
              "color": "white"
             }
            },
            "type": "table"
           }
          ]
         },
         "layout": {
          "annotationdefaults": {
           "arrowcolor": "#2a3f5f",
           "arrowhead": 0,
           "arrowwidth": 1
          },
          "coloraxis": {
           "colorbar": {
            "outlinewidth": 0,
            "ticks": ""
           }
          },
          "colorscale": {
           "diverging": [
            [
             0,
             "#8e0152"
            ],
            [
             0.1,
             "#c51b7d"
            ],
            [
             0.2,
             "#de77ae"
            ],
            [
             0.3,
             "#f1b6da"
            ],
            [
             0.4,
             "#fde0ef"
            ],
            [
             0.5,
             "#f7f7f7"
            ],
            [
             0.6,
             "#e6f5d0"
            ],
            [
             0.7,
             "#b8e186"
            ],
            [
             0.8,
             "#7fbc41"
            ],
            [
             0.9,
             "#4d9221"
            ],
            [
             1,
             "#276419"
            ]
           ],
           "sequential": [
            [
             0,
             "#0d0887"
            ],
            [
             0.1111111111111111,
             "#46039f"
            ],
            [
             0.2222222222222222,
             "#7201a8"
            ],
            [
             0.3333333333333333,
             "#9c179e"
            ],
            [
             0.4444444444444444,
             "#bd3786"
            ],
            [
             0.5555555555555556,
             "#d8576b"
            ],
            [
             0.6666666666666666,
             "#ed7953"
            ],
            [
             0.7777777777777778,
             "#fb9f3a"
            ],
            [
             0.8888888888888888,
             "#fdca26"
            ],
            [
             1,
             "#f0f921"
            ]
           ],
           "sequentialminus": [
            [
             0,
             "#0d0887"
            ],
            [
             0.1111111111111111,
             "#46039f"
            ],
            [
             0.2222222222222222,
             "#7201a8"
            ],
            [
             0.3333333333333333,
             "#9c179e"
            ],
            [
             0.4444444444444444,
             "#bd3786"
            ],
            [
             0.5555555555555556,
             "#d8576b"
            ],
            [
             0.6666666666666666,
             "#ed7953"
            ],
            [
             0.7777777777777778,
             "#fb9f3a"
            ],
            [
             0.8888888888888888,
             "#fdca26"
            ],
            [
             1,
             "#f0f921"
            ]
           ]
          },
          "colorway": [
           "#636efa",
           "#EF553B",
           "#00cc96",
           "#ab63fa",
           "#FFA15A",
           "#19d3f3",
           "#FF6692",
           "#B6E880",
           "#FF97FF",
           "#FECB52"
          ],
          "font": {
           "color": "#2a3f5f"
          },
          "geo": {
           "bgcolor": "white",
           "lakecolor": "white",
           "landcolor": "#E5ECF6",
           "showlakes": true,
           "showland": true,
           "subunitcolor": "white"
          },
          "hoverlabel": {
           "align": "left"
          },
          "hovermode": "closest",
          "mapbox": {
           "style": "light"
          },
          "paper_bgcolor": "white",
          "plot_bgcolor": "#E5ECF6",
          "polar": {
           "angularaxis": {
            "gridcolor": "white",
            "linecolor": "white",
            "ticks": ""
           },
           "bgcolor": "#E5ECF6",
           "radialaxis": {
            "gridcolor": "white",
            "linecolor": "white",
            "ticks": ""
           }
          },
          "scene": {
           "xaxis": {
            "backgroundcolor": "#E5ECF6",
            "gridcolor": "white",
            "gridwidth": 2,
            "linecolor": "white",
            "showbackground": true,
            "ticks": "",
            "zerolinecolor": "white"
           },
           "yaxis": {
            "backgroundcolor": "#E5ECF6",
            "gridcolor": "white",
            "gridwidth": 2,
            "linecolor": "white",
            "showbackground": true,
            "ticks": "",
            "zerolinecolor": "white"
           },
           "zaxis": {
            "backgroundcolor": "#E5ECF6",
            "gridcolor": "white",
            "gridwidth": 2,
            "linecolor": "white",
            "showbackground": true,
            "ticks": "",
            "zerolinecolor": "white"
           }
          },
          "shapedefaults": {
           "line": {
            "color": "#2a3f5f"
           }
          },
          "ternary": {
           "aaxis": {
            "gridcolor": "white",
            "linecolor": "white",
            "ticks": ""
           },
           "baxis": {
            "gridcolor": "white",
            "linecolor": "white",
            "ticks": ""
           },
           "bgcolor": "#E5ECF6",
           "caxis": {
            "gridcolor": "white",
            "linecolor": "white",
            "ticks": ""
           }
          },
          "title": {
           "x": 0.05
          },
          "xaxis": {
           "automargin": true,
           "gridcolor": "white",
           "linecolor": "white",
           "ticks": "",
           "title": {
            "standoff": 15
           },
           "zerolinecolor": "white",
           "zerolinewidth": 2
          },
          "yaxis": {
           "automargin": true,
           "gridcolor": "white",
           "linecolor": "white",
           "ticks": "",
           "title": {
            "standoff": 15
           },
           "zerolinecolor": "white",
           "zerolinewidth": 2
          }
         }
        },
        "xaxis": {
         "gridwidth": 2,
         "tickformat": "%b %Y",
         "ticklen": 5,
         "title": {
          "text": "Monthly"
         },
         "zeroline": true
        },
        "yaxis": {
         "gridwidth": 2,
         "ticklen": 5,
         "title": {
          "text": "Comments"
         }
        }
       }
      },
      "text/html": [
       "<div>\n",
       "        \n",
       "        \n",
       "            <div id=\"945c11c4-cbde-4bee-9b2d-ff8c172cf871\" class=\"plotly-graph-div\" style=\"height:525px; width:100%;\"></div>\n",
       "            <script type=\"text/javascript\">\n",
       "                require([\"plotly\"], function(Plotly) {\n",
       "                    window.PLOTLYENV=window.PLOTLYENV || {};\n",
       "                    \n",
       "                if (document.getElementById(\"945c11c4-cbde-4bee-9b2d-ff8c172cf871\")) {\n",
       "                    Plotly.newPlot(\n",
       "                        '945c11c4-cbde-4bee-9b2d-ff8c172cf871',\n",
       "                        [{\"hovertemplate\": \"%{x}<extra>%{y}</extra>\", \"marker\": {\"color\": \"rgba(0, 0, 0, 1)\"}, \"type\": \"scatter\", \"x\": [\"2005-03-31\", \"2005-04-30\", \"2005-05-31\", \"2005-06-30\", \"2005-07-31\", \"2005-08-31\", \"2005-09-30\", \"2005-10-31\", \"2005-11-30\", \"2005-12-31\", \"2006-01-31\", \"2006-02-28\", \"2006-03-31\", \"2006-04-30\", \"2006-05-31\", \"2006-06-30\", \"2006-07-31\", \"2006-08-31\", \"2006-09-30\", \"2006-10-31\", \"2006-11-30\", \"2006-12-31\", \"2007-01-31\", \"2007-02-28\", \"2007-03-31\", \"2007-04-30\", \"2007-05-31\", \"2007-06-30\", \"2007-07-31\", \"2007-08-31\", \"2007-09-30\", \"2007-10-31\", \"2007-11-30\", \"2007-12-31\", \"2008-01-31\", \"2008-02-29\", \"2008-03-31\", \"2008-04-30\", \"2008-05-31\", \"2008-06-30\", \"2008-07-31\", \"2008-08-31\", \"2008-09-30\", \"2008-10-31\", \"2008-11-30\", \"2008-12-31\", \"2009-01-31\", \"2009-02-28\", \"2009-03-31\", \"2009-04-30\", \"2009-05-31\", \"2009-06-30\", \"2009-07-31\", \"2009-08-31\", \"2009-09-30\", \"2009-10-31\", \"2009-11-30\", \"2009-12-31\", \"2010-01-31\", \"2010-02-28\", \"2010-03-31\", \"2010-04-30\", \"2010-05-31\", \"2010-06-30\", \"2010-07-31\", \"2010-08-31\", \"2010-09-30\", \"2010-10-31\", \"2010-11-30\", \"2010-12-31\", \"2011-01-31\", \"2011-02-28\", \"2011-03-31\", \"2011-04-30\", \"2011-05-31\", \"2011-06-30\", \"2011-07-31\", \"2011-08-31\", \"2011-09-30\", \"2011-10-31\", \"2011-11-30\", \"2011-12-31\", \"2012-01-31\", \"2012-02-29\", \"2012-03-31\", \"2012-04-30\", \"2012-05-31\", \"2012-06-30\", \"2012-07-31\", \"2012-08-31\", \"2012-09-30\", \"2012-10-31\", \"2012-11-30\", \"2012-12-31\", \"2013-01-31\", \"2013-02-28\", \"2013-03-31\", \"2013-04-30\", \"2013-05-31\", \"2013-06-30\", \"2013-07-31\", \"2013-08-31\", \"2013-09-30\", \"2013-10-31\", \"2013-11-30\", \"2013-12-31\", \"2014-01-31\", \"2014-02-28\", \"2014-03-31\", \"2014-04-30\", \"2014-05-31\", \"2014-06-30\", \"2014-07-31\", \"2014-08-31\", \"2014-09-30\", \"2014-10-31\", \"2014-11-30\", \"2014-12-31\", \"2015-01-31\", \"2015-02-28\", \"2015-03-31\", \"2015-04-30\", \"2015-05-31\"], \"y\": [2, 3, 0, 0, 0, 1, 0, 6, 0, 0, 1, 3, 0, 2, 14, 5, 1, 2, 4, 3, 6, 3, 7, 4, 19, 18, 12, 12, 9, 0, 0, 4, 1, 0, 2, 0, 4, 1, 15, 1, 17, 15, 3, 1, 0, 0, 0, 0, 1, 0, 0, 1, 0, 0, 1, 0, 6, 0, 0, 2, 0, 1, 6, 0, 1, 0, 1, 0, 1, 1, 0, 4, 0, 5, 4, 1, 0, 0, 2, 0, 0, 0, 0, 0, 0, 0, 0, 0, 0, 0, 0, 0, 0, 0, 0, 0, 0, 0, 0, 1, 0, 0, 0, 0, 0, 0, 0, 0, 0, 0, 0, 1, 0, 0, 0, 0, 0, 0, 1, 0, 6, 8, 1]}],\n",
       "                        {\"barmode\": \"group\", \"hovermode\": \"closest\", \"legend\": {\"x\": 0.5, \"y\": 1.2}, \"showlegend\": false, \"template\": {\"data\": {\"bar\": [{\"error_x\": {\"color\": \"#2a3f5f\"}, \"error_y\": {\"color\": \"#2a3f5f\"}, \"marker\": {\"line\": {\"color\": \"#E5ECF6\", \"width\": 0.5}}, \"type\": \"bar\"}], \"barpolar\": [{\"marker\": {\"line\": {\"color\": \"#E5ECF6\", \"width\": 0.5}}, \"type\": \"barpolar\"}], \"carpet\": [{\"aaxis\": {\"endlinecolor\": \"#2a3f5f\", \"gridcolor\": \"white\", \"linecolor\": \"white\", \"minorgridcolor\": \"white\", \"startlinecolor\": \"#2a3f5f\"}, \"baxis\": {\"endlinecolor\": \"#2a3f5f\", \"gridcolor\": \"white\", \"linecolor\": \"white\", \"minorgridcolor\": \"white\", \"startlinecolor\": \"#2a3f5f\"}, \"type\": \"carpet\"}], \"choropleth\": [{\"colorbar\": {\"outlinewidth\": 0, \"ticks\": \"\"}, \"type\": \"choropleth\"}], \"contour\": [{\"colorbar\": {\"outlinewidth\": 0, \"ticks\": \"\"}, \"colorscale\": [[0.0, \"#0d0887\"], [0.1111111111111111, \"#46039f\"], [0.2222222222222222, \"#7201a8\"], [0.3333333333333333, \"#9c179e\"], [0.4444444444444444, \"#bd3786\"], [0.5555555555555556, \"#d8576b\"], [0.6666666666666666, \"#ed7953\"], [0.7777777777777778, \"#fb9f3a\"], [0.8888888888888888, \"#fdca26\"], [1.0, \"#f0f921\"]], \"type\": \"contour\"}], \"contourcarpet\": [{\"colorbar\": {\"outlinewidth\": 0, \"ticks\": \"\"}, \"type\": \"contourcarpet\"}], \"heatmap\": [{\"colorbar\": {\"outlinewidth\": 0, \"ticks\": \"\"}, \"colorscale\": [[0.0, \"#0d0887\"], [0.1111111111111111, \"#46039f\"], [0.2222222222222222, \"#7201a8\"], [0.3333333333333333, \"#9c179e\"], [0.4444444444444444, \"#bd3786\"], [0.5555555555555556, \"#d8576b\"], [0.6666666666666666, \"#ed7953\"], [0.7777777777777778, \"#fb9f3a\"], [0.8888888888888888, \"#fdca26\"], [1.0, \"#f0f921\"]], \"type\": \"heatmap\"}], \"heatmapgl\": [{\"colorbar\": {\"outlinewidth\": 0, \"ticks\": \"\"}, \"colorscale\": [[0.0, \"#0d0887\"], [0.1111111111111111, \"#46039f\"], [0.2222222222222222, \"#7201a8\"], [0.3333333333333333, \"#9c179e\"], [0.4444444444444444, \"#bd3786\"], [0.5555555555555556, \"#d8576b\"], [0.6666666666666666, \"#ed7953\"], [0.7777777777777778, \"#fb9f3a\"], [0.8888888888888888, \"#fdca26\"], [1.0, \"#f0f921\"]], \"type\": \"heatmapgl\"}], \"histogram\": [{\"marker\": {\"colorbar\": {\"outlinewidth\": 0, \"ticks\": \"\"}}, \"type\": \"histogram\"}], \"histogram2d\": [{\"colorbar\": {\"outlinewidth\": 0, \"ticks\": \"\"}, \"colorscale\": [[0.0, \"#0d0887\"], [0.1111111111111111, \"#46039f\"], [0.2222222222222222, \"#7201a8\"], [0.3333333333333333, \"#9c179e\"], [0.4444444444444444, \"#bd3786\"], [0.5555555555555556, \"#d8576b\"], [0.6666666666666666, \"#ed7953\"], [0.7777777777777778, \"#fb9f3a\"], [0.8888888888888888, \"#fdca26\"], [1.0, \"#f0f921\"]], \"type\": \"histogram2d\"}], \"histogram2dcontour\": [{\"colorbar\": {\"outlinewidth\": 0, \"ticks\": \"\"}, \"colorscale\": [[0.0, \"#0d0887\"], [0.1111111111111111, \"#46039f\"], [0.2222222222222222, \"#7201a8\"], [0.3333333333333333, \"#9c179e\"], [0.4444444444444444, \"#bd3786\"], [0.5555555555555556, \"#d8576b\"], [0.6666666666666666, \"#ed7953\"], [0.7777777777777778, \"#fb9f3a\"], [0.8888888888888888, \"#fdca26\"], [1.0, \"#f0f921\"]], \"type\": \"histogram2dcontour\"}], \"mesh3d\": [{\"colorbar\": {\"outlinewidth\": 0, \"ticks\": \"\"}, \"type\": \"mesh3d\"}], \"parcoords\": [{\"line\": {\"colorbar\": {\"outlinewidth\": 0, \"ticks\": \"\"}}, \"type\": \"parcoords\"}], \"pie\": [{\"automargin\": true, \"type\": \"pie\"}], \"scatter\": [{\"marker\": {\"colorbar\": {\"outlinewidth\": 0, \"ticks\": \"\"}}, \"type\": \"scatter\"}], \"scatter3d\": [{\"line\": {\"colorbar\": {\"outlinewidth\": 0, \"ticks\": \"\"}}, \"marker\": {\"colorbar\": {\"outlinewidth\": 0, \"ticks\": \"\"}}, \"type\": \"scatter3d\"}], \"scattercarpet\": [{\"marker\": {\"colorbar\": {\"outlinewidth\": 0, \"ticks\": \"\"}}, \"type\": \"scattercarpet\"}], \"scattergeo\": [{\"marker\": {\"colorbar\": {\"outlinewidth\": 0, \"ticks\": \"\"}}, \"type\": \"scattergeo\"}], \"scattergl\": [{\"marker\": {\"colorbar\": {\"outlinewidth\": 0, \"ticks\": \"\"}}, \"type\": \"scattergl\"}], \"scattermapbox\": [{\"marker\": {\"colorbar\": {\"outlinewidth\": 0, \"ticks\": \"\"}}, \"type\": \"scattermapbox\"}], \"scatterpolar\": [{\"marker\": {\"colorbar\": {\"outlinewidth\": 0, \"ticks\": \"\"}}, \"type\": \"scatterpolar\"}], \"scatterpolargl\": [{\"marker\": {\"colorbar\": {\"outlinewidth\": 0, \"ticks\": \"\"}}, \"type\": \"scatterpolargl\"}], \"scatterternary\": [{\"marker\": {\"colorbar\": {\"outlinewidth\": 0, \"ticks\": \"\"}}, \"type\": \"scatterternary\"}], \"surface\": [{\"colorbar\": {\"outlinewidth\": 0, \"ticks\": \"\"}, \"colorscale\": [[0.0, \"#0d0887\"], [0.1111111111111111, \"#46039f\"], [0.2222222222222222, \"#7201a8\"], [0.3333333333333333, \"#9c179e\"], [0.4444444444444444, \"#bd3786\"], [0.5555555555555556, \"#d8576b\"], [0.6666666666666666, \"#ed7953\"], [0.7777777777777778, \"#fb9f3a\"], [0.8888888888888888, \"#fdca26\"], [1.0, \"#f0f921\"]], \"type\": \"surface\"}], \"table\": [{\"cells\": {\"fill\": {\"color\": \"#EBF0F8\"}, \"line\": {\"color\": \"white\"}}, \"header\": {\"fill\": {\"color\": \"#C8D4E3\"}, \"line\": {\"color\": \"white\"}}, \"type\": \"table\"}]}, \"layout\": {\"annotationdefaults\": {\"arrowcolor\": \"#2a3f5f\", \"arrowhead\": 0, \"arrowwidth\": 1}, \"coloraxis\": {\"colorbar\": {\"outlinewidth\": 0, \"ticks\": \"\"}}, \"colorscale\": {\"diverging\": [[0, \"#8e0152\"], [0.1, \"#c51b7d\"], [0.2, \"#de77ae\"], [0.3, \"#f1b6da\"], [0.4, \"#fde0ef\"], [0.5, \"#f7f7f7\"], [0.6, \"#e6f5d0\"], [0.7, \"#b8e186\"], [0.8, \"#7fbc41\"], [0.9, \"#4d9221\"], [1, \"#276419\"]], \"sequential\": [[0.0, \"#0d0887\"], [0.1111111111111111, \"#46039f\"], [0.2222222222222222, \"#7201a8\"], [0.3333333333333333, \"#9c179e\"], [0.4444444444444444, \"#bd3786\"], [0.5555555555555556, \"#d8576b\"], [0.6666666666666666, \"#ed7953\"], [0.7777777777777778, \"#fb9f3a\"], [0.8888888888888888, \"#fdca26\"], [1.0, \"#f0f921\"]], \"sequentialminus\": [[0.0, \"#0d0887\"], [0.1111111111111111, \"#46039f\"], [0.2222222222222222, \"#7201a8\"], [0.3333333333333333, \"#9c179e\"], [0.4444444444444444, \"#bd3786\"], [0.5555555555555556, \"#d8576b\"], [0.6666666666666666, \"#ed7953\"], [0.7777777777777778, \"#fb9f3a\"], [0.8888888888888888, \"#fdca26\"], [1.0, \"#f0f921\"]]}, \"colorway\": [\"#636efa\", \"#EF553B\", \"#00cc96\", \"#ab63fa\", \"#FFA15A\", \"#19d3f3\", \"#FF6692\", \"#B6E880\", \"#FF97FF\", \"#FECB52\"], \"font\": {\"color\": \"#2a3f5f\"}, \"geo\": {\"bgcolor\": \"white\", \"lakecolor\": \"white\", \"landcolor\": \"#E5ECF6\", \"showlakes\": true, \"showland\": true, \"subunitcolor\": \"white\"}, \"hoverlabel\": {\"align\": \"left\"}, \"hovermode\": \"closest\", \"mapbox\": {\"style\": \"light\"}, \"paper_bgcolor\": \"white\", \"plot_bgcolor\": \"#E5ECF6\", \"polar\": {\"angularaxis\": {\"gridcolor\": \"white\", \"linecolor\": \"white\", \"ticks\": \"\"}, \"bgcolor\": \"#E5ECF6\", \"radialaxis\": {\"gridcolor\": \"white\", \"linecolor\": \"white\", \"ticks\": \"\"}}, \"scene\": {\"xaxis\": {\"backgroundcolor\": \"#E5ECF6\", \"gridcolor\": \"white\", \"gridwidth\": 2, \"linecolor\": \"white\", \"showbackground\": true, \"ticks\": \"\", \"zerolinecolor\": \"white\"}, \"yaxis\": {\"backgroundcolor\": \"#E5ECF6\", \"gridcolor\": \"white\", \"gridwidth\": 2, \"linecolor\": \"white\", \"showbackground\": true, \"ticks\": \"\", \"zerolinecolor\": \"white\"}, \"zaxis\": {\"backgroundcolor\": \"#E5ECF6\", \"gridcolor\": \"white\", \"gridwidth\": 2, \"linecolor\": \"white\", \"showbackground\": true, \"ticks\": \"\", \"zerolinecolor\": \"white\"}}, \"shapedefaults\": {\"line\": {\"color\": \"#2a3f5f\"}}, \"ternary\": {\"aaxis\": {\"gridcolor\": \"white\", \"linecolor\": \"white\", \"ticks\": \"\"}, \"baxis\": {\"gridcolor\": \"white\", \"linecolor\": \"white\", \"ticks\": \"\"}, \"bgcolor\": \"#E5ECF6\", \"caxis\": {\"gridcolor\": \"white\", \"linecolor\": \"white\", \"ticks\": \"\"}}, \"title\": {\"x\": 0.05}, \"xaxis\": {\"automargin\": true, \"gridcolor\": \"white\", \"linecolor\": \"white\", \"ticks\": \"\", \"title\": {\"standoff\": 15}, \"zerolinecolor\": \"white\", \"zerolinewidth\": 2}, \"yaxis\": {\"automargin\": true, \"gridcolor\": \"white\", \"linecolor\": \"white\", \"ticks\": \"\", \"title\": {\"standoff\": 15}, \"zerolinecolor\": \"white\", \"zerolinewidth\": 2}}}, \"xaxis\": {\"gridwidth\": 2, \"tickformat\": \"%b %Y\", \"ticklen\": 5, \"title\": {\"text\": \"Monthly\"}, \"zeroline\": true}, \"yaxis\": {\"gridwidth\": 2, \"ticklen\": 5, \"title\": {\"text\": \"Comments\"}}},\n",
       "                        {\"responsive\": true}\n",
       "                    ).then(function(){\n",
       "                            \n",
       "var gd = document.getElementById('945c11c4-cbde-4bee-9b2d-ff8c172cf871');\n",
       "var x = new MutationObserver(function (mutations, observer) {{\n",
       "        var display = window.getComputedStyle(gd).display;\n",
       "        if (!display || display === 'none') {{\n",
       "            console.log([gd, 'removed!']);\n",
       "            Plotly.purge(gd);\n",
       "            observer.disconnect();\n",
       "        }}\n",
       "}});\n",
       "\n",
       "// Listen for the removal of the full notebook cells\n",
       "var notebookContainer = gd.closest('#notebook-container');\n",
       "if (notebookContainer) {{\n",
       "    x.observe(notebookContainer, {childList: true});\n",
       "}}\n",
       "\n",
       "// Listen for the clearing of the current output cell\n",
       "var outputEl = gd.closest('.output');\n",
       "if (outputEl) {{\n",
       "    x.observe(outputEl, {childList: true});\n",
       "}}\n",
       "\n",
       "                        })\n",
       "                };\n",
       "                });\n",
       "            </script>\n",
       "        </div>"
      ]
     },
     "metadata": {},
     "output_type": "display_data"
    }
   ],
   "source": [
    "### -------------------------------------------------------------------------- ###\n",
    "### TRY YOURSELF! THIS IS WHAT WILL HAPPEN WHEN YOU CLICK 'Load Talks' BUTTON  ###\n",
    "### -------------------------------------------------------------------------- ###\n",
    "\n",
    "## This is the page you used ##\n",
    "print('The page that is being used:', the_talk_page['title'])\n",
    "\n",
    "# Initiate a Wikipedia instance\n",
    "wikipediadv_instance = WikipediaDV(WikipediaAPI(lng=abbreviation(languageSelection.value)))\n",
    "\n",
    "# Get content of revisions on talk page\n",
    "# more details see: https://github.com/gesiscss/wikiwho_demo_new/blob/master/external/wikipedia.py#L109\n",
    "talk_content = wikipediadv_instance.get_talk_content(the_talk_page[\"page_id\"])\n",
    "\n",
    "# convert to datetime format\n",
    "talk_content['year_month'] = pd.to_datetime(talk_content['timestamp'])\n",
    "\n",
    "## Define a TalksListener instance ##\n",
    "# more details see: https://github.com/gesiscss/wikiwho_demo_new/blob/master/visualization/talks_listener.py\n",
    "talks_listener = TalksListener(talk_content)\n",
    "\n",
    "## Visualization ##\n",
    "begin_date = date(2005, 3, 1)\n",
    "end_date = date(2015, 7, 4)\n",
    "granularity = 'Monthly'\n",
    "\n",
    "print('Time range from', begin_date.strftime(\"%Y-%m-%d\"), 'to', end_date.strftime(\"%Y-%m-%d\"))\n",
    "talks_listener.listen(\n",
    "    begin = begin_date,\n",
    "    end = end_date,\n",
    "    granularity = granularity)"
   ]
  },
  {
   "cell_type": "markdown",
   "metadata": {},
   "source": [
    "## C.2 What are the most revisions about?\n",
    "\n",
    "It is also possible to review what are the talks about by subsections, under which revisions happened. The table below shows the topic of each revision, sorted by date. Although most of the times users change the content of the talk page, sometimes revisions include actions like signing a comment, deleting or reversing revisions. These actions are not presented in the table.\n",
    "\n",
    "<details>    \n",
    "    <summary style=\"cursor: pointer;font-weight:bold\">Columns description</summary>\n",
    "\n",
    "- **topic**: the string topic extracted from revision content\n",
    "- **revid**: the revision id in which the action happened\n",
    "- **user**: the id or ip address of the editor that inserted the token\n",
    "- **year_month**: timestamp when the revision took place\n",
    "- **action_type**: type of the action made in a revision (new topic added or topic edited)\n",
    "\n",
    "</details>\n",
    "\n",
    "The graph illustrates revisions by topics spread over time.\n",
    "\n",
    "In the controls for the graph you can select the *date range* and the *granularity*"
   ]
  },
  {
   "cell_type": "code",
   "execution_count": 28,
   "metadata": {
    "hide_input": true
   },
   "outputs": [],
   "source": [
    "# button_to = widgets.Button(description=\"Load Topics\", layout=Layout(width='160px'))\n",
    "# display(button_to)\n",
    "\n",
    "# def on_click_topics(b):\n",
    "#     global topics_listener, topic_df\n",
    "#     with out_to:\n",
    "#         clear_output()\n",
    "#         display(md(f\"***Page: {the_talk_page['title']} ({abbreviation(languageSelection.value).upper()})***\"))\n",
    "\n",
    "#         topics_listener = TopicsListener(talk_content)\n",
    "\n",
    "#         #get a dataframe with topics and action_types\n",
    "#         wikipediadv_ins = WikipediaDV(WikipediaAPI(lng=abbreviation(languageSelection.value)))\n",
    "#         topic_df = topics_listener.extract_topics(wikipediadv_ins)\n",
    "        \n",
    "                   \n",
    "#         #adding transcluded content\n",
    "#         tr_row = talk_content[talk_content['comment'].str.match(r'Transcluding GA review')==True]\n",
    "#         if len(tr_row)>0:\n",
    "#             wikipedia_dv = WikipediaDV(WikipediaAPI(lng=abbreviation(languageSelection.value)))\n",
    "#             transcluded_page = wikipedia_dv.get_page(the_talk_page['title'] +'/GA1')\n",
    "#             transcluded_talk_content = wikipedia_dv.get_talk_content(transcluded_page[\"page_id\"])\n",
    "#             transcluded_talk_content['year_month'] = pd.to_datetime(transcluded_talk_content['timestamp'])\n",
    "#             tr_topics_listener = TopicsListener(transcluded_talk_content)\n",
    "#             transcluded_topic_df = tr_topics_listener.translusion(wikipedia_dv).set_index('topics')\n",
    "#             topics_listener.topic_df = topic_df.append(transcluded_topic_df).sort_values(by='year_month', ascending = False)\n",
    "#         if len(topic_df) == 0:\n",
    "#             display(md(\"There is no topics here!\"))\n",
    "#         else:        \n",
    "#             display(qgrid.show_grid(topics_listener.topic_df))\n",
    "\n",
    "#             # Visualization\n",
    "#             datepicker_from = widgets.DatePicker(description='Date starts', value=talk_content['year_month'].iloc[-1], layout=Layout(width='25%'))\n",
    "#             datepicker_to = widgets.DatePicker(description='Date ends', value=talk_content['year_month'].iloc[0], layout=Layout(width='25%'))\n",
    "\n",
    "#             interact(topics_listener.listen,\n",
    "#                 begin = datepicker_from,\n",
    "#                 end = datepicker_to,\n",
    "#                 granularity = Dropdown(options=['Monthly', 'Yearly', 'Daily'], value='Monthly')\n",
    "#             )\n",
    "\n",
    "# out_to = Output()\n",
    "# display(out_to)\n",
    "\n",
    "# # set the event\n",
    "# button_to.on_click(on_click_topics)\n",
    "\n",
    "# # trigger the event with the default value\n",
    "# on_click_topics(button_to)"
   ]
  },
  {
   "cell_type": "markdown",
   "metadata": {
    "solution2": "hidden",
    "solution2_first": true
   },
   "source": [
    "<span style=\"color: #626262\"> Try yourself! This is what will happen when you click 'Load Topics' button: </span>"
   ]
  },
  {
   "cell_type": "code",
   "execution_count": 29,
   "metadata": {
    "solution2": "hidden"
   },
   "outputs": [],
   "source": [
    "# ### --------------------------------------------------------------------------- ###\n",
    "# ### TRY YOURSELF! THIS IS WHAT WILL HAPPEN WHEN YOU CLICK 'Show Topics' BUTTON  ###\n",
    "# ### --------------------------------------------------------------------------- ###\n",
    "\n",
    "# ## This is the page you used ##\n",
    "# print('The page that is being used:', the_talk_page['title'])\n",
    "# print(f\"Time range from {talk_content['year_month'].iloc[-1].date()} to {talk_content['year_month'].iloc[0].date()}\")\n",
    "\n",
    "# ## Initiate a topics listener, more details see:                                             ##\n",
    "# ## https://github.com/gesiscss/wikiwho_demo_new/blob/master/visualization/topics_listener.py ##\n",
    "# topics_listener = TopicsListener(talk_content)\n",
    "\n",
    "# # Get a dataframe with topics and action_types\n",
    "# wikipediadv_ins = WikipediaDV(WikipediaAPI(lng=abbreviation(languageSelection.value)))\n",
    "# topic_df = topics_listener.extract_topics(wikipediadv_ins)\n",
    "# if len(topic_df) == 0:\n",
    "#     print(\"There is no topics here!\")\n",
    "# else:\n",
    "#     display(qgrid.show_grid(topic_df))\n",
    "\n",
    "#     # Visualization\n",
    "#     begin_date = talk_content['year_month'].iloc[-1]  # date(xxxx.xx.xx)\n",
    "#     end_date = talk_content['year_month'].iloc[0]  # date(xxxx.xx.xx)\n",
    "#     granularity = 'Monthly'\n",
    "\n",
    "#     topics_listener.listen(\n",
    "#         begin = begin_date,\n",
    "#         end = end_date,\n",
    "#         granularity = granularity)"
   ]
  },
  {
   "cell_type": "code",
   "execution_count": 33,
   "metadata": {
    "hide_input": true
   },
   "outputs": [
    {
     "data": {
      "text/html": [
       "<a href=\"3. Using WikiWho to analyze an editor in the context of a page.ipynb\" target=\"_blank\">Go to next workbook</a>"
      ],
      "text/plain": [
       "<IPython.core.display.HTML object>"
      ]
     },
     "metadata": {},
     "output_type": "display_data"
    },
    {
     "data": {
      "text/html": [
       "\n",
       "<script>\n",
       "document.getElementById('notebook').scrollIntoView();\n",
       "</script>\n"
      ],
      "text/plain": [
       "<IPython.core.display.HTML object>"
      ]
     },
     "metadata": {},
     "output_type": "display_data"
    }
   ],
   "source": [
    "lng_selected = abbreviation(languageSelection.value)\n",
    "#calculator = con_manager\n",
    "# %store agg_actions\n",
    "#%store calculator\n",
    "#%store editors_conflicts\n",
    "%store lng_selected\n",
    "# %store sources\n",
    "# %store con_manager_all\n",
    "\n",
    "clear_output()\n",
    "display(HTML(f'<a href=\"{get_next_notebook()}\" target=\"_blank\">Go to next workbook</a>'))\n",
    "# if len(editors_conflicts) > 0:\n",
    "#     display(HTML(f'<a href=\"{get_next_notebook()}\" target=\"_blank\">Go to next workbook</a>'))\n",
    "# else:\n",
    "#     display(HTML(f'<a href=\"{get_previous_notebook()}\" target=\"_blank\">Go back to the previous workbook</a>'))\n",
    "\n",
    "scroll_to_top = \"\"\"\n",
    "<script>\n",
    "document.getElementById('notebook').scrollIntoView();\n",
    "</script>\n",
    "\"\"\"\n",
    "\n",
    "display(HTML(scroll_to_top))"
   ]
  }
 ],
 "metadata": {
  "hide_input": false,
  "kernel_info": {
   "name": "python3"
  },
  "kernelspec": {
   "display_name": "Python 3",
   "language": "python",
   "name": "python3"
  },
  "language_info": {
   "codemirror_mode": {
    "name": "ipython",
    "version": 3
   },
   "file_extension": ".py",
   "mimetype": "text/x-python",
   "name": "python",
   "nbconvert_exporter": "python",
   "pygments_lexer": "ipython3",
   "version": "3.8.5"
  },
  "nteract": {
   "version": "0.14.4"
  }
 },
 "nbformat": 4,
 "nbformat_minor": 2
}
